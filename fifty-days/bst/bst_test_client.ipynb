{
 "cells": [
  {
   "cell_type": "code",
   "execution_count": 1,
   "metadata": {},
   "outputs": [],
   "source": [
    "from copy import deepcopy\n",
    "from bst import BinarySearchTree"
   ]
  },
  {
   "cell_type": "code",
   "execution_count": 2,
   "metadata": {},
   "outputs": [
    {
     "name": "stdout",
     "output_type": "stream",
     "text": [
      "['S', 'E', 'A', 'R', 'C', 'H', 'E', 'X', 'A', 'M', 'P', 'L', 'E']\n",
      "13\n",
      "S - 0\n",
      "E - 1\n",
      "A - 2\n",
      "R - 3\n",
      "C - 4\n",
      "H - 5\n",
      "E - 6\n",
      "X - 7\n",
      "A - 8\n",
      "M - 9\n",
      "P - 10\n",
      "L - 11\n",
      "E - 12\n"
     ]
    }
   ],
   "source": [
    "# S E A R C H E X A M P  L  E\n",
    "# 0 1 2 3 4 5 6 7 8 9 10 11 12\n",
    "\n",
    "#  A 8\n",
    "#  C 4\n",
    "#  E 12\n",
    "#  H 5\n",
    "#  L 11\n",
    "#  M 9\n",
    "#  P 10\n",
    "#  R 3\n",
    "#  S 0\n",
    "#  X 7\n",
    "\n",
    "key_string = \"S E A R C H E X A M P L E\"\n",
    "keys = key_string.split(\" \")\n",
    "\n",
    "print(keys)\n",
    "print(len(keys))\n",
    "\n",
    "for i, key in enumerate(keys):\n",
    "    print(key, \"-\", i)"
   ]
  },
  {
   "cell_type": "code",
   "execution_count": 3,
   "metadata": {},
   "outputs": [
    {
     "name": "stdout",
     "output_type": "stream",
     "text": [
      "size:  10\n",
      "minimum key: A\n",
      "maximum key: X\n"
     ]
    }
   ],
   "source": [
    "ST = BinarySearchTree()\n",
    "for i, key in enumerate(keys):\n",
    "    ST.insert(key, i)\n",
    "    \n",
    "\n",
    "print(\"size: \", ST.size()) # 10 \n",
    "print(\"minimum key:\", ST.minimum()) #A\n",
    "print(\"maximum key:\", ST.maximum()) #X\n",
    "\n",
    "ST2 = deepcopy(ST)"
   ]
  },
  {
   "cell_type": "code",
   "execution_count": 4,
   "metadata": {},
   "outputs": [
    {
     "name": "stdout",
     "output_type": "stream",
     "text": [
      "A = A : 8\n",
      "C = C : 4\n",
      "E = E : 12\n",
      "H = H : 5\n",
      "L = L : 11\n",
      "M = M : 9\n",
      "P = P : 10\n",
      "R = R : 3\n",
      "S = S : 0\n",
      "X = X : 7\n"
     ]
    }
   ],
   "source": [
    "#  A 8\n",
    "#  C 4\n",
    "#  E 12\n",
    "#  H 5\n",
    "#  L 11\n",
    "#  M 9\n",
    "#  P 10\n",
    "#  R 3\n",
    "#  S 0\n",
    "#  X 7\n",
    "\n",
    "for i, key in enumerate(ST): \n",
    "    print(key, \"=\", ST.select(i), \":\", ST.get(key))"
   ]
  },
  {
   "cell_type": "code",
   "execution_count": 5,
   "metadata": {},
   "outputs": [
    {
     "name": "stdout",
     "output_type": "stream",
     "text": [
      "A 0 A A\n",
      "A 0 A A\n",
      "--\n",
      "B 1 A C\n",
      "B 1 A C\n",
      "--\n",
      "C 1 C C\n",
      "C 1 C C\n",
      "--\n",
      "D 2 C E\n",
      "D 2 C E\n",
      "--\n",
      "E 2 E E\n",
      "E 2 E E\n",
      "--\n",
      "F 3 E H\n",
      "F 3 E H\n",
      "--\n",
      "G 3 E H\n",
      "G 3 E H\n",
      "--\n",
      "H 3 H H\n",
      "H 3 H H\n",
      "--\n",
      "I 4 H L\n",
      "I 4 H L\n",
      "--\n",
      "J 4 H L\n",
      "J 4 H L\n",
      "--\n",
      "K 4 H L\n",
      "K 4 H L\n",
      "--\n",
      "L 4 L L\n",
      "L 4 L L\n",
      "--\n",
      "M 5 M M\n",
      "M 5 M M\n",
      "--\n",
      "N 6 M P\n",
      "N 6 M P\n",
      "--\n",
      "O 6 M P\n",
      "O 6 M P\n",
      "--\n",
      "P 6 P P\n",
      "P 7 P R\n",
      "--\n",
      "Q 7 P R\n",
      "Q 7 P R\n",
      "--\n",
      "R 7 R R\n",
      "R 7 R R\n",
      "--\n",
      "S 8 S S\n",
      "S 8 S S\n",
      "--\n",
      "T 9 S X\n",
      "T 9 S X\n",
      "--\n",
      "U 9 S X\n",
      "U 9 S X\n",
      "--\n",
      "V 9 S X\n",
      "V 9 S X\n",
      "--\n",
      "W 9 S X\n",
      "W 9 S X\n",
      "--\n",
      "X 9 X X\n",
      "X 9 X X\n",
      "--\n",
      "Y 10 X None\n",
      "Y 10 X None\n",
      "--\n",
      "Z 10 X None\n",
      "Z 10 X None\n",
      "--\n"
     ]
    }
   ],
   "source": [
    "# Rank, floor, ceiling\n",
    "# ascii of 'A' == 65, 'B' == 66, ..., Z' == 90\n",
    "# A C E H L M P R S X\n",
    "\n",
    "# Key Rank Floor Ceiling\n",
    "answer = [\n",
    "'A 0 A A',\n",
    "'B 1 A C',\n",
    "'C 1 C C',\n",
    "'D 2 C E',\n",
    "'E 2 E E',\n",
    "'F 3 E H',\n",
    "'G 3 E H',\n",
    "'H 3 H H',\n",
    "'I 4 H L',  \n",
    "'J 4 H L',\n",
    "'K 4 H L',\n",
    "'L 4 L L',\n",
    "'M 5 M M',\n",
    "'N 6 M P',\n",
    "'O 6 M P',\n",
    "'P 7 P R',\n",
    "'Q 7 P R',\n",
    "'R 7 R R',\n",
    "'S 8 S S',\n",
    "'T 9 S X',\n",
    "'U 9 S X',\n",
    "'V 9 S X',\n",
    "'W 9 S X',\n",
    "'X 9 X X',\n",
    "'Y 10 X None',\n",
    "'Z 10 X None',\n",
    "]\n",
    "\n",
    "for i, n in enumerate(range(ord('A'), ord('Z') + 1)):\n",
    "    k = chr(n)\n",
    "    print(k, ST.rank(k), ST.floor(k), ST.ceiling(k))\n",
    "    print(answer[i])\n",
    "    print(\"--\")"
   ]
  },
  {
   "cell_type": "code",
   "execution_count": 6,
   "metadata": {},
   "outputs": [
    {
     "name": "stdout",
     "output_type": "stream",
     "text": [
      "A Z  -  10 - A  C  E  H  L  M  P  R  S  X  \n",
      "Z A  -  0 - None\n",
      "X X  -  1 - X  \n",
      "O Z  -  4 - P  R  S  X  \n",
      "B G  -  2 - C  E  \n",
      "C L  -  4 - C  E  H  L  \n"
     ]
    }
   ],
   "source": [
    "# Range search and count\n",
    "from_ = ['A', 'Z', 'X', 'O', 'B', 'C']\n",
    "to_ = ['Z', 'A', 'X', 'Z', 'G', 'L']\n",
    "\n",
    "for i in range(len(from_)):\n",
    "    \n",
    "    small_key, large_key = from_[i], to_[i]\n",
    "    print(small_key, large_key,\" - \", ST.size_between(small_key, large_key), end=\" - \")\n",
    "    \n",
    "    q = ST.keys_between(small_key, large_key)\n",
    "    \n",
    "    if q is None: \n",
    "        print(None)\n",
    "        continue\n",
    "        \n",
    "    while q.empty() is False:\n",
    "        print(q.get(), \" \", end=\"\")\n",
    "    print()\n",
    "    \n",
    "# A Z - A C E H L M P R S X\n",
    "# Z to A - None \n",
    "# X to X - X\n",
    "# O to Z - P R S X\n",
    "# B to G - C E \n",
    "# C to L - C E H L"
   ]
  },
  {
   "cell_type": "code",
   "execution_count": 7,
   "metadata": {},
   "outputs": [
    {
     "name": "stdout",
     "output_type": "stream",
     "text": [
      "A C E H L \n",
      "M P R S X \n",
      "True\n",
      "True\n"
     ]
    }
   ],
   "source": [
    "# A C E H L M P R S X\n",
    "\n",
    "# Delete half of the keys\n",
    "for i in range(ST.size() // 2):\n",
    "    print(ST.minimum(), end= \" \")\n",
    "    ST.delete_minimum()\n",
    "print()\n",
    "# M P R S X \n",
    "for key in ST: \n",
    "    print(key, end=\" \")\n",
    "print()\n",
    "\n",
    "# Delete the remaining keys\n",
    "while ST.is_empty() is False:\n",
    "    ST.delete_maximum()\n",
    "    \n",
    "print(ST.minimum() is None)\n",
    "print(ST.maximum() is None)\n",
    "\n",
    "# Delete keys in random order "
   ]
  }
 ],
 "metadata": {
  "kernelspec": {
   "display_name": "Python 3",
   "language": "python",
   "name": "python3"
  },
  "language_info": {
   "codemirror_mode": {
    "name": "ipython",
    "version": 3
   },
   "file_extension": ".py",
   "mimetype": "text/x-python",
   "name": "python",
   "nbconvert_exporter": "python",
   "pygments_lexer": "ipython3",
   "version": "3.6.7"
  }
 },
 "nbformat": 4,
 "nbformat_minor": 2
}
