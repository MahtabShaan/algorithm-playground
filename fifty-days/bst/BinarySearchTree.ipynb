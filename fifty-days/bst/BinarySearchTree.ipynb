{
 "cells": [
  {
   "cell_type": "markdown",
   "metadata": {},
   "source": [
    "# Binary Search Tree"
   ]
  },
  {
   "cell_type": "code",
   "execution_count": 1,
   "metadata": {},
   "outputs": [],
   "source": [
    "from copy import deepcopy\n",
    "from queue import Queue\n",
    "from bst import BinarySearchTree"
   ]
  },
  {
   "cell_type": "markdown",
   "metadata": {},
   "source": [
    "```\n",
    "              S(8)\n",
    "             /    \\\n",
    "           E(3)   X(9)\n",
    "          /   \\\n",
    "      A(1)     R(7)\n",
    "         \\     / \n",
    "        C(2) H(5) \n",
    "            /   \\\n",
    "           G(4)  M(6)\n",
    "```"
   ]
  },
  {
   "cell_type": "code",
   "execution_count": 2,
   "metadata": {},
   "outputs": [],
   "source": [
    "bst2 = BinarySearchTree()\n",
    "bst = BinarySearchTree()"
   ]
  },
  {
   "cell_type": "code",
   "execution_count": 3,
   "metadata": {},
   "outputs": [],
   "source": [
    "bst.insert('S', 8)\n",
    "bst.insert('E', 3)\n",
    "bst.insert('A', 1)\n",
    "bst.insert('R', 7)\n",
    "bst.insert('C', 2)\n",
    "bst.insert('H', 5)\n",
    "bst.insert('X', 9)\n",
    "bst.insert('M', 6)\n",
    "bst.insert('G', 4)"
   ]
  },
  {
   "cell_type": "code",
   "execution_count": 6,
   "metadata": {},
   "outputs": [
    {
     "name": "stdout",
     "output_type": "stream",
     "text": [
      "True\n",
      "True\n"
     ]
    }
   ],
   "source": [
    "# test maximum and minimum \n",
    "print(bst.minimum()=='A')\n",
    "print(bst.maximum()=='X')"
   ]
  },
  {
   "cell_type": "code",
   "execution_count": 7,
   "metadata": {},
   "outputs": [
    {
     "name": "stdout",
     "output_type": "stream",
     "text": [
      "True\n",
      "True\n",
      "True\n",
      "True\n",
      "True\n",
      "True\n",
      "True\n",
      "True\n",
      "True\n",
      "True\n",
      "True\n",
      "True\n",
      "True\n",
      "True\n",
      "True\n",
      "True\n",
      "True\n",
      "True\n",
      "True\n",
      "True\n",
      "True\n",
      "True\n",
      "True\n",
      "True\n",
      "True\n",
      "True\n"
     ]
    }
   ],
   "source": [
    "# floor \n",
    "\n",
    "print(bst.floor('A')=='A')\n",
    "print(bst.floor('B')=='A')\n",
    "print(bst.floor('C')=='C')\n",
    "print(bst.floor('D')=='C')\n",
    "print(bst.floor('E')=='E')\n",
    "print(bst.floor('F')=='E')\n",
    "print(bst.floor('G')=='G')\n",
    "print(bst.floor('H')=='H')\n",
    "print(bst.floor('I')=='H')\n",
    "print(bst.floor('J')=='H')\n",
    "print(bst.floor('K')==\"H\")\n",
    "print(bst.floor('L')=='H')\n",
    "print(bst.floor('M')=='M')\n",
    "print(bst.floor('N')=='M')\n",
    "print(bst.floor('O')=='M')\n",
    "print(bst.floor('P')=='M')\n",
    "print(bst.floor('Q')=='M')\n",
    "print(bst.floor('R')=='R')\n",
    "print(bst.floor('S')=='S')\n",
    "print(bst.floor('T')=='S')\n",
    "print(bst.floor('U')=='S')\n",
    "print(bst.floor('V')=='S')\n",
    "print(bst.floor('W')=='S')\n",
    "print(bst.floor('X')=='X')\n",
    "print(bst.floor('Y')=='X')\n",
    "print(bst.floor('Z')=='X')"
   ]
  },
  {
   "cell_type": "code",
   "execution_count": 8,
   "metadata": {},
   "outputs": [
    {
     "name": "stdout",
     "output_type": "stream",
     "text": [
      "True\n",
      "True\n",
      "True\n",
      "True\n",
      "True\n",
      "True\n",
      "True\n",
      "True\n",
      "True\n",
      "True\n"
     ]
    }
   ],
   "source": [
    "# size \n",
    "print(bst2.size()==0)\n",
    "print(bst.size()==9) #S\n",
    "print(bst.root.right.count==1) #X\n",
    "print(bst.root.left.count==7) #E\n",
    "print(bst.root.left.left.count==2) #A\n",
    "print(bst.root.left.left.right.count==1) #C\n",
    "print(bst.root.left.right.count==4) #R \n",
    "print(bst.root.left.right.left.count==3) #H\n",
    "print(bst.root.left.right.left.left.count==1) #G\n",
    "print(bst.root.left.right.left.right.count==1) #M"
   ]
  },
  {
   "cell_type": "code",
   "execution_count": 9,
   "metadata": {},
   "outputs": [
    {
     "name": "stdout",
     "output_type": "stream",
     "text": [
      "True\n",
      "True\n",
      "True\n",
      "True\n",
      "True\n",
      "True\n",
      "True\n",
      "True\n",
      "True\n",
      "True\n",
      "True\n",
      "True\n",
      "True\n",
      "True\n",
      "True\n",
      "True\n",
      "True\n",
      "True\n",
      "True\n",
      "True\n",
      "True\n",
      "True\n",
      "True\n",
      "True\n",
      "True\n",
      "True\n"
     ]
    }
   ],
   "source": [
    "# ceiling\n",
    "\n",
    "print(bst.ceiling('A')=='A')\n",
    "print(bst.ceiling('B')=='C')\n",
    "print(bst.ceiling('C')=='C')\n",
    "print(bst.ceiling('D')=='E')\n",
    "print(bst.ceiling('E')=='E')\n",
    "print(bst.ceiling('F')=='G')\n",
    "print(bst.ceiling('G')=='G')\n",
    "print(bst.ceiling('H')=='H')\n",
    "print(bst.ceiling('I')=='M')\n",
    "print(bst.ceiling('J')=='M')\n",
    "print(bst.ceiling('K')=='M')\n",
    "print(bst.ceiling('L')=='M')\n",
    "print(bst.ceiling('M')=='M')\n",
    "print(bst.ceiling('N')=='R')\n",
    "print(bst.ceiling('O')=='R')\n",
    "print(bst.ceiling('P')=='R')\n",
    "print(bst.ceiling('Q')=='R')\n",
    "print(bst.ceiling('R')=='R')\n",
    "print(bst.ceiling('S')=='S')\n",
    "print(bst.ceiling('T')=='X')\n",
    "print(bst.ceiling('U')=='X')\n",
    "print(bst.ceiling('V')=='X')\n",
    "print(bst.ceiling('W')=='X')\n",
    "print(bst.ceiling('X')=='X')\n",
    "print(bst.ceiling('Y')==None)\n",
    "print(bst.ceiling('Z')==None)"
   ]
  },
  {
   "cell_type": "code",
   "execution_count": 10,
   "metadata": {},
   "outputs": [
    {
     "name": "stdout",
     "output_type": "stream",
     "text": [
      "True\n",
      "True\n",
      "True\n",
      "True\n",
      "True\n",
      "True\n",
      "True\n",
      "True\n",
      "True\n",
      "True\n",
      "True\n",
      "True\n",
      "True\n",
      "True\n",
      "True\n",
      "True\n",
      "True\n",
      "True\n",
      "True\n",
      "True\n",
      "True\n",
      "True\n",
      "True\n",
      "True\n",
      "True\n",
      "True\n"
     ]
    }
   ],
   "source": [
    "# Does contain \n",
    "\n",
    "print(bst.does_contain('A')==True)\n",
    "print(bst.does_contain('B')==False)\n",
    "print(bst.does_contain('C')==True)\n",
    "print(bst.does_contain('D')==False)\n",
    "print(bst.does_contain('E')==True)\n",
    "print(bst.does_contain('F')==False)\n",
    "print(bst.does_contain('G')==True)\n",
    "print(bst.does_contain('H')==True)\n",
    "print(bst.does_contain('I')==False)\n",
    "print(bst.does_contain('J')==False)\n",
    "print(bst.does_contain('K')==False)\n",
    "print(bst.does_contain('L')==False)\n",
    "print(bst.does_contain('M')==True)\n",
    "print(bst.does_contain('N')==False)\n",
    "print(bst.does_contain('O')==False)\n",
    "print(bst.does_contain('P')==False)\n",
    "print(bst.does_contain('Q')==False)\n",
    "print(bst.does_contain('R')==True)\n",
    "print(bst.does_contain('S')==True)\n",
    "print(bst.does_contain('T')==False)\n",
    "print(bst.does_contain('U')==False)\n",
    "print(bst.does_contain('V')==False)\n",
    "print(bst.does_contain('W')==False)\n",
    "print(bst.does_contain('X')==True)\n",
    "print(bst.does_contain('Y')==False)\n",
    "print(bst.does_contain('Z')==False)"
   ]
  },
  {
   "cell_type": "code",
   "execution_count": 11,
   "metadata": {},
   "outputs": [
    {
     "name": "stdout",
     "output_type": "stream",
     "text": [
      "True\n",
      "True\n"
     ]
    }
   ],
   "source": [
    "print(bst.is_empty()==False)\n",
    "print(bst2.is_empty()==True)"
   ]
  },
  {
   "cell_type": "code",
   "execution_count": 12,
   "metadata": {},
   "outputs": [
    {
     "name": "stdout",
     "output_type": "stream",
     "text": [
      "True\n",
      "True\n",
      "True\n",
      "True\n",
      "True\n",
      "True\n",
      "True\n",
      "True\n",
      "True\n",
      "True\n",
      "True\n",
      "True\n",
      "True\n",
      "True\n",
      "True\n",
      "True\n",
      "True\n",
      "True\n",
      "True\n",
      "True\n",
      "True\n",
      "True\n",
      "True\n",
      "True\n",
      "True\n",
      "True\n"
     ]
    }
   ],
   "source": [
    "# Rank\n",
    "\n",
    "print(bst.rank('A')==0)\n",
    "print(bst.rank('B')==1)\n",
    "print(bst.rank('C')==1)\n",
    "print(bst.rank('D')==2)\n",
    "print(bst.rank('E')==2)\n",
    "print(bst.rank('F')==3)\n",
    "print(bst.rank('G')==3)\n",
    "print(bst.rank('H')==4)\n",
    "print(bst.rank('I')==5)\n",
    "print(bst.rank('J')==5)\n",
    "print(bst.rank('K')==5)\n",
    "print(bst.rank('L')==5)\n",
    "print(bst.rank('M')==5)\n",
    "print(bst.rank('N')==6)\n",
    "print(bst.rank('O')==6)\n",
    "print(bst.rank('P')==6)\n",
    "print(bst.rank('Q')==6)\n",
    "print(bst.rank('R')==6)\n",
    "print(bst.rank('S')==7)\n",
    "print(bst.rank('T')==8)\n",
    "print(bst.rank('U')==8)\n",
    "print(bst.rank('V')==8)\n",
    "print(bst.rank('W')==8)\n",
    "print(bst.rank('X')==8)\n",
    "print(bst.rank('Y')==9)\n",
    "print(bst.rank('Z')==9)\n"
   ]
  },
  {
   "cell_type": "code",
   "execution_count": 13,
   "metadata": {},
   "outputs": [
    {
     "name": "stdout",
     "output_type": "stream",
     "text": [
      "True\n",
      "True\n",
      "True\n",
      "True\n",
      "True\n",
      "True\n",
      "True\n",
      "True\n",
      "True\n"
     ]
    }
   ],
   "source": [
    "print(bst.select(0)=='A')\n",
    "print(bst.select(7)=='S')\n",
    "print(bst.select(2)=='E')\n",
    "print(bst.select(6)=='R')\n",
    "print(bst.select(1)=='C')\n",
    "print(bst.select(4)=='H')\n",
    "print(bst.select(8)=='X')\n",
    "print(bst.select(5)=='M')\n",
    "print(bst.select(3)=='G')"
   ]
  },
  {
   "cell_type": "code",
   "execution_count": 14,
   "metadata": {},
   "outputs": [
    {
     "name": "stdout",
     "output_type": "stream",
     "text": [
      "True\n",
      "True\n",
      "True\n",
      "True\n",
      "True\n",
      "True\n",
      "True\n",
      "True\n",
      "True\n",
      "True\n",
      "True\n"
     ]
    }
   ],
   "source": [
    "bst3 = deepcopy(bst)\n",
    "\n",
    "print(bst3.size() == 9)\n",
    "print(bst3.minimum() == 'A')\n",
    "\n",
    "bst3.delete_minimum()\n",
    "print(bst3.size() == 8)\n",
    "print(bst3.minimum() == 'C')\n",
    "\n",
    "print(bst3.size() == 8)\n",
    "print(bst3.maximum() == 'X')\n",
    "\n",
    "bst3.delete_maximum()\n",
    "print(bst3.size() == 7)\n",
    "print(bst3.maximum() == 'S')\n",
    "\n",
    "bst3.delete_maximum()\n",
    "print(bst3.size() == 6)\n",
    "print(bst3.root.key == 'E')\n",
    "print(bst3.maximum() == 'R')"
   ]
  },
  {
   "cell_type": "code",
   "execution_count": 15,
   "metadata": {},
   "outputs": [
    {
     "name": "stdout",
     "output_type": "stream",
     "text": [
      "True\n",
      "True\n",
      "True\n",
      "True\n",
      "True\n",
      "True\n",
      "True\n",
      "True\n",
      "True\n"
     ]
    }
   ],
   "source": [
    "bst4 = deepcopy(bst)\n",
    "\n",
    "print(bst4.size()==9)\n",
    "\n",
    "bst4.delete('G')\n",
    "print(bst4.size()==8)\n",
    "print(bst4.root.left.key=='E')\n",
    "\n",
    "bst4.delete('Z')\n",
    "print(bst4.size()==8)\n",
    "print(bst4.root.left.key=='E')\n",
    "\n",
    "bst4.delete('E')\n",
    "print(bst4.size()==7)\n",
    "print(bst4.root.left.key=='H')\n",
    "\n",
    "bst4.delete('B')\n",
    "print(bst4.size()==7)\n",
    "print(bst4.root.left.key=='H')\n"
   ]
  },
  {
   "cell_type": "code",
   "execution_count": 16,
   "metadata": {},
   "outputs": [
    {
     "name": "stdout",
     "output_type": "stream",
     "text": [
      "True\n",
      "True\n",
      "True\n",
      "True\n",
      "True\n",
      "True\n",
      "True\n",
      "True\n",
      "True\n"
     ]
    }
   ],
   "source": [
    "inorder = ['A', 'C', 'E', 'G', 'H', 'M', 'R', 'S', 'X']\n",
    "levelorder = ['S', 'E', 'X', 'A', 'R', 'C', 'H', 'G', 'M']\n",
    "\n",
    "# inorder iteration\n",
    "x = []\n",
    "for s in bst:\n",
    "    x.append(s)\n",
    "\n",
    "print(x == inorder)\n",
    "\n",
    "q = bst.levelorder_queue()\n",
    "\n",
    "x = []\n",
    "while not q.empty():\n",
    "    x.append(q.get())\n",
    "\n",
    "print(x == levelorder)\n",
    "\n",
    "print(bst.height() == 4)\n",
    "print(bst2.height() == -1)\n",
    "\n",
    "print(bst.size_between('C', 'T') == 7)\n",
    "print(bst.size_between('C', 'S') == 7)\n",
    "print(bst.size_between('D', 'S') == 6)\n",
    "print(bst.size_between('D', 'T') == 6)\n",
    "print(bst.size_between('G', 'N') == 3)"
   ]
  },
  {
   "cell_type": "code",
   "execution_count": 17,
   "metadata": {},
   "outputs": [],
   "source": [
    "# delete() # hibbard\n",
    "# inorder traversal - ordered iteration \n",
    "# level order traversal\n",
    "# reverse inorder traversal\n",
    "# preorder (copying tree) and post order traversal (deleting tree)\n",
    "# https://www.geeksforgeeks.org/tree-traversals-inorder-preorder-and-postorder/\n",
    "# https://algs4.cs.princeton.edu/32bst/BST.java.html"
   ]
  },
  {
   "cell_type": "markdown",
   "metadata": {},
   "source": [
    "# BST Miscellaneous Notes\n",
    "\n",
    "### Computing the floor of key K\n",
    "- The largest key in the tree less than or equal to key K\n",
    "- Case1 - the floor is K  (k equals k at root)\n",
    "- Case2 - the floor is in the leftsubtree (k is less than the key at root)\n",
    "- Case3 - the floor is in the right subtree or otherwise the key is in the root. (k is greater than the key at root)\n",
    "\n",
    "### To delete the minimum key\n",
    "````\n",
    "    # recursively go left, until node has no left link, replace this node with its right link\n",
    "    # if node has a left subtree, you should delete the minimum of that left subtree\n",
    "    # this function updates the count of each node bubbling-up upon deletion of the minimum \n",
    "    # and given node, what that node should be upon deletion of the minimum \n",
    "    # IE, it should be itself, unless it's should be deleted (it's left link is None), \n",
    "    # then the it's right link should replace it. \n",
    "    def delete_minimum(current):\n",
    "        \n",
    "        if current.left is None: # current is the minimum, replace it by its right link\n",
    "            return current.right\n",
    "        # Recursively delete the minimum of current's left subtree if it exists\n",
    "        current.left = Node.delete_minimum(current.left)\n",
    "        # Update count of given subtree\n",
    "        current.count = 1 + Node.size(current.left) + Node.size(current.right)\n",
    "        \n",
    "        # the current node should be itself, unless it's the minimum, then it should\n",
    "        # be replaced by its right link.\n",
    "        return current\n",
    "```\n",
    "\n",
    "### Hibbard deletion\n",
    "\n",
    "- To delete a node with key k, search for node t containing key k \n",
    "- Case 0 - node to delete has no children : Delete t by setting parent's link to None \n",
    "- Case 1 - node to delete has one child: Delete t by replacing parent link to t's child link\n",
    "- Case 2 - node to delete has two children: \n",
    "   - find successor node x of node t (x has no left child)\n",
    "      - successor is x = Node.minimum(t.right)\n",
    "      - successor node x is go right, then go left, left, left until you encounter the node with no left child\n",
    "   - get delete the minimum x  in node t's right subtree (but don't garbage collect x) \n",
    "   - put node x in node t's spot. \n",
    "```\n",
    "    def delete(k, current):\n",
    "        \n",
    "        # If you've found nothing, then there's nothing to delete\n",
    "        if current is None: return None \n",
    "        \n",
    "        if k < current: # search for key in left\n",
    "            current.left = Node.delete(k, current.left)\n",
    "        elif k > current: # search for key in right\n",
    "            current.right = Node.delete(k, current.right)\n",
    "        else: # you found the node!\n",
    "            \n",
    "            # Case 1: You have at most one children\n",
    "            # Remember you are returning back to your parent recursively \n",
    "            # Returning your only child (if you have one) back to your parent\n",
    "            # Will make your parent point to your child\n",
    "            # having nobody pointing at you at this point, you'll be garbage collected\n",
    "            if current.right is None: return current.left\n",
    "            if current.left is None: return current.right\n",
    "            \n",
    "            # Case2: You have two children\n",
    "            node_k = current \n",
    "            # Get your successor (the minimum value on your right subtree)\n",
    "            # which will the one to replace you\n",
    "            current = Node.minimum(node_k.right)\n",
    "            # Delete your successor from that subtree\n",
    "            # Make your children your successor's children\n",
    "            current.right = Node.delete_minimum(node_k.right) \n",
    "            # Above line removes minimum node from the tree, and returns root of that tree\n",
    "            current.left = node_k.left\n",
    "            # From this point you'll be returning your successor pointing at your children \n",
    "            # back to your parent node, and your parent won't be linked back to you\n",
    "        \n",
    "        current.count = Node.update_size(current) # Update subtree count\n",
    "        # Either you return yourself, or if you're the node to be deleted\n",
    "        # your successor/replacement node.\n",
    "        return current \n",
    "```\n",
    "   "
   ]
  },
  {
   "cell_type": "code",
   "execution_count": null,
   "metadata": {},
   "outputs": [],
   "source": []
  },
  {
   "cell_type": "code",
   "execution_count": null,
   "metadata": {},
   "outputs": [],
   "source": []
  }
 ],
 "metadata": {
  "kernelspec": {
   "display_name": "Python 3",
   "language": "python",
   "name": "python3"
  },
  "language_info": {
   "codemirror_mode": {
    "name": "ipython",
    "version": 3
   },
   "file_extension": ".py",
   "mimetype": "text/x-python",
   "name": "python",
   "nbconvert_exporter": "python",
   "pygments_lexer": "ipython3",
   "version": "3.6.7"
  }
 },
 "nbformat": 4,
 "nbformat_minor": 2
}
