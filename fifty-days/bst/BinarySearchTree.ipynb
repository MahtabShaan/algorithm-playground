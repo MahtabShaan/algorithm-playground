{
 "cells": [
  {
   "cell_type": "markdown",
   "metadata": {},
   "source": [
    "# Binary Search Tree"
   ]
  },
  {
   "cell_type": "code",
   "execution_count": 1,
   "metadata": {},
   "outputs": [],
   "source": [
    "class Node: \n",
    "    def __init__(self, k, v):\n",
    "        self.key, self.value = k, v\n",
    "        self.left, self.right = None, None\n",
    "        self.count = 1\n",
    "        \n",
    "    def __eq__(self, other):\n",
    "        return self.key==other.key and self.value==other.value\n",
    "    \n",
    "    @staticmethod\n",
    "    def put(current, k, v):\n",
    "        \n",
    "        if current is None: return Node(k, v)\n",
    "        \n",
    "        if k < current.key:\n",
    "            current.left = Node.put(current.left, k, v)\n",
    "        elif k > current.key:\n",
    "            current.right = Node.put(current.right, k, v)\n",
    "        else: # equal \n",
    "            current.value = v\n",
    "        \n",
    "        # update node's count\n",
    "        current.count = 1 + Node.size(current.left) + Node.size(current.right)\n",
    "            \n",
    "        return current\n",
    "    \n",
    "    @staticmethod\n",
    "    def size(node):\n",
    "        if node is None: return 0\n",
    "        return node.count \n",
    "    \n",
    "    @staticmethod \n",
    "    def floor(node, k):\n",
    "        if node is None: return None\n",
    "        if k == node.key: return node \n",
    "        \n",
    "        if k < node.key: # the floor(node) MUST be on the left\n",
    "            return node.floor(node.left, k)\n",
    "        \n",
    "        # if k > node.key then floor(key) COULD be on the right\n",
    "        # or it could be the node itself. \n",
    "        \n",
    "        candidate_node = node.floor(node.right, k)\n",
    "        if candidate_node is not None: \n",
    "            return candidate_node\n",
    "        else:\n",
    "            return node\n",
    "        \n",
    "class BinarySearchTree:\n",
    "    \n",
    "    def __init__(self):\n",
    "        self.root = None\n",
    "    \n",
    "    def insert(self, k, v):\n",
    "        self.root = Node.put(self.root, k, v)\n",
    "    \n",
    "    def get(self, k):\n",
    "        # get value associated with key k if it exists\n",
    "        # or return None\n",
    "        current = self.root\n",
    "        \n",
    "        while current is not None:\n",
    "            if k < current.key:\n",
    "                current = current.left\n",
    "            elif k > current.key:\n",
    "                current = current.right\n",
    "            else: # equal \n",
    "                return current.value\n",
    "        \n",
    "        return None\n",
    "    \n",
    "    def floor(self, k):\n",
    "        # Get the largest key less than or equal to key k\n",
    "        node = Node.floor(self.root, k)\n",
    "        if node is None: return None         \n",
    "        return node.key\n",
    "    \n",
    "    def size(self):\n",
    "        return Node.size(self.root)\n",
    "    \n",
    "    def minimum(self):\n",
    "        current = self.root\n",
    "        while current.left is not None:\n",
    "            current = current.left\n",
    "        return current \n",
    "    \n",
    "    def maximum(self):\n",
    "        current = self.root\n",
    "        while current.right is not None:\n",
    "            current = current.right \n",
    "        return current"
   ]
  },
  {
   "cell_type": "markdown",
   "metadata": {},
   "source": [
    "```\n",
    "              S(8)\n",
    "             /    \\\n",
    "           E(3)   X(9)\n",
    "          /   \\\n",
    "      A(1)     R(7)\n",
    "         \\     / \n",
    "        C(2) H(5) \n",
    "            /   \\\n",
    "           G(4)  M(6)\n",
    "```"
   ]
  },
  {
   "cell_type": "code",
   "execution_count": 2,
   "metadata": {},
   "outputs": [],
   "source": [
    "bst = BinarySearchTree()\n",
    "\n",
    "bst.insert('S', 8)\n",
    "bst.insert('E', 3)\n",
    "bst.insert('A', 1)\n",
    "bst.insert('R', 7)\n",
    "bst.insert('C', 2)\n",
    "bst.insert('H', 5)\n",
    "bst.insert('X', 9)\n",
    "bst.insert('M', 6)\n",
    "bst.insert('G', 4)\n",
    "bst.insert('A', 0)"
   ]
  },
  {
   "cell_type": "code",
   "execution_count": 3,
   "metadata": {},
   "outputs": [
    {
     "name": "stdout",
     "output_type": "stream",
     "text": [
      "True\n",
      "True\n",
      "True\n",
      "True\n",
      "True\n",
      "True\n",
      "True\n",
      "True\n",
      "True\n",
      "True\n",
      "True\n",
      "True\n",
      "True\n",
      "True\n",
      "True\n",
      "True\n",
      "True\n",
      "True\n"
     ]
    }
   ],
   "source": [
    "# Test insert() is done right\n",
    "\n",
    "print(bst.root == Node('S', 8))\n",
    "print(bst.root.left == Node('E', 3))\n",
    "print(bst.root.right == Node('X', 9))\n",
    "\n",
    "print(bst.root.right.left is None)\n",
    "print(bst.root.right.right is None)\n",
    "\n",
    "e_node = bst.root.left\n",
    "print(e_node.left == Node('A', 0))\n",
    "print(e_node.right == Node('R', 7))\n",
    "\n",
    "a_node = e_node.left\n",
    "print(a_node.left is None)\n",
    "print(a_node.right == Node('C', 2))\n",
    "\n",
    "h_node = e_node.right.left\n",
    "print(h_node.left == Node('G', 4))\n",
    "print(h_node.right == Node('M', 6))\n",
    "\n",
    "# R\n",
    "print(e_node.right.right is None)\n",
    "\n",
    "# C\n",
    "print(a_node.right.left is None)\n",
    "print(a_node.right.right is None)\n",
    "\n",
    "# G\n",
    "print(h_node.right.left is None)\n",
    "print(h_node.right.right is None)\n",
    "\n",
    "# M\n",
    "print(h_node.right.left is None)\n",
    "print(h_node.right.right is None)"
   ]
  },
  {
   "cell_type": "code",
   "execution_count": 4,
   "metadata": {},
   "outputs": [
    {
     "name": "stdout",
     "output_type": "stream",
     "text": [
      "True\n",
      "True\n",
      "True\n",
      "True\n",
      "True\n",
      "True\n",
      "True\n",
      "True\n",
      "True\n"
     ]
    }
   ],
   "source": [
    "# Test get()\n",
    "\n",
    "print(bst.get('A') == 0)\n",
    "print(bst.get('C') == 2)\n",
    "print(bst.get('E') == 3)\n",
    "print(bst.get('G') == 4)\n",
    "print(bst.get('H') == 5)\n",
    "print(bst.get('M') == 6)\n",
    "print(bst.get('R') == 7)\n",
    "print(bst.get('S') == 8)\n",
    "print(bst.get('X') == 9)"
   ]
  },
  {
   "cell_type": "code",
   "execution_count": 5,
   "metadata": {},
   "outputs": [
    {
     "name": "stdout",
     "output_type": "stream",
     "text": [
      "True\n",
      "True\n"
     ]
    }
   ],
   "source": [
    "# test maximum and minimum \n",
    "print(bst.minimum() == Node('A', 0))\n",
    "print(bst.maximum() == Node('X', 9))"
   ]
  },
  {
   "cell_type": "code",
   "execution_count": 6,
   "metadata": {},
   "outputs": [
    {
     "name": "stdout",
     "output_type": "stream",
     "text": [
      "True\n",
      "True\n",
      "True\n",
      "True\n",
      "True\n",
      "True\n",
      "True\n",
      "True\n",
      "True\n",
      "True\n",
      "True\n"
     ]
    }
   ],
   "source": [
    "# floor \n",
    "\n",
    "print(bst.floor('T') == 'S')\n",
    "print(bst.floor('U') == 'S')\n",
    "print(bst.floor('F') == 'E') \n",
    "print(bst.floor('B') == 'A')\n",
    "print(bst.floor('R') == 'R')\n",
    "print(bst.floor('D') == 'C')\n",
    "print(bst.floor('I') == 'H')\n",
    "print(bst.floor('H') == 'H')\n",
    "print(bst.floor('Z') == 'X')\n",
    "print(bst.floor('P') == 'M')\n",
    "print(bst.floor('G') == 'G')\n",
    "\n",
    "\n",
    "# ceiling\n",
    "# subree count (node) <- number of nodes in subtree\n",
    "# size \n",
    "# rank \n",
    "# inorder traversal using Queue\n",
    "# select\n",
    "# ordered iteration\n",
    "# delete minimum\n",
    "# delete (hibbard deletion)\n",
    "\n"
   ]
  },
  {
   "cell_type": "code",
   "execution_count": 7,
   "metadata": {},
   "outputs": [
    {
     "data": {
      "text/plain": [
       "9"
      ]
     },
     "execution_count": 7,
     "metadata": {},
     "output_type": "execute_result"
    }
   ],
   "source": [
    "# size \n",
    "bst.size()"
   ]
  }
 ],
 "metadata": {
  "kernelspec": {
   "display_name": "Python 3",
   "language": "python",
   "name": "python3"
  },
  "language_info": {
   "codemirror_mode": {
    "name": "ipython",
    "version": 3
   },
   "file_extension": ".py",
   "mimetype": "text/x-python",
   "name": "python",
   "nbconvert_exporter": "python",
   "pygments_lexer": "ipython3",
   "version": "3.6.7"
  }
 },
 "nbformat": 4,
 "nbformat_minor": 2
}
