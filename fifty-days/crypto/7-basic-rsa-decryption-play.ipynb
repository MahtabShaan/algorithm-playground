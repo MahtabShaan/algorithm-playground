{
 "cells": [
  {
   "cell_type": "markdown",
   "metadata": {},
   "source": [
    "# RSA Decryption\n",
    "- Ascii plaintext encoded using PKCS1.5\n",
    "\n",
    "# PKCS1.5\n",
    "```\n",
    "RSA Modulo Size: e.g 2048 bits or 256 bytes\n",
    "+------+------------------------------+------+--------------------+\n",
    "| 0x02 | RANDOM NONZERO DIGITS        | 0x00 | MESSAGE IN ASCII   |\n",
    "+------+------------------------------+------+--------------------+\n",
    "```"
   ]
  },
  {
   "cell_type": "code",
   "execution_count": 1,
   "metadata": {},
   "outputs": [],
   "source": [
    "# Given \n",
    "\n",
    "ct_string = \"22096451867410381776306561134883418017410069787892831071731839143676135600120538004282329650473509424343946219751512256465839967942889460764542040581564748988013734864120452325229320176487916666402997509188729971690526083222067771600019329260870009579993724077458967773697817571267229951148662959627934791540\"\n",
    "E = 65537 \n",
    "\n",
    "N_string = \"179769313486231590772930519078902473361797697894230657273430081157732675805505620686985379449212982959585501387537164015710139858647833778606925583497541085196591615128057575940752635007475935288710823649949940771895617054361149474865046711015101563940680527540071584560878577663743040086340742855278549092581\"\n",
    "p_string = \"13407807929942597099574024998205846127479365820592393377723561443721764030073662768891111614362326998675040546094339320838419523375986027530441562135724301\"\n",
    "q_string = \"13407807929942597099574024998205846127479365820592393377723561443721764030073778560980348930557750569660049234002192590823085163940025485114449475265364281\""
   ]
  },
  {
   "cell_type": "code",
   "execution_count": 7,
   "metadata": {},
   "outputs": [],
   "source": [
    "from os import urandom\n",
    "from gmpy2 import mpz\n",
    "from gmpy2 import invert, t_mod, mul, powmod\n",
    "\n",
    "def decrypt(y, d, N):\n",
    "    return powmod(y, d, N)\n",
    "\n",
    "\n",
    "def encrypt(x, e, N):\n",
    "    return powmod(x, e, N)\n",
    "\n",
    "\n",
    "def decrypt_pipeline(c_decimal, d, N):\n",
    "    m_decimal = decrypt(c_decimal, d, N)\n",
    "    m_hex = hex(m_decimal)\n",
    "    m = m_hex.split('00') #assumes correct format\n",
    "    return  bytes.fromhex(m[1]).decode('utf8')\n",
    "\n",
    "\n",
    "def encrypt_pipeline(message, e, N, randomhexstring=None):\n",
    "    raw_message = bytes(message, 'utf8')\n",
    "    TOTAL_LENGTH = 256\n",
    "    APPENDLENGTH = TOTAL_LENGTH - len(raw_message) - 2\n",
    "    \n",
    "    if randomhexstring is None:\n",
    "        r = urandom(APPENDLENGTH).hex()\n",
    "    \n",
    "    final_bytes = bytes.fromhex('02' + randomhex + '00') + raw_message\n",
    "    final_decimal = mpz(int.from_bytes(final_bytes, 'big'))\n",
    "    \n",
    "    return encrypt(final_decimal, e, N)\n",
    "\n",
    "\n",
    "N = mpz(N_string)\n",
    "p = mpz(p_string)\n",
    "q = mpz(q_string)\n",
    "c = mpz(ct_string)\n",
    "e = mpz(E)\n",
    "\n",
    "# compute d \n",
    "phiN = N - p - q + 1\n",
    "D = invert(e, phiN)\n",
    "d = mpz(D)\n",
    "\n",
    "# d * e mod phi(N) = 1 \n",
    "# where phi(N) = N - p - q + 1\n",
    "assert t_mod(mul(d, e), phiN)"
   ]
  },
  {
   "cell_type": "code",
   "execution_count": 8,
   "metadata": {},
   "outputs": [
    {
     "name": "stdout",
     "output_type": "stream",
     "text": [
      "Factoring lets us break RSA.\n"
     ]
    }
   ],
   "source": [
    "print(decrypt_pipeline(mpz(ct_string), d, N))"
   ]
  },
  {
   "cell_type": "code",
   "execution_count": 9,
   "metadata": {},
   "outputs": [
    {
     "name": "stdout",
     "output_type": "stream",
     "text": [
      "Factoring lets us break RSA.\n"
     ]
    }
   ],
   "source": [
    "message = \"Factoring lets us break RSA.\"\n",
    "randomhex = '0805907610b524330594e51d5dbbf643f09603731e9817111392d0c64e2739959a092d4daf979d387520ea7e577af9eb50a29f736925e810ab2fb4640e091a0f73252cb669d5b62b26764190ed188239fe71e1a7cb9e935d2db55c98b024e1dae46d'\n",
    "\n",
    "c_decimal = encrypt_pipeline(message, e, N, randomhex)\n",
    "\n",
    "assert c == c_decimal\n",
    "\n",
    "m = decrypt_pipeline(c_decimal, d, N)\n",
    "print(m)"
   ]
  },
  {
   "cell_type": "code",
   "execution_count": 10,
   "metadata": {},
   "outputs": [
    {
     "name": "stdout",
     "output_type": "stream",
     "text": [
      "Factoring lets us break RSA.\n"
     ]
    }
   ],
   "source": [
    "message = \"Factoring lets us break RSA.\"\n",
    "\n",
    "c_decimal = encrypt_pipeline(message, e, N)\n",
    "\n",
    "m = decrypt_pipeline(c_decimal, d, N)\n",
    "print(m)"
   ]
  }
 ],
 "metadata": {
  "kernelspec": {
   "display_name": "Python 3",
   "language": "python",
   "name": "python3"
  },
  "language_info": {
   "codemirror_mode": {
    "name": "ipython",
    "version": 3
   },
   "file_extension": ".py",
   "mimetype": "text/x-python",
   "name": "python",
   "nbconvert_exporter": "python",
   "pygments_lexer": "ipython3",
   "version": "3.6.7"
  }
 },
 "nbformat": 4,
 "nbformat_minor": 2
}
