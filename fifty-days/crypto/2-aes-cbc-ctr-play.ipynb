{
 "cells": [
  {
   "cell_type": "markdown",
   "metadata": {},
   "source": [
    "# AES in CBC and AES in CTR\n",
    "- In this project you will implement two encryption/decryption systems, one using AES in CBC mode and another using AES in counter mode (CTR). In both cases the 16-byte encryption IV is chosen at random and is prepended to the ciphertext.\n",
    "- For CBC encryption we use the PKCS5 padding scheme discussed  While we ask that you implement both encryption and decryption, we will only test the decryption function. In the following questions you are given an AES key and a ciphertext (both are hex encoded ) and your goal is to recover the plaintext and enter it in the input boxes provided below.\n",
    "- For an implementation of AES you may use an existing crypto library such as PyCrypto (Python). While it is fine to use the built-in AES functions, we ask that as a learning experience you implement CBC and CTR modes yourself.\n",
    "\n",
    "## Q1\n",
    "```\n",
    "CBC key: 140b41b22a29beb4061bda66b6747e14\n",
    "CBC Ciphertext 1:\n",
    "4ca00ff4c898d61e1edbf1800618fb2828a226d160dad07883d04e008a7897ee2e4b7465d5290d0c0e6c6822236e1daafb94ffe0c5da05d9476be028ad7c1d81\n",
    "```\n",
    "\n",
    "## Q2\n",
    "```\n",
    "CBC key: 140b41b22a29beb4061bda66b6747e14\n",
    "CBC Ciphertext 2:\n",
    "5b68629feb8606f9a6667670b75b38a5b4832d0f26e1ab7da33249de7d4afc48e713ac646ace36e872ad5fb8a512428a6e21364b0c374df45503473c5242a253\n",
    "```\n",
    "\n",
    "## Q3\n",
    "```\n",
    "CTR key: 36f18357be4dbd77f050515c73fcf9f2\n",
    "CTR Ciphertext 1:\n",
    "69dda8455c7dd4254bf353b773304eec0ec7702330098ce7f7520d1cbbb20fc388d1b0adb5054dbd7370849dbf0b88d393f252e764f1f5f7ad97ef79d59ce29f5f51eeca32eabedd9afa9329\n",
    "```\n",
    "\n",
    "## Q4\n",
    "```\n",
    "CTR key: 36f18357be4dbd77f050515c73fcf9f2\n",
    "CTR Ciphertext 2:\n",
    "770b80259ec33beb2561358a9f2dc617e46218c0a53cbeca695ae45faa8952aa0e311bde9d4e01726d3184c34451\n",
    "```\n",
    "\n",
    "# Misc Notes \n",
    "- LIBRARY USED\n",
    "  - https://cryptography.io\n",
    "  - https://github.com/pyca/cryptography\n",
    "- INTERESTING RESOURCES\n",
    "  - https://cryptopals.com\n",
    "  - https://www.crypto101.io\n",
    "  - https://www.dlitz.net/software/pycrypto/doc\n",
    "- AES \n",
    "  - AES (Advanced Encryption Standard) is a block cipher standardized by NIST. AES is both fast, and cryptographically strong. It is a good default choice for encryption.\n",
    "  - Parameters: key (bytes-like) – The secret key. This must be kept secret. Either 128, 192, or 256 bits long.\n",
    "- bytes-like\n",
    "    - A bytes-like object contains binary data and supports the Buffer Protocol\n",
    "    - https://docs.python.org/3/c-api/buffer.html\n",
    "    - Includes bytes, bytearray, memoryview objects"
   ]
  },
  {
   "cell_type": "code",
   "execution_count": 1,
   "metadata": {},
   "outputs": [],
   "source": [
    "from cryptography.hazmat.primitives.ciphers.algorithms import AES\n",
    "from cryptography.hazmat.primitives.ciphers import modes, Cipher\n",
    "from cryptography.hazmat.backends import default_backend\n",
    "from os import urandom"
   ]
  },
  {
   "cell_type": "code",
   "execution_count": 13,
   "metadata": {},
   "outputs": [
    {
     "name": "stdout",
     "output_type": "stream",
     "text": [
      "b'ABC\\xffA'\n",
      "b'\\xff'\n",
      "b'\\xb6'\n",
      "b'\\xda\\x05\\x01'\n",
      "414243ff41\n",
      "b'\\x00\\xff\\x00'\n",
      "00ff00\n"
     ]
    }
   ],
   "source": [
    "# if it can display the byte in ascii it will, \n",
    "# else it will display it in hex IE. \\x00 to \\xff\n",
    "# example fromhex(\"414243FF41\") will be displayed as b'ABC0xffA'\n",
    "\n",
    "test1 = bytes.fromhex(\"414243FF41\")\n",
    "test2 = bytes.fromhex(\"FF\") \n",
    "test3 = urandom(1)\n",
    "test4 = urandom(3)\n",
    "print(test1)\n",
    "print(test2)\n",
    "print(test3)\n",
    "print(test4)\n",
    "\n",
    "print(test1.hex())\n",
    "\n",
    "def xor_bytes(x, y):\n",
    "    return bytes(a ^ b for a, b in zip(x, y))\n",
    "\n",
    "m = bytes.fromhex(\"FF00FF\")\n",
    "k = bytes.fromhex(\"FFFFFF\") \n",
    "\n",
    "print(xor_bytes(m, k)) #00FF00\n",
    "\n",
    "m = bytearray.fromhex(\"FF00FF\")\n",
    "k = bytearray.fromhex(\"FFFFFF\") \n",
    "\n",
    "print(xor_bytes(m, k).hex()) #00FF00"
   ]
  },
  {
   "cell_type": "code",
   "execution_count": 3,
   "metadata": {},
   "outputs": [
    {
     "name": "stdout",
     "output_type": "stream",
     "text": [
      "SECRET MESSAGE: \n",
      " bytearray(b'a secret message')\n",
      "KEY: \n",
      " b'\\x0b\\x82I\\x87\\t\\xc1\\xaai\\x0f\\xfdy\\xa0\\xc8\\xe3\\xcc\\xa6[\\x98\\xd1\\xc3\\x06;\\xbcs\\x93x\\xb07\\x047\\x96a'\n",
      "IV: \n",
      " b'\\x1b9\\x91\\x88dxP\\x11\\xa3\\x97\\xe5#;\\xe1\\x0e1'\n",
      "CIPHERTEXT:  b'&\\x10\\xb2r\\x92&tz\\x1a0\\x81J\\x85\\xca\\x0c&'\n",
      "PLAINTEXT: \n",
      " b'a secret message'\n"
     ]
    }
   ],
   "source": [
    "SECRET_MESSAGE = bytearray(\"a secret message\", \"utf-8\")\n",
    "key = urandom(32)\n",
    "iv = urandom(16)\n",
    "\n",
    "# -------------------------------------\n",
    "# EXAMPLE: CBC-AES ENCRYPTION DECRYTION\n",
    "# -------------------------------------\n",
    "cipher = Cipher(AES(key), modes.CBC(iv), backend=default_backend())\n",
    "encryptor = cipher.encryptor()\n",
    "ciphertext = encryptor.update(SECRET_MESSAGE) + encryptor.finalize()\n",
    "\n",
    "decryptor = cipher.decryptor()\n",
    "plaintext = decryptor.update(ciphertext) + decryptor.finalize()\n",
    "\n",
    "print(\"SECRET MESSAGE: \\n\", SECRET_MESSAGE)\n",
    "print(\"KEY: \\n\", key)\n",
    "print(\"IV: \\n\", iv)\n",
    "print(\"CIPHERTEXT: \", ciphertext)\n",
    "print(\"PLAINTEXT: \\n\", plaintext)"
   ]
  },
  {
   "cell_type": "code",
   "execution_count": 4,
   "metadata": {},
   "outputs": [],
   "source": [
    "def debug_decrypt(key_string, key, ivct_string, iv, ct, plaintext):\n",
    "    print(\"key_string: \", key_string)\n",
    "    print(\"key_string length in characters: \", len(key_string))\n",
    "    print(\"key: \", key)\n",
    "    print(\"key length in bytes: \", len(key))\n",
    "    print(\"ivct_string:\", ivct_string)\n",
    "    print(\"ivct_string length in characters:\", len(ivct_string))\n",
    "    print(\"IV in bytearray: \", iv)\n",
    "    print(\"CT in bytearray: \", ct)\n",
    "    print(\"PLAINTEXT: \\n\", plaintext)"
   ]
  },
  {
   "cell_type": "code",
   "execution_count": 5,
   "metadata": {},
   "outputs": [],
   "source": [
    "# -------------------------------------\n",
    "# EXAMPLE: CBC-AES DECRYTION\n",
    "# -------------------------------------\n",
    "   \n",
    "def decrypt(ivct_string, key_string, mode_function, bytes_per_block=16, debug=False):\n",
    "    \n",
    "    key = bytes.fromhex(key_string)    \n",
    "    ivct = bytearray.fromhex(ivct_string)\n",
    "    iv = ivct[0:bytes_per_block]\n",
    "    ct = ivct[bytes_per_block:]\n",
    "\n",
    "    cipher = Cipher(AES(key), mode_function(iv), backend=default_backend())\n",
    "    decryptor = cipher.decryptor()\n",
    "    plaintext = decryptor.update(ct) + decryptor.finalize()\n",
    "\n",
    "    if debug is True:\n",
    "        debug_decrypt(key_string, key, ivct_string, iv, ct, plaintext)\n",
    "\n",
    "    return plaintext "
   ]
  },
  {
   "cell_type": "code",
   "execution_count": 6,
   "metadata": {},
   "outputs": [
    {
     "name": "stdout",
     "output_type": "stream",
     "text": [
      "b'Basic CBC mode encryption needs padding.\\x08\\x08\\x08\\x08\\x08\\x08\\x08\\x08'\n",
      "b'Our implementation uses rand. IV\\x10\\x10\\x10\\x10\\x10\\x10\\x10\\x10\\x10\\x10\\x10\\x10\\x10\\x10\\x10\\x10'\n"
     ]
    }
   ],
   "source": [
    "key_string =  \"140b41b22a29beb4061bda66b6747e14\"\n",
    "ivct_string = \"4ca00ff4c898d61e1edbf1800618fb28\" + \\\n",
    "              \"28a226d160dad07883d04e008a7897ee\" + \\\n",
    "              \"2e4b7465d5290d0c0e6c6822236e1daa\" + \\\n",
    "              \"fb94ffe0c5da05d9476be028ad7c1d81\" \n",
    "\n",
    "ivct_string2 =\"5b68629feb8606f9a6667670b75b38a5b4832d0f26e1ab7da33249de7d4afc48e713ac646ace36e872ad5fb8a512428a6e21364b0c374df45503473c5242a253\"\n",
    "\n",
    "plaintext = decrypt(ivct_string, key_string, modes.CBC) \n",
    "print(plaintext)\n",
    "print(decrypt(ivct_string2, key_string, modes.CBC))"
   ]
  },
  {
   "cell_type": "code",
   "execution_count": 7,
   "metadata": {},
   "outputs": [
    {
     "name": "stdout",
     "output_type": "stream",
     "text": [
      "b'CTR mode lets you build a stream cipher from a block cipher.'\n",
      "b'Always avoid the two time pad!'\n"
     ]
    }
   ],
   "source": [
    "key_string = \"36f18357be4dbd77f050515c73fcf9f2\"\n",
    "ivct_string = \"69dda8455c7dd4254bf353b773304eec0ec7702330098ce7f7520d1cbbb20fc388d1b0adb5054dbd7370849dbf0b88d393f252e764f1f5f7ad97ef79d59ce29f5f51eeca32eabedd9afa9329\"\n",
    "ivct_string2 = \"770b80259ec33beb2561358a9f2dc617e46218c0a53cbeca695ae45faa8952aa0e311bde9d4e01726d3184c34451\"\n",
    "\n",
    "print(decrypt(ivct_string, key_string, modes.CTR))\n",
    "print(decrypt(ivct_string2, key_string, modes.CTR))"
   ]
  },
  {
   "cell_type": "code",
   "execution_count": null,
   "metadata": {},
   "outputs": [],
   "source": []
  }
 ],
 "metadata": {
  "kernelspec": {
   "display_name": "Python 3",
   "language": "python",
   "name": "python3"
  },
  "language_info": {
   "codemirror_mode": {
    "name": "ipython",
    "version": 3
   },
   "file_extension": ".py",
   "mimetype": "text/x-python",
   "name": "python",
   "nbconvert_exporter": "python",
   "pygments_lexer": "ipython3",
   "version": "3.6.7"
  }
 },
 "nbformat": 4,
 "nbformat_minor": 2
}
