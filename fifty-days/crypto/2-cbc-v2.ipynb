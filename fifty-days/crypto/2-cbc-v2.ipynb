{
 "cells": [
  {
   "cell_type": "code",
   "execution_count": 1,
   "metadata": {},
   "outputs": [],
   "source": [
    "from cryptography.hazmat.primitives.ciphers.algorithms import AES\n",
    "from cryptography.hazmat.primitives.ciphers import modes, Cipher\n",
    "from cryptography.hazmat.backends import default_backend\n",
    "from os import urandom\n",
    "import sys"
   ]
  },
  {
   "cell_type": "code",
   "execution_count": 2,
   "metadata": {},
   "outputs": [],
   "source": [
    "BLOCKSIZE = 16\n",
    "\n",
    "def xor(x, y):\n",
    "    # assert len(x) == len(y)\n",
    "    a = int.from_bytes(x, \"big\")\n",
    "    b = int.from_bytes(y, \"big\")\n",
    "    r = a ^ b\n",
    "    return r.to_bytes(len(x), \"big\")"
   ]
  },
  {
   "cell_type": "code",
   "execution_count": 3,
   "metadata": {},
   "outputs": [],
   "source": [
    "def unpad(m):\n",
    "    \n",
    "    pad = m[-1]\n",
    "    assert 1 <= pad <= 16, \"Wrong padding\"\n",
    "    \n",
    "    for i in range(1, pad + 1):\n",
    "        assert m[-i] == pad, \"Wrong padding\"\n",
    "    \n",
    "    return m[:-pad].decode(\"utf-8\")"
   ]
  },
  {
   "cell_type": "code",
   "execution_count": 4,
   "metadata": {},
   "outputs": [],
   "source": [
    "def pad(pt):\n",
    "    pad_size = len(pt) % BLOCKSIZE\n",
    "    \n",
    "    if pad_size != 0:\n",
    "        pad = [pad_size for i in range(pad_size)]\n",
    "        pt += bytes(pad) \n",
    "    else:\n",
    "        pad = [BLOCKSIZE for i in range(BLOCKSIZE)]\n",
    "        pt += bytes(pad)\n",
    "    #assert len(pt) % BLOCKSIZE == 0"
   ]
  },
  {
   "cell_type": "code",
   "execution_count": 5,
   "metadata": {},
   "outputs": [],
   "source": [
    "def AES_DECRYPT(key):\n",
    "    cipher = Cipher(AES(key), modes.ECB(), backend=default_backend())\n",
    "    return cipher.decryptor().update\n",
    "\n",
    "\n",
    "def AES_ENCRYPT(key):\n",
    "    cipher = Cipher(AES(key), modes.ECB(), backend=default_backend())\n",
    "    return cipher.encryptor().update\n",
    "\n",
    "    \n",
    "def encrypt_cbc(pt_string, k_string, blocksize=16):\n",
    "    \n",
    "    pt, k = bytearray(pt_string, 'utf-8'), bytes.fromhex(k_string)\n",
    "    pad(pt)\n",
    "\n",
    "    n = len(pt) // BLOCKSIZE\n",
    "    current = urandom(BLOCKSIZE) #IV\n",
    "    aes_encrypt = AES_ENCRYPT(k)\n",
    "    ct = bytearray(current)\n",
    "    \n",
    "    \n",
    "    for i in range(n):\n",
    "        start, end = i*blocksize, (i+1)*blocksize\n",
    "        m = pt[start:end]\n",
    "        d = xor(m, current)\n",
    "        current = aes_encrypt(d)\n",
    "        ct += current\n",
    "    \n",
    "    return ct.hex()    "
   ]
  },
  {
   "cell_type": "code",
   "execution_count": 6,
   "metadata": {},
   "outputs": [],
   "source": [
    "def decrypt_cbc(ct_string, k_string):\n",
    "    \n",
    "    ct, k = bytes.fromhex(ct_string), bytes.fromhex(k_string)\n",
    "    # assert len(ct) % BLOCKSIZE == 0\n",
    "    n = len(ct) // BLOCKSIZE\n",
    "    aes_decrypt = AES_DECRYPT(k)\n",
    "    m = bytearray()\n",
    "    \n",
    "    for i in range(n-1):\n",
    "        start, mid, end = i*BLOCKSIZE, (i+1)*BLOCKSIZE, (i+2)*BLOCKSIZE \n",
    "        cx, cy = ct[start:mid], ct[mid:end]\n",
    "        d = aes_decrypt(cy)\n",
    "        m += xor(cx, d)\n",
    "    \n",
    "    return unpad(m)"
   ]
  },
  {
   "cell_type": "code",
   "execution_count": 7,
   "metadata": {},
   "outputs": [],
   "source": [
    "k = \"140b41b22a29beb4061bda66b6747e14\"\n",
    "ct1 = \"4ca00ff4c898d61e1edbf1800618fb2828a226d160dad07883d04e008a7897ee2e4b7465d5290d0c0e6c6822236e1daafb94ffe0c5da05d9476be028ad7c1d81\"\n",
    "ct2 = \"5b68629feb8606f9a6667670b75b38a5b4832d0f26e1ab7da33249de7d4afc48e713ac646ace36e872ad5fb8a512428a6e21364b0c374df45503473c5242a253\"\n",
    "pt1 = \"Basic CBC mode encryption needs padding.\"\n",
    "pt2 = \"Our implementation uses rand. IV\""
   ]
  },
  {
   "cell_type": "code",
   "execution_count": 8,
   "metadata": {},
   "outputs": [
    {
     "name": "stdout",
     "output_type": "stream",
     "text": [
      "Basic CBC mode encryption needs padding.\n",
      "Our implementation uses rand. IV\n"
     ]
    }
   ],
   "source": [
    "m1 = decrypt_cbc(ct1, k)\n",
    "m2 = decrypt_cbc(ct2, k)\n",
    "\n",
    "print(m1)\n",
    "print(m2)"
   ]
  },
  {
   "cell_type": "code",
   "execution_count": 9,
   "metadata": {},
   "outputs": [
    {
     "name": "stdout",
     "output_type": "stream",
     "text": [
      "Basic CBC mode encryption needs padding.\n",
      "Our implementation uses rand. IV\n"
     ]
    }
   ],
   "source": [
    "c1 = encrypt_cbc(pt1, k)\n",
    "c2 = encrypt_cbc(pt2, k)\n",
    "\n",
    "cx = encrypt_cbc(m1, k)\n",
    "cy = encrypt_cbc(m2, k)\n",
    "\n",
    "print(decrypt_cbc(c1, k))\n",
    "print(decrypt_cbc(cy, k))"
   ]
  },
  {
   "cell_type": "code",
   "execution_count": 10,
   "metadata": {},
   "outputs": [],
   "source": [
    "assert m1==pt1\n",
    "assert m2==pt2\n",
    "assert decrypt_cbc(c1, k)==decrypt_cbc(cx, k)\n",
    "assert decrypt_cbc(c2, k)==decrypt_cbc(cy, k)"
   ]
  },
  {
   "cell_type": "code",
   "execution_count": null,
   "metadata": {},
   "outputs": [],
   "source": []
  }
 ],
 "metadata": {
  "kernelspec": {
   "display_name": "Python 3",
   "language": "python",
   "name": "python3"
  },
  "language_info": {
   "codemirror_mode": {
    "name": "ipython",
    "version": 3
   },
   "file_extension": ".py",
   "mimetype": "text/x-python",
   "name": "python",
   "nbconvert_exporter": "python",
   "pygments_lexer": "ipython3",
   "version": "3.6.7"
  }
 },
 "nbformat": 4,
 "nbformat_minor": 2
}
