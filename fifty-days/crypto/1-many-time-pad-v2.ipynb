{
 "cells": [
  {
   "cell_type": "code",
   "execution_count": 1,
   "metadata": {},
   "outputs": [],
   "source": [
    "from random import shuffle\n",
    "import numpy\n",
    "from scipy import stats"
   ]
  },
  {
   "cell_type": "code",
   "execution_count": 2,
   "metadata": {},
   "outputs": [],
   "source": [
    "def truncate(a, b):\n",
    "    n = min(len(a), len(b))\n",
    "    return a[:n], b[:n]\n",
    "\n",
    "\n",
    "def truncate3(a, b, c):\n",
    "    n = min(len(a), len(b), len(c))\n",
    "    return a[:n], b[:n], c[:n]\n",
    "\n",
    "\n",
    "def xor(x, y):\n",
    "    # assert len(x) == len(y)\n",
    "    a = int.from_bytes(x, \"big\")\n",
    "    b = int.from_bytes(y, \"big\")\n",
    "    return (a ^ b).to_bytes(len(x), \"big\")\n",
    "\n",
    "\n",
    "def parsed_text(filepath):    \n",
    "    texts = []\n",
    "\n",
    "    with open(filepath) as f:\n",
    "        for line in f:\n",
    "            s = line.strip(' \\t\\n\\r')\n",
    "            if s != '': texts.append(s)\n",
    "    \n",
    "    return texts, texts[0]\n",
    "\n",
    "\n",
    "def byteslist_fromhex(hexlist):\n",
    "    byteslist = []\n",
    "    for h in hexlist:\n",
    "        byteslist.append(bytes.fromhex(h))\n",
    "    return byteslist\n",
    "\n",
    "\n",
    "def within_range(x):\n",
    "    return 65 <= x <= 90 or 97 <= x <= 122\n",
    "\n",
    "\n",
    "def decode(cipher, key):\n",
    "    \n",
    "    r = ''\n",
    "    c, k = truncate(cipher, key)\n",
    "    \n",
    "    for i, j in zip(c, k):\n",
    "        if j == 0:\n",
    "            r+=\"_\"\n",
    "            continue\n",
    "\n",
    "        x = i ^ j\n",
    "        r+=chr(x)\n",
    "    return r"
   ]
  },
  {
   "cell_type": "code",
   "execution_count": 3,
   "metadata": {},
   "outputs": [],
   "source": [
    "def build_key(key, c1, c2, c3):\n",
    "\n",
    "    xm12, xm13,  xm23 = xor(c1, c2), xor(c1, c3), xor(c2, c3)\n",
    "\n",
    "    for i in range(0, len(c1)):\n",
    "        \n",
    "        if key[i] != 0: \n",
    "            continue \n",
    "            \n",
    "        if c1[i] == c2[i] or c1[i] == c3[i] or c2[i] == c3[i]:\n",
    "            continue\n",
    "        \n",
    "        m12, m13, m23 = xm12[i], xm13[i], xm23[i]\n",
    "            \n",
    "        if within_range(m13) and within_range(m23):            \n",
    "            key[i] = ord(\" \") ^ c3[i]\n",
    "        elif within_range(m12) and within_range(m23):\n",
    "            key[i] = ord(\" \") ^ c2[i]\n",
    "        elif within_range(m12) and within_range(m13):\n",
    "            key[i] = ord(\" \") ^ c1[i]"
   ]
  },
  {
   "cell_type": "code",
   "execution_count": 4,
   "metadata": {},
   "outputs": [
    {
     "name": "stdout",
     "output_type": "stream",
     "text": [
      "The secuet message is: Whtn using a stream cipher, never use the key more than once\n"
     ]
    }
   ],
   "source": [
    "nshuffles = 50\n",
    "\n",
    "filepath = \"./data/many-time-pad-ciphertexts.txt\"\n",
    "texts, target_text = parsed_text(filepath)\n",
    "\n",
    "target = bytes.fromhex(target_text) \n",
    "ciphers = byteslist_fromhex(texts)\n",
    "\n",
    "ksize = len(max(ciphers, key=len)) #length of longest cipher\n",
    "possiblekeys = []\n",
    "\n",
    "for _ in range(nshuffles):\n",
    "    \n",
    "    shuffle(ciphers)\n",
    "    k, n = bytearray(ksize), len(ciphers)\n",
    "    \n",
    "    for a in range(n - 2):\n",
    "        for b in range(a + 1, n - 1):\n",
    "            for c in range(b + 1, n):\n",
    "                x, y, z = truncate3(ciphers[a], ciphers[b], ciphers[c])\n",
    "                build_key(k, x, y, z)\n",
    "                \n",
    "    possiblekeys.append(k)\n",
    "\n",
    "# finalize key using frequency analysis\n",
    "key = stats.mode(numpy.array(possiblekeys))[0][0]\n",
    "\n",
    "message = decode(target, key)\n",
    "print(message)"
   ]
  },
  {
   "cell_type": "code",
   "execution_count": 5,
   "metadata": {},
   "outputs": [
    {
     "name": "stdout",
     "output_type": "stream",
     "text": [
      "We can aactor the number  5 with quantum computers. We can also factor the number 15-w_th a _og tra_n_d to ba__ t_rhe __me - Ro_er_ H_____\n",
      "\n",
      "You don t want to buy a stt of car keys from a guy who specializes in stealing cars   _arc R_tenber_ _ommenti__ o_ Nli__er\n",
      "\n",
      "A (privfte-key)  encrypti~n scheme states 3 algorithms, namely a procedure for generlt_ng ke_s, a p_o_edure f__ e_cyp__ng  and _ p_oc_____ _o_ ____y_____z_\n",
      "\n",
      "The secuet message is: Whtn using a stream cipher, never use the key more than once\n",
      "\n",
      "Euler whuld probably enjoh that now his theorem becomes a corner stone of crypto - Acn_nymou_ on Eu_e_'s theo__m\n",
      "\n",
      "The cipoertext produced bh a weak encryption algorithm looks as good as ciphertext po_uced _y a st_o_g encry__io_ llg__itdm - P_il_p _____r_a_n\n",
      "\n",
      "There aue two types of cyatography: one that allows the Government to use brute forch _o bre_k the _o_e, and __e _hlt __queres t_e _ov_____n_ _o____ _____t_______________________________\n",
      "\n",
      "There aue two types of crhptography - that which will keep secrets safe from your liyt_e sis_er, an_ _hat whi__ w_la k__p ecret_ s_fe_____ _o_r____e_____ _________________\n",
      "\n",
      " The Coicise OxfordDictioary (2006) deï¬nes crypto as the art of  writing o r solvdn_ code_. \n",
      "\n",
      "We can tee the point whert the chip is unhappy if a wrong bit is sent and consumes mbr_ powe_ from _h_ enviro__en_   A__ Sdamir\n",
      "\n",
      "The nicb thing about Keey}oq is now we cryptographers can drive a lot of fancy cars   _an Bo_eh\n",
      "\n"
     ]
    }
   ],
   "source": [
    "for i in range(len(ciphers)):\n",
    "    print(decode(ciphers[i], key))\n",
    "    print()"
   ]
  }
 ],
 "metadata": {
  "kernelspec": {
   "display_name": "Python 3",
   "language": "python",
   "name": "python3"
  },
  "language_info": {
   "codemirror_mode": {
    "name": "ipython",
    "version": 3
   },
   "file_extension": ".py",
   "mimetype": "text/x-python",
   "name": "python",
   "nbconvert_exporter": "python",
   "pygments_lexer": "ipython3",
   "version": "3.6.7"
  }
 },
 "nbformat": 4,
 "nbformat_minor": 2
}
