{
 "cells": [
  {
   "cell_type": "markdown",
   "metadata": {},
   "source": [
    "# Factoring challenge\n",
    "- Given `N` which is a product of two primes `p` and `q` such that \n",
    "```\n",
    "| p - q | < 2 * fourth_root_of(N)\n",
    "```\n",
    "- Find `p` and `q` "
   ]
  },
  {
   "cell_type": "code",
   "execution_count": 1,
   "metadata": {},
   "outputs": [],
   "source": [
    "from gmpy2 import mpz\n",
    "import gmpy2"
   ]
  },
  {
   "cell_type": "code",
   "execution_count": 2,
   "metadata": {},
   "outputs": [],
   "source": [
    "def get_A(N):\n",
    "    i, r = gmpy2.isqrt_rem(N) \n",
    "    if r > 0:\n",
    "        return i + 1 \n",
    "    else:\n",
    "        return i"
   ]
  },
  {
   "cell_type": "code",
   "execution_count": 3,
   "metadata": {},
   "outputs": [],
   "source": [
    "def find_pq(N):\n",
    "    A = get_A(N)\n",
    "    A_squared_minus_N = A**2 - N\n",
    "    x = gmpy2.isqrt(A_squared_minus_N)\n",
    "    x_float = gmpy2.isqrt(A_squared_minus_N)\n",
    "    p = A - x\n",
    "    q = A + x\n",
    "    return p, q "
   ]
  },
  {
   "cell_type": "code",
   "execution_count": 4,
   "metadata": {},
   "outputs": [
    {
     "name": "stdout",
     "output_type": "stream",
     "text": [
      "N:  179769313486231590772930519078902473361797697894230657273430081157732675805505620686985379449212982959585501387537164015710139858647833778606925583497541085196591615128057575940752635007475935288710823649949940771895617054361149474865046711015101563940680527540071584560878577663743040086340742855278549092581\n",
      "p:  13407807929942597099574024998205846127479365820592393377723561443721764030073662768891111614362326998675040546094339320838419523375986027530441562135724301\n",
      "q:  13407807929942597099574024998205846127479365820592393377723561443721764030073778560980348930557750569660049234002192590823085163940025485114449475265364281\n",
      "p*q:  179769313486231590772930519078902473361797697894230657273430081157732675805505620686985379449212982959585501387537164015710139858647833778606925583497541085196591615128057575940752635007475935288710823649949940771895617054361149474865046711015101563940680527540071584560878577663743040086340742855278549092581\n"
     ]
    }
   ],
   "source": [
    "N_string = '179769313486231590772930519078902473361797697894230657273430081157732675805505620686985379449212982959585501387537164015710139858647833778606925583497541085196591615128057575940752635007475935288710823649949940771895617054361149474865046711015101563940680527540071584560878577663743040086340742855278549092581'\n",
    "N = mpz(N_string)\n",
    "p, q = find_pq(N)\n",
    "N_from_pq = gmpy2.mul(p, q)\n",
    "\n",
    "print(\"N: \", N)\n",
    "print(\"p: \", p)\n",
    "print(\"q: \", q)\n",
    "print(\"p*q: \", N_from_pq)\n",
    "\n",
    "assert N == N_from_pq"
   ]
  }
 ],
 "metadata": {
  "kernelspec": {
   "display_name": "Python 3",
   "language": "python",
   "name": "python3"
  },
  "language_info": {
   "codemirror_mode": {
    "name": "ipython",
    "version": 3
   },
   "file_extension": ".py",
   "mimetype": "text/x-python",
   "name": "python",
   "nbconvert_exporter": "python",
   "pygments_lexer": "ipython3",
   "version": "3.6.7"
  }
 },
 "nbformat": 4,
 "nbformat_minor": 2
}
