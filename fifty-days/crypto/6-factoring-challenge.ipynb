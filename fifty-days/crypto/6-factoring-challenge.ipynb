{
 "cells": [
  {
   "cell_type": "markdown",
   "metadata": {},
   "source": [
    "# Factoring challenge\n",
    "- Given `N` which is a product of two primes `p` and `q` such that \n",
    "```\n",
    "| p - q | < 2 * fourth_root_of(N)\n",
    "```\n",
    "- Find `p` and `q` "
   ]
  },
  {
   "cell_type": "code",
   "execution_count": 1,
   "metadata": {},
   "outputs": [],
   "source": [
    "from gmpy2 import mpz\n",
    "import gmpy2"
   ]
  },
  {
   "cell_type": "code",
   "execution_count": 2,
   "metadata": {},
   "outputs": [],
   "source": [
    "p_answer = mpz(961748941)\n",
    "q_answer = mpz(982451653)\n",
    "N = gmpy2.mul(p_answer, q_answer)"
   ]
  },
  {
   "cell_type": "code",
   "execution_count": 15,
   "metadata": {},
   "outputs": [],
   "source": [
    "def get_A(N):\n",
    "    i, r = gmpy2.isqrt_rem(N) \n",
    "    if r > 0:\n",
    "        return i + 1 \n",
    "    else:\n",
    "        return i"
   ]
  },
  {
   "cell_type": "code",
   "execution_count": 16,
   "metadata": {},
   "outputs": [],
   "source": [
    "def find_pq(N):\n",
    "    A = get_A(N)\n",
    "    A_squared_minus_N = A**2 - N\n",
    "    x = gmpy2.isqrt(A_squared_minus_N)\n",
    "    x_float = gmpy2.isqrt(A_squared_minus_N)\n",
    "    p = A - x\n",
    "    q = A + x\n",
    "    return p, q "
   ]
  },
  {
   "cell_type": "code",
   "execution_count": 17,
   "metadata": {},
   "outputs": [
    {
     "name": "stdout",
     "output_type": "stream",
     "text": [
      "972014572\n",
      "961748941\n",
      "972075794\n",
      "982451653\n"
     ]
    }
   ],
   "source": [
    "p, q = find_pq(N)\n",
    "\n",
    "print(p)\n",
    "print(p_answer)\n",
    "print(q)\n",
    "print(q_answer)"
   ]
  }
 ],
 "metadata": {
  "kernelspec": {
   "display_name": "Python 3",
   "language": "python",
   "name": "python3"
  },
  "language_info": {
   "codemirror_mode": {
    "name": "ipython",
    "version": 3
   },
   "file_extension": ".py",
   "mimetype": "text/x-python",
   "name": "python",
   "nbconvert_exporter": "python",
   "pygments_lexer": "ipython3",
   "version": "3.6.7"
  }
 },
 "nbformat": 4,
 "nbformat_minor": 2
}
