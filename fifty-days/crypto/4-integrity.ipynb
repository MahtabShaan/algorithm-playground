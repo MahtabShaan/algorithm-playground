{
 "cells": [
  {
   "cell_type": "markdown",
   "metadata": {},
   "source": [
    "# File Authentication System\n",
    "- GOAL: build a file authentication system that lets browsers authenticate and play video chunks without having to wait for the entire file."
   ]
  },
  {
   "cell_type": "code",
   "execution_count": 1,
   "metadata": {},
   "outputs": [],
   "source": [
    "from hashlib import sha256\n",
    "import os"
   ]
  },
  {
   "cell_type": "code",
   "execution_count": 2,
   "metadata": {},
   "outputs": [],
   "source": [
    "def read_block_reverse(filepath, buffersize=1024):\n",
    "\n",
    "    with open(filepath, 'rb') as f:\n",
    "        \n",
    "        f.seek(0, os.SEEK_END)\n",
    "        filesize = f.tell()\n",
    "        firstchunk = filesize % buffersize\n",
    "\n",
    "        if firstchunk != 0: \n",
    "            f.seek(filesize - firstchunk)\n",
    "            yield f.read(firstchunk)\n",
    "        \n",
    "        f.seek(-firstchunk-buffersize, os.SEEK_END)\n",
    "        \n",
    "        while True:\n",
    "            yield f.read(buffersize)\n",
    "            if f.tell() <= buffersize:\n",
    "                break\n",
    "            f.seek(-2*buffersize, 1)"
   ]
  },
  {
   "cell_type": "code",
   "execution_count": 3,
   "metadata": {},
   "outputs": [],
   "source": [
    "answer = \"03c08f4ee0b576fe319338139c045c89c3e8e9409633bea29442e21425006ea8\"\n",
    "gen = read_block_reverse(filepath='./data/6.2.birthday.mp4_download', buffersize=1024)"
   ]
  },
  {
   "cell_type": "code",
   "execution_count": 4,
   "metadata": {},
   "outputs": [
    {
     "name": "stdout",
     "output_type": "stream",
     "text": [
      "True\n"
     ]
    }
   ],
   "source": [
    "h = bytes()\n",
    "for i in gen:\n",
    "    h = sha256(i + h).digest()\n",
    "    \n",
    "print(h.hex()==answer)"
   ]
  },
  {
   "cell_type": "code",
   "execution_count": 5,
   "metadata": {},
   "outputs": [
    {
     "name": "stdout",
     "output_type": "stream",
     "text": [
      "5b96aece304a1422224f9a41b228416028f9ba26b0d1058f400200f06a589949\n"
     ]
    }
   ],
   "source": [
    "gen2 = read_block_reverse(filepath='./data/6.1.intro.mp4_download', buffersize=1024)\n",
    "\n",
    "h = bytes()\n",
    "for i in gen2:\n",
    "    h = sha256(i + h).digest()\n",
    "    \n",
    "print(h.hex())"
   ]
  }
 ],
 "metadata": {
  "kernelspec": {
   "display_name": "Python 3",
   "language": "python",
   "name": "python3"
  },
  "language_info": {
   "codemirror_mode": {
    "name": "ipython",
    "version": 3
   },
   "file_extension": ".py",
   "mimetype": "text/x-python",
   "name": "python",
   "nbconvert_exporter": "python",
   "pygments_lexer": "ipython3",
   "version": "3.6.7"
  }
 },
 "nbformat": 4,
 "nbformat_minor": 2
}
