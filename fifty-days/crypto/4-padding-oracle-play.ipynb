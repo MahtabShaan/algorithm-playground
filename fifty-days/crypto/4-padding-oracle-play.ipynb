{
 "cells": [
  {
   "cell_type": "markdown",
   "metadata": {},
   "source": [
    "# Padding Oracle \n",
    "- When a decrypted CBC ciphertext ends in an invalid pad the web server returns a 403 error code (forbidden request). When the CBC padding is valid, but the message is malformed, the web server returns a 404 error code (URL not found).\n",
    "```\n",
    "http://crypto-class.appspot.com/po?er=\"your ciphertext here\"\n",
    "```\n",
    "- The first ciphertext block is random IV,  the decrypted text block is ascii encoded\n",
    "- the ciphertext following the `\"po?er=\"` is a hex encoded AES CBC encryption with a random IV of some secret data about Alice's session."
   ]
  },
  {
   "cell_type": "code",
   "execution_count": 1,
   "metadata": {},
   "outputs": [],
   "source": [
    "import urllib3 as ul\n",
    "from copy import deepcopy"
   ]
  },
  {
   "cell_type": "code",
   "execution_count": 2,
   "metadata": {},
   "outputs": [],
   "source": [
    "ENDIAN = \"big\"\n",
    "\n",
    "def xor(x, y, z):\n",
    "    assert len(x) == len(y) == len(z)\n",
    "    a = int.from_bytes(x, ENDIAN)\n",
    "    b = int.from_bytes(y, ENDIAN)\n",
    "    c = int.from_bytes(z, ENDIAN)\n",
    "    r = a ^ b ^ c\n",
    "    return r.to_bytes(len(x), ENDIAN)\n",
    "\n",
    "BLOCKSIZE = 16\n",
    "\n",
    "AZ = [i for i in range(ord('A'), ord('Z') + 1)] \n",
    "space = [ord(' ')]\n",
    "az = [i for i in range(ord('a'),ord('z') +1)]\n",
    "paddings = [i for i in range(1, 17)]\n",
    "\n",
    "misc1 = [i for i in range(17, 32)] + [i for i in range(33, 65)]\n",
    "misc2 = [i for i in range(91, 97)] + [i for i in range(123, 128)]\n",
    "\n",
    "ALL = paddings + space + az  + AZ + misc1 + misc2\n",
    "\n",
    "# Target: \"http:domain.com/po?er=\"\n",
    "class PaddingOracle:\n",
    "    def __init__(self, target):\n",
    "        self.target = target\n",
    "        self.http = ul.PoolManager()\n",
    "    \n",
    "    # ct: string representing hex encoded \n",
    "    # 4 * 16 * 2 == 128 characters in length\n",
    "    # 4 blocks of ciphertxt, 1 block IV, 3 blocks ciphertext\n",
    "    def decrypt4blocks(self, ct, debug=True):\n",
    "        \n",
    "        assert len(ct)==128\n",
    "        assert self.status_query(ct)==200\n",
    "\n",
    "        iv, c0, c1, c2 = ct[:32], ct[32:64], ct[64:96], ct[96:]\n",
    "        \n",
    "        print(\"Decrypting...\")\n",
    "        m0 = self.decrypt_block(c0, iv)\n",
    "        print(\" > \", m0)\n",
    "        \n",
    "        m1 = self.decrypt_block(c1, c0)\n",
    "        print(\" > \",  m1)\n",
    "        \n",
    "        m2 = self.decrypt_block(c2, c1)\n",
    "        print(\" > \", m2)    \n",
    "        return str(m0 + m1 + m2, 'utf-8')\n",
    "    \n",
    "    def decrypt_block(self, c, c0_hex):\n",
    "        m = bytearray(BLOCKSIZE)\n",
    "        c0 = bytes.fromhex(c0_hex)\n",
    "        \n",
    "        for i in range(1, BLOCKSIZE + 1):\n",
    "            self.overwrite_byte(m, c, i, c0)\n",
    "        return m\n",
    "    \n",
    "    # Overwrites one byte in message m for each iteration\n",
    "    def overwrite_byte(self, m, c, i, c0):\n",
    "        \n",
    "        n = bytes([i for _ in range(BLOCKSIZE)])\n",
    "        CURRENT = BLOCKSIZE - i\n",
    "        \n",
    "        for g in ALL:\n",
    "            \n",
    "            m[CURRENT] = g \n",
    "            q = xor(n, m, c0).hex() + c\n",
    "                            \n",
    "            if self.is_valid(q) is True:\n",
    "                print(chr(g), end=\"_\")\n",
    "                return\n",
    "            \n",
    "        raise ValueError(\"Unable to find byte\")\n",
    "            \n",
    "    def is_valid(self, q):\n",
    "        r = self.http.request('GET', self.target + q, retries=False)\n",
    "        return r.status != 403 \n",
    "    \n",
    "    def status_query(self, q):\n",
    "        return self.http.request('GET', self.target + q, retries=False).status"
   ]
  },
  {
   "cell_type": "code",
   "execution_count": 3,
   "metadata": {},
   "outputs": [],
   "source": [
    "TARGET = 'http://crypto-class.appspot.com/po?er='\n",
    "CIPHERTEXT = \"f20bdba6ff29eed7b046d1df9fb7000058b1ffb4210a580f748b4ac714c001bd4a61044426fb515dad3f21f18aa577c0bdf302936266926ff37dbf7035d5eeb4\""
   ]
  },
  {
   "cell_type": "code",
   "execution_count": 4,
   "metadata": {},
   "outputs": [
    {
     "name": "stdout",
     "output_type": "stream",
     "text": [
      "Decrypting...\n",
      " _s_d_r_o_W_ _c_i_g_a_M_ _e_h_T_ >  bytearray(b'The Magic Words ')\n",
      "s_O_ _h_s_i_m_a_e_u_q_S_ _e_r_a_ >  bytearray(b'are Squeamish Os')\n",
      "\t_\t_\t_\t_\t_\t_\t_\t_\t_e_g_a_r_f_i_s_ >  bytearray(b'sifrage\\t\\t\\t\\t\\t\\t\\t\\t\\t')\n"
     ]
    }
   ],
   "source": [
    "po = PaddingOracle(TARGET)\n",
    "message = po.decrypt4blocks(CIPHERTEXT)"
   ]
  },
  {
   "cell_type": "code",
   "execution_count": 5,
   "metadata": {},
   "outputs": [
    {
     "name": "stdout",
     "output_type": "stream",
     "text": [
      "The Magic Words are Squeamish Ossifrage\t\t\t\t\t\t\t\t\t\n"
     ]
    }
   ],
   "source": [
    "print(message)"
   ]
  }
 ],
 "metadata": {
  "kernelspec": {
   "display_name": "Python 3",
   "language": "python",
   "name": "python3"
  },
  "language_info": {
   "codemirror_mode": {
    "name": "ipython",
    "version": 3
   },
   "file_extension": ".py",
   "mimetype": "text/x-python",
   "name": "python",
   "nbconvert_exporter": "python",
   "pygments_lexer": "ipython3",
   "version": "3.6.7"
  }
 },
 "nbformat": 4,
 "nbformat_minor": 2
}
