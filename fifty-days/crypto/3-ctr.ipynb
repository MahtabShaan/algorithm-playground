{
 "cells": [
  {
   "cell_type": "code",
   "execution_count": 1,
   "metadata": {},
   "outputs": [],
   "source": [
    "from cryptography.hazmat.primitives.ciphers.algorithms import AES\n",
    "from cryptography.hazmat.primitives.ciphers import modes, Cipher\n",
    "from cryptography.hazmat.backends import default_backend\n",
    "from os import urandom\n",
    "import sys\n",
    "from math import ceil"
   ]
  },
  {
   "cell_type": "code",
   "execution_count": 2,
   "metadata": {},
   "outputs": [],
   "source": [
    "ENDIAN = \"big\"\n",
    "\n",
    "def xor(x, y):\n",
    "    assert len(x) == len(y)\n",
    "    a = int.from_bytes(x, ENDIAN)\n",
    "    b = int.from_bytes(y, ENDIAN)\n",
    "    r = a ^ b\n",
    "    return r.to_bytes(len(x), ENDIAN)\n",
    "\n",
    "\n",
    "def ctr_result(k, iv, x, blocksize, ivsize):\n",
    "\n",
    "    cipher = Cipher(AES(k), modes.ECB(), backend=default_backend())\n",
    "    aes = cipher.encryptor().update\n",
    "    \n",
    "    long_k = bytearray()\n",
    "    n = ceil(len(x) / blocksize)\n",
    "    \n",
    "    for i in range(0, n):\n",
    "        c = aes((iv+i).to_bytes(ivsize, ENDIAN))\n",
    "        long_k += c\n",
    "    \n",
    "    return xor(x, long_k[:len(x)])\n",
    "\n",
    "\n",
    "def encrypt_ctr(pt_string, key_string, blocksize=16, ivsize=16):\n",
    "    \n",
    "    k = bytes.fromhex(key_string)\n",
    "    pt = bytes(pt_string, 'utf-8')\n",
    "    \n",
    "    iv_raw = urandom(ivsize)\n",
    "    iv = int.from_bytes(iv_raw, ENDIAN)\n",
    "    \n",
    "    return iv_raw.hex() + ctr_result(k, iv, pt, blocksize, ivsize).hex()\n",
    "    \n",
    "    \n",
    "def decrypt_ctr(ct_string, key_string, blocksize=16, ivsize=16):\n",
    "\n",
    "    k = bytes.fromhex(key_string)\n",
    "    c = bytes.fromhex(ct_string)\n",
    "    iv = int.from_bytes(c[:ivsize], ENDIAN)\n",
    "    return str(ctr_result(k, iv, c[ivsize:], blocksize, ivsize), 'utf-8')"
   ]
  },
  {
   "cell_type": "code",
   "execution_count": 3,
   "metadata": {},
   "outputs": [
    {
     "name": "stdout",
     "output_type": "stream",
     "text": [
      "CTR mode lets you build a stream cipher from a block cipher.\n",
      "Always avoid the two time pad!\n",
      "CTR mode lets you build a stream cipher from a block cipher.\n",
      "Always avoid the two time pad!\n"
     ]
    }
   ],
   "source": [
    "key_string = \"36f18357be4dbd77f050515c73fcf9f2\"\n",
    "ivct_string1 =\"69dda8455c7dd4254bf353b773304eec0ec7702330098ce7f7520d1cbbb20fc388d1b0adb5054dbd7370849dbf0b88d393f252e764f1f5f7ad97ef79d59ce29f5f51eeca32eabedd9afa9329\"\n",
    "ivct_string2 = \"770b80259ec33beb2561358a9f2dc617e46218c0a53cbeca695ae45faa8952aa0e311bde9d4e01726d3184c34451\"\n",
    "\n",
    "m_string1 = \"CTR mode lets you build a stream cipher from a block cipher.\"\n",
    "m_string2 = \"Always avoid the two time pad!\"\n",
    "\n",
    "print(decrypt_ctr(ivct_string1, key_string))\n",
    "print(decrypt_ctr(ivct_string2, key_string))\n",
    "\n",
    "c_string1 = encrypt_ctr(m_string1, key_string)\n",
    "c_string2  = encrypt_ctr(m_string2, key_string)\n",
    "\n",
    "print(decrypt_ctr(c_string1, key_string))\n",
    "print(decrypt_ctr(c_string2, key_string))\n",
    "\n",
    "assert decrypt_ctr(c_string1, key_string) == decrypt_ctr(ivct_string1, key_string)\n",
    "assert decrypt_ctr(c_string2, key_string) == decrypt_ctr(ivct_string2, key_string)\n",
    "assert decrypt_ctr(ivct_string1, key_string) == m_string1\n",
    "assert decrypt_ctr(ivct_string2, key_string) == m_string2"
   ]
  }
 ],
 "metadata": {
  "kernelspec": {
   "display_name": "Python 3",
   "language": "python",
   "name": "python3"
  },
  "language_info": {
   "codemirror_mode": {
    "name": "ipython",
    "version": 3
   },
   "file_extension": ".py",
   "mimetype": "text/x-python",
   "name": "python",
   "nbconvert_exporter": "python",
   "pygments_lexer": "ipython3",
   "version": "3.6.7"
  }
 },
 "nbformat": 4,
 "nbformat_minor": 2
}
