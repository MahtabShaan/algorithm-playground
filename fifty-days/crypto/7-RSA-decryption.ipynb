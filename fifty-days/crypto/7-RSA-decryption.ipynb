{
 "cells": [
  {
   "cell_type": "markdown",
   "metadata": {},
   "source": [
    "# RSA Decryption\n",
    "- Ascii plaintext encoded using PKCS1.5\n",
    "\n",
    "# PKCS1.5\n",
    "```\n",
    "RSA Modulo Size: e.g 2048 bits\n",
    "+------+------------------------------+------+--------------------+\n",
    "| 0x02 | RANDOM NONZERO DIGITS        | 0x00 | MESSAGE IN ASCII   |\n",
    "+------+------------------------------+------+--------------------+\n",
    "```"
   ]
  },
  {
   "cell_type": "code",
   "execution_count": 14,
   "metadata": {},
   "outputs": [],
   "source": [
    "# Given \n",
    "\n",
    "ct_string = \"22096451867410381776306561134883418017410069787892831071731839143676135600120538004282329650473509424343946219751512256465839967942889460764542040581564748988013734864120452325229320176487916666402997509188729971690526083222067771600019329260870009579993724077458967773697817571267229951148662959627934791540\"\n",
    "E = 65537 \n",
    "\n",
    "N_string = \"179769313486231590772930519078902473361797697894230657273430081157732675805505620686985379449212982959585501387537164015710139858647833778606925583497541085196591615128057575940752635007475935288710823649949940771895617054361149474865046711015101563940680527540071584560878577663743040086340742855278549092581\"\n",
    "p_string = \"13407807929942597099574024998205846127479365820592393377723561443721764030073662768891111614362326998675040546094339320838419523375986027530441562135724301\"\n",
    "q_string = \"13407807929942597099574024998205846127479365820592393377723561443721764030073778560980348930557750569660049234002192590823085163940025485114449475265364281\""
   ]
  },
  {
   "cell_type": "code",
   "execution_count": 20,
   "metadata": {},
   "outputs": [
    {
     "name": "stdout",
     "output_type": "stream",
     "text": [
      "15901287978999413029444103622387317669077639420371013629157181141513592652158568184727012903658813528491037910547521854815931164999641308185976587386289355866678615944319681939473842195092207377098269996346353744109549011306581302639353136684586796229221071755410527734011645528084075140176976118813890397473\n"
     ]
    }
   ],
   "source": [
    "from gmpy2 import mpz\n",
    "from gmpy2 import invert, t_mod, mul, powmod\n",
    "\n",
    "\n",
    "def encrypt(x, e, N):\n",
    "    return powmod(x, e)\n",
    "\n",
    "\n",
    "def decrypt(y, d, N):\n",
    "    return powmod(y, d, N)\n",
    "\n",
    "\n",
    "N = mpz(N_string)\n",
    "p = mpz(p_string)\n",
    "q = mpz(q_string)\n",
    "c = mpz(ct_string)\n",
    "e = mpz(E)\n",
    "\n",
    "# compute d \n",
    "phiN = N - p - q + 1\n",
    "D = invert(e, phiN)\n",
    "d = mpz(D)\n",
    "print(d)\n",
    "\n",
    "# d * e mod phi(N) = 1 \n",
    "# where phi(N) = N - p - q + 1\n",
    "assert t_mod(mul(d, e), phiN)"
   ]
  },
  {
   "cell_type": "code",
   "execution_count": 26,
   "metadata": {},
   "outputs": [
    {
     "name": "stdout",
     "output_type": "stream",
     "text": [
      "1426451879856214510330646002400995578367008996472114748613075557222561055795115728891177961543008315503915963697040212956606852659174678995486154430410613475683931167558406894855729746691128122753013281227792585556718735417914059214670504827025036737390143278850922860075246427162405295463406302195816284462\n"
     ]
    }
   ],
   "source": [
    "m_decimal = decrypt(c, d, N)\n",
    "print(m)"
   ]
  },
  {
   "cell_type": "code",
   "execution_count": 28,
   "metadata": {},
   "outputs": [
    {
     "name": "stdout",
     "output_type": "stream",
     "text": [
      "b'Factoring lets us break RSA.'\n"
     ]
    }
   ],
   "source": [
    "#Assuming '00' is in\n",
    "m = hex(m_decimal).split('00')\n",
    "\n",
    "print(bytes.fromhex(m[1]))"
   ]
  }
 ],
 "metadata": {
  "kernelspec": {
   "display_name": "Python 3",
   "language": "python",
   "name": "python3"
  },
  "language_info": {
   "codemirror_mode": {
    "name": "ipython",
    "version": 3
   },
   "file_extension": ".py",
   "mimetype": "text/x-python",
   "name": "python",
   "nbconvert_exporter": "python",
   "pygments_lexer": "ipython3",
   "version": "3.6.7"
  }
 },
 "nbformat": 4,
 "nbformat_minor": 2
}
