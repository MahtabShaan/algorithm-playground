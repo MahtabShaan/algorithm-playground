{
 "cells": [
  {
   "cell_type": "code",
   "execution_count": 2,
   "metadata": {},
   "outputs": [],
   "source": [
    "'''\n",
    "24. Write a method to determine whether a postive number is Happy.\n",
    "\n",
    "A number is Happy (Yes, it is a thing!) if it follows a sequence that \n",
    "ends in 1 after following the steps given below : \n",
    "\n",
    "Beginning with the number itself, replace it by the sum of the squares\n",
    "of its digits until either the number becomes 1 or loops endlessly in a cycle\n",
    "that does not include 1. \n",
    "For instance, 19 is a happy number. \n",
    "'''\n",
    "def is_happy_number(number):\n",
    "  seen = set()\n",
    "  \n",
    "  while True:\n",
    "    number = sum(int(c)**2 for c in str(number))\n",
    "    if number == 1:\n",
    "      return True \n",
    "    if number in seen:\n",
    "      return False\n",
    "    seen.add(number) "
   ]
  },
  {
   "cell_type": "code",
   "execution_count": 3,
   "metadata": {},
   "outputs": [],
   "source": [
    "'''\n",
    "25.\n",
    "You've recently acquired market prediction superpowers that let \n",
    "you predict the closing stock price of a Acme Inc. 's stock a month into\n",
    "the future! To get the most out of this superpower, you need to write a \n",
    "method called max_profit that takes in an List of integers representing\n",
    "the close out stock price on a given day. This method should return the \n",
    "maximum profit you can make out of trading Acme Inc.'s stock. \n",
    "There are a few limitations however : \n",
    "\n",
    "1) You must sell your current holding before buying another\n",
    "- i.e. You may not buy and then buy again. It needs to be a buy\n",
    "- sell - buy - sell ... pattern. \n",
    "\n",
    "2)  You may complete as many transactions as you like.\n",
    "You're using an awesome service like Robinhood, and so there are no transaction costs!\n",
    "\n",
    "3) If you're enormously unlucky (or karma takes over) and no profit can be made, return 0.\n",
    "'''\n",
    "\n",
    "def max_profit(prices):\n",
    "  running_profit = 0 \n",
    "  for i in range(1, len(prices)):\n",
    "    profit = prices[i] - prices[i-1]\n",
    "    if profit > 0:\n",
    "      running_profit += profit\n",
    "    \n",
    "  return running_profit"
   ]
  },
  {
   "cell_type": "code",
   "execution_count": 5,
   "metadata": {},
   "outputs": [],
   "source": [
    "'''\n",
    "26. \n",
    "\n",
    "There are N students standing in a line where each student has some points. \n",
    "You distribute chocolates to these students under the following constraints: \n",
    "\n",
    "   1. Each student must have at least one chocolate.\n",
    "   2. Students with a higher point value get more chocolates than their neighbors.\n",
    "\n",
    "Write a method distributeChocolate to compute the minimum number of chocolates \n",
    "distributed such that the above conditions are satisfied.\n",
    "'''\n",
    "\n",
    "def distributeChocolate(points):\n",
    "  chocolates = [1] * len(points)\n",
    "  \n",
    "  while True:\n",
    "    done = True\n",
    "    \n",
    "    for i in range(1, len(points)):\n",
    "      if points[i] > points[i-1] and chocolates[i] <= chocolates[i-1]:\n",
    "          chocolates[i], done = chocolates[i-1] + 1, False\n",
    "      elif points[i-1] > points[i] and chocolates[i-1] <= chocolates[i]:\n",
    "          chocolates[i-1], done = chocolates[i] + 1, False\n",
    "    \n",
    "    if done:\n",
    "      break\n",
    "  \n",
    "  return sum(chocolates)"
   ]
  },
  {
   "cell_type": "code",
   "execution_count": 6,
   "metadata": {},
   "outputs": [],
   "source": [
    "'''\n",
    "27.\n",
    "Given a\n",
    "Binary Search Tree\n",
    "and an integer k, implement a method to find and return it's kth largest node\n",
    "\n",
    "'''\n",
    "\n",
    "class TreeNode:\n",
    "    def __init__(self, data,left_child = None, right_child = None):\n",
    "        self.data = data\n",
    "        self.left_child = left_child\n",
    "        self.right_child = right_child\n",
    "    \n",
    "    def __str__(self):\n",
    "        return '%s' %self.data\n",
    "\n"
   ]
  },
  {
   "cell_type": "code",
   "execution_count": null,
   "metadata": {},
   "outputs": [],
   "source": []
  }
 ],
 "metadata": {
  "kernelspec": {
   "display_name": "Python [default]",
   "language": "python",
   "name": "python3"
  },
  "language_info": {
   "codemirror_mode": {
    "name": "ipython",
    "version": 3
   },
   "file_extension": ".py",
   "mimetype": "text/x-python",
   "name": "python",
   "nbconvert_exporter": "python",
   "pygments_lexer": "ipython3",
   "version": "3.5.2"
  },
  "widgets": {
   "state": {},
   "version": "1.1.2"
  }
 },
 "nbformat": 4,
 "nbformat_minor": 2
}
