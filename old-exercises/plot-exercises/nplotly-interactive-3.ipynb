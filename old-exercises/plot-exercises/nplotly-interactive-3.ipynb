{
 "cells": [
  {
   "cell_type": "code",
   "execution_count": 5,
   "metadata": {},
   "outputs": [],
   "source": [
    "from ipywidgets import interact, interactive, fixed, interact_manual\n",
    "import ipywidgets as widgets\n",
    "\n",
    "import plotly\n",
    "import plotly.plotly as py\n",
    "import plotly.graph_objs as go\n",
    "import plotly.figure_factory as ff\n",
    "import plotly.offline as offline\n",
    "import pandas as pd\n",
    "import numpy as np\n",
    "import scipy as sp\n",
    "from math import exp, sqrt, pi\n",
    "\n",
    "from plotly.widgets import GraphWidget\n",
    "\n",
    "plotly.tools.set_credentials_file(username='minimithi', api_key='9iBo4fr8TzK4KjuH7did')"
   ]
  },
  {
   "cell_type": "code",
   "execution_count": 7,
   "metadata": {},
   "outputs": [
    {
     "name": "stdout",
     "output_type": "stream",
     "text": [
      "https://plot.ly/~minimithi/87\n"
     ]
    },
    {
     "data": {
      "text/html": [
       "<iframe id=\"igraph\" scrolling=\"no\" style=\"border:none;\" seamless=\"seamless\" src=\"https://plot.ly/~minimithi/89.embed\" height=\"525px\" width=\"100%\"></iframe>"
      ],
      "text/plain": [
       "<plotly.tools.PlotlyDisplay object>"
      ]
     },
     "execution_count": 7,
     "metadata": {},
     "output_type": "execute_result"
    }
   ],
   "source": [
    "x = y = np.arange(-5,5,0.1)\n",
    "yt = x[:,np.newaxis]\n",
    "r = np.cos(x*yt)+np.sin(x*yt)*2\n",
    "\n",
    "data = [go.Surface(z=r)]\n",
    "\n",
    "plot_url = py.plot(data)\n",
    "print(plot_url)\n",
    "\n",
    "py.iplot(data)"
   ]
  },
  {
   "cell_type": "code",
   "execution_count": 8,
   "metadata": {},
   "outputs": [
    {
     "data": {
      "application/vnd.jupyter.widget-view+json": {
       "model_id": "ea869c8446154e3e9a4def05032c44bb",
       "version_major": 2,
       "version_minor": 0
      },
      "text/plain": [
       "FloatSlider(value=1.0, description='Frequency', max=30.0, step=0.05)"
      ]
     },
     "metadata": {},
     "output_type": "display_data"
    },
    {
     "data": {
      "application/vnd.jupyter.widget-view+json": {
       "model_id": "a0bb5e88b47a4bc293bc15cebf20575b",
       "version_major": 2,
       "version_minor": 0
      },
      "text/plain": [
       "GraphWidget()"
      ]
     },
     "metadata": {},
     "output_type": "display_data"
    }
   ],
   "source": [
    "g = GraphWidget('https://plot.ly/~minimithi/87')\n",
    "\n",
    "# define our listener class\n",
    "class z_data:\n",
    "    \n",
    "    def __init__(self):\n",
    "        self.z = np.cos(x*yt)+np.sin(x*yt)*2\n",
    "    \n",
    "    def on_z_change(self, name):\n",
    "        new_value = name['new']\n",
    "        \n",
    "        self.z = np.cos(x*yt*(new_value+1)/100)+np.sin(x*yt*(new_value+1/100))\n",
    "        self.replot()\n",
    "        \n",
    "    def replot(self):\n",
    "        g.restyle({ 'z': [self.z], 'colorscale': 'Viridis'})\n",
    "\n",
    "# create sliders\n",
    "z_slider = widgets.FloatSlider(min=0,max=30,value=1,step=0.05, continuous_update=True)\n",
    "z_slider.description = 'Frequency'\n",
    "z_slider.value = 1\n",
    "\n",
    "# initialize listener class\n",
    "z_state = z_data()\n",
    "\n",
    "# activate listener on our slider\n",
    "z_slider.observe(z_state.on_z_change, 'value')\n",
    "\n",
    "# display our app\n",
    "display(z_slider)\n",
    "display(g)"
   ]
  },
  {
   "cell_type": "code",
   "execution_count": null,
   "metadata": {},
   "outputs": [],
   "source": []
  }
 ],
 "metadata": {
  "kernelspec": {
   "display_name": "Python 3",
   "language": "python",
   "name": "python3"
  },
  "language_info": {
   "codemirror_mode": {
    "name": "ipython",
    "version": 3
   },
   "file_extension": ".py",
   "mimetype": "text/x-python",
   "name": "python",
   "nbconvert_exporter": "python",
   "pygments_lexer": "ipython3",
   "version": "3.6.5"
  }
 },
 "nbformat": 4,
 "nbformat_minor": 2
}
