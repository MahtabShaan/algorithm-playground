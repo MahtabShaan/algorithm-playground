{
 "cells": [
  {
   "cell_type": "code",
   "execution_count": 1,
   "metadata": {},
   "outputs": [
    {
     "data": {
      "text/html": [
       "\n",
       "    <div class=\"bk-root\">\n",
       "        <a href=\"https://bokeh.pydata.org\" target=\"_blank\" class=\"bk-logo bk-logo-small bk-logo-notebook\"></a>\n",
       "        <span id=\"55d19bbd-510d-4220-b8a6-da53a43b70e4\">Loading BokehJS ...</span>\n",
       "    </div>"
      ]
     },
     "metadata": {},
     "output_type": "display_data"
    },
    {
     "data": {
      "application/javascript": [
       "\n",
       "(function(root) {\n",
       "  function now() {\n",
       "    return new Date();\n",
       "  }\n",
       "\n",
       "  var force = true;\n",
       "\n",
       "  if (typeof (root._bokeh_onload_callbacks) === \"undefined\" || force === true) {\n",
       "    root._bokeh_onload_callbacks = [];\n",
       "    root._bokeh_is_loading = undefined;\n",
       "  }\n",
       "\n",
       "  var JS_MIME_TYPE = 'application/javascript';\n",
       "  var HTML_MIME_TYPE = 'text/html';\n",
       "  var EXEC_MIME_TYPE = 'application/vnd.bokehjs_exec.v0+json';\n",
       "  var CLASS_NAME = 'output_bokeh rendered_html';\n",
       "\n",
       "  /**\n",
       "   * Render data to the DOM node\n",
       "   */\n",
       "  function render(props, node) {\n",
       "    var script = document.createElement(\"script\");\n",
       "    node.appendChild(script);\n",
       "  }\n",
       "\n",
       "  /**\n",
       "   * Handle when an output is cleared or removed\n",
       "   */\n",
       "  function handleClearOutput(event, handle) {\n",
       "    var cell = handle.cell;\n",
       "\n",
       "    var id = cell.output_area._bokeh_element_id;\n",
       "    var server_id = cell.output_area._bokeh_server_id;\n",
       "    // Clean up Bokeh references\n",
       "    if (id !== undefined) {\n",
       "      Bokeh.index[id].model.document.clear();\n",
       "      delete Bokeh.index[id];\n",
       "    }\n",
       "\n",
       "    if (server_id !== undefined) {\n",
       "      // Clean up Bokeh references\n",
       "      var cmd = \"from bokeh.io.state import curstate; print(curstate().uuid_to_server['\" + server_id + \"'].get_sessions()[0].document.roots[0]._id)\";\n",
       "      cell.notebook.kernel.execute(cmd, {\n",
       "        iopub: {\n",
       "          output: function(msg) {\n",
       "            var element_id = msg.content.text.trim();\n",
       "            Bokeh.index[element_id].model.document.clear();\n",
       "            delete Bokeh.index[element_id];\n",
       "          }\n",
       "        }\n",
       "      });\n",
       "      // Destroy server and session\n",
       "      var cmd = \"import bokeh.io.notebook as ion; ion.destroy_server('\" + server_id + \"')\";\n",
       "      cell.notebook.kernel.execute(cmd);\n",
       "    }\n",
       "  }\n",
       "\n",
       "  /**\n",
       "   * Handle when a new output is added\n",
       "   */\n",
       "  function handleAddOutput(event, handle) {\n",
       "    var output_area = handle.output_area;\n",
       "    var output = handle.output;\n",
       "\n",
       "    // limit handleAddOutput to display_data with EXEC_MIME_TYPE content only\n",
       "    if ((output.output_type != \"display_data\") || (!output.data.hasOwnProperty(EXEC_MIME_TYPE))) {\n",
       "      return\n",
       "    }\n",
       "\n",
       "    var toinsert = output_area.element.find(\".\" + CLASS_NAME.split(' ')[0]);\n",
       "\n",
       "    if (output.metadata[EXEC_MIME_TYPE][\"id\"] !== undefined) {\n",
       "      toinsert[toinsert.length - 1].firstChild.textContent = output.data[JS_MIME_TYPE];\n",
       "      // store reference to embed id on output_area\n",
       "      output_area._bokeh_element_id = output.metadata[EXEC_MIME_TYPE][\"id\"];\n",
       "    }\n",
       "    if (output.metadata[EXEC_MIME_TYPE][\"server_id\"] !== undefined) {\n",
       "      var bk_div = document.createElement(\"div\");\n",
       "      bk_div.innerHTML = output.data[HTML_MIME_TYPE];\n",
       "      var script_attrs = bk_div.children[0].attributes;\n",
       "      for (var i = 0; i < script_attrs.length; i++) {\n",
       "        toinsert[toinsert.length - 1].firstChild.setAttribute(script_attrs[i].name, script_attrs[i].value);\n",
       "      }\n",
       "      // store reference to server id on output_area\n",
       "      output_area._bokeh_server_id = output.metadata[EXEC_MIME_TYPE][\"server_id\"];\n",
       "    }\n",
       "  }\n",
       "\n",
       "  function register_renderer(events, OutputArea) {\n",
       "\n",
       "    function append_mime(data, metadata, element) {\n",
       "      // create a DOM node to render to\n",
       "      var toinsert = this.create_output_subarea(\n",
       "        metadata,\n",
       "        CLASS_NAME,\n",
       "        EXEC_MIME_TYPE\n",
       "      );\n",
       "      this.keyboard_manager.register_events(toinsert);\n",
       "      // Render to node\n",
       "      var props = {data: data, metadata: metadata[EXEC_MIME_TYPE]};\n",
       "      render(props, toinsert[toinsert.length - 1]);\n",
       "      element.append(toinsert);\n",
       "      return toinsert\n",
       "    }\n",
       "\n",
       "    /* Handle when an output is cleared or removed */\n",
       "    events.on('clear_output.CodeCell', handleClearOutput);\n",
       "    events.on('delete.Cell', handleClearOutput);\n",
       "\n",
       "    /* Handle when a new output is added */\n",
       "    events.on('output_added.OutputArea', handleAddOutput);\n",
       "\n",
       "    /**\n",
       "     * Register the mime type and append_mime function with output_area\n",
       "     */\n",
       "    OutputArea.prototype.register_mime_type(EXEC_MIME_TYPE, append_mime, {\n",
       "      /* Is output safe? */\n",
       "      safe: true,\n",
       "      /* Index of renderer in `output_area.display_order` */\n",
       "      index: 0\n",
       "    });\n",
       "  }\n",
       "\n",
       "  // register the mime type if in Jupyter Notebook environment and previously unregistered\n",
       "  if (root.Jupyter !== undefined) {\n",
       "    var events = require('base/js/events');\n",
       "    var OutputArea = require('notebook/js/outputarea').OutputArea;\n",
       "\n",
       "    if (OutputArea.prototype.mime_types().indexOf(EXEC_MIME_TYPE) == -1) {\n",
       "      register_renderer(events, OutputArea);\n",
       "    }\n",
       "  }\n",
       "\n",
       "  \n",
       "  if (typeof (root._bokeh_timeout) === \"undefined\" || force === true) {\n",
       "    root._bokeh_timeout = Date.now() + 5000;\n",
       "    root._bokeh_failed_load = false;\n",
       "  }\n",
       "\n",
       "  var NB_LOAD_WARNING = {'data': {'text/html':\n",
       "     \"<div style='background-color: #fdd'>\\n\"+\n",
       "     \"<p>\\n\"+\n",
       "     \"BokehJS does not appear to have successfully loaded. If loading BokehJS from CDN, this \\n\"+\n",
       "     \"may be due to a slow or bad network connection. Possible fixes:\\n\"+\n",
       "     \"</p>\\n\"+\n",
       "     \"<ul>\\n\"+\n",
       "     \"<li>re-rerun `output_notebook()` to attempt to load from CDN again, or</li>\\n\"+\n",
       "     \"<li>use INLINE resources instead, as so:</li>\\n\"+\n",
       "     \"</ul>\\n\"+\n",
       "     \"<code>\\n\"+\n",
       "     \"from bokeh.resources import INLINE\\n\"+\n",
       "     \"output_notebook(resources=INLINE)\\n\"+\n",
       "     \"</code>\\n\"+\n",
       "     \"</div>\"}};\n",
       "\n",
       "  function display_loaded() {\n",
       "    var el = document.getElementById(\"55d19bbd-510d-4220-b8a6-da53a43b70e4\");\n",
       "    if (el != null) {\n",
       "      el.textContent = \"BokehJS is loading...\";\n",
       "    }\n",
       "    if (root.Bokeh !== undefined) {\n",
       "      if (el != null) {\n",
       "        el.textContent = \"BokehJS \" + root.Bokeh.version + \" successfully loaded.\";\n",
       "      }\n",
       "    } else if (Date.now() < root._bokeh_timeout) {\n",
       "      setTimeout(display_loaded, 100)\n",
       "    }\n",
       "  }\n",
       "\n",
       "\n",
       "  function run_callbacks() {\n",
       "    try {\n",
       "      root._bokeh_onload_callbacks.forEach(function(callback) { callback() });\n",
       "    }\n",
       "    finally {\n",
       "      delete root._bokeh_onload_callbacks\n",
       "    }\n",
       "    console.info(\"Bokeh: all callbacks have finished\");\n",
       "  }\n",
       "\n",
       "  function load_libs(js_urls, callback) {\n",
       "    root._bokeh_onload_callbacks.push(callback);\n",
       "    if (root._bokeh_is_loading > 0) {\n",
       "      console.log(\"Bokeh: BokehJS is being loaded, scheduling callback at\", now());\n",
       "      return null;\n",
       "    }\n",
       "    if (js_urls == null || js_urls.length === 0) {\n",
       "      run_callbacks();\n",
       "      return null;\n",
       "    }\n",
       "    console.log(\"Bokeh: BokehJS not loaded, scheduling load and callback at\", now());\n",
       "    root._bokeh_is_loading = js_urls.length;\n",
       "    for (var i = 0; i < js_urls.length; i++) {\n",
       "      var url = js_urls[i];\n",
       "      var s = document.createElement('script');\n",
       "      s.src = url;\n",
       "      s.async = false;\n",
       "      s.onreadystatechange = s.onload = function() {\n",
       "        root._bokeh_is_loading--;\n",
       "        if (root._bokeh_is_loading === 0) {\n",
       "          console.log(\"Bokeh: all BokehJS libraries loaded\");\n",
       "          run_callbacks()\n",
       "        }\n",
       "      };\n",
       "      s.onerror = function() {\n",
       "        console.warn(\"failed to load library \" + url);\n",
       "      };\n",
       "      console.log(\"Bokeh: injecting script tag for BokehJS library: \", url);\n",
       "      document.getElementsByTagName(\"head\")[0].appendChild(s);\n",
       "    }\n",
       "  };var element = document.getElementById(\"55d19bbd-510d-4220-b8a6-da53a43b70e4\");\n",
       "  if (element == null) {\n",
       "    console.log(\"Bokeh: ERROR: autoload.js configured with elementid '55d19bbd-510d-4220-b8a6-da53a43b70e4' but no matching script tag was found. \")\n",
       "    return false;\n",
       "  }\n",
       "\n",
       "  var js_urls = [\"https://cdn.pydata.org/bokeh/release/bokeh-0.12.15.min.js\", \"https://cdn.pydata.org/bokeh/release/bokeh-widgets-0.12.15.min.js\", \"https://cdn.pydata.org/bokeh/release/bokeh-tables-0.12.15.min.js\", \"https://cdn.pydata.org/bokeh/release/bokeh-gl-0.12.15.min.js\"];\n",
       "\n",
       "  var inline_js = [\n",
       "    function(Bokeh) {\n",
       "      Bokeh.set_log_level(\"info\");\n",
       "    },\n",
       "    \n",
       "    function(Bokeh) {\n",
       "      \n",
       "    },\n",
       "    function(Bokeh) {\n",
       "      console.log(\"Bokeh: injecting CSS: https://cdn.pydata.org/bokeh/release/bokeh-0.12.15.min.css\");\n",
       "      Bokeh.embed.inject_css(\"https://cdn.pydata.org/bokeh/release/bokeh-0.12.15.min.css\");\n",
       "      console.log(\"Bokeh: injecting CSS: https://cdn.pydata.org/bokeh/release/bokeh-widgets-0.12.15.min.css\");\n",
       "      Bokeh.embed.inject_css(\"https://cdn.pydata.org/bokeh/release/bokeh-widgets-0.12.15.min.css\");\n",
       "      console.log(\"Bokeh: injecting CSS: https://cdn.pydata.org/bokeh/release/bokeh-tables-0.12.15.min.css\");\n",
       "      Bokeh.embed.inject_css(\"https://cdn.pydata.org/bokeh/release/bokeh-tables-0.12.15.min.css\");\n",
       "    }\n",
       "  ];\n",
       "\n",
       "  function run_inline_js() {\n",
       "    \n",
       "    if ((root.Bokeh !== undefined) || (force === true)) {\n",
       "      for (var i = 0; i < inline_js.length; i++) {\n",
       "        inline_js[i].call(root, root.Bokeh);\n",
       "      }if (force === true) {\n",
       "        display_loaded();\n",
       "      }} else if (Date.now() < root._bokeh_timeout) {\n",
       "      setTimeout(run_inline_js, 100);\n",
       "    } else if (!root._bokeh_failed_load) {\n",
       "      console.log(\"Bokeh: BokehJS failed to load within specified timeout.\");\n",
       "      root._bokeh_failed_load = true;\n",
       "    } else if (force !== true) {\n",
       "      var cell = $(document.getElementById(\"55d19bbd-510d-4220-b8a6-da53a43b70e4\")).parents('.cell').data().cell;\n",
       "      cell.output_area.append_execute_result(NB_LOAD_WARNING)\n",
       "    }\n",
       "\n",
       "  }\n",
       "\n",
       "  if (root._bokeh_is_loading === 0) {\n",
       "    console.log(\"Bokeh: BokehJS loaded, going straight to plotting\");\n",
       "    run_inline_js();\n",
       "  } else {\n",
       "    load_libs(js_urls, function() {\n",
       "      console.log(\"Bokeh: BokehJS plotting callback run at\", now());\n",
       "      run_inline_js();\n",
       "    });\n",
       "  }\n",
       "}(window));"
      ],
      "application/vnd.bokehjs_load.v0+json": "\n(function(root) {\n  function now() {\n    return new Date();\n  }\n\n  var force = true;\n\n  if (typeof (root._bokeh_onload_callbacks) === \"undefined\" || force === true) {\n    root._bokeh_onload_callbacks = [];\n    root._bokeh_is_loading = undefined;\n  }\n\n  \n\n  \n  if (typeof (root._bokeh_timeout) === \"undefined\" || force === true) {\n    root._bokeh_timeout = Date.now() + 5000;\n    root._bokeh_failed_load = false;\n  }\n\n  var NB_LOAD_WARNING = {'data': {'text/html':\n     \"<div style='background-color: #fdd'>\\n\"+\n     \"<p>\\n\"+\n     \"BokehJS does not appear to have successfully loaded. If loading BokehJS from CDN, this \\n\"+\n     \"may be due to a slow or bad network connection. Possible fixes:\\n\"+\n     \"</p>\\n\"+\n     \"<ul>\\n\"+\n     \"<li>re-rerun `output_notebook()` to attempt to load from CDN again, or</li>\\n\"+\n     \"<li>use INLINE resources instead, as so:</li>\\n\"+\n     \"</ul>\\n\"+\n     \"<code>\\n\"+\n     \"from bokeh.resources import INLINE\\n\"+\n     \"output_notebook(resources=INLINE)\\n\"+\n     \"</code>\\n\"+\n     \"</div>\"}};\n\n  function display_loaded() {\n    var el = document.getElementById(\"55d19bbd-510d-4220-b8a6-da53a43b70e4\");\n    if (el != null) {\n      el.textContent = \"BokehJS is loading...\";\n    }\n    if (root.Bokeh !== undefined) {\n      if (el != null) {\n        el.textContent = \"BokehJS \" + root.Bokeh.version + \" successfully loaded.\";\n      }\n    } else if (Date.now() < root._bokeh_timeout) {\n      setTimeout(display_loaded, 100)\n    }\n  }\n\n\n  function run_callbacks() {\n    try {\n      root._bokeh_onload_callbacks.forEach(function(callback) { callback() });\n    }\n    finally {\n      delete root._bokeh_onload_callbacks\n    }\n    console.info(\"Bokeh: all callbacks have finished\");\n  }\n\n  function load_libs(js_urls, callback) {\n    root._bokeh_onload_callbacks.push(callback);\n    if (root._bokeh_is_loading > 0) {\n      console.log(\"Bokeh: BokehJS is being loaded, scheduling callback at\", now());\n      return null;\n    }\n    if (js_urls == null || js_urls.length === 0) {\n      run_callbacks();\n      return null;\n    }\n    console.log(\"Bokeh: BokehJS not loaded, scheduling load and callback at\", now());\n    root._bokeh_is_loading = js_urls.length;\n    for (var i = 0; i < js_urls.length; i++) {\n      var url = js_urls[i];\n      var s = document.createElement('script');\n      s.src = url;\n      s.async = false;\n      s.onreadystatechange = s.onload = function() {\n        root._bokeh_is_loading--;\n        if (root._bokeh_is_loading === 0) {\n          console.log(\"Bokeh: all BokehJS libraries loaded\");\n          run_callbacks()\n        }\n      };\n      s.onerror = function() {\n        console.warn(\"failed to load library \" + url);\n      };\n      console.log(\"Bokeh: injecting script tag for BokehJS library: \", url);\n      document.getElementsByTagName(\"head\")[0].appendChild(s);\n    }\n  };var element = document.getElementById(\"55d19bbd-510d-4220-b8a6-da53a43b70e4\");\n  if (element == null) {\n    console.log(\"Bokeh: ERROR: autoload.js configured with elementid '55d19bbd-510d-4220-b8a6-da53a43b70e4' but no matching script tag was found. \")\n    return false;\n  }\n\n  var js_urls = [\"https://cdn.pydata.org/bokeh/release/bokeh-0.12.15.min.js\", \"https://cdn.pydata.org/bokeh/release/bokeh-widgets-0.12.15.min.js\", \"https://cdn.pydata.org/bokeh/release/bokeh-tables-0.12.15.min.js\", \"https://cdn.pydata.org/bokeh/release/bokeh-gl-0.12.15.min.js\"];\n\n  var inline_js = [\n    function(Bokeh) {\n      Bokeh.set_log_level(\"info\");\n    },\n    \n    function(Bokeh) {\n      \n    },\n    function(Bokeh) {\n      console.log(\"Bokeh: injecting CSS: https://cdn.pydata.org/bokeh/release/bokeh-0.12.15.min.css\");\n      Bokeh.embed.inject_css(\"https://cdn.pydata.org/bokeh/release/bokeh-0.12.15.min.css\");\n      console.log(\"Bokeh: injecting CSS: https://cdn.pydata.org/bokeh/release/bokeh-widgets-0.12.15.min.css\");\n      Bokeh.embed.inject_css(\"https://cdn.pydata.org/bokeh/release/bokeh-widgets-0.12.15.min.css\");\n      console.log(\"Bokeh: injecting CSS: https://cdn.pydata.org/bokeh/release/bokeh-tables-0.12.15.min.css\");\n      Bokeh.embed.inject_css(\"https://cdn.pydata.org/bokeh/release/bokeh-tables-0.12.15.min.css\");\n    }\n  ];\n\n  function run_inline_js() {\n    \n    if ((root.Bokeh !== undefined) || (force === true)) {\n      for (var i = 0; i < inline_js.length; i++) {\n        inline_js[i].call(root, root.Bokeh);\n      }if (force === true) {\n        display_loaded();\n      }} else if (Date.now() < root._bokeh_timeout) {\n      setTimeout(run_inline_js, 100);\n    } else if (!root._bokeh_failed_load) {\n      console.log(\"Bokeh: BokehJS failed to load within specified timeout.\");\n      root._bokeh_failed_load = true;\n    } else if (force !== true) {\n      var cell = $(document.getElementById(\"55d19bbd-510d-4220-b8a6-da53a43b70e4\")).parents('.cell').data().cell;\n      cell.output_area.append_execute_result(NB_LOAD_WARNING)\n    }\n\n  }\n\n  if (root._bokeh_is_loading === 0) {\n    console.log(\"Bokeh: BokehJS loaded, going straight to plotting\");\n    run_inline_js();\n  } else {\n    load_libs(js_urls, function() {\n      console.log(\"Bokeh: BokehJS plotting callback run at\", now());\n      run_inline_js();\n    });\n  }\n}(window));"
     },
     "metadata": {},
     "output_type": "display_data"
    }
   ],
   "source": [
    "import numpy as np\n",
    "from bokeh.models import ColumnDataSource, DataRange1d, Plot\n",
    "from bokeh.plotting import figure\n",
    "from bokeh.io import push_notebook, show, output_notebook\n",
    "import ipywidgets as widgets\n",
    "import bokeh.models.glyphs as glyphs\n",
    "from bokeh.io import show, output_file\n",
    "from bokeh.models import ColumnDataSource\n",
    "from bokeh.palettes import Spectral6\n",
    "from bokeh.plotting import figure\n",
    "from bokeh.transform import factor_cmap\n",
    "import numpy as np\n",
    "from bokeh.palettes import Viridis3\n",
    "from bokeh.layouts import layout\n",
    "from bokeh.models import HoverTool\n",
    "\n",
    "from bokeh.models import ColumnDataSource, DataRange1d, Plot, LinearAxis, Grid\n",
    "from bokeh.models.glyphs import VBar\n",
    "from bokeh.io import show\n",
    "output_notebook()"
   ]
  },
  {
   "cell_type": "code",
   "execution_count": 2,
   "metadata": {},
   "outputs": [],
   "source": [
    "bar_plot = figure(\n",
    "  plot_height=200, plot_width=300,\n",
    "  x_axis_location=None, y_axis_location=None, \n",
    "  tools=\"save\",\n",
    "  x_range=DataRange1d(), y_range=DataRange1d()\n",
    ")\n",
    "\n",
    "bar_plot.axis.major_tick_line_color = None\n",
    "bar_plot.axis.major_label_standoff = 0\n",
    "bar_plot.grid.grid_line_color = None\n",
    "bar_plot.background_fill_color = \"#222f3e\"\n",
    "bar_plot.outline_line_color = \"#222f3e\"\n",
    "bar_plot.border_fill_color = \"#222f3e\""
   ]
  },
  {
   "cell_type": "code",
   "execution_count": 3,
   "metadata": {},
   "outputs": [
    {
     "data": {
      "text/html": [
       "\n",
       "<div class=\"bk-root\">\n",
       "    <div class=\"bk-plotdiv\" id=\"9d431bcb-1f3e-4933-83ed-21121c239183\"></div>\n",
       "</div>"
      ]
     },
     "metadata": {},
     "output_type": "display_data"
    },
    {
     "data": {
      "application/javascript": [
       "(function(root) {\n",
       "  function embed_document(root) {\n",
       "    \n",
       "  var docs_json = {\"94a2cf0d-3cef-403f-96b8-74d896a2c4ce\":{\"roots\":{\"references\":[{\"attributes\":{\"callback\":null},\"id\":\"0313a7a6-fc71-4cd4-b296-f371a8efb1f7\",\"type\":\"DataRange1d\"},{\"attributes\":{\"callback\":null,\"column_names\":[\"x\",\"top\"],\"data\":{\"top\":[0.1,0.7,0.2],\"x\":[-1,0,1]},\"selected\":null,\"selection_policy\":null},\"id\":\"554f6b7d-fc86-40b0-a394-db2066fa6809\",\"type\":\"ColumnDataSource\"},{\"attributes\":{\"data_source\":{\"id\":\"554f6b7d-fc86-40b0-a394-db2066fa6809\",\"type\":\"ColumnDataSource\"},\"glyph\":{\"id\":\"45dc7e41-0b28-4f26-8d6f-aee98b8f10ba\",\"type\":\"VBar\"},\"hover_glyph\":null,\"muted_glyph\":null,\"view\":{\"id\":\"6684d932-16da-49ae-aa1d-b00c1c492ec6\",\"type\":\"CDSView\"}},\"id\":\"c52ac2ee-033b-4a82-9fed-dfe7068542ed\",\"type\":\"GlyphRenderer\"},{\"attributes\":{\"fill_color\":{\"value\":\"#b3de69\"},\"top\":{\"field\":\"top\"},\"width\":{\"value\":0.5},\"x\":{\"field\":\"x\"}},\"id\":\"45dc7e41-0b28-4f26-8d6f-aee98b8f10ba\",\"type\":\"VBar\"},{\"attributes\":{},\"id\":\"2de28a29-e7fd-45a4-a3f4-749df55c6513\",\"type\":\"LinearScale\"},{\"attributes\":{},\"id\":\"19ad88e3-e21d-4d4c-8eea-7a348ec88c72\",\"type\":\"LinearScale\"},{\"attributes\":{\"callback\":null},\"id\":\"c5a25585-4fed-4724-bad6-69d37dc8269d\",\"type\":\"DataRange1d\"},{\"attributes\":{\"background_fill_color\":{\"value\":\"#222f3e\"},\"border_fill_color\":{\"value\":\"#222f3e\"},\"h_symmetry\":false,\"outline_line_color\":{\"value\":\"#222f3e\"},\"plot_height\":100,\"plot_width\":300,\"renderers\":[{\"id\":\"c52ac2ee-033b-4a82-9fed-dfe7068542ed\",\"type\":\"GlyphRenderer\"}],\"title\":null,\"toolbar\":{\"id\":\"119a0090-1556-4524-a949-a1a9f4bda53d\",\"type\":\"Toolbar\"},\"toolbar_location\":null,\"x_range\":{\"id\":\"0313a7a6-fc71-4cd4-b296-f371a8efb1f7\",\"type\":\"DataRange1d\"},\"x_scale\":{\"id\":\"2de28a29-e7fd-45a4-a3f4-749df55c6513\",\"type\":\"LinearScale\"},\"y_range\":{\"id\":\"c5a25585-4fed-4724-bad6-69d37dc8269d\",\"type\":\"DataRange1d\"},\"y_scale\":{\"id\":\"19ad88e3-e21d-4d4c-8eea-7a348ec88c72\",\"type\":\"LinearScale\"}},\"id\":\"0dfa84a0-1f38-4864-9b36-f249cd7871b1\",\"type\":\"Plot\"},{\"attributes\":{\"source\":{\"id\":\"554f6b7d-fc86-40b0-a394-db2066fa6809\",\"type\":\"ColumnDataSource\"}},\"id\":\"6684d932-16da-49ae-aa1d-b00c1c492ec6\",\"type\":\"CDSView\"},{\"attributes\":{\"active_drag\":\"auto\",\"active_inspect\":\"auto\",\"active_scroll\":\"auto\",\"active_tap\":\"auto\"},\"id\":\"119a0090-1556-4524-a949-a1a9f4bda53d\",\"type\":\"Toolbar\"}],\"root_ids\":[\"0dfa84a0-1f38-4864-9b36-f249cd7871b1\"]},\"title\":\"Bokeh Application\",\"version\":\"0.12.15\"}};\n",
       "  var render_items = [{\"docid\":\"94a2cf0d-3cef-403f-96b8-74d896a2c4ce\",\"elementid\":\"9d431bcb-1f3e-4933-83ed-21121c239183\",\"modelid\":\"0dfa84a0-1f38-4864-9b36-f249cd7871b1\"}];\n",
       "  root.Bokeh.embed.embed_items_notebook(docs_json, render_items);\n",
       "\n",
       "  }\n",
       "  if (root.Bokeh !== undefined) {\n",
       "    embed_document(root);\n",
       "  } else {\n",
       "    var attempts = 0;\n",
       "    var timer = setInterval(function(root) {\n",
       "      if (root.Bokeh !== undefined) {\n",
       "        embed_document(root);\n",
       "        clearInterval(timer);\n",
       "      }\n",
       "      attempts++;\n",
       "      if (attempts > 100) {\n",
       "        console.log(\"Bokeh: ERROR: Unable to run BokehJS code because BokehJS library is missing\")\n",
       "        clearInterval(timer);\n",
       "      }\n",
       "    }, 10, root)\n",
       "  }\n",
       "})(window);"
      ],
      "application/vnd.bokehjs_exec.v0+json": ""
     },
     "metadata": {
      "application/vnd.bokehjs_exec.v0+json": {
       "id": "0dfa84a0-1f38-4864-9b36-f249cd7871b1"
      }
     },
     "output_type": "display_data"
    }
   ],
   "source": [
    "N = 9\n",
    "x = [-1, 0, 1]\n",
    "y = [0.1, 0.7, 0.2]\n",
    "\n",
    "bar_data = ColumnDataSource({'x': x, 'top': y})\n",
    "\n",
    "vbar_plot = Plot(\n",
    "  title=None, \n",
    "  x_range=DataRange1d(), y_range=DataRange1d(), \n",
    "  plot_width=300, plot_height=100,\n",
    "  h_symmetry=False, v_symmetry=False, toolbar_location=None\n",
    ")\n",
    "\n",
    "#vbar_plot.axis.major_tick_line_color = None\n",
    "#vbar_plot.axis.major_label_standoff = 0\n",
    "#vbar_plot.grid.grid_line_color = None\n",
    "vbar_plot.background_fill_color = \"#222f3e\"\n",
    "vbar_plot.outline_line_color = \"#222f3e\"\n",
    "vbar_plot.border_fill_color = \"#222f3e\"\n",
    "\n",
    "vbar= VBar(x=\"x\", top=\"top\", bottom=0, width=0.5, fill_color=\"#b3de69\")\n",
    "vbar_plot.add_glyph(bar_data, vbar)\n",
    "\n",
    "show(vbar_plot)\n"
   ]
  },
  {
   "cell_type": "code",
   "execution_count": 4,
   "metadata": {},
   "outputs": [
    {
     "data": {
      "text/html": [
       "\n",
       "<div class=\"bk-root\">\n",
       "    <div class=\"bk-plotdiv\" id=\"9f1ea1d9-01c8-40aa-9c85-6dce875276f5\"></div>\n",
       "</div>"
      ]
     },
     "metadata": {},
     "output_type": "display_data"
    },
    {
     "data": {
      "application/javascript": [
       "(function(root) {\n",
       "  function embed_document(root) {\n",
       "    \n",
       "  var docs_json = {\"75bd5ba5-31dc-49ab-bf62-6c668fb55453\":{\"roots\":{\"references\":[{\"attributes\":{},\"id\":\"57429974-f7a1-4b94-b3f7-f7f2a142fa5b\",\"type\":\"BasicTickFormatter\"},{\"attributes\":{\"callback\":null,\"tooltips\":[[\"x\",\"$x\"],[\"bar\",\"@top\"]]},\"id\":\"d1c38c45-d9aa-44ca-9b41-6b0b1524b53f\",\"type\":\"HoverTool\"},{\"attributes\":{\"fill_color\":{\"value\":\"#b3de69\"},\"top\":{\"field\":\"top\"},\"width\":{\"value\":0.5},\"x\":{\"field\":\"x\"}},\"id\":\"6e51f612-6747-4175-afb3-4f44a19bbec6\",\"type\":\"VBar\"},{\"attributes\":{\"callback\":null,\"column_names\":[\"x\",\"top\"],\"data\":{\"top\":[0.1,0.7,0.2],\"x\":[-1,0,1]},\"selected\":null,\"selection_policy\":null},\"id\":\"d7ab5ad0-90a7-40dd-94ad-c233a1576a5d\",\"type\":\"ColumnDataSource\"},{\"attributes\":{},\"id\":\"74243654-210a-4d4a-8ce1-262ea1b9ee7a\",\"type\":\"BasicTicker\"},{\"attributes\":{\"active_drag\":\"auto\",\"active_inspect\":\"auto\",\"active_scroll\":\"auto\",\"active_tap\":\"auto\",\"tools\":[{\"id\":\"d1c38c45-d9aa-44ca-9b41-6b0b1524b53f\",\"type\":\"HoverTool\"}]},\"id\":\"2d0a6c5d-db11-4227-8c53-c3ef48cc6e3f\",\"type\":\"Toolbar\"},{\"attributes\":{\"formatter\":{\"id\":\"57429974-f7a1-4b94-b3f7-f7f2a142fa5b\",\"type\":\"BasicTickFormatter\"},\"plot\":{\"id\":\"09b24b42-ce42-4b61-8203-c28d98f04397\",\"type\":\"Plot\"},\"ticker\":{\"id\":\"3ffb0ff1-06cf-4483-9f1a-861cc9d89238\",\"type\":\"BasicTicker\"}},\"id\":\"321de950-bbe6-43db-aeca-56fca382a8d0\",\"type\":\"LinearAxis\"},{\"attributes\":{\"data_source\":{\"id\":\"d7ab5ad0-90a7-40dd-94ad-c233a1576a5d\",\"type\":\"ColumnDataSource\"},\"glyph\":{\"id\":\"6e51f612-6747-4175-afb3-4f44a19bbec6\",\"type\":\"VBar\"},\"hover_glyph\":null,\"muted_glyph\":null,\"view\":{\"id\":\"c9b4268c-9b8d-4e6b-894f-489747eaad16\",\"type\":\"CDSView\"}},\"id\":\"debbf31c-9c1e-446c-8b48-abe0b069f673\",\"type\":\"GlyphRenderer\"},{\"attributes\":{\"source\":{\"id\":\"d7ab5ad0-90a7-40dd-94ad-c233a1576a5d\",\"type\":\"ColumnDataSource\"}},\"id\":\"c9b4268c-9b8d-4e6b-894f-489747eaad16\",\"type\":\"CDSView\"},{\"attributes\":{},\"id\":\"3ffb0ff1-06cf-4483-9f1a-861cc9d89238\",\"type\":\"BasicTicker\"},{\"attributes\":{\"callback\":null},\"id\":\"563e196c-6f59-4c85-8086-4469f839f116\",\"type\":\"DataRange1d\"},{\"attributes\":{\"plot\":{\"id\":\"09b24b42-ce42-4b61-8203-c28d98f04397\",\"type\":\"Plot\"},\"ticker\":{\"id\":\"74243654-210a-4d4a-8ce1-262ea1b9ee7a\",\"type\":\"BasicTicker\"}},\"id\":\"e7167a60-91d8-4524-b355-ebf521f47457\",\"type\":\"Grid\"},{\"attributes\":{\"formatter\":{\"id\":\"c0f43374-40af-4c0c-a790-ae0283fdec62\",\"type\":\"BasicTickFormatter\"},\"plot\":{\"id\":\"09b24b42-ce42-4b61-8203-c28d98f04397\",\"type\":\"Plot\"},\"ticker\":{\"id\":\"74243654-210a-4d4a-8ce1-262ea1b9ee7a\",\"type\":\"BasicTicker\"}},\"id\":\"5be487e4-3566-4d8f-9d2d-3a99c527fc10\",\"type\":\"LinearAxis\"},{\"attributes\":{},\"id\":\"c0f43374-40af-4c0c-a790-ae0283fdec62\",\"type\":\"BasicTickFormatter\"},{\"attributes\":{},\"id\":\"f766fa23-527a-4a4a-92e2-92a67f2cf102\",\"type\":\"LinearScale\"},{\"attributes\":{\"callback\":null},\"id\":\"cdb1baa6-eba5-41fb-a2ed-d991b0fee0f3\",\"type\":\"DataRange1d\"},{\"attributes\":{},\"id\":\"bfbfba8f-8089-4e65-8471-38db69c4f1f1\",\"type\":\"LinearScale\"},{\"attributes\":{\"dimension\":1,\"plot\":{\"id\":\"09b24b42-ce42-4b61-8203-c28d98f04397\",\"type\":\"Plot\"},\"ticker\":{\"id\":\"3ffb0ff1-06cf-4483-9f1a-861cc9d89238\",\"type\":\"BasicTicker\"}},\"id\":\"c39d0f05-dabe-4464-835a-930e18f9f789\",\"type\":\"Grid\"},{\"attributes\":{\"below\":[{\"id\":\"5be487e4-3566-4d8f-9d2d-3a99c527fc10\",\"type\":\"LinearAxis\"}],\"h_symmetry\":false,\"left\":[{\"id\":\"321de950-bbe6-43db-aeca-56fca382a8d0\",\"type\":\"LinearAxis\"}],\"min_border\":0,\"plot_height\":300,\"plot_width\":300,\"renderers\":[{\"id\":\"debbf31c-9c1e-446c-8b48-abe0b069f673\",\"type\":\"GlyphRenderer\"},{\"id\":\"5be487e4-3566-4d8f-9d2d-3a99c527fc10\",\"type\":\"LinearAxis\"},{\"id\":\"321de950-bbe6-43db-aeca-56fca382a8d0\",\"type\":\"LinearAxis\"},{\"id\":\"e7167a60-91d8-4524-b355-ebf521f47457\",\"type\":\"Grid\"},{\"id\":\"c39d0f05-dabe-4464-835a-930e18f9f789\",\"type\":\"Grid\"}],\"title\":null,\"toolbar\":{\"id\":\"2d0a6c5d-db11-4227-8c53-c3ef48cc6e3f\",\"type\":\"Toolbar\"},\"toolbar_location\":null,\"x_range\":{\"id\":\"cdb1baa6-eba5-41fb-a2ed-d991b0fee0f3\",\"type\":\"DataRange1d\"},\"x_scale\":{\"id\":\"f766fa23-527a-4a4a-92e2-92a67f2cf102\",\"type\":\"LinearScale\"},\"y_range\":{\"id\":\"563e196c-6f59-4c85-8086-4469f839f116\",\"type\":\"DataRange1d\"},\"y_scale\":{\"id\":\"bfbfba8f-8089-4e65-8471-38db69c4f1f1\",\"type\":\"LinearScale\"}},\"id\":\"09b24b42-ce42-4b61-8203-c28d98f04397\",\"type\":\"Plot\"}],\"root_ids\":[\"09b24b42-ce42-4b61-8203-c28d98f04397\"]},\"title\":\"Bokeh Application\",\"version\":\"0.12.15\"}};\n",
       "  var render_items = [{\"docid\":\"75bd5ba5-31dc-49ab-bf62-6c668fb55453\",\"elementid\":\"9f1ea1d9-01c8-40aa-9c85-6dce875276f5\",\"modelid\":\"09b24b42-ce42-4b61-8203-c28d98f04397\"}];\n",
       "  root.Bokeh.embed.embed_items_notebook(docs_json, render_items);\n",
       "\n",
       "  }\n",
       "  if (root.Bokeh !== undefined) {\n",
       "    embed_document(root);\n",
       "  } else {\n",
       "    var attempts = 0;\n",
       "    var timer = setInterval(function(root) {\n",
       "      if (root.Bokeh !== undefined) {\n",
       "        embed_document(root);\n",
       "        clearInterval(timer);\n",
       "      }\n",
       "      attempts++;\n",
       "      if (attempts > 100) {\n",
       "        console.log(\"Bokeh: ERROR: Unable to run BokehJS code because BokehJS library is missing\")\n",
       "        clearInterval(timer);\n",
       "      }\n",
       "    }, 10, root)\n",
       "  }\n",
       "})(window);"
      ],
      "application/vnd.bokehjs_exec.v0+json": ""
     },
     "metadata": {
      "application/vnd.bokehjs_exec.v0+json": {
       "id": "09b24b42-ce42-4b61-8203-c28d98f04397"
      }
     },
     "output_type": "display_data"
    }
   ],
   "source": [
    "source = ColumnDataSource(dict(x=x,top=y))\n",
    "\n",
    "xdr = DataRange1d()\n",
    "ydr = DataRange1d()\n",
    "\n",
    "hover = HoverTool(tooltips=[\n",
    "    (\"x\", \"$x\"),\n",
    "    (\"bar\", \"@top\"),\n",
    "])\n",
    "\n",
    "\n",
    "plot = Plot(\n",
    "    title=None, x_range=xdr, y_range=ydr, plot_width=300, plot_height=300,\n",
    "    h_symmetry=False, v_symmetry=False, min_border=0, toolbar_location=None,\n",
    "    tools = [hover])\n",
    "\n",
    "\n",
    "glyph = VBar(x=\"x\", top=\"top\", bottom=0, width=0.5, fill_color=\"#b3de69\")\n",
    "plot.add_glyph(source, glyph)\n",
    "\n",
    "xaxis = LinearAxis()\n",
    "plot.add_layout(xaxis, 'below')\n",
    "\n",
    "yaxis = LinearAxis()\n",
    "plot.add_layout(yaxis, 'left')\n",
    "\n",
    "plot.add_layout(Grid(dimension=0, ticker=xaxis.ticker))\n",
    "plot.add_layout(Grid(dimension=1, ticker=yaxis.ticker))\n",
    "\n",
    "show(plot)"
   ]
  },
  {
   "cell_type": "code",
   "execution_count": 5,
   "metadata": {},
   "outputs": [
    {
     "data": {
      "text/html": [
       "\n",
       "<div class=\"bk-root\">\n",
       "    <div class=\"bk-plotdiv\" id=\"546e7559-2ae1-4194-a5ff-c047904abc73\"></div>\n",
       "</div>"
      ]
     },
     "metadata": {},
     "output_type": "display_data"
    },
    {
     "data": {
      "application/javascript": [
       "(function(root) {\n",
       "  function embed_document(root) {\n",
       "    \n",
       "  var docs_json = {\"c539ed25-1109-4314-9a78-aaa106d723d1\":{\"roots\":{\"references\":[{\"attributes\":{\"dimension\":1,\"plot\":{\"id\":\"aea5a859-88f0-4ef9-8aee-43fcee955161\",\"subtype\":\"Figure\",\"type\":\"Plot\"},\"ticker\":{\"id\":\"51fc861b-2b62-4145-924b-0a49a1b45bac\",\"type\":\"BasicTicker\"}},\"id\":\"f302a9bc-a951-4c04-9147-28cb2378f614\",\"type\":\"Grid\"},{\"attributes\":{\"below\":[{\"id\":\"21b22fa1-be7b-488c-a6a1-d8eff73558e5\",\"type\":\"CategoricalAxis\"}],\"left\":[{\"id\":\"3741af6e-6c63-4fb7-8efd-bb30d80a4d3e\",\"type\":\"LinearAxis\"}],\"outline_line_color\":{\"value\":null},\"plot_height\":200,\"plot_width\":300,\"renderers\":[{\"id\":\"21b22fa1-be7b-488c-a6a1-d8eff73558e5\",\"type\":\"CategoricalAxis\"},{\"id\":\"fb9d3d6f-8fea-47be-9c5c-030749fdb503\",\"type\":\"Grid\"},{\"id\":\"3741af6e-6c63-4fb7-8efd-bb30d80a4d3e\",\"type\":\"LinearAxis\"},{\"id\":\"f302a9bc-a951-4c04-9147-28cb2378f614\",\"type\":\"Grid\"},{\"id\":\"1876ae7d-d9e0-4de1-93f1-d563c7bf8deb\",\"type\":\"GlyphRenderer\"}],\"title\":{\"id\":\"ff6f9175-e653-4003-8a58-c1663649551a\",\"type\":\"Title\"},\"toolbar\":{\"id\":\"69ad7a15-645c-422f-9f15-7672242b2a93\",\"type\":\"Toolbar\"},\"toolbar_location\":null,\"x_range\":{\"id\":\"15bb7091-4cbd-45ff-b0df-74a4c8c5411d\",\"type\":\"FactorRange\"},\"x_scale\":{\"id\":\"a8da1673-acb6-4746-b29d-5566989e0cc6\",\"type\":\"CategoricalScale\"},\"y_range\":{\"id\":\"e88a9c34-4be9-45de-a2bf-a9e3b924083a\",\"type\":\"DataRange1d\"},\"y_scale\":{\"id\":\"a0f11012-a659-4067-9b69-626e2d248845\",\"type\":\"LinearScale\"}},\"id\":\"aea5a859-88f0-4ef9-8aee-43fcee955161\",\"subtype\":\"Figure\",\"type\":\"Plot\"},{\"attributes\":{\"plot\":null,\"text\":\"MOTION PROBABILITY\"},\"id\":\"ff6f9175-e653-4003-8a58-c1663649551a\",\"type\":\"Title\"},{\"attributes\":{\"axis_label\":\"PROBABILITY\",\"axis_line_color\":{\"value\":null},\"formatter\":{\"id\":\"addf37a2-6d4a-4ce4-920d-f4aedaa71e73\",\"type\":\"BasicTickFormatter\"},\"major_label_standoff\":0,\"major_tick_line_color\":{\"value\":null},\"minor_tick_line_color\":{\"value\":null},\"plot\":{\"id\":\"aea5a859-88f0-4ef9-8aee-43fcee955161\",\"subtype\":\"Figure\",\"type\":\"Plot\"},\"ticker\":{\"id\":\"51fc861b-2b62-4145-924b-0a49a1b45bac\",\"type\":\"BasicTicker\"}},\"id\":\"3741af6e-6c63-4fb7-8efd-bb30d80a4d3e\",\"type\":\"LinearAxis\"},{\"attributes\":{\"callback\":null,\"factors\":[\"UNDERSHOOT\",\"EXACT\",\"OVERSHOOT\"]},\"id\":\"15bb7091-4cbd-45ff-b0df-74a4c8c5411d\",\"type\":\"FactorRange\"},{\"attributes\":{\"active_drag\":\"auto\",\"active_inspect\":\"auto\",\"active_scroll\":\"auto\",\"active_tap\":\"auto\",\"tools\":[{\"id\":\"93b0ff3e-d4c8-4dc9-84cd-1bc818d67259\",\"type\":\"HoverTool\"}]},\"id\":\"69ad7a15-645c-422f-9f15-7672242b2a93\",\"type\":\"Toolbar\"},{\"attributes\":{\"fill_color\":{\"field\":\"motion\",\"transform\":{\"id\":\"2c064f7d-380d-4908-a588-d36680fe19de\",\"type\":\"CategoricalColorMapper\"}},\"line_color\":{\"value\":\"white\"},\"top\":{\"field\":\"prob\"},\"width\":{\"value\":0.95},\"x\":{\"field\":\"motion\"}},\"id\":\"d346f12a-5af2-4784-bc4f-1e8fb198f4d1\",\"type\":\"VBar\"},{\"attributes\":{\"callback\":null,\"end\":1.0,\"start\":0.0},\"id\":\"e88a9c34-4be9-45de-a2bf-a9e3b924083a\",\"type\":\"DataRange1d\"},{\"attributes\":{\"callback\":null,\"tooltips\":[[\"motion\",\"@motion\"],[\"probability\",\"@prob\"]]},\"id\":\"93b0ff3e-d4c8-4dc9-84cd-1bc818d67259\",\"type\":\"HoverTool\"},{\"attributes\":{\"data_source\":{\"id\":\"d6c4273a-89ee-4f1b-99f5-4646bbe13374\",\"type\":\"ColumnDataSource\"},\"glyph\":{\"id\":\"d346f12a-5af2-4784-bc4f-1e8fb198f4d1\",\"type\":\"VBar\"},\"hover_glyph\":null,\"muted_glyph\":null,\"nonselection_glyph\":{\"id\":\"700bd275-5272-4bf9-a223-64f89469ff72\",\"type\":\"VBar\"},\"selection_glyph\":null,\"view\":{\"id\":\"ce5c6c42-0dc6-48d2-8873-8c0e6d78ed63\",\"type\":\"CDSView\"}},\"id\":\"1876ae7d-d9e0-4de1-93f1-d563c7bf8deb\",\"type\":\"GlyphRenderer\"},{\"attributes\":{},\"id\":\"3c28cb89-a279-42e6-893f-9f8631b62ed1\",\"type\":\"CategoricalTickFormatter\"},{\"attributes\":{},\"id\":\"addf37a2-6d4a-4ce4-920d-f4aedaa71e73\",\"type\":\"BasicTickFormatter\"},{\"attributes\":{},\"id\":\"a8da1673-acb6-4746-b29d-5566989e0cc6\",\"type\":\"CategoricalScale\"},{\"attributes\":{},\"id\":\"a0f11012-a659-4067-9b69-626e2d248845\",\"type\":\"LinearScale\"},{\"attributes\":{\"grid_line_color\":{\"value\":null},\"plot\":{\"id\":\"aea5a859-88f0-4ef9-8aee-43fcee955161\",\"subtype\":\"Figure\",\"type\":\"Plot\"},\"ticker\":{\"id\":\"18eaa3f8-c1de-412d-915e-af37957e59c0\",\"type\":\"CategoricalTicker\"}},\"id\":\"fb9d3d6f-8fea-47be-9c5c-030749fdb503\",\"type\":\"Grid\"},{\"attributes\":{\"fill_alpha\":{\"value\":0.1},\"fill_color\":{\"value\":\"#1f77b4\"},\"line_alpha\":{\"value\":0.1},\"line_color\":{\"value\":\"#1f77b4\"},\"top\":{\"field\":\"prob\"},\"width\":{\"value\":0.95},\"x\":{\"field\":\"motion\"}},\"id\":\"700bd275-5272-4bf9-a223-64f89469ff72\",\"type\":\"VBar\"},{\"attributes\":{\"source\":{\"id\":\"d6c4273a-89ee-4f1b-99f5-4646bbe13374\",\"type\":\"ColumnDataSource\"}},\"id\":\"ce5c6c42-0dc6-48d2-8873-8c0e6d78ed63\",\"type\":\"CDSView\"},{\"attributes\":{\"axis_label\":\"MOTION\",\"axis_line_color\":{\"value\":null},\"formatter\":{\"id\":\"3c28cb89-a279-42e6-893f-9f8631b62ed1\",\"type\":\"CategoricalTickFormatter\"},\"major_label_standoff\":0,\"major_tick_line_color\":{\"value\":null},\"minor_tick_line_color\":{\"value\":null},\"plot\":{\"id\":\"aea5a859-88f0-4ef9-8aee-43fcee955161\",\"subtype\":\"Figure\",\"type\":\"Plot\"},\"ticker\":{\"id\":\"18eaa3f8-c1de-412d-915e-af37957e59c0\",\"type\":\"CategoricalTicker\"}},\"id\":\"21b22fa1-be7b-488c-a6a1-d8eff73558e5\",\"type\":\"CategoricalAxis\"},{\"attributes\":{},\"id\":\"18eaa3f8-c1de-412d-915e-af37957e59c0\",\"type\":\"CategoricalTicker\"},{\"attributes\":{\"callback\":null,\"column_names\":[\"motion\",\"prob\"],\"data\":{\"motion\":[\"UNDERSHOOT\",\"EXACT\",\"OVERSHOOT\"],\"prob\":[0.1,0.7,0.2]},\"selected\":null,\"selection_policy\":null},\"id\":\"d6c4273a-89ee-4f1b-99f5-4646bbe13374\",\"type\":\"ColumnDataSource\"},{\"attributes\":{\"factors\":[\"UNDERSHOOT\",\"EXACT\",\"OVERSHOOT\"],\"palette\":[\"#3288bd\",\"#99d594\",\"#e6f598\",\"#fee08b\",\"#fc8d59\",\"#d53e4f\"]},\"id\":\"2c064f7d-380d-4908-a588-d36680fe19de\",\"type\":\"CategoricalColorMapper\"},{\"attributes\":{},\"id\":\"51fc861b-2b62-4145-924b-0a49a1b45bac\",\"type\":\"BasicTicker\"}],\"root_ids\":[\"aea5a859-88f0-4ef9-8aee-43fcee955161\"]},\"title\":\"Bokeh Application\",\"version\":\"0.12.15\"}};\n",
       "  var render_items = [{\"docid\":\"c539ed25-1109-4314-9a78-aaa106d723d1\",\"elementid\":\"546e7559-2ae1-4194-a5ff-c047904abc73\",\"modelid\":\"aea5a859-88f0-4ef9-8aee-43fcee955161\"}];\n",
       "  root.Bokeh.embed.embed_items_notebook(docs_json, render_items);\n",
       "\n",
       "  }\n",
       "  if (root.Bokeh !== undefined) {\n",
       "    embed_document(root);\n",
       "  } else {\n",
       "    var attempts = 0;\n",
       "    var timer = setInterval(function(root) {\n",
       "      if (root.Bokeh !== undefined) {\n",
       "        embed_document(root);\n",
       "        clearInterval(timer);\n",
       "      }\n",
       "      attempts++;\n",
       "      if (attempts > 100) {\n",
       "        console.log(\"Bokeh: ERROR: Unable to run BokehJS code because BokehJS library is missing\")\n",
       "        clearInterval(timer);\n",
       "      }\n",
       "    }, 10, root)\n",
       "  }\n",
       "})(window);"
      ],
      "application/vnd.bokehjs_exec.v0+json": ""
     },
     "metadata": {
      "application/vnd.bokehjs_exec.v0+json": {
       "id": "aea5a859-88f0-4ef9-8aee-43fcee955161"
      }
     },
     "output_type": "display_data"
    }
   ],
   "source": [
    "motion = ['UNDERSHOOT', 'EXACT', 'OVERSHOOT']\n",
    "prob = [0.1, 0.7, 0.2]\n",
    "\n",
    "hover = HoverTool(tooltips=[\n",
    "    (\"motion\", \"@motion\"),\n",
    "    (\"probability\", \"@prob\"),\n",
    "\n",
    "])\n",
    "\n",
    "\n",
    "source = ColumnDataSource(data={'motion': motion, 'prob': prob})\n",
    "\n",
    "p = figure(\n",
    "  x_range=motion, \n",
    "  title=\"MOTION PROBABILITY\",\n",
    "  toolbar_location=None,\n",
    "  tools = [hover], \n",
    "  plot_width=300, \n",
    "  plot_height=200)\n",
    "\n",
    "p.vbar(x='motion', top='prob', width=0.95, source=source,\n",
    "       line_color='white', fill_color=factor_cmap('motion', palette=Spectral6, factors=motion))\n",
    "\n",
    "p.xgrid.grid_line_color = None\n",
    "p.y_range.start = 0.0\n",
    "p.y_range.end = 1.0\n",
    "p.xaxis.axis_label = 'MOTION'\n",
    "p.yaxis.axis_label = 'PROBABILITY'\n",
    "\n",
    "p.outline_line_color = None\n",
    "p.axis.axis_line_color = None\n",
    "p.axis.major_tick_line_color = None\n",
    "p.axis.minor_tick_line_color = None\n",
    "p.axis.major_label_standoff = 0\n",
    "\n",
    "show(p)"
   ]
  },
  {
   "cell_type": "code",
   "execution_count": 6,
   "metadata": {},
   "outputs": [
    {
     "data": {
      "text/html": [
       "\n",
       "<div class=\"bk-root\">\n",
       "    <div class=\"bk-plotdiv\" id=\"befefe12-080b-4fed-bd54-dafc5d9578d0\"></div>\n",
       "</div>"
      ]
     },
     "metadata": {},
     "output_type": "display_data"
    },
    {
     "data": {
      "application/javascript": [
       "(function(root) {\n",
       "  function embed_document(root) {\n",
       "    \n",
       "  var docs_json = {\"3ee8b653-4b08-4533-a64d-6661b06eb208\":{\"roots\":{\"references\":[{\"attributes\":{\"axis_line_color\":{\"value\":null},\"formatter\":{\"id\":\"e0ba4fbf-6e15-49c3-87e2-acb997f4aed7\",\"type\":\"BasicTickFormatter\"},\"major_label_standoff\":0,\"major_label_text_color\":{\"value\":\"#576574\"},\"major_label_text_font\":\"verdana\",\"major_tick_line_color\":{\"value\":null},\"minor_tick_line_color\":{\"value\":null},\"plot\":{\"id\":\"a7a50f9d-5661-46b4-ac3e-6957509e9a11\",\"subtype\":\"Figure\",\"type\":\"Plot\"},\"ticker\":{\"id\":\"026723b7-f32c-47ed-8396-70acaf166472\",\"type\":\"BasicTicker\"}},\"id\":\"fcb4c61e-1eeb-47d1-bdd4-4d9542d15956\",\"type\":\"LinearAxis\"},{\"attributes\":{},\"id\":\"03ca8727-0f18-47da-891d-8289a893916a\",\"type\":\"LinearScale\"},{\"attributes\":{\"callback\":null,\"end\":1.0,\"start\":0.0},\"id\":\"27d6a794-b29e-41bb-8473-0bacd43a68e4\",\"type\":\"DataRange1d\"},{\"attributes\":{\"fill_color\":{\"value\":\"#b3de69\"},\"line_color\":{\"value\":\"white\"},\"top\":{\"field\":\"prob\"},\"width\":{\"value\":0.95},\"x\":{\"field\":\"motion\"}},\"id\":\"71317a9e-5142-4ad6-9ed5-488870ab0103\",\"type\":\"VBar\"},{\"attributes\":{},\"id\":\"3772188b-e2eb-4f30-bbbc-99441c3acece\",\"type\":\"CategoricalTicker\"},{\"attributes\":{},\"id\":\"026723b7-f32c-47ed-8396-70acaf166472\",\"type\":\"BasicTicker\"},{\"attributes\":{\"below\":[{\"id\":\"3244a33e-648e-42f8-99f1-f6c06787984f\",\"type\":\"CategoricalAxis\"}],\"left\":[{\"id\":\"fcb4c61e-1eeb-47d1-bdd4-4d9542d15956\",\"type\":\"LinearAxis\"}],\"min_border_bottom\":25,\"min_border_left\":40,\"min_border_right\":20,\"min_border_top\":30,\"outline_line_color\":{\"value\":null},\"plot_height\":200,\"plot_width\":450,\"renderers\":[{\"id\":\"3244a33e-648e-42f8-99f1-f6c06787984f\",\"type\":\"CategoricalAxis\"},{\"id\":\"22dad7b6-467c-4990-8d5b-79aa70357e57\",\"type\":\"Grid\"},{\"id\":\"fcb4c61e-1eeb-47d1-bdd4-4d9542d15956\",\"type\":\"LinearAxis\"},{\"id\":\"ac10764c-d3b7-4689-8cee-fcc423027be2\",\"type\":\"Grid\"},{\"id\":\"e2aa057a-a2b4-4dca-8e48-13c70435a741\",\"type\":\"GlyphRenderer\"}],\"title\":{\"id\":\"5588b6e8-abcb-4c2f-9569-898a5de15e63\",\"type\":\"Title\"},\"toolbar\":{\"id\":\"23a4822a-339a-48f1-a134-2914af33deaf\",\"type\":\"Toolbar\"},\"toolbar_location\":null,\"x_range\":{\"id\":\"6edb56b2-6346-4373-8588-1f0cab8969a0\",\"type\":\"FactorRange\"},\"x_scale\":{\"id\":\"f9cbaa49-bee3-4047-a644-47c012504d24\",\"type\":\"CategoricalScale\"},\"y_range\":{\"id\":\"27d6a794-b29e-41bb-8473-0bacd43a68e4\",\"type\":\"DataRange1d\"},\"y_scale\":{\"id\":\"03ca8727-0f18-47da-891d-8289a893916a\",\"type\":\"LinearScale\"}},\"id\":\"a7a50f9d-5661-46b4-ac3e-6957509e9a11\",\"subtype\":\"Figure\",\"type\":\"Plot\"},{\"attributes\":{\"dimension\":1,\"plot\":{\"id\":\"a7a50f9d-5661-46b4-ac3e-6957509e9a11\",\"subtype\":\"Figure\",\"type\":\"Plot\"},\"ticker\":{\"id\":\"026723b7-f32c-47ed-8396-70acaf166472\",\"type\":\"BasicTicker\"}},\"id\":\"ac10764c-d3b7-4689-8cee-fcc423027be2\",\"type\":\"Grid\"},{\"attributes\":{\"callback\":null,\"column_names\":[\"motion\",\"prob\",\"number\"],\"data\":{\"motion\":[\"UNDERSHOOT\",\"EXACT\",\"OVERSHOOT\"],\"number\":[-1,0,1],\"prob\":[0.1,0.7,0.2]},\"selected\":null,\"selection_policy\":null},\"id\":\"a8d8a55c-d88d-435d-941c-efdcada9db45\",\"type\":\"ColumnDataSource\"},{\"attributes\":{\"fill_alpha\":{\"value\":0.1},\"fill_color\":{\"value\":\"#1f77b4\"},\"line_alpha\":{\"value\":0.1},\"line_color\":{\"value\":\"#1f77b4\"},\"top\":{\"field\":\"prob\"},\"width\":{\"value\":0.95},\"x\":{\"field\":\"motion\"}},\"id\":\"4e921bf8-97cb-491f-b5e6-4d6eac0ae2c1\",\"type\":\"VBar\"},{\"attributes\":{\"callback\":null,\"tooltips\":[[\"motion\",\"@motion\"],[\"probability\",\"@prob\"],[\"number:\",\"@number\"]]},\"id\":\"9a1831b6-3b2f-411d-936d-ffd354d6bb46\",\"type\":\"HoverTool\"},{\"attributes\":{},\"id\":\"e0ba4fbf-6e15-49c3-87e2-acb997f4aed7\",\"type\":\"BasicTickFormatter\"},{\"attributes\":{\"axis_line_color\":{\"value\":null},\"formatter\":{\"id\":\"627a0959-4746-47d6-a5a8-cd46f14bfee9\",\"type\":\"CategoricalTickFormatter\"},\"major_label_standoff\":0,\"major_label_text_color\":{\"value\":\"#576574\"},\"major_label_text_font\":\"verdana\",\"major_tick_line_color\":{\"value\":null},\"minor_tick_line_color\":{\"value\":null},\"plot\":{\"id\":\"a7a50f9d-5661-46b4-ac3e-6957509e9a11\",\"subtype\":\"Figure\",\"type\":\"Plot\"},\"ticker\":{\"id\":\"3772188b-e2eb-4f30-bbbc-99441c3acece\",\"type\":\"CategoricalTicker\"}},\"id\":\"3244a33e-648e-42f8-99f1-f6c06787984f\",\"type\":\"CategoricalAxis\"},{\"attributes\":{\"data_source\":{\"id\":\"a8d8a55c-d88d-435d-941c-efdcada9db45\",\"type\":\"ColumnDataSource\"},\"glyph\":{\"id\":\"71317a9e-5142-4ad6-9ed5-488870ab0103\",\"type\":\"VBar\"},\"hover_glyph\":null,\"muted_glyph\":null,\"nonselection_glyph\":{\"id\":\"4e921bf8-97cb-491f-b5e6-4d6eac0ae2c1\",\"type\":\"VBar\"},\"selection_glyph\":null,\"view\":{\"id\":\"f08e3be9-82b0-4f34-bb21-638c8893ccd2\",\"type\":\"CDSView\"}},\"id\":\"e2aa057a-a2b4-4dca-8e48-13c70435a741\",\"type\":\"GlyphRenderer\"},{\"attributes\":{\"active_drag\":\"auto\",\"active_inspect\":\"auto\",\"active_scroll\":\"auto\",\"active_tap\":\"auto\",\"tools\":[{\"id\":\"9a1831b6-3b2f-411d-936d-ffd354d6bb46\",\"type\":\"HoverTool\"}]},\"id\":\"23a4822a-339a-48f1-a134-2914af33deaf\",\"type\":\"Toolbar\"},{\"attributes\":{\"source\":{\"id\":\"a8d8a55c-d88d-435d-941c-efdcada9db45\",\"type\":\"ColumnDataSource\"}},\"id\":\"f08e3be9-82b0-4f34-bb21-638c8893ccd2\",\"type\":\"CDSView\"},{\"attributes\":{},\"id\":\"627a0959-4746-47d6-a5a8-cd46f14bfee9\",\"type\":\"CategoricalTickFormatter\"},{\"attributes\":{\"grid_line_color\":{\"value\":null},\"plot\":{\"id\":\"a7a50f9d-5661-46b4-ac3e-6957509e9a11\",\"subtype\":\"Figure\",\"type\":\"Plot\"},\"ticker\":{\"id\":\"3772188b-e2eb-4f30-bbbc-99441c3acece\",\"type\":\"CategoricalTicker\"}},\"id\":\"22dad7b6-467c-4990-8d5b-79aa70357e57\",\"type\":\"Grid\"},{\"attributes\":{\"callback\":null,\"factors\":[\"UNDERSHOOT\",\"EXACT\",\"OVERSHOOT\"]},\"id\":\"6edb56b2-6346-4373-8588-1f0cab8969a0\",\"type\":\"FactorRange\"},{\"attributes\":{\"align\":\"center\",\"plot\":null,\"text\":\"MOTION PROBABILITY\",\"text_font\":\"verdana\"},\"id\":\"5588b6e8-abcb-4c2f-9569-898a5de15e63\",\"type\":\"Title\"},{\"attributes\":{},\"id\":\"f9cbaa49-bee3-4047-a644-47c012504d24\",\"type\":\"CategoricalScale\"}],\"root_ids\":[\"a7a50f9d-5661-46b4-ac3e-6957509e9a11\"]},\"title\":\"Bokeh Application\",\"version\":\"0.12.15\"}};\n",
       "  var render_items = [{\"docid\":\"3ee8b653-4b08-4533-a64d-6661b06eb208\",\"elementid\":\"befefe12-080b-4fed-bd54-dafc5d9578d0\",\"modelid\":\"a7a50f9d-5661-46b4-ac3e-6957509e9a11\"}];\n",
       "  root.Bokeh.embed.embed_items_notebook(docs_json, render_items);\n",
       "\n",
       "  }\n",
       "  if (root.Bokeh !== undefined) {\n",
       "    embed_document(root);\n",
       "  } else {\n",
       "    var attempts = 0;\n",
       "    var timer = setInterval(function(root) {\n",
       "      if (root.Bokeh !== undefined) {\n",
       "        embed_document(root);\n",
       "        clearInterval(timer);\n",
       "      }\n",
       "      attempts++;\n",
       "      if (attempts > 100) {\n",
       "        console.log(\"Bokeh: ERROR: Unable to run BokehJS code because BokehJS library is missing\")\n",
       "        clearInterval(timer);\n",
       "      }\n",
       "    }, 10, root)\n",
       "  }\n",
       "})(window);"
      ],
      "application/vnd.bokehjs_exec.v0+json": ""
     },
     "metadata": {
      "application/vnd.bokehjs_exec.v0+json": {
       "id": "a7a50f9d-5661-46b4-ac3e-6957509e9a11"
      }
     },
     "output_type": "display_data"
    }
   ],
   "source": [
    "motion = ['UNDERSHOOT', 'EXACT', 'OVERSHOOT']\n",
    "prob = [0.1, 0.7, 0.2]\n",
    "\n",
    "hover = HoverTool(tooltips=[\n",
    "    (\"motion\", \"@motion\"),\n",
    "    (\"probability\", \"@prob\"),\n",
    "    (\"number:\", \"@number\")\n",
    "])\n",
    "\n",
    "\n",
    "source = ColumnDataSource(data={'motion': motion, 'prob': prob, 'number':  [-1, 0, 1]})\n",
    "\n",
    "p = figure(\n",
    "  x_range=motion, \n",
    "  title=\"MOTION PROBABILITY\",\n",
    "  toolbar_location=None,\n",
    "  tools = [hover], \n",
    "  plot_width=450, \n",
    "  plot_height=200)\n",
    "\n",
    "p.vbar(x='motion', top='prob', width=0.95, source=source,\n",
    "       fill_color=\"#b3de69\", line_color='white')\n",
    "\n",
    "p.xgrid.grid_line_color = None\n",
    "p.y_range.start = 0.0\n",
    "p.y_range.end = 1.0\n",
    "\n",
    "p.outline_line_color = None\n",
    "p.axis.axis_line_color = None\n",
    "p.axis.major_tick_line_color = None\n",
    "p.axis.minor_tick_line_color = None\n",
    "p.axis.major_label_standoff = 0\n",
    "p.min_border_left = 40\n",
    "p.min_border_right = 20\n",
    "p.min_border_top = 30\n",
    "p.min_border_bottom = 25\n",
    "p.title.text_font = \"verdana\"\n",
    "p.title.align = 'center'\n",
    "p.yaxis.major_label_text_font = \"verdana\"\n",
    "p.xaxis.major_label_text_font = \"verdana\"\n",
    "p.yaxis.major_label_text_color = \"#576574\"\n",
    "p.xaxis.major_label_text_color = \"#576574\"\n",
    "\n",
    "show(p)\n",
    "\n",
    "#https://bokeh.pydata.org/en/latest/docs/user_guide/styling.html"
   ]
  },
  {
   "cell_type": "code",
   "execution_count": 7,
   "metadata": {},
   "outputs": [
    {
     "data": {
      "text/html": [
       "\n",
       "<div class=\"bk-root\">\n",
       "    <div class=\"bk-plotdiv\" id=\"ae37b60e-df0a-407b-a4a4-5f7d1b359a57\"></div>\n",
       "</div>"
      ]
     },
     "metadata": {},
     "output_type": "display_data"
    },
    {
     "data": {
      "application/javascript": [
       "(function(root) {\n",
       "  function embed_document(root) {\n",
       "    \n",
       "  var docs_json = {\"27c9bd2c-2475-4c92-aff0-364cedb2672d\":{\"roots\":{\"references\":[{\"attributes\":{\"fill_alpha\":{\"value\":0.5},\"fill_color\":{\"value\":\"navy\"},\"line_alpha\":{\"value\":0.5},\"line_color\":{\"value\":\"navy\"},\"size\":{\"units\":\"screen\",\"value\":20},\"x\":{\"field\":\"x\"},\"y\":{\"field\":\"y\"}},\"id\":\"9c9fafb3-3d36-44bb-a2b4-b39f951123f8\",\"type\":\"Circle\"},{\"attributes\":{\"overlay\":{\"id\":\"e99af2d6-ce4e-40cf-9afe-bd2f8ed37983\",\"type\":\"BoxAnnotation\"}},\"id\":\"67803c65-2310-45b1-bafe-d90d19480566\",\"type\":\"BoxZoomTool\"},{\"attributes\":{},\"id\":\"44a8b010-d6f5-4238-913c-16e8a03fa47c\",\"type\":\"BasicTicker\"},{\"attributes\":{\"data_source\":{\"id\":\"e7f6a91a-ee10-46cb-a32b-6336ff5f86cd\",\"type\":\"ColumnDataSource\"},\"glyph\":{\"id\":\"490de93c-47ed-4a1f-a346-964ef0b432a3\",\"type\":\"Rect\"},\"hover_glyph\":null,\"muted_glyph\":null,\"nonselection_glyph\":{\"id\":\"26a1f66b-4e80-44a1-952c-945fda8caeb3\",\"type\":\"Rect\"},\"selection_glyph\":null,\"view\":{\"id\":\"ff455620-70d2-41f2-be2e-0ca0fbb92ce1\",\"type\":\"CDSView\"}},\"id\":\"8a2c4a45-088a-4788-9578-7a24be097644\",\"type\":\"GlyphRenderer\"},{\"attributes\":{},\"id\":\"5a5b25d3-d0ed-4043-99b5-04b996b0ac04\",\"type\":\"HelpTool\"},{\"attributes\":{\"angle\":{\"units\":\"rad\",\"value\":1.0471975511965976},\"fill_alpha\":{\"value\":0.1},\"fill_color\":{\"value\":\"#1f77b4\"},\"height\":{\"units\":\"screen\",\"value\":40},\"line_alpha\":{\"value\":0.1},\"line_color\":{\"value\":\"#1f77b4\"},\"width\":{\"units\":\"data\",\"value\":0.2},\"x\":{\"field\":\"x\"},\"y\":{\"field\":\"y\"}},\"id\":\"26a1f66b-4e80-44a1-952c-945fda8caeb3\",\"type\":\"Rect\"},{\"attributes\":{},\"id\":\"024560c2-e49a-49fd-b435-61d5339cbcc0\",\"type\":\"BasicTickFormatter\"},{\"attributes\":{\"source\":{\"id\":\"e7f6a91a-ee10-46cb-a32b-6336ff5f86cd\",\"type\":\"ColumnDataSource\"}},\"id\":\"ff455620-70d2-41f2-be2e-0ca0fbb92ce1\",\"type\":\"CDSView\"},{\"attributes\":{\"plot\":null,\"text\":\"\"},\"id\":\"728a4252-0358-4fd8-becf-0522b7b6f07f\",\"type\":\"Title\"},{\"attributes\":{},\"id\":\"04e75a81-6585-46ce-8dbd-886cf846ed41\",\"type\":\"PanTool\"},{\"attributes\":{\"callback\":null,\"column_names\":[\"x\",\"y\"],\"data\":{\"x\":[1,2,3],\"y\":[1,2,3]},\"selected\":null,\"selection_policy\":null},\"id\":\"e7f6a91a-ee10-46cb-a32b-6336ff5f86cd\",\"type\":\"ColumnDataSource\"},{\"attributes\":{\"plot\":{\"id\":\"0918da56-33b4-41a6-a0c6-91a0c14944a5\",\"subtype\":\"Figure\",\"type\":\"Plot\"},\"ticker\":{\"id\":\"dd82ae7d-9a79-402f-91c4-c39cbb9a1736\",\"type\":\"BasicTicker\"}},\"id\":\"4e294b33-5a6e-4e3e-b866-899d0a894767\",\"type\":\"Grid\"},{\"attributes\":{\"angle\":{\"units\":\"rad\",\"value\":1.0471975511965976},\"fill_color\":{\"value\":\"#CAB2D6\"},\"height\":{\"units\":\"screen\",\"value\":40},\"line_color\":{\"value\":\"#CAB2D6\"},\"width\":{\"units\":\"data\",\"value\":0.2},\"x\":{\"field\":\"x\"},\"y\":{\"field\":\"y\"}},\"id\":\"490de93c-47ed-4a1f-a346-964ef0b432a3\",\"type\":\"Rect\"},{\"attributes\":{\"source\":{\"id\":\"84671d96-f9ff-4840-97c5-49318d17f43e\",\"type\":\"ColumnDataSource\"}},\"id\":\"c200fb3c-0c15-42af-8434-3af824340fc2\",\"type\":\"CDSView\"},{\"attributes\":{\"active_drag\":\"auto\",\"active_inspect\":\"auto\",\"active_scroll\":\"auto\",\"active_tap\":\"auto\",\"tools\":[{\"id\":\"04e75a81-6585-46ce-8dbd-886cf846ed41\",\"type\":\"PanTool\"},{\"id\":\"579631dd-f542-4bbb-9c35-21c8c0c27e84\",\"type\":\"WheelZoomTool\"},{\"id\":\"67803c65-2310-45b1-bafe-d90d19480566\",\"type\":\"BoxZoomTool\"},{\"id\":\"1a76e249-b81f-48c2-92ab-98ce1eb324bd\",\"type\":\"SaveTool\"},{\"id\":\"fdb60220-00cf-431c-a902-79b40044cec5\",\"type\":\"ResetTool\"},{\"id\":\"5a5b25d3-d0ed-4043-99b5-04b996b0ac04\",\"type\":\"HelpTool\"}]},\"id\":\"35dff333-df31-44fc-82da-4241bab38731\",\"type\":\"Toolbar\"},{\"attributes\":{},\"id\":\"dd82ae7d-9a79-402f-91c4-c39cbb9a1736\",\"type\":\"BasicTicker\"},{\"attributes\":{\"bottom_units\":\"screen\",\"fill_alpha\":{\"value\":0.5},\"fill_color\":{\"value\":\"lightgrey\"},\"left_units\":\"screen\",\"level\":\"overlay\",\"line_alpha\":{\"value\":1.0},\"line_color\":{\"value\":\"black\"},\"line_dash\":[4,4],\"line_width\":{\"value\":2},\"plot\":null,\"render_mode\":\"css\",\"right_units\":\"screen\",\"top_units\":\"screen\"},\"id\":\"e99af2d6-ce4e-40cf-9afe-bd2f8ed37983\",\"type\":\"BoxAnnotation\"},{\"attributes\":{},\"id\":\"fdb60220-00cf-431c-a902-79b40044cec5\",\"type\":\"ResetTool\"},{\"attributes\":{},\"id\":\"1a76e249-b81f-48c2-92ab-98ce1eb324bd\",\"type\":\"SaveTool\"},{\"attributes\":{\"below\":[{\"id\":\"118d96ba-7096-42f5-b0ee-78d7bca31735\",\"type\":\"LinearAxis\"}],\"left\":[{\"id\":\"9ab177a7-f820-496e-b4b0-9bcba9997cfc\",\"type\":\"LinearAxis\"}],\"plot_height\":200,\"plot_width\":450,\"renderers\":[{\"id\":\"118d96ba-7096-42f5-b0ee-78d7bca31735\",\"type\":\"LinearAxis\"},{\"id\":\"4e294b33-5a6e-4e3e-b866-899d0a894767\",\"type\":\"Grid\"},{\"id\":\"9ab177a7-f820-496e-b4b0-9bcba9997cfc\",\"type\":\"LinearAxis\"},{\"id\":\"7d1af6f1-2740-47bb-a841-be6d13e6f52f\",\"type\":\"Grid\"},{\"id\":\"e99af2d6-ce4e-40cf-9afe-bd2f8ed37983\",\"type\":\"BoxAnnotation\"},{\"id\":\"216048eb-6565-43fc-b1d2-9d0606dd12d2\",\"type\":\"GlyphRenderer\"},{\"id\":\"8a2c4a45-088a-4788-9578-7a24be097644\",\"type\":\"GlyphRenderer\"},{\"id\":\"56183fa3-3993-43be-848d-1e7e4d878b10\",\"type\":\"GlyphRenderer\"}],\"title\":{\"id\":\"728a4252-0358-4fd8-becf-0522b7b6f07f\",\"type\":\"Title\"},\"toolbar\":{\"id\":\"35dff333-df31-44fc-82da-4241bab38731\",\"type\":\"Toolbar\"},\"toolbar_location\":null,\"x_range\":{\"id\":\"72a395eb-e393-4704-8277-d0c44a995f79\",\"type\":\"DataRange1d\"},\"x_scale\":{\"id\":\"c0d82477-2d74-4aad-8105-6686839d9ae6\",\"type\":\"LinearScale\"},\"y_range\":{\"id\":\"3e5b13b8-6d52-4b0a-8b9f-603904c8a49b\",\"type\":\"DataRange1d\"},\"y_scale\":{\"id\":\"c23cfb52-40b3-4fe5-9597-b7d8b83d9284\",\"type\":\"LinearScale\"}},\"id\":\"0918da56-33b4-41a6-a0c6-91a0c14944a5\",\"subtype\":\"Figure\",\"type\":\"Plot\"},{\"attributes\":{\"callback\":null},\"id\":\"72a395eb-e393-4704-8277-d0c44a995f79\",\"type\":\"DataRange1d\"},{\"attributes\":{\"callback\":null,\"column_names\":[\"left\",\"right\",\"top\",\"bottom\"],\"data\":{\"bottom\":[1,2,3],\"left\":[1,2,3],\"right\":[1.2,2.5,3.7],\"top\":[2,3,4]},\"selected\":null,\"selection_policy\":null},\"id\":\"48a8b489-6562-4786-b995-4cfedabe32f9\",\"type\":\"ColumnDataSource\"},{\"attributes\":{\"bottom\":{\"field\":\"bottom\"},\"fill_color\":{\"value\":\"#B3DE69\"},\"left\":{\"field\":\"left\"},\"line_color\":{\"value\":\"#B3DE69\"},\"right\":{\"field\":\"right\"},\"top\":{\"field\":\"top\"}},\"id\":\"dde90a74-a16a-4eab-a0ee-ea48e9e31b25\",\"type\":\"Quad\"},{\"attributes\":{\"callback\":null,\"column_names\":[\"x\",\"y\"],\"data\":{\"x\":[1,2,3,4,5],\"y\":[6,7,2,4,5]},\"selected\":null,\"selection_policy\":null},\"id\":\"84671d96-f9ff-4840-97c5-49318d17f43e\",\"type\":\"ColumnDataSource\"},{\"attributes\":{\"bottom\":{\"field\":\"bottom\"},\"fill_alpha\":{\"value\":0.1},\"fill_color\":{\"value\":\"#1f77b4\"},\"left\":{\"field\":\"left\"},\"line_alpha\":{\"value\":0.1},\"line_color\":{\"value\":\"#1f77b4\"},\"right\":{\"field\":\"right\"},\"top\":{\"field\":\"top\"}},\"id\":\"f2c2f466-cf61-497a-9691-0613a776b768\",\"type\":\"Quad\"},{\"attributes\":{\"fill_alpha\":{\"value\":0.1},\"fill_color\":{\"value\":\"#1f77b4\"},\"line_alpha\":{\"value\":0.1},\"line_color\":{\"value\":\"#1f77b4\"},\"size\":{\"units\":\"screen\",\"value\":20},\"x\":{\"field\":\"x\"},\"y\":{\"field\":\"y\"}},\"id\":\"54fa8c96-26eb-4197-a1e8-287e13b8260b\",\"type\":\"Circle\"},{\"attributes\":{},\"id\":\"579631dd-f542-4bbb-9c35-21c8c0c27e84\",\"type\":\"WheelZoomTool\"},{\"attributes\":{\"source\":{\"id\":\"48a8b489-6562-4786-b995-4cfedabe32f9\",\"type\":\"ColumnDataSource\"}},\"id\":\"8f1b42db-ae9d-4a6a-8235-d6704ecf7296\",\"type\":\"CDSView\"},{\"attributes\":{\"callback\":null},\"id\":\"3e5b13b8-6d52-4b0a-8b9f-603904c8a49b\",\"type\":\"DataRange1d\"},{\"attributes\":{\"formatter\":{\"id\":\"024560c2-e49a-49fd-b435-61d5339cbcc0\",\"type\":\"BasicTickFormatter\"},\"plot\":{\"id\":\"0918da56-33b4-41a6-a0c6-91a0c14944a5\",\"subtype\":\"Figure\",\"type\":\"Plot\"},\"ticker\":{\"id\":\"dd82ae7d-9a79-402f-91c4-c39cbb9a1736\",\"type\":\"BasicTicker\"}},\"id\":\"118d96ba-7096-42f5-b0ee-78d7bca31735\",\"type\":\"LinearAxis\"},{\"attributes\":{},\"id\":\"c0d82477-2d74-4aad-8105-6686839d9ae6\",\"type\":\"LinearScale\"},{\"attributes\":{\"dimension\":1,\"plot\":{\"id\":\"0918da56-33b4-41a6-a0c6-91a0c14944a5\",\"subtype\":\"Figure\",\"type\":\"Plot\"},\"ticker\":{\"id\":\"44a8b010-d6f5-4238-913c-16e8a03fa47c\",\"type\":\"BasicTicker\"}},\"id\":\"7d1af6f1-2740-47bb-a841-be6d13e6f52f\",\"type\":\"Grid\"},{\"attributes\":{\"data_source\":{\"id\":\"48a8b489-6562-4786-b995-4cfedabe32f9\",\"type\":\"ColumnDataSource\"},\"glyph\":{\"id\":\"dde90a74-a16a-4eab-a0ee-ea48e9e31b25\",\"type\":\"Quad\"},\"hover_glyph\":null,\"muted_glyph\":null,\"nonselection_glyph\":{\"id\":\"f2c2f466-cf61-497a-9691-0613a776b768\",\"type\":\"Quad\"},\"selection_glyph\":null,\"view\":{\"id\":\"8f1b42db-ae9d-4a6a-8235-d6704ecf7296\",\"type\":\"CDSView\"}},\"id\":\"56183fa3-3993-43be-848d-1e7e4d878b10\",\"type\":\"GlyphRenderer\"},{\"attributes\":{},\"id\":\"d2e8af66-f50d-4f26-90fd-9291b56d1ba8\",\"type\":\"BasicTickFormatter\"},{\"attributes\":{\"formatter\":{\"id\":\"d2e8af66-f50d-4f26-90fd-9291b56d1ba8\",\"type\":\"BasicTickFormatter\"},\"plot\":{\"id\":\"0918da56-33b4-41a6-a0c6-91a0c14944a5\",\"subtype\":\"Figure\",\"type\":\"Plot\"},\"ticker\":{\"id\":\"44a8b010-d6f5-4238-913c-16e8a03fa47c\",\"type\":\"BasicTicker\"}},\"id\":\"9ab177a7-f820-496e-b4b0-9bcba9997cfc\",\"type\":\"LinearAxis\"},{\"attributes\":{},\"id\":\"c23cfb52-40b3-4fe5-9597-b7d8b83d9284\",\"type\":\"LinearScale\"},{\"attributes\":{\"data_source\":{\"id\":\"84671d96-f9ff-4840-97c5-49318d17f43e\",\"type\":\"ColumnDataSource\"},\"glyph\":{\"id\":\"9c9fafb3-3d36-44bb-a2b4-b39f951123f8\",\"type\":\"Circle\"},\"hover_glyph\":null,\"muted_glyph\":null,\"nonselection_glyph\":{\"id\":\"54fa8c96-26eb-4197-a1e8-287e13b8260b\",\"type\":\"Circle\"},\"selection_glyph\":null,\"view\":{\"id\":\"c200fb3c-0c15-42af-8434-3af824340fc2\",\"type\":\"CDSView\"}},\"id\":\"216048eb-6565-43fc-b1d2-9d0606dd12d2\",\"type\":\"GlyphRenderer\"}],\"root_ids\":[\"0918da56-33b4-41a6-a0c6-91a0c14944a5\"]},\"title\":\"Bokeh Application\",\"version\":\"0.12.15\"}};\n",
       "  var render_items = [{\"docid\":\"27c9bd2c-2475-4c92-aff0-364cedb2672d\",\"elementid\":\"ae37b60e-df0a-407b-a4a4-5f7d1b359a57\",\"modelid\":\"0918da56-33b4-41a6-a0c6-91a0c14944a5\"}];\n",
       "  root.Bokeh.embed.embed_items_notebook(docs_json, render_items);\n",
       "\n",
       "  }\n",
       "  if (root.Bokeh !== undefined) {\n",
       "    embed_document(root);\n",
       "  } else {\n",
       "    var attempts = 0;\n",
       "    var timer = setInterval(function(root) {\n",
       "      if (root.Bokeh !== undefined) {\n",
       "        embed_document(root);\n",
       "        clearInterval(timer);\n",
       "      }\n",
       "      attempts++;\n",
       "      if (attempts > 100) {\n",
       "        console.log(\"Bokeh: ERROR: Unable to run BokehJS code because BokehJS library is missing\")\n",
       "        clearInterval(timer);\n",
       "      }\n",
       "    }, 10, root)\n",
       "  }\n",
       "})(window);"
      ],
      "application/vnd.bokehjs_exec.v0+json": ""
     },
     "metadata": {
      "application/vnd.bokehjs_exec.v0+json": {
       "id": "0918da56-33b4-41a6-a0c6-91a0c14944a5"
      }
     },
     "output_type": "display_data"
    }
   ],
   "source": [
    "p2 = figure(plot_width=450, plot_height=200, toolbar_location=None)\n",
    "\n",
    "# add a circle renderer with a size, color, and alpha\n",
    "p2.circle([1, 2, 3, 4, 5], [6, 7, 2, 4, 5], size=20, color=\"navy\", alpha=0.5)\n",
    "p2.rect(x=[1, 2, 3], y=[1, 2, 3], width=0.2, height=40, color=\"#CAB2D6\",\n",
    "       angle=np.pi/3, height_units=\"screen\")\n",
    "p2.quad(top=[2, 3, 4], bottom=[1, 2, 3], left=[1, 2, 3],\n",
    "       right=[1.2, 2.5, 3.7], color=\"#B3DE69\")\n",
    "\n",
    "show(p2)"
   ]
  },
  {
   "cell_type": "code",
   "execution_count": 8,
   "metadata": {},
   "outputs": [
    {
     "data": {
      "text/html": [
       "\n",
       "<div class=\"bk-root\">\n",
       "    <div class=\"bk-plotdiv\" id=\"91aa64dd-15c9-4ff6-991d-d6571b0f8b03\"></div>\n",
       "</div>"
      ]
     },
     "metadata": {},
     "output_type": "display_data"
    },
    {
     "data": {
      "application/javascript": [
       "(function(root) {\n",
       "  function embed_document(root) {\n",
       "    \n",
       "  var docs_json = {\"71b4457a-a736-4289-a75b-bf10b7614181\":{\"roots\":{\"references\":[{\"attributes\":{\"fill_color\":{\"value\":\"#FDE724\"},\"line_color\":{\"value\":\"#FDE724\"},\"size\":{\"units\":\"screen\",\"value\":10},\"x\":{\"field\":\"x\"},\"y\":{\"field\":\"y\"}},\"id\":\"de05411e-5843-4f80-8edc-9a2837bfaf27\",\"type\":\"Square\"},{\"attributes\":{\"formatter\":{\"id\":\"2e3c1001-e00f-4684-b5e2-afba91244f36\",\"type\":\"BasicTickFormatter\"},\"plot\":{\"id\":\"b311684d-9f68-452f-9abe-8477d8092945\",\"subtype\":\"Figure\",\"type\":\"Plot\"},\"ticker\":{\"id\":\"3cb2d1db-9b11-49f9-8508-08d7653c46e0\",\"type\":\"BasicTicker\"}},\"id\":\"fe58be69-6fcf-4c4a-b468-cefc34e80b3f\",\"type\":\"LinearAxis\"},{\"attributes\":{},\"id\":\"0177eb52-f809-46c5-935c-74f8be53916a\",\"type\":\"BasicTickFormatter\"},{\"attributes\":{\"source\":{\"id\":\"1919a420-0d63-441f-b506-15f514271738\",\"type\":\"ColumnDataSource\"}},\"id\":\"62e67985-e191-47e7-9e17-898437dfa0c9\",\"type\":\"CDSView\"},{\"attributes\":{\"data_source\":{\"id\":\"93d9ca43-8ac8-45a1-977f-250dfd3d71e1\",\"type\":\"ColumnDataSource\"},\"glyph\":{\"id\":\"de05411e-5843-4f80-8edc-9a2837bfaf27\",\"type\":\"Square\"},\"hover_glyph\":null,\"muted_glyph\":null,\"nonselection_glyph\":{\"id\":\"f48f4af9-a4f4-4a57-8101-90812f4dae24\",\"type\":\"Square\"},\"selection_glyph\":null,\"view\":{\"id\":\"324b17dd-4cb7-4177-8fff-74d4570438a5\",\"type\":\"CDSView\"}},\"id\":\"24835697-c8de-4d40-8660-4266d6d4a8e2\",\"type\":\"GlyphRenderer\"},{\"attributes\":{\"plot\":{\"id\":\"b311684d-9f68-452f-9abe-8477d8092945\",\"subtype\":\"Figure\",\"type\":\"Plot\"},\"ticker\":{\"id\":\"3cb2d1db-9b11-49f9-8508-08d7653c46e0\",\"type\":\"BasicTicker\"}},\"id\":\"7c141a7c-d4e3-4acb-9f8e-af8cd38f238f\",\"type\":\"Grid\"},{\"attributes\":{\"plot\":null,\"text\":\"\"},\"id\":\"575e1381-19cc-47f7-b111-815bec1de0a1\",\"type\":\"Title\"},{\"attributes\":{\"data_source\":{\"id\":\"1919a420-0d63-441f-b506-15f514271738\",\"type\":\"ColumnDataSource\"},\"glyph\":{\"id\":\"fc47d24b-6062-4499-8ba6-a9d1df82e5c3\",\"type\":\"Circle\"},\"hover_glyph\":null,\"muted_glyph\":null,\"nonselection_glyph\":{\"id\":\"69a4ef60-8868-49da-ad1d-078708b5c29b\",\"type\":\"Circle\"},\"selection_glyph\":null,\"view\":{\"id\":\"62e67985-e191-47e7-9e17-898437dfa0c9\",\"type\":\"CDSView\"}},\"id\":\"a207b406-f157-41d5-9ee5-ce307de90f36\",\"type\":\"GlyphRenderer\"},{\"attributes\":{\"fill_color\":{\"value\":\"#208F8C\"},\"line_color\":{\"value\":\"#208F8C\"},\"size\":{\"units\":\"screen\",\"value\":10},\"x\":{\"field\":\"x\"},\"y\":{\"field\":\"y\"}},\"id\":\"6bba0d49-70b8-4b1b-945d-9746e31206d6\",\"type\":\"Triangle\"},{\"attributes\":{\"overlay\":{\"id\":\"2add91bb-f653-4831-9e2f-098d741a5d17\",\"type\":\"BoxAnnotation\"}},\"id\":\"68ada17e-8c5e-4534-8cd5-b38766638fb0\",\"type\":\"BoxZoomTool\"},{\"attributes\":{},\"id\":\"96b94888-0c4d-4450-aad3-36cdd356a4db\",\"type\":\"LinearScale\"},{\"attributes\":{},\"id\":\"196fec31-124a-4148-aa7f-6040c8d16ae0\",\"type\":\"HelpTool\"},{\"attributes\":{\"data_source\":{\"id\":\"bcf30d90-ce3f-47e9-bd82-2feae7fb90ed\",\"type\":\"ColumnDataSource\"},\"glyph\":{\"id\":\"6bba0d49-70b8-4b1b-945d-9746e31206d6\",\"type\":\"Triangle\"},\"hover_glyph\":null,\"muted_glyph\":null,\"nonselection_glyph\":{\"id\":\"c18908f4-2696-4ebb-bfb0-dcf47eab01b0\",\"type\":\"Triangle\"},\"selection_glyph\":null,\"view\":{\"id\":\"a2d2e9d5-587b-484a-9f25-ff99c9847ebf\",\"type\":\"CDSView\"}},\"id\":\"13967d23-27be-4545-8966-3cf06fdf9471\",\"type\":\"GlyphRenderer\"},{\"attributes\":{\"callback\":null},\"id\":\"ada6ef0e-b6a6-49cc-a3fc-dd676ad76de1\",\"type\":\"DataRange1d\"},{\"attributes\":{},\"id\":\"3cb2d1db-9b11-49f9-8508-08d7653c46e0\",\"type\":\"BasicTicker\"},{\"attributes\":{\"callback\":null,\"column_names\":[\"x\",\"y\"],\"data\":{\"x\":[0,1,2,3,4,5,6,7,8,9,10],\"y\":[5,4,3,2,1,0,1,2,3,4,5]},\"selected\":null,\"selection_policy\":null},\"id\":\"93d9ca43-8ac8-45a1-977f-250dfd3d71e1\",\"type\":\"ColumnDataSource\"},{\"attributes\":{},\"id\":\"706d2256-18a4-406d-9516-c326ef0a83a0\",\"type\":\"PanTool\"},{\"attributes\":{\"callback\":null},\"id\":\"0afd3a33-532c-44cf-91d0-5200bb994f1a\",\"type\":\"DataRange1d\"},{\"attributes\":{\"fill_alpha\":{\"value\":0.1},\"fill_color\":{\"value\":\"#1f77b4\"},\"line_alpha\":{\"value\":0.1},\"line_color\":{\"value\":\"#1f77b4\"},\"size\":{\"units\":\"screen\",\"value\":10},\"x\":{\"field\":\"x\"},\"y\":{\"field\":\"y\"}},\"id\":\"c18908f4-2696-4ebb-bfb0-dcf47eab01b0\",\"type\":\"Triangle\"},{\"attributes\":{},\"id\":\"c4df78fc-a053-49d9-966c-790f09b62b70\",\"type\":\"WheelZoomTool\"},{\"attributes\":{\"callback\":null,\"column_names\":[\"x\",\"y\"],\"data\":{\"x\":[0,1,2,3,4,5,6,7,8,9,10],\"y\":[0,1,2,3,4,5,6,7,8,9,10]},\"selected\":null,\"selection_policy\":null},\"id\":\"1919a420-0d63-441f-b506-15f514271738\",\"type\":\"ColumnDataSource\"},{\"attributes\":{},\"id\":\"3e158ae1-1aa7-48f7-b745-9c690f841dfd\",\"type\":\"SaveTool\"},{\"attributes\":{},\"id\":\"e63684fb-8f9f-46bc-b222-e00ccff900b3\",\"type\":\"ResetTool\"},{\"attributes\":{\"below\":[{\"id\":\"fe58be69-6fcf-4c4a-b468-cefc34e80b3f\",\"type\":\"LinearAxis\"}],\"left\":[{\"id\":\"e6405f90-07c7-450b-9569-96148b52bed0\",\"type\":\"LinearAxis\"}],\"plot_height\":400,\"plot_width\":900,\"renderers\":[{\"id\":\"fe58be69-6fcf-4c4a-b468-cefc34e80b3f\",\"type\":\"LinearAxis\"},{\"id\":\"7c141a7c-d4e3-4acb-9f8e-af8cd38f238f\",\"type\":\"Grid\"},{\"id\":\"e6405f90-07c7-450b-9569-96148b52bed0\",\"type\":\"LinearAxis\"},{\"id\":\"d0b24e42-c847-45bb-b089-eb6fd4847418\",\"type\":\"Grid\"},{\"id\":\"2add91bb-f653-4831-9e2f-098d741a5d17\",\"type\":\"BoxAnnotation\"},{\"id\":\"a207b406-f157-41d5-9ee5-ce307de90f36\",\"type\":\"GlyphRenderer\"},{\"id\":\"13967d23-27be-4545-8966-3cf06fdf9471\",\"type\":\"GlyphRenderer\"},{\"id\":\"24835697-c8de-4d40-8660-4266d6d4a8e2\",\"type\":\"GlyphRenderer\"}],\"title\":{\"id\":\"575e1381-19cc-47f7-b111-815bec1de0a1\",\"type\":\"Title\"},\"toolbar\":{\"id\":\"06174809-04ec-4ba0-9334-49c1da73e83c\",\"type\":\"Toolbar\"},\"toolbar_location\":null,\"x_range\":{\"id\":\"0afd3a33-532c-44cf-91d0-5200bb994f1a\",\"type\":\"DataRange1d\"},\"x_scale\":{\"id\":\"3f2c3468-b43a-4a61-812f-1e30539d79f0\",\"type\":\"LinearScale\"},\"y_range\":{\"id\":\"ada6ef0e-b6a6-49cc-a3fc-dd676ad76de1\",\"type\":\"DataRange1d\"},\"y_scale\":{\"id\":\"96b94888-0c4d-4450-aad3-36cdd356a4db\",\"type\":\"LinearScale\"}},\"id\":\"b311684d-9f68-452f-9abe-8477d8092945\",\"subtype\":\"Figure\",\"type\":\"Plot\"},{\"attributes\":{},\"id\":\"2e3c1001-e00f-4684-b5e2-afba91244f36\",\"type\":\"BasicTickFormatter\"},{\"attributes\":{\"active_drag\":\"auto\",\"active_inspect\":\"auto\",\"active_scroll\":\"auto\",\"active_tap\":\"auto\",\"tools\":[{\"id\":\"706d2256-18a4-406d-9516-c326ef0a83a0\",\"type\":\"PanTool\"},{\"id\":\"c4df78fc-a053-49d9-966c-790f09b62b70\",\"type\":\"WheelZoomTool\"},{\"id\":\"68ada17e-8c5e-4534-8cd5-b38766638fb0\",\"type\":\"BoxZoomTool\"},{\"id\":\"3e158ae1-1aa7-48f7-b745-9c690f841dfd\",\"type\":\"SaveTool\"},{\"id\":\"e63684fb-8f9f-46bc-b222-e00ccff900b3\",\"type\":\"ResetTool\"},{\"id\":\"196fec31-124a-4148-aa7f-6040c8d16ae0\",\"type\":\"HelpTool\"}]},\"id\":\"06174809-04ec-4ba0-9334-49c1da73e83c\",\"type\":\"Toolbar\"},{\"attributes\":{\"fill_color\":{\"value\":\"#440154\"},\"line_color\":{\"value\":\"#440154\"},\"size\":{\"units\":\"screen\",\"value\":10},\"x\":{\"field\":\"x\"},\"y\":{\"field\":\"y\"}},\"id\":\"fc47d24b-6062-4499-8ba6-a9d1df82e5c3\",\"type\":\"Circle\"},{\"attributes\":{\"callback\":null,\"column_names\":[\"x\",\"y\"],\"data\":{\"x\":[0,1,2,3,4,5,6,7,8,9,10],\"y\":[10,9,8,7,6,5,4,3,2,1,0]},\"selected\":null,\"selection_policy\":null},\"id\":\"bcf30d90-ce3f-47e9-bd82-2feae7fb90ed\",\"type\":\"ColumnDataSource\"},{\"attributes\":{\"formatter\":{\"id\":\"0177eb52-f809-46c5-935c-74f8be53916a\",\"type\":\"BasicTickFormatter\"},\"plot\":{\"id\":\"b311684d-9f68-452f-9abe-8477d8092945\",\"subtype\":\"Figure\",\"type\":\"Plot\"},\"ticker\":{\"id\":\"fa203ee1-801e-4033-82d3-acd85c370049\",\"type\":\"BasicTicker\"}},\"id\":\"e6405f90-07c7-450b-9569-96148b52bed0\",\"type\":\"LinearAxis\"},{\"attributes\":{\"source\":{\"id\":\"93d9ca43-8ac8-45a1-977f-250dfd3d71e1\",\"type\":\"ColumnDataSource\"}},\"id\":\"324b17dd-4cb7-4177-8fff-74d4570438a5\",\"type\":\"CDSView\"},{\"attributes\":{\"source\":{\"id\":\"bcf30d90-ce3f-47e9-bd82-2feae7fb90ed\",\"type\":\"ColumnDataSource\"}},\"id\":\"a2d2e9d5-587b-484a-9f25-ff99c9847ebf\",\"type\":\"CDSView\"},{\"attributes\":{\"bottom_units\":\"screen\",\"fill_alpha\":{\"value\":0.5},\"fill_color\":{\"value\":\"lightgrey\"},\"left_units\":\"screen\",\"level\":\"overlay\",\"line_alpha\":{\"value\":1.0},\"line_color\":{\"value\":\"black\"},\"line_dash\":[4,4],\"line_width\":{\"value\":2},\"plot\":null,\"render_mode\":\"css\",\"right_units\":\"screen\",\"top_units\":\"screen\"},\"id\":\"2add91bb-f653-4831-9e2f-098d741a5d17\",\"type\":\"BoxAnnotation\"},{\"attributes\":{\"dimension\":1,\"plot\":{\"id\":\"b311684d-9f68-452f-9abe-8477d8092945\",\"subtype\":\"Figure\",\"type\":\"Plot\"},\"ticker\":{\"id\":\"fa203ee1-801e-4033-82d3-acd85c370049\",\"type\":\"BasicTicker\"}},\"id\":\"d0b24e42-c847-45bb-b089-eb6fd4847418\",\"type\":\"Grid\"},{\"attributes\":{\"fill_alpha\":{\"value\":0.1},\"fill_color\":{\"value\":\"#1f77b4\"},\"line_alpha\":{\"value\":0.1},\"line_color\":{\"value\":\"#1f77b4\"},\"size\":{\"units\":\"screen\",\"value\":10},\"x\":{\"field\":\"x\"},\"y\":{\"field\":\"y\"}},\"id\":\"f48f4af9-a4f4-4a57-8101-90812f4dae24\",\"type\":\"Square\"},{\"attributes\":{},\"id\":\"3f2c3468-b43a-4a61-812f-1e30539d79f0\",\"type\":\"LinearScale\"},{\"attributes\":{\"fill_alpha\":{\"value\":0.1},\"fill_color\":{\"value\":\"#1f77b4\"},\"line_alpha\":{\"value\":0.1},\"line_color\":{\"value\":\"#1f77b4\"},\"size\":{\"units\":\"screen\",\"value\":10},\"x\":{\"field\":\"x\"},\"y\":{\"field\":\"y\"}},\"id\":\"69a4ef60-8868-49da-ad1d-078708b5c29b\",\"type\":\"Circle\"},{\"attributes\":{},\"id\":\"fa203ee1-801e-4033-82d3-acd85c370049\",\"type\":\"BasicTicker\"}],\"root_ids\":[\"b311684d-9f68-452f-9abe-8477d8092945\"]},\"title\":\"Bokeh Application\",\"version\":\"0.12.15\"}};\n",
       "  var render_items = [{\"docid\":\"71b4457a-a736-4289-a75b-bf10b7614181\",\"elementid\":\"91aa64dd-15c9-4ff6-991d-d6571b0f8b03\",\"modelid\":\"b311684d-9f68-452f-9abe-8477d8092945\"}];\n",
       "  root.Bokeh.embed.embed_items_notebook(docs_json, render_items);\n",
       "\n",
       "  }\n",
       "  if (root.Bokeh !== undefined) {\n",
       "    embed_document(root);\n",
       "  } else {\n",
       "    var attempts = 0;\n",
       "    var timer = setInterval(function(root) {\n",
       "      if (root.Bokeh !== undefined) {\n",
       "        embed_document(root);\n",
       "        clearInterval(timer);\n",
       "      }\n",
       "      attempts++;\n",
       "      if (attempts > 100) {\n",
       "        console.log(\"Bokeh: ERROR: Unable to run BokehJS code because BokehJS library is missing\")\n",
       "        clearInterval(timer);\n",
       "      }\n",
       "    }, 10, root)\n",
       "  }\n",
       "})(window);"
      ],
      "application/vnd.bokehjs_exec.v0+json": ""
     },
     "metadata": {
      "application/vnd.bokehjs_exec.v0+json": {
       "id": "b311684d-9f68-452f-9abe-8477d8092945"
      }
     },
     "output_type": "display_data"
    }
   ],
   "source": [
    "\n",
    "x = list(range(11))\n",
    "y0 = x\n",
    "y1 = [10 - i for i in x]\n",
    "y2 = [abs(i - 5) for i in x]\n",
    "\n",
    "# create three plots\n",
    "s1 = figure(plot_width=900, plot_height=400, toolbar_location=None)\n",
    "s1.circle(x, y0, size=10, color=Viridis3[0])\n",
    "s1.triangle(x, y1, size=10, color=Viridis3[1])\n",
    "s1.square(x, y2, size=10, color=Viridis3[2])\n",
    "\n",
    "show(s1)"
   ]
  },
  {
   "cell_type": "code",
   "execution_count": 9,
   "metadata": {},
   "outputs": [],
   "source": [
    "l = layout([\n",
    "    [p2],\n",
    "    [p, s1]], sizing_mode='stretch_both')"
   ]
  },
  {
   "cell_type": "code",
   "execution_count": 10,
   "metadata": {},
   "outputs": [
    {
     "data": {
      "text/html": [
       "\n",
       "<div class=\"bk-root\">\n",
       "    <div class=\"bk-plotdiv\" id=\"08d4786e-33ae-4b7c-8782-e5b6241df214\"></div>\n",
       "</div>"
      ]
     },
     "metadata": {},
     "output_type": "display_data"
    },
    {
     "data": {
      "application/javascript": [
       "(function(root) {\n",
       "  function embed_document(root) {\n",
       "    \n",
       "  var docs_json = {\"65f4e850-2f25-478d-80bf-71869828e7c2\":{\"roots\":{\"references\":[{\"attributes\":{\"fill_color\":{\"value\":\"#FDE724\"},\"line_color\":{\"value\":\"#FDE724\"},\"size\":{\"units\":\"screen\",\"value\":10},\"x\":{\"field\":\"x\"},\"y\":{\"field\":\"y\"}},\"id\":\"de05411e-5843-4f80-8edc-9a2837bfaf27\",\"type\":\"Square\"},{\"attributes\":{\"formatter\":{\"id\":\"2e3c1001-e00f-4684-b5e2-afba91244f36\",\"type\":\"BasicTickFormatter\"},\"plot\":{\"id\":\"b311684d-9f68-452f-9abe-8477d8092945\",\"subtype\":\"Figure\",\"type\":\"Plot\"},\"ticker\":{\"id\":\"3cb2d1db-9b11-49f9-8508-08d7653c46e0\",\"type\":\"BasicTicker\"}},\"id\":\"fe58be69-6fcf-4c4a-b468-cefc34e80b3f\",\"type\":\"LinearAxis\"},{\"attributes\":{},\"id\":\"0177eb52-f809-46c5-935c-74f8be53916a\",\"type\":\"BasicTickFormatter\"},{\"attributes\":{\"source\":{\"id\":\"1919a420-0d63-441f-b506-15f514271738\",\"type\":\"ColumnDataSource\"}},\"id\":\"62e67985-e191-47e7-9e17-898437dfa0c9\",\"type\":\"CDSView\"},{\"attributes\":{\"data_source\":{\"id\":\"93d9ca43-8ac8-45a1-977f-250dfd3d71e1\",\"type\":\"ColumnDataSource\"},\"glyph\":{\"id\":\"de05411e-5843-4f80-8edc-9a2837bfaf27\",\"type\":\"Square\"},\"hover_glyph\":null,\"muted_glyph\":null,\"nonselection_glyph\":{\"id\":\"f48f4af9-a4f4-4a57-8101-90812f4dae24\",\"type\":\"Square\"},\"selection_glyph\":null,\"view\":{\"id\":\"324b17dd-4cb7-4177-8fff-74d4570438a5\",\"type\":\"CDSView\"}},\"id\":\"24835697-c8de-4d40-8660-4266d6d4a8e2\",\"type\":\"GlyphRenderer\"},{\"attributes\":{\"plot\":{\"id\":\"b311684d-9f68-452f-9abe-8477d8092945\",\"subtype\":\"Figure\",\"type\":\"Plot\"},\"ticker\":{\"id\":\"3cb2d1db-9b11-49f9-8508-08d7653c46e0\",\"type\":\"BasicTicker\"}},\"id\":\"7c141a7c-d4e3-4acb-9f8e-af8cd38f238f\",\"type\":\"Grid\"},{\"attributes\":{\"plot\":null,\"text\":\"\"},\"id\":\"575e1381-19cc-47f7-b111-815bec1de0a1\",\"type\":\"Title\"},{\"attributes\":{\"data_source\":{\"id\":\"1919a420-0d63-441f-b506-15f514271738\",\"type\":\"ColumnDataSource\"},\"glyph\":{\"id\":\"fc47d24b-6062-4499-8ba6-a9d1df82e5c3\",\"type\":\"Circle\"},\"hover_glyph\":null,\"muted_glyph\":null,\"nonselection_glyph\":{\"id\":\"69a4ef60-8868-49da-ad1d-078708b5c29b\",\"type\":\"Circle\"},\"selection_glyph\":null,\"view\":{\"id\":\"62e67985-e191-47e7-9e17-898437dfa0c9\",\"type\":\"CDSView\"}},\"id\":\"a207b406-f157-41d5-9ee5-ce307de90f36\",\"type\":\"GlyphRenderer\"},{\"attributes\":{\"fill_color\":{\"value\":\"#208F8C\"},\"line_color\":{\"value\":\"#208F8C\"},\"size\":{\"units\":\"screen\",\"value\":10},\"x\":{\"field\":\"x\"},\"y\":{\"field\":\"y\"}},\"id\":\"6bba0d49-70b8-4b1b-945d-9746e31206d6\",\"type\":\"Triangle\"},{\"attributes\":{\"overlay\":{\"id\":\"2add91bb-f653-4831-9e2f-098d741a5d17\",\"type\":\"BoxAnnotation\"}},\"id\":\"68ada17e-8c5e-4534-8cd5-b38766638fb0\",\"type\":\"BoxZoomTool\"},{\"attributes\":{},\"id\":\"96b94888-0c4d-4450-aad3-36cdd356a4db\",\"type\":\"LinearScale\"},{\"attributes\":{},\"id\":\"196fec31-124a-4148-aa7f-6040c8d16ae0\",\"type\":\"HelpTool\"},{\"attributes\":{\"data_source\":{\"id\":\"bcf30d90-ce3f-47e9-bd82-2feae7fb90ed\",\"type\":\"ColumnDataSource\"},\"glyph\":{\"id\":\"6bba0d49-70b8-4b1b-945d-9746e31206d6\",\"type\":\"Triangle\"},\"hover_glyph\":null,\"muted_glyph\":null,\"nonselection_glyph\":{\"id\":\"c18908f4-2696-4ebb-bfb0-dcf47eab01b0\",\"type\":\"Triangle\"},\"selection_glyph\":null,\"view\":{\"id\":\"a2d2e9d5-587b-484a-9f25-ff99c9847ebf\",\"type\":\"CDSView\"}},\"id\":\"13967d23-27be-4545-8966-3cf06fdf9471\",\"type\":\"GlyphRenderer\"},{\"attributes\":{\"callback\":null},\"id\":\"ada6ef0e-b6a6-49cc-a3fc-dd676ad76de1\",\"type\":\"DataRange1d\"},{\"attributes\":{},\"id\":\"3cb2d1db-9b11-49f9-8508-08d7653c46e0\",\"type\":\"BasicTicker\"},{\"attributes\":{\"callback\":null,\"column_names\":[\"x\",\"y\"],\"data\":{\"x\":[0,1,2,3,4,5,6,7,8,9,10],\"y\":[5,4,3,2,1,0,1,2,3,4,5]},\"selected\":null,\"selection_policy\":null},\"id\":\"93d9ca43-8ac8-45a1-977f-250dfd3d71e1\",\"type\":\"ColumnDataSource\"},{\"attributes\":{},\"id\":\"706d2256-18a4-406d-9516-c326ef0a83a0\",\"type\":\"PanTool\"},{\"attributes\":{\"callback\":null},\"id\":\"0afd3a33-532c-44cf-91d0-5200bb994f1a\",\"type\":\"DataRange1d\"},{\"attributes\":{\"fill_alpha\":{\"value\":0.1},\"fill_color\":{\"value\":\"#1f77b4\"},\"line_alpha\":{\"value\":0.1},\"line_color\":{\"value\":\"#1f77b4\"},\"size\":{\"units\":\"screen\",\"value\":10},\"x\":{\"field\":\"x\"},\"y\":{\"field\":\"y\"}},\"id\":\"c18908f4-2696-4ebb-bfb0-dcf47eab01b0\",\"type\":\"Triangle\"},{\"attributes\":{},\"id\":\"c4df78fc-a053-49d9-966c-790f09b62b70\",\"type\":\"WheelZoomTool\"},{\"attributes\":{\"callback\":null,\"column_names\":[\"x\",\"y\"],\"data\":{\"x\":[0,1,2,3,4,5,6,7,8,9,10],\"y\":[0,1,2,3,4,5,6,7,8,9,10]},\"selected\":null,\"selection_policy\":null},\"id\":\"1919a420-0d63-441f-b506-15f514271738\",\"type\":\"ColumnDataSource\"},{\"attributes\":{},\"id\":\"3e158ae1-1aa7-48f7-b745-9c690f841dfd\",\"type\":\"SaveTool\"},{\"attributes\":{},\"id\":\"e63684fb-8f9f-46bc-b222-e00ccff900b3\",\"type\":\"ResetTool\"},{\"attributes\":{\"below\":[{\"id\":\"fe58be69-6fcf-4c4a-b468-cefc34e80b3f\",\"type\":\"LinearAxis\"}],\"left\":[{\"id\":\"e6405f90-07c7-450b-9569-96148b52bed0\",\"type\":\"LinearAxis\"}],\"plot_height\":400,\"plot_width\":900,\"renderers\":[{\"id\":\"fe58be69-6fcf-4c4a-b468-cefc34e80b3f\",\"type\":\"LinearAxis\"},{\"id\":\"7c141a7c-d4e3-4acb-9f8e-af8cd38f238f\",\"type\":\"Grid\"},{\"id\":\"e6405f90-07c7-450b-9569-96148b52bed0\",\"type\":\"LinearAxis\"},{\"id\":\"d0b24e42-c847-45bb-b089-eb6fd4847418\",\"type\":\"Grid\"},{\"id\":\"2add91bb-f653-4831-9e2f-098d741a5d17\",\"type\":\"BoxAnnotation\"},{\"id\":\"a207b406-f157-41d5-9ee5-ce307de90f36\",\"type\":\"GlyphRenderer\"},{\"id\":\"13967d23-27be-4545-8966-3cf06fdf9471\",\"type\":\"GlyphRenderer\"},{\"id\":\"24835697-c8de-4d40-8660-4266d6d4a8e2\",\"type\":\"GlyphRenderer\"}],\"sizing_mode\":\"fixed\",\"title\":{\"id\":\"575e1381-19cc-47f7-b111-815bec1de0a1\",\"type\":\"Title\"},\"toolbar\":{\"id\":\"06174809-04ec-4ba0-9334-49c1da73e83c\",\"type\":\"Toolbar\"},\"toolbar_location\":null,\"x_range\":{\"id\":\"0afd3a33-532c-44cf-91d0-5200bb994f1a\",\"type\":\"DataRange1d\"},\"x_scale\":{\"id\":\"3f2c3468-b43a-4a61-812f-1e30539d79f0\",\"type\":\"LinearScale\"},\"y_range\":{\"id\":\"ada6ef0e-b6a6-49cc-a3fc-dd676ad76de1\",\"type\":\"DataRange1d\"},\"y_scale\":{\"id\":\"96b94888-0c4d-4450-aad3-36cdd356a4db\",\"type\":\"LinearScale\"}},\"id\":\"b311684d-9f68-452f-9abe-8477d8092945\",\"subtype\":\"Figure\",\"type\":\"Plot\"},{\"attributes\":{},\"id\":\"2e3c1001-e00f-4684-b5e2-afba91244f36\",\"type\":\"BasicTickFormatter\"},{\"attributes\":{\"active_drag\":\"auto\",\"active_inspect\":\"auto\",\"active_scroll\":\"auto\",\"active_tap\":\"auto\",\"tools\":[{\"id\":\"706d2256-18a4-406d-9516-c326ef0a83a0\",\"type\":\"PanTool\"},{\"id\":\"c4df78fc-a053-49d9-966c-790f09b62b70\",\"type\":\"WheelZoomTool\"},{\"id\":\"68ada17e-8c5e-4534-8cd5-b38766638fb0\",\"type\":\"BoxZoomTool\"},{\"id\":\"3e158ae1-1aa7-48f7-b745-9c690f841dfd\",\"type\":\"SaveTool\"},{\"id\":\"e63684fb-8f9f-46bc-b222-e00ccff900b3\",\"type\":\"ResetTool\"},{\"id\":\"196fec31-124a-4148-aa7f-6040c8d16ae0\",\"type\":\"HelpTool\"}]},\"id\":\"06174809-04ec-4ba0-9334-49c1da73e83c\",\"type\":\"Toolbar\"},{\"attributes\":{\"fill_color\":{\"value\":\"#440154\"},\"line_color\":{\"value\":\"#440154\"},\"size\":{\"units\":\"screen\",\"value\":10},\"x\":{\"field\":\"x\"},\"y\":{\"field\":\"y\"}},\"id\":\"fc47d24b-6062-4499-8ba6-a9d1df82e5c3\",\"type\":\"Circle\"},{\"attributes\":{\"callback\":null,\"column_names\":[\"x\",\"y\"],\"data\":{\"x\":[0,1,2,3,4,5,6,7,8,9,10],\"y\":[10,9,8,7,6,5,4,3,2,1,0]},\"selected\":null,\"selection_policy\":null},\"id\":\"bcf30d90-ce3f-47e9-bd82-2feae7fb90ed\",\"type\":\"ColumnDataSource\"},{\"attributes\":{\"formatter\":{\"id\":\"0177eb52-f809-46c5-935c-74f8be53916a\",\"type\":\"BasicTickFormatter\"},\"plot\":{\"id\":\"b311684d-9f68-452f-9abe-8477d8092945\",\"subtype\":\"Figure\",\"type\":\"Plot\"},\"ticker\":{\"id\":\"fa203ee1-801e-4033-82d3-acd85c370049\",\"type\":\"BasicTicker\"}},\"id\":\"e6405f90-07c7-450b-9569-96148b52bed0\",\"type\":\"LinearAxis\"},{\"attributes\":{\"source\":{\"id\":\"93d9ca43-8ac8-45a1-977f-250dfd3d71e1\",\"type\":\"ColumnDataSource\"}},\"id\":\"324b17dd-4cb7-4177-8fff-74d4570438a5\",\"type\":\"CDSView\"},{\"attributes\":{\"source\":{\"id\":\"bcf30d90-ce3f-47e9-bd82-2feae7fb90ed\",\"type\":\"ColumnDataSource\"}},\"id\":\"a2d2e9d5-587b-484a-9f25-ff99c9847ebf\",\"type\":\"CDSView\"},{\"attributes\":{\"bottom_units\":\"screen\",\"fill_alpha\":{\"value\":0.5},\"fill_color\":{\"value\":\"lightgrey\"},\"left_units\":\"screen\",\"level\":\"overlay\",\"line_alpha\":{\"value\":1.0},\"line_color\":{\"value\":\"black\"},\"line_dash\":[4,4],\"line_width\":{\"value\":2},\"plot\":null,\"render_mode\":\"css\",\"right_units\":\"screen\",\"top_units\":\"screen\"},\"id\":\"2add91bb-f653-4831-9e2f-098d741a5d17\",\"type\":\"BoxAnnotation\"},{\"attributes\":{\"dimension\":1,\"plot\":{\"id\":\"b311684d-9f68-452f-9abe-8477d8092945\",\"subtype\":\"Figure\",\"type\":\"Plot\"},\"ticker\":{\"id\":\"fa203ee1-801e-4033-82d3-acd85c370049\",\"type\":\"BasicTicker\"}},\"id\":\"d0b24e42-c847-45bb-b089-eb6fd4847418\",\"type\":\"Grid\"},{\"attributes\":{\"fill_alpha\":{\"value\":0.1},\"fill_color\":{\"value\":\"#1f77b4\"},\"line_alpha\":{\"value\":0.1},\"line_color\":{\"value\":\"#1f77b4\"},\"size\":{\"units\":\"screen\",\"value\":10},\"x\":{\"field\":\"x\"},\"y\":{\"field\":\"y\"}},\"id\":\"f48f4af9-a4f4-4a57-8101-90812f4dae24\",\"type\":\"Square\"},{\"attributes\":{},\"id\":\"3f2c3468-b43a-4a61-812f-1e30539d79f0\",\"type\":\"LinearScale\"},{\"attributes\":{\"fill_alpha\":{\"value\":0.1},\"fill_color\":{\"value\":\"#1f77b4\"},\"line_alpha\":{\"value\":0.1},\"line_color\":{\"value\":\"#1f77b4\"},\"size\":{\"units\":\"screen\",\"value\":10},\"x\":{\"field\":\"x\"},\"y\":{\"field\":\"y\"}},\"id\":\"69a4ef60-8868-49da-ad1d-078708b5c29b\",\"type\":\"Circle\"},{\"attributes\":{\"children\":[{\"id\":\"b311684d-9f68-452f-9abe-8477d8092945\",\"subtype\":\"Figure\",\"type\":\"Plot\"}]},\"id\":\"e24a5b80-ef45-42a4-b278-672e99063672\",\"type\":\"Row\"},{\"attributes\":{},\"id\":\"fa203ee1-801e-4033-82d3-acd85c370049\",\"type\":\"BasicTicker\"}],\"root_ids\":[\"e24a5b80-ef45-42a4-b278-672e99063672\"]},\"title\":\"Bokeh Application\",\"version\":\"0.12.15\"}};\n",
       "  var render_items = [{\"docid\":\"65f4e850-2f25-478d-80bf-71869828e7c2\",\"elementid\":\"08d4786e-33ae-4b7c-8782-e5b6241df214\",\"modelid\":\"e24a5b80-ef45-42a4-b278-672e99063672\"}];\n",
       "  root.Bokeh.embed.embed_items_notebook(docs_json, render_items);\n",
       "\n",
       "  }\n",
       "  if (root.Bokeh !== undefined) {\n",
       "    embed_document(root);\n",
       "  } else {\n",
       "    var attempts = 0;\n",
       "    var timer = setInterval(function(root) {\n",
       "      if (root.Bokeh !== undefined) {\n",
       "        embed_document(root);\n",
       "        clearInterval(timer);\n",
       "      }\n",
       "      attempts++;\n",
       "      if (attempts > 100) {\n",
       "        console.log(\"Bokeh: ERROR: Unable to run BokehJS code because BokehJS library is missing\")\n",
       "        clearInterval(timer);\n",
       "      }\n",
       "    }, 10, root)\n",
       "  }\n",
       "})(window);"
      ],
      "application/vnd.bokehjs_exec.v0+json": ""
     },
     "metadata": {
      "application/vnd.bokehjs_exec.v0+json": {
       "id": "e24a5b80-ef45-42a4-b278-672e99063672"
      }
     },
     "output_type": "display_data"
    },
    {
     "data": {
      "text/html": [
       "\n",
       "<div class=\"bk-root\">\n",
       "    <div class=\"bk-plotdiv\" id=\"906bb282-e27d-44c0-9c10-1d8c62ff950e\"></div>\n",
       "</div>"
      ]
     },
     "metadata": {},
     "output_type": "display_data"
    },
    {
     "data": {
      "application/javascript": [
       "(function(root) {\n",
       "  function embed_document(root) {\n",
       "    \n",
       "  var docs_json = {\"f423c90a-79c5-4c51-bb2d-2f102bb7a13b\":{\"roots\":{\"references\":[{\"attributes\":{\"fill_alpha\":{\"value\":0.5},\"fill_color\":{\"value\":\"navy\"},\"line_alpha\":{\"value\":0.5},\"line_color\":{\"value\":\"navy\"},\"size\":{\"units\":\"screen\",\"value\":20},\"x\":{\"field\":\"x\"},\"y\":{\"field\":\"y\"}},\"id\":\"9c9fafb3-3d36-44bb-a2b4-b39f951123f8\",\"type\":\"Circle\"},{\"attributes\":{\"overlay\":{\"id\":\"e99af2d6-ce4e-40cf-9afe-bd2f8ed37983\",\"type\":\"BoxAnnotation\"}},\"id\":\"67803c65-2310-45b1-bafe-d90d19480566\",\"type\":\"BoxZoomTool\"},{\"attributes\":{},\"id\":\"44a8b010-d6f5-4238-913c-16e8a03fa47c\",\"type\":\"BasicTicker\"},{\"attributes\":{\"data_source\":{\"id\":\"e7f6a91a-ee10-46cb-a32b-6336ff5f86cd\",\"type\":\"ColumnDataSource\"},\"glyph\":{\"id\":\"490de93c-47ed-4a1f-a346-964ef0b432a3\",\"type\":\"Rect\"},\"hover_glyph\":null,\"muted_glyph\":null,\"nonselection_glyph\":{\"id\":\"26a1f66b-4e80-44a1-952c-945fda8caeb3\",\"type\":\"Rect\"},\"selection_glyph\":null,\"view\":{\"id\":\"ff455620-70d2-41f2-be2e-0ca0fbb92ce1\",\"type\":\"CDSView\"}},\"id\":\"8a2c4a45-088a-4788-9578-7a24be097644\",\"type\":\"GlyphRenderer\"},{\"attributes\":{},\"id\":\"5a5b25d3-d0ed-4043-99b5-04b996b0ac04\",\"type\":\"HelpTool\"},{\"attributes\":{\"angle\":{\"units\":\"rad\",\"value\":1.0471975511965976},\"fill_alpha\":{\"value\":0.1},\"fill_color\":{\"value\":\"#1f77b4\"},\"height\":{\"units\":\"screen\",\"value\":40},\"line_alpha\":{\"value\":0.1},\"line_color\":{\"value\":\"#1f77b4\"},\"width\":{\"units\":\"data\",\"value\":0.2},\"x\":{\"field\":\"x\"},\"y\":{\"field\":\"y\"}},\"id\":\"26a1f66b-4e80-44a1-952c-945fda8caeb3\",\"type\":\"Rect\"},{\"attributes\":{},\"id\":\"024560c2-e49a-49fd-b435-61d5339cbcc0\",\"type\":\"BasicTickFormatter\"},{\"attributes\":{\"below\":[{\"id\":\"3244a33e-648e-42f8-99f1-f6c06787984f\",\"type\":\"CategoricalAxis\"}],\"left\":[{\"id\":\"fcb4c61e-1eeb-47d1-bdd4-4d9542d15956\",\"type\":\"LinearAxis\"}],\"min_border_bottom\":25,\"min_border_left\":40,\"min_border_right\":20,\"min_border_top\":30,\"outline_line_color\":{\"value\":null},\"plot_height\":200,\"plot_width\":450,\"renderers\":[{\"id\":\"3244a33e-648e-42f8-99f1-f6c06787984f\",\"type\":\"CategoricalAxis\"},{\"id\":\"22dad7b6-467c-4990-8d5b-79aa70357e57\",\"type\":\"Grid\"},{\"id\":\"fcb4c61e-1eeb-47d1-bdd4-4d9542d15956\",\"type\":\"LinearAxis\"},{\"id\":\"ac10764c-d3b7-4689-8cee-fcc423027be2\",\"type\":\"Grid\"},{\"id\":\"e2aa057a-a2b4-4dca-8e48-13c70435a741\",\"type\":\"GlyphRenderer\"}],\"sizing_mode\":\"fixed\",\"title\":{\"id\":\"5588b6e8-abcb-4c2f-9569-898a5de15e63\",\"type\":\"Title\"},\"toolbar\":{\"id\":\"23a4822a-339a-48f1-a134-2914af33deaf\",\"type\":\"Toolbar\"},\"toolbar_location\":null,\"x_range\":{\"id\":\"6edb56b2-6346-4373-8588-1f0cab8969a0\",\"type\":\"FactorRange\"},\"x_scale\":{\"id\":\"f9cbaa49-bee3-4047-a644-47c012504d24\",\"type\":\"CategoricalScale\"},\"y_range\":{\"id\":\"27d6a794-b29e-41bb-8473-0bacd43a68e4\",\"type\":\"DataRange1d\"},\"y_scale\":{\"id\":\"03ca8727-0f18-47da-891d-8289a893916a\",\"type\":\"LinearScale\"}},\"id\":\"a7a50f9d-5661-46b4-ac3e-6957509e9a11\",\"subtype\":\"Figure\",\"type\":\"Plot\"},{\"attributes\":{\"source\":{\"id\":\"e7f6a91a-ee10-46cb-a32b-6336ff5f86cd\",\"type\":\"ColumnDataSource\"}},\"id\":\"ff455620-70d2-41f2-be2e-0ca0fbb92ce1\",\"type\":\"CDSView\"},{\"attributes\":{\"plot\":null,\"text\":\"\"},\"id\":\"728a4252-0358-4fd8-becf-0522b7b6f07f\",\"type\":\"Title\"},{\"attributes\":{\"callback\":null,\"column_names\":[\"motion\",\"prob\",\"number\"],\"data\":{\"motion\":[\"UNDERSHOOT\",\"EXACT\",\"OVERSHOOT\"],\"number\":[-1,0,1],\"prob\":[0.1,0.7,0.2]},\"selected\":null,\"selection_policy\":null},\"id\":\"a8d8a55c-d88d-435d-941c-efdcada9db45\",\"type\":\"ColumnDataSource\"},{\"attributes\":{},\"id\":\"04e75a81-6585-46ce-8dbd-886cf846ed41\",\"type\":\"PanTool\"},{\"attributes\":{\"callback\":null,\"tooltips\":[[\"motion\",\"@motion\"],[\"probability\",\"@prob\"],[\"number:\",\"@number\"]]},\"id\":\"9a1831b6-3b2f-411d-936d-ffd354d6bb46\",\"type\":\"HoverTool\"},{\"attributes\":{\"callback\":null,\"column_names\":[\"x\",\"y\"],\"data\":{\"x\":[1,2,3],\"y\":[1,2,3]},\"selected\":null,\"selection_policy\":null},\"id\":\"e7f6a91a-ee10-46cb-a32b-6336ff5f86cd\",\"type\":\"ColumnDataSource\"},{\"attributes\":{\"plot\":{\"id\":\"0918da56-33b4-41a6-a0c6-91a0c14944a5\",\"subtype\":\"Figure\",\"type\":\"Plot\"},\"ticker\":{\"id\":\"dd82ae7d-9a79-402f-91c4-c39cbb9a1736\",\"type\":\"BasicTicker\"}},\"id\":\"4e294b33-5a6e-4e3e-b866-899d0a894767\",\"type\":\"Grid\"},{\"attributes\":{\"axis_line_color\":{\"value\":null},\"formatter\":{\"id\":\"627a0959-4746-47d6-a5a8-cd46f14bfee9\",\"type\":\"CategoricalTickFormatter\"},\"major_label_standoff\":0,\"major_label_text_color\":{\"value\":\"#576574\"},\"major_label_text_font\":\"verdana\",\"major_tick_line_color\":{\"value\":null},\"minor_tick_line_color\":{\"value\":null},\"plot\":{\"id\":\"a7a50f9d-5661-46b4-ac3e-6957509e9a11\",\"subtype\":\"Figure\",\"type\":\"Plot\"},\"ticker\":{\"id\":\"3772188b-e2eb-4f30-bbbc-99441c3acece\",\"type\":\"CategoricalTicker\"}},\"id\":\"3244a33e-648e-42f8-99f1-f6c06787984f\",\"type\":\"CategoricalAxis\"},{\"attributes\":{\"active_drag\":\"auto\",\"active_inspect\":\"auto\",\"active_scroll\":\"auto\",\"active_tap\":\"auto\",\"tools\":[{\"id\":\"9a1831b6-3b2f-411d-936d-ffd354d6bb46\",\"type\":\"HoverTool\"}]},\"id\":\"23a4822a-339a-48f1-a134-2914af33deaf\",\"type\":\"Toolbar\"},{\"attributes\":{\"angle\":{\"units\":\"rad\",\"value\":1.0471975511965976},\"fill_color\":{\"value\":\"#CAB2D6\"},\"height\":{\"units\":\"screen\",\"value\":40},\"line_color\":{\"value\":\"#CAB2D6\"},\"width\":{\"units\":\"data\",\"value\":0.2},\"x\":{\"field\":\"x\"},\"y\":{\"field\":\"y\"}},\"id\":\"490de93c-47ed-4a1f-a346-964ef0b432a3\",\"type\":\"Rect\"},{\"attributes\":{\"source\":{\"id\":\"84671d96-f9ff-4840-97c5-49318d17f43e\",\"type\":\"ColumnDataSource\"}},\"id\":\"c200fb3c-0c15-42af-8434-3af824340fc2\",\"type\":\"CDSView\"},{\"attributes\":{\"grid_line_color\":{\"value\":null},\"plot\":{\"id\":\"a7a50f9d-5661-46b4-ac3e-6957509e9a11\",\"subtype\":\"Figure\",\"type\":\"Plot\"},\"ticker\":{\"id\":\"3772188b-e2eb-4f30-bbbc-99441c3acece\",\"type\":\"CategoricalTicker\"}},\"id\":\"22dad7b6-467c-4990-8d5b-79aa70357e57\",\"type\":\"Grid\"},{\"attributes\":{\"active_drag\":\"auto\",\"active_inspect\":\"auto\",\"active_scroll\":\"auto\",\"active_tap\":\"auto\",\"tools\":[{\"id\":\"04e75a81-6585-46ce-8dbd-886cf846ed41\",\"type\":\"PanTool\"},{\"id\":\"579631dd-f542-4bbb-9c35-21c8c0c27e84\",\"type\":\"WheelZoomTool\"},{\"id\":\"67803c65-2310-45b1-bafe-d90d19480566\",\"type\":\"BoxZoomTool\"},{\"id\":\"1a76e249-b81f-48c2-92ab-98ce1eb324bd\",\"type\":\"SaveTool\"},{\"id\":\"fdb60220-00cf-431c-a902-79b40044cec5\",\"type\":\"ResetTool\"},{\"id\":\"5a5b25d3-d0ed-4043-99b5-04b996b0ac04\",\"type\":\"HelpTool\"}]},\"id\":\"35dff333-df31-44fc-82da-4241bab38731\",\"type\":\"Toolbar\"},{\"attributes\":{},\"id\":\"dd82ae7d-9a79-402f-91c4-c39cbb9a1736\",\"type\":\"BasicTicker\"},{\"attributes\":{\"bottom_units\":\"screen\",\"fill_alpha\":{\"value\":0.5},\"fill_color\":{\"value\":\"lightgrey\"},\"left_units\":\"screen\",\"level\":\"overlay\",\"line_alpha\":{\"value\":1.0},\"line_color\":{\"value\":\"black\"},\"line_dash\":[4,4],\"line_width\":{\"value\":2},\"plot\":null,\"render_mode\":\"css\",\"right_units\":\"screen\",\"top_units\":\"screen\"},\"id\":\"e99af2d6-ce4e-40cf-9afe-bd2f8ed37983\",\"type\":\"BoxAnnotation\"},{\"attributes\":{\"callback\":null,\"factors\":[\"UNDERSHOOT\",\"EXACT\",\"OVERSHOOT\"]},\"id\":\"6edb56b2-6346-4373-8588-1f0cab8969a0\",\"type\":\"FactorRange\"},{\"attributes\":{},\"id\":\"fdb60220-00cf-431c-a902-79b40044cec5\",\"type\":\"ResetTool\"},{\"attributes\":{\"align\":\"center\",\"plot\":null,\"text\":\"MOTION PROBABILITY\",\"text_font\":\"verdana\"},\"id\":\"5588b6e8-abcb-4c2f-9569-898a5de15e63\",\"type\":\"Title\"},{\"attributes\":{\"below\":[{\"id\":\"118d96ba-7096-42f5-b0ee-78d7bca31735\",\"type\":\"LinearAxis\"}],\"left\":[{\"id\":\"9ab177a7-f820-496e-b4b0-9bcba9997cfc\",\"type\":\"LinearAxis\"}],\"plot_height\":200,\"plot_width\":450,\"renderers\":[{\"id\":\"118d96ba-7096-42f5-b0ee-78d7bca31735\",\"type\":\"LinearAxis\"},{\"id\":\"4e294b33-5a6e-4e3e-b866-899d0a894767\",\"type\":\"Grid\"},{\"id\":\"9ab177a7-f820-496e-b4b0-9bcba9997cfc\",\"type\":\"LinearAxis\"},{\"id\":\"7d1af6f1-2740-47bb-a841-be6d13e6f52f\",\"type\":\"Grid\"},{\"id\":\"e99af2d6-ce4e-40cf-9afe-bd2f8ed37983\",\"type\":\"BoxAnnotation\"},{\"id\":\"216048eb-6565-43fc-b1d2-9d0606dd12d2\",\"type\":\"GlyphRenderer\"},{\"id\":\"8a2c4a45-088a-4788-9578-7a24be097644\",\"type\":\"GlyphRenderer\"},{\"id\":\"56183fa3-3993-43be-848d-1e7e4d878b10\",\"type\":\"GlyphRenderer\"}],\"sizing_mode\":\"fixed\",\"title\":{\"id\":\"728a4252-0358-4fd8-becf-0522b7b6f07f\",\"type\":\"Title\"},\"toolbar\":{\"id\":\"35dff333-df31-44fc-82da-4241bab38731\",\"type\":\"Toolbar\"},\"toolbar_location\":null,\"x_range\":{\"id\":\"72a395eb-e393-4704-8277-d0c44a995f79\",\"type\":\"DataRange1d\"},\"x_scale\":{\"id\":\"c0d82477-2d74-4aad-8105-6686839d9ae6\",\"type\":\"LinearScale\"},\"y_range\":{\"id\":\"3e5b13b8-6d52-4b0a-8b9f-603904c8a49b\",\"type\":\"DataRange1d\"},\"y_scale\":{\"id\":\"c23cfb52-40b3-4fe5-9597-b7d8b83d9284\",\"type\":\"LinearScale\"}},\"id\":\"0918da56-33b4-41a6-a0c6-91a0c14944a5\",\"subtype\":\"Figure\",\"type\":\"Plot\"},{\"attributes\":{},\"id\":\"1a76e249-b81f-48c2-92ab-98ce1eb324bd\",\"type\":\"SaveTool\"},{\"attributes\":{\"callback\":null},\"id\":\"72a395eb-e393-4704-8277-d0c44a995f79\",\"type\":\"DataRange1d\"},{\"attributes\":{},\"id\":\"f9cbaa49-bee3-4047-a644-47c012504d24\",\"type\":\"CategoricalScale\"},{\"attributes\":{\"axis_line_color\":{\"value\":null},\"formatter\":{\"id\":\"e0ba4fbf-6e15-49c3-87e2-acb997f4aed7\",\"type\":\"BasicTickFormatter\"},\"major_label_standoff\":0,\"major_label_text_color\":{\"value\":\"#576574\"},\"major_label_text_font\":\"verdana\",\"major_tick_line_color\":{\"value\":null},\"minor_tick_line_color\":{\"value\":null},\"plot\":{\"id\":\"a7a50f9d-5661-46b4-ac3e-6957509e9a11\",\"subtype\":\"Figure\",\"type\":\"Plot\"},\"ticker\":{\"id\":\"026723b7-f32c-47ed-8396-70acaf166472\",\"type\":\"BasicTicker\"}},\"id\":\"fcb4c61e-1eeb-47d1-bdd4-4d9542d15956\",\"type\":\"LinearAxis\"},{\"attributes\":{\"callback\":null,\"column_names\":[\"left\",\"right\",\"top\",\"bottom\"],\"data\":{\"bottom\":[1,2,3],\"left\":[1,2,3],\"right\":[1.2,2.5,3.7],\"top\":[2,3,4]},\"selected\":null,\"selection_policy\":null},\"id\":\"48a8b489-6562-4786-b995-4cfedabe32f9\",\"type\":\"ColumnDataSource\"},{\"attributes\":{},\"id\":\"03ca8727-0f18-47da-891d-8289a893916a\",\"type\":\"LinearScale\"},{\"attributes\":{\"callback\":null,\"end\":1.0,\"start\":0.0},\"id\":\"27d6a794-b29e-41bb-8473-0bacd43a68e4\",\"type\":\"DataRange1d\"},{\"attributes\":{\"bottom\":{\"field\":\"bottom\"},\"fill_color\":{\"value\":\"#B3DE69\"},\"left\":{\"field\":\"left\"},\"line_color\":{\"value\":\"#B3DE69\"},\"right\":{\"field\":\"right\"},\"top\":{\"field\":\"top\"}},\"id\":\"dde90a74-a16a-4eab-a0ee-ea48e9e31b25\",\"type\":\"Quad\"},{\"attributes\":{\"fill_color\":{\"value\":\"#b3de69\"},\"line_color\":{\"value\":\"white\"},\"top\":{\"field\":\"prob\"},\"width\":{\"value\":0.95},\"x\":{\"field\":\"motion\"}},\"id\":\"71317a9e-5142-4ad6-9ed5-488870ab0103\",\"type\":\"VBar\"},{\"attributes\":{},\"id\":\"3772188b-e2eb-4f30-bbbc-99441c3acece\",\"type\":\"CategoricalTicker\"},{\"attributes\":{\"callback\":null,\"column_names\":[\"x\",\"y\"],\"data\":{\"x\":[1,2,3,4,5],\"y\":[6,7,2,4,5]},\"selected\":null,\"selection_policy\":null},\"id\":\"84671d96-f9ff-4840-97c5-49318d17f43e\",\"type\":\"ColumnDataSource\"},{\"attributes\":{},\"id\":\"026723b7-f32c-47ed-8396-70acaf166472\",\"type\":\"BasicTicker\"},{\"attributes\":{\"bottom\":{\"field\":\"bottom\"},\"fill_alpha\":{\"value\":0.1},\"fill_color\":{\"value\":\"#1f77b4\"},\"left\":{\"field\":\"left\"},\"line_alpha\":{\"value\":0.1},\"line_color\":{\"value\":\"#1f77b4\"},\"right\":{\"field\":\"right\"},\"top\":{\"field\":\"top\"}},\"id\":\"f2c2f466-cf61-497a-9691-0613a776b768\",\"type\":\"Quad\"},{\"attributes\":{\"dimension\":1,\"plot\":{\"id\":\"a7a50f9d-5661-46b4-ac3e-6957509e9a11\",\"subtype\":\"Figure\",\"type\":\"Plot\"},\"ticker\":{\"id\":\"026723b7-f32c-47ed-8396-70acaf166472\",\"type\":\"BasicTicker\"}},\"id\":\"ac10764c-d3b7-4689-8cee-fcc423027be2\",\"type\":\"Grid\"},{\"attributes\":{\"fill_alpha\":{\"value\":0.1},\"fill_color\":{\"value\":\"#1f77b4\"},\"line_alpha\":{\"value\":0.1},\"line_color\":{\"value\":\"#1f77b4\"},\"size\":{\"units\":\"screen\",\"value\":20},\"x\":{\"field\":\"x\"},\"y\":{\"field\":\"y\"}},\"id\":\"54fa8c96-26eb-4197-a1e8-287e13b8260b\",\"type\":\"Circle\"},{\"attributes\":{\"fill_alpha\":{\"value\":0.1},\"fill_color\":{\"value\":\"#1f77b4\"},\"line_alpha\":{\"value\":0.1},\"line_color\":{\"value\":\"#1f77b4\"},\"top\":{\"field\":\"prob\"},\"width\":{\"value\":0.95},\"x\":{\"field\":\"motion\"}},\"id\":\"4e921bf8-97cb-491f-b5e6-4d6eac0ae2c1\",\"type\":\"VBar\"},{\"attributes\":{},\"id\":\"579631dd-f542-4bbb-9c35-21c8c0c27e84\",\"type\":\"WheelZoomTool\"},{\"attributes\":{},\"id\":\"e0ba4fbf-6e15-49c3-87e2-acb997f4aed7\",\"type\":\"BasicTickFormatter\"},{\"attributes\":{\"source\":{\"id\":\"48a8b489-6562-4786-b995-4cfedabe32f9\",\"type\":\"ColumnDataSource\"}},\"id\":\"8f1b42db-ae9d-4a6a-8235-d6704ecf7296\",\"type\":\"CDSView\"},{\"attributes\":{\"data_source\":{\"id\":\"a8d8a55c-d88d-435d-941c-efdcada9db45\",\"type\":\"ColumnDataSource\"},\"glyph\":{\"id\":\"71317a9e-5142-4ad6-9ed5-488870ab0103\",\"type\":\"VBar\"},\"hover_glyph\":null,\"muted_glyph\":null,\"nonselection_glyph\":{\"id\":\"4e921bf8-97cb-491f-b5e6-4d6eac0ae2c1\",\"type\":\"VBar\"},\"selection_glyph\":null,\"view\":{\"id\":\"f08e3be9-82b0-4f34-bb21-638c8893ccd2\",\"type\":\"CDSView\"}},\"id\":\"e2aa057a-a2b4-4dca-8e48-13c70435a741\",\"type\":\"GlyphRenderer\"},{\"attributes\":{\"data_source\":{\"id\":\"84671d96-f9ff-4840-97c5-49318d17f43e\",\"type\":\"ColumnDataSource\"},\"glyph\":{\"id\":\"9c9fafb3-3d36-44bb-a2b4-b39f951123f8\",\"type\":\"Circle\"},\"hover_glyph\":null,\"muted_glyph\":null,\"nonselection_glyph\":{\"id\":\"54fa8c96-26eb-4197-a1e8-287e13b8260b\",\"type\":\"Circle\"},\"selection_glyph\":null,\"view\":{\"id\":\"c200fb3c-0c15-42af-8434-3af824340fc2\",\"type\":\"CDSView\"}},\"id\":\"216048eb-6565-43fc-b1d2-9d0606dd12d2\",\"type\":\"GlyphRenderer\"},{\"attributes\":{\"callback\":null},\"id\":\"3e5b13b8-6d52-4b0a-8b9f-603904c8a49b\",\"type\":\"DataRange1d\"},{\"attributes\":{\"formatter\":{\"id\":\"024560c2-e49a-49fd-b435-61d5339cbcc0\",\"type\":\"BasicTickFormatter\"},\"plot\":{\"id\":\"0918da56-33b4-41a6-a0c6-91a0c14944a5\",\"subtype\":\"Figure\",\"type\":\"Plot\"},\"ticker\":{\"id\":\"dd82ae7d-9a79-402f-91c4-c39cbb9a1736\",\"type\":\"BasicTicker\"}},\"id\":\"118d96ba-7096-42f5-b0ee-78d7bca31735\",\"type\":\"LinearAxis\"},{\"attributes\":{},\"id\":\"c0d82477-2d74-4aad-8105-6686839d9ae6\",\"type\":\"LinearScale\"},{\"attributes\":{\"source\":{\"id\":\"a8d8a55c-d88d-435d-941c-efdcada9db45\",\"type\":\"ColumnDataSource\"}},\"id\":\"f08e3be9-82b0-4f34-bb21-638c8893ccd2\",\"type\":\"CDSView\"},{\"attributes\":{\"dimension\":1,\"plot\":{\"id\":\"0918da56-33b4-41a6-a0c6-91a0c14944a5\",\"subtype\":\"Figure\",\"type\":\"Plot\"},\"ticker\":{\"id\":\"44a8b010-d6f5-4238-913c-16e8a03fa47c\",\"type\":\"BasicTicker\"}},\"id\":\"7d1af6f1-2740-47bb-a841-be6d13e6f52f\",\"type\":\"Grid\"},{\"attributes\":{},\"id\":\"627a0959-4746-47d6-a5a8-cd46f14bfee9\",\"type\":\"CategoricalTickFormatter\"},{\"attributes\":{\"data_source\":{\"id\":\"48a8b489-6562-4786-b995-4cfedabe32f9\",\"type\":\"ColumnDataSource\"},\"glyph\":{\"id\":\"dde90a74-a16a-4eab-a0ee-ea48e9e31b25\",\"type\":\"Quad\"},\"hover_glyph\":null,\"muted_glyph\":null,\"nonselection_glyph\":{\"id\":\"f2c2f466-cf61-497a-9691-0613a776b768\",\"type\":\"Quad\"},\"selection_glyph\":null,\"view\":{\"id\":\"8f1b42db-ae9d-4a6a-8235-d6704ecf7296\",\"type\":\"CDSView\"}},\"id\":\"56183fa3-3993-43be-848d-1e7e4d878b10\",\"type\":\"GlyphRenderer\"},{\"attributes\":{},\"id\":\"d2e8af66-f50d-4f26-90fd-9291b56d1ba8\",\"type\":\"BasicTickFormatter\"},{\"attributes\":{\"formatter\":{\"id\":\"d2e8af66-f50d-4f26-90fd-9291b56d1ba8\",\"type\":\"BasicTickFormatter\"},\"plot\":{\"id\":\"0918da56-33b4-41a6-a0c6-91a0c14944a5\",\"subtype\":\"Figure\",\"type\":\"Plot\"},\"ticker\":{\"id\":\"44a8b010-d6f5-4238-913c-16e8a03fa47c\",\"type\":\"BasicTicker\"}},\"id\":\"9ab177a7-f820-496e-b4b0-9bcba9997cfc\",\"type\":\"LinearAxis\"},{\"attributes\":{},\"id\":\"c23cfb52-40b3-4fe5-9597-b7d8b83d9284\",\"type\":\"LinearScale\"},{\"attributes\":{\"children\":[{\"id\":\"a7a50f9d-5661-46b4-ac3e-6957509e9a11\",\"subtype\":\"Figure\",\"type\":\"Plot\"},{\"id\":\"0918da56-33b4-41a6-a0c6-91a0c14944a5\",\"subtype\":\"Figure\",\"type\":\"Plot\"}]},\"id\":\"a6d4c93e-4dca-4978-bb37-ffba354aa3d9\",\"type\":\"Row\"}],\"root_ids\":[\"a6d4c93e-4dca-4978-bb37-ffba354aa3d9\"]},\"title\":\"Bokeh Application\",\"version\":\"0.12.15\"}};\n",
       "  var render_items = [{\"docid\":\"f423c90a-79c5-4c51-bb2d-2f102bb7a13b\",\"elementid\":\"906bb282-e27d-44c0-9c10-1d8c62ff950e\",\"modelid\":\"a6d4c93e-4dca-4978-bb37-ffba354aa3d9\"}];\n",
       "  root.Bokeh.embed.embed_items_notebook(docs_json, render_items);\n",
       "\n",
       "  }\n",
       "  if (root.Bokeh !== undefined) {\n",
       "    embed_document(root);\n",
       "  } else {\n",
       "    var attempts = 0;\n",
       "    var timer = setInterval(function(root) {\n",
       "      if (root.Bokeh !== undefined) {\n",
       "        embed_document(root);\n",
       "        clearInterval(timer);\n",
       "      }\n",
       "      attempts++;\n",
       "      if (attempts > 100) {\n",
       "        console.log(\"Bokeh: ERROR: Unable to run BokehJS code because BokehJS library is missing\")\n",
       "        clearInterval(timer);\n",
       "      }\n",
       "    }, 10, root)\n",
       "  }\n",
       "})(window);"
      ],
      "application/vnd.bokehjs_exec.v0+json": ""
     },
     "metadata": {
      "application/vnd.bokehjs_exec.v0+json": {
       "id": "a6d4c93e-4dca-4978-bb37-ffba354aa3d9"
      }
     },
     "output_type": "display_data"
    }
   ],
   "source": [
    "from bokeh.layouts import row\n",
    "show(row(s1))\n",
    "show(row(p, p2))\n"
   ]
  },
  {
   "cell_type": "code",
   "execution_count": 11,
   "metadata": {},
   "outputs": [
    {
     "data": {
      "text/html": [
       "\n",
       "<div class=\"bk-root\">\n",
       "    <div class=\"bk-plotdiv\" id=\"dd0856fd-efcf-4b20-bff3-acf69bdde13e\"></div>\n",
       "</div>"
      ]
     },
     "metadata": {},
     "output_type": "display_data"
    },
    {
     "data": {
      "application/javascript": [
       "(function(root) {\n",
       "  function embed_document(root) {\n",
       "    \n",
       "  var docs_json = {\"393b82e7-378d-4a9a-8148-46366aff20e3\":{\"roots\":{\"references\":[{\"attributes\":{\"overlay\":{\"id\":\"e99af2d6-ce4e-40cf-9afe-bd2f8ed37983\",\"type\":\"BoxAnnotation\"}},\"id\":\"67803c65-2310-45b1-bafe-d90d19480566\",\"type\":\"BoxZoomTool\"},{\"attributes\":{\"formatter\":{\"id\":\"2e3c1001-e00f-4684-b5e2-afba91244f36\",\"type\":\"BasicTickFormatter\"},\"plot\":{\"id\":\"b311684d-9f68-452f-9abe-8477d8092945\",\"subtype\":\"Figure\",\"type\":\"Plot\"},\"ticker\":{\"id\":\"3cb2d1db-9b11-49f9-8508-08d7653c46e0\",\"type\":\"BasicTicker\"}},\"id\":\"fe58be69-6fcf-4c4a-b468-cefc34e80b3f\",\"type\":\"LinearAxis\"},{\"attributes\":{\"source\":{\"id\":\"1919a420-0d63-441f-b506-15f514271738\",\"type\":\"ColumnDataSource\"}},\"id\":\"62e67985-e191-47e7-9e17-898437dfa0c9\",\"type\":\"CDSView\"},{\"attributes\":{\"plot\":{\"id\":\"b311684d-9f68-452f-9abe-8477d8092945\",\"subtype\":\"Figure\",\"type\":\"Plot\"},\"ticker\":{\"id\":\"3cb2d1db-9b11-49f9-8508-08d7653c46e0\",\"type\":\"BasicTicker\"}},\"id\":\"7c141a7c-d4e3-4acb-9f8e-af8cd38f238f\",\"type\":\"Grid\"},{\"attributes\":{\"data_source\":{\"id\":\"1919a420-0d63-441f-b506-15f514271738\",\"type\":\"ColumnDataSource\"},\"glyph\":{\"id\":\"fc47d24b-6062-4499-8ba6-a9d1df82e5c3\",\"type\":\"Circle\"},\"hover_glyph\":null,\"muted_glyph\":null,\"nonselection_glyph\":{\"id\":\"69a4ef60-8868-49da-ad1d-078708b5c29b\",\"type\":\"Circle\"},\"selection_glyph\":null,\"view\":{\"id\":\"62e67985-e191-47e7-9e17-898437dfa0c9\",\"type\":\"CDSView\"}},\"id\":\"a207b406-f157-41d5-9ee5-ce307de90f36\",\"type\":\"GlyphRenderer\"},{\"attributes\":{\"angle\":{\"units\":\"rad\",\"value\":1.0471975511965976},\"fill_alpha\":{\"value\":0.1},\"fill_color\":{\"value\":\"#1f77b4\"},\"height\":{\"units\":\"screen\",\"value\":40},\"line_alpha\":{\"value\":0.1},\"line_color\":{\"value\":\"#1f77b4\"},\"width\":{\"units\":\"data\",\"value\":0.2},\"x\":{\"field\":\"x\"},\"y\":{\"field\":\"y\"}},\"id\":\"26a1f66b-4e80-44a1-952c-945fda8caeb3\",\"type\":\"Rect\"},{\"attributes\":{\"below\":[{\"id\":\"3244a33e-648e-42f8-99f1-f6c06787984f\",\"type\":\"CategoricalAxis\"}],\"left\":[{\"id\":\"fcb4c61e-1eeb-47d1-bdd4-4d9542d15956\",\"type\":\"LinearAxis\"}],\"min_border_bottom\":25,\"min_border_left\":40,\"min_border_right\":20,\"min_border_top\":30,\"outline_line_color\":{\"value\":null},\"plot_height\":200,\"plot_width\":450,\"renderers\":[{\"id\":\"3244a33e-648e-42f8-99f1-f6c06787984f\",\"type\":\"CategoricalAxis\"},{\"id\":\"22dad7b6-467c-4990-8d5b-79aa70357e57\",\"type\":\"Grid\"},{\"id\":\"fcb4c61e-1eeb-47d1-bdd4-4d9542d15956\",\"type\":\"LinearAxis\"},{\"id\":\"ac10764c-d3b7-4689-8cee-fcc423027be2\",\"type\":\"Grid\"},{\"id\":\"e2aa057a-a2b4-4dca-8e48-13c70435a741\",\"type\":\"GlyphRenderer\"}],\"sizing_mode\":\"fixed\",\"title\":{\"id\":\"5588b6e8-abcb-4c2f-9569-898a5de15e63\",\"type\":\"Title\"},\"toolbar\":{\"id\":\"23a4822a-339a-48f1-a134-2914af33deaf\",\"type\":\"Toolbar\"},\"toolbar_location\":null,\"x_range\":{\"id\":\"6edb56b2-6346-4373-8588-1f0cab8969a0\",\"type\":\"FactorRange\"},\"x_scale\":{\"id\":\"f9cbaa49-bee3-4047-a644-47c012504d24\",\"type\":\"CategoricalScale\"},\"y_range\":{\"id\":\"27d6a794-b29e-41bb-8473-0bacd43a68e4\",\"type\":\"DataRange1d\"},\"y_scale\":{\"id\":\"03ca8727-0f18-47da-891d-8289a893916a\",\"type\":\"LinearScale\"}},\"id\":\"a7a50f9d-5661-46b4-ac3e-6957509e9a11\",\"subtype\":\"Figure\",\"type\":\"Plot\"},{\"attributes\":{\"source\":{\"id\":\"e7f6a91a-ee10-46cb-a32b-6336ff5f86cd\",\"type\":\"ColumnDataSource\"}},\"id\":\"ff455620-70d2-41f2-be2e-0ca0fbb92ce1\",\"type\":\"CDSView\"},{\"attributes\":{\"callback\":null,\"column_names\":[\"motion\",\"prob\",\"number\"],\"data\":{\"motion\":[\"UNDERSHOOT\",\"EXACT\",\"OVERSHOOT\"],\"number\":[-1,0,1],\"prob\":[0.1,0.7,0.2]},\"selected\":null,\"selection_policy\":null},\"id\":\"a8d8a55c-d88d-435d-941c-efdcada9db45\",\"type\":\"ColumnDataSource\"},{\"attributes\":{\"callback\":null,\"tooltips\":[[\"motion\",\"@motion\"],[\"probability\",\"@prob\"],[\"number:\",\"@number\"]]},\"id\":\"9a1831b6-3b2f-411d-936d-ffd354d6bb46\",\"type\":\"HoverTool\"},{\"attributes\":{\"axis_line_color\":{\"value\":null},\"formatter\":{\"id\":\"627a0959-4746-47d6-a5a8-cd46f14bfee9\",\"type\":\"CategoricalTickFormatter\"},\"major_label_standoff\":0,\"major_label_text_color\":{\"value\":\"#576574\"},\"major_label_text_font\":\"verdana\",\"major_tick_line_color\":{\"value\":null},\"minor_tick_line_color\":{\"value\":null},\"plot\":{\"id\":\"a7a50f9d-5661-46b4-ac3e-6957509e9a11\",\"subtype\":\"Figure\",\"type\":\"Plot\"},\"ticker\":{\"id\":\"3772188b-e2eb-4f30-bbbc-99441c3acece\",\"type\":\"CategoricalTicker\"}},\"id\":\"3244a33e-648e-42f8-99f1-f6c06787984f\",\"type\":\"CategoricalAxis\"},{\"attributes\":{\"plot\":{\"id\":\"0918da56-33b4-41a6-a0c6-91a0c14944a5\",\"subtype\":\"Figure\",\"type\":\"Plot\"},\"ticker\":{\"id\":\"dd82ae7d-9a79-402f-91c4-c39cbb9a1736\",\"type\":\"BasicTicker\"}},\"id\":\"4e294b33-5a6e-4e3e-b866-899d0a894767\",\"type\":\"Grid\"},{\"attributes\":{\"active_drag\":\"auto\",\"active_inspect\":\"auto\",\"active_scroll\":\"auto\",\"active_tap\":\"auto\",\"tools\":[{\"id\":\"9a1831b6-3b2f-411d-936d-ffd354d6bb46\",\"type\":\"HoverTool\"}]},\"id\":\"23a4822a-339a-48f1-a134-2914af33deaf\",\"type\":\"Toolbar\"},{\"attributes\":{\"angle\":{\"units\":\"rad\",\"value\":1.0471975511965976},\"fill_color\":{\"value\":\"#CAB2D6\"},\"height\":{\"units\":\"screen\",\"value\":40},\"line_color\":{\"value\":\"#CAB2D6\"},\"width\":{\"units\":\"data\",\"value\":0.2},\"x\":{\"field\":\"x\"},\"y\":{\"field\":\"y\"}},\"id\":\"490de93c-47ed-4a1f-a346-964ef0b432a3\",\"type\":\"Rect\"},{\"attributes\":{\"callback\":null},\"id\":\"ada6ef0e-b6a6-49cc-a3fc-dd676ad76de1\",\"type\":\"DataRange1d\"},{\"attributes\":{\"source\":{\"id\":\"84671d96-f9ff-4840-97c5-49318d17f43e\",\"type\":\"ColumnDataSource\"}},\"id\":\"c200fb3c-0c15-42af-8434-3af824340fc2\",\"type\":\"CDSView\"},{\"attributes\":{},\"id\":\"3cb2d1db-9b11-49f9-8508-08d7653c46e0\",\"type\":\"BasicTicker\"},{\"attributes\":{},\"id\":\"706d2256-18a4-406d-9516-c326ef0a83a0\",\"type\":\"PanTool\"},{\"attributes\":{\"grid_line_color\":{\"value\":null},\"plot\":{\"id\":\"a7a50f9d-5661-46b4-ac3e-6957509e9a11\",\"subtype\":\"Figure\",\"type\":\"Plot\"},\"ticker\":{\"id\":\"3772188b-e2eb-4f30-bbbc-99441c3acece\",\"type\":\"CategoricalTicker\"}},\"id\":\"22dad7b6-467c-4990-8d5b-79aa70357e57\",\"type\":\"Grid\"},{\"attributes\":{\"active_drag\":\"auto\",\"active_inspect\":\"auto\",\"active_scroll\":\"auto\",\"active_tap\":\"auto\",\"tools\":[{\"id\":\"04e75a81-6585-46ce-8dbd-886cf846ed41\",\"type\":\"PanTool\"},{\"id\":\"579631dd-f542-4bbb-9c35-21c8c0c27e84\",\"type\":\"WheelZoomTool\"},{\"id\":\"67803c65-2310-45b1-bafe-d90d19480566\",\"type\":\"BoxZoomTool\"},{\"id\":\"1a76e249-b81f-48c2-92ab-98ce1eb324bd\",\"type\":\"SaveTool\"},{\"id\":\"fdb60220-00cf-431c-a902-79b40044cec5\",\"type\":\"ResetTool\"},{\"id\":\"5a5b25d3-d0ed-4043-99b5-04b996b0ac04\",\"type\":\"HelpTool\"}]},\"id\":\"35dff333-df31-44fc-82da-4241bab38731\",\"type\":\"Toolbar\"},{\"attributes\":{},\"id\":\"dd82ae7d-9a79-402f-91c4-c39cbb9a1736\",\"type\":\"BasicTicker\"},{\"attributes\":{\"callback\":null,\"column_names\":[\"x\",\"y\"],\"data\":{\"x\":[0,1,2,3,4,5,6,7,8,9,10],\"y\":[0,1,2,3,4,5,6,7,8,9,10]},\"selected\":null,\"selection_policy\":null},\"id\":\"1919a420-0d63-441f-b506-15f514271738\",\"type\":\"ColumnDataSource\"},{\"attributes\":{\"callback\":null,\"factors\":[\"UNDERSHOOT\",\"EXACT\",\"OVERSHOOT\"]},\"id\":\"6edb56b2-6346-4373-8588-1f0cab8969a0\",\"type\":\"FactorRange\"},{\"attributes\":{},\"id\":\"1a76e249-b81f-48c2-92ab-98ce1eb324bd\",\"type\":\"SaveTool\"},{\"attributes\":{\"align\":\"center\",\"plot\":null,\"text\":\"MOTION PROBABILITY\",\"text_font\":\"verdana\"},\"id\":\"5588b6e8-abcb-4c2f-9569-898a5de15e63\",\"type\":\"Title\"},{\"attributes\":{\"below\":[{\"id\":\"fe58be69-6fcf-4c4a-b468-cefc34e80b3f\",\"type\":\"LinearAxis\"}],\"left\":[{\"id\":\"e6405f90-07c7-450b-9569-96148b52bed0\",\"type\":\"LinearAxis\"}],\"plot_height\":400,\"plot_width\":900,\"renderers\":[{\"id\":\"fe58be69-6fcf-4c4a-b468-cefc34e80b3f\",\"type\":\"LinearAxis\"},{\"id\":\"7c141a7c-d4e3-4acb-9f8e-af8cd38f238f\",\"type\":\"Grid\"},{\"id\":\"e6405f90-07c7-450b-9569-96148b52bed0\",\"type\":\"LinearAxis\"},{\"id\":\"d0b24e42-c847-45bb-b089-eb6fd4847418\",\"type\":\"Grid\"},{\"id\":\"2add91bb-f653-4831-9e2f-098d741a5d17\",\"type\":\"BoxAnnotation\"},{\"id\":\"a207b406-f157-41d5-9ee5-ce307de90f36\",\"type\":\"GlyphRenderer\"},{\"id\":\"13967d23-27be-4545-8966-3cf06fdf9471\",\"type\":\"GlyphRenderer\"},{\"id\":\"24835697-c8de-4d40-8660-4266d6d4a8e2\",\"type\":\"GlyphRenderer\"}],\"sizing_mode\":\"fixed\",\"title\":{\"id\":\"575e1381-19cc-47f7-b111-815bec1de0a1\",\"type\":\"Title\"},\"toolbar\":{\"id\":\"06174809-04ec-4ba0-9334-49c1da73e83c\",\"type\":\"Toolbar\"},\"toolbar_location\":null,\"x_range\":{\"id\":\"0afd3a33-532c-44cf-91d0-5200bb994f1a\",\"type\":\"DataRange1d\"},\"x_scale\":{\"id\":\"3f2c3468-b43a-4a61-812f-1e30539d79f0\",\"type\":\"LinearScale\"},\"y_range\":{\"id\":\"ada6ef0e-b6a6-49cc-a3fc-dd676ad76de1\",\"type\":\"DataRange1d\"},\"y_scale\":{\"id\":\"96b94888-0c4d-4450-aad3-36cdd356a4db\",\"type\":\"LinearScale\"}},\"id\":\"b311684d-9f68-452f-9abe-8477d8092945\",\"subtype\":\"Figure\",\"type\":\"Plot\"},{\"attributes\":{},\"id\":\"f9cbaa49-bee3-4047-a644-47c012504d24\",\"type\":\"CategoricalScale\"},{\"attributes\":{\"callback\":null},\"id\":\"72a395eb-e393-4704-8277-d0c44a995f79\",\"type\":\"DataRange1d\"},{\"attributes\":{\"axis_line_color\":{\"value\":null},\"formatter\":{\"id\":\"e0ba4fbf-6e15-49c3-87e2-acb997f4aed7\",\"type\":\"BasicTickFormatter\"},\"major_label_standoff\":0,\"major_label_text_color\":{\"value\":\"#576574\"},\"major_label_text_font\":\"verdana\",\"major_tick_line_color\":{\"value\":null},\"minor_tick_line_color\":{\"value\":null},\"plot\":{\"id\":\"a7a50f9d-5661-46b4-ac3e-6957509e9a11\",\"subtype\":\"Figure\",\"type\":\"Plot\"},\"ticker\":{\"id\":\"026723b7-f32c-47ed-8396-70acaf166472\",\"type\":\"BasicTicker\"}},\"id\":\"fcb4c61e-1eeb-47d1-bdd4-4d9542d15956\",\"type\":\"LinearAxis\"},{\"attributes\":{\"callback\":null,\"column_names\":[\"left\",\"right\",\"top\",\"bottom\"],\"data\":{\"bottom\":[1,2,3],\"left\":[1,2,3],\"right\":[1.2,2.5,3.7],\"top\":[2,3,4]},\"selected\":null,\"selection_policy\":null},\"id\":\"48a8b489-6562-4786-b995-4cfedabe32f9\",\"type\":\"ColumnDataSource\"},{\"attributes\":{},\"id\":\"03ca8727-0f18-47da-891d-8289a893916a\",\"type\":\"LinearScale\"},{\"attributes\":{\"callback\":null,\"end\":1.0,\"start\":0.0},\"id\":\"27d6a794-b29e-41bb-8473-0bacd43a68e4\",\"type\":\"DataRange1d\"},{\"attributes\":{\"active_drag\":\"auto\",\"active_inspect\":\"auto\",\"active_scroll\":\"auto\",\"active_tap\":\"auto\",\"tools\":[{\"id\":\"706d2256-18a4-406d-9516-c326ef0a83a0\",\"type\":\"PanTool\"},{\"id\":\"c4df78fc-a053-49d9-966c-790f09b62b70\",\"type\":\"WheelZoomTool\"},{\"id\":\"68ada17e-8c5e-4534-8cd5-b38766638fb0\",\"type\":\"BoxZoomTool\"},{\"id\":\"3e158ae1-1aa7-48f7-b745-9c690f841dfd\",\"type\":\"SaveTool\"},{\"id\":\"e63684fb-8f9f-46bc-b222-e00ccff900b3\",\"type\":\"ResetTool\"},{\"id\":\"196fec31-124a-4148-aa7f-6040c8d16ae0\",\"type\":\"HelpTool\"}]},\"id\":\"06174809-04ec-4ba0-9334-49c1da73e83c\",\"type\":\"Toolbar\"},{\"attributes\":{\"bottom\":{\"field\":\"bottom\"},\"fill_color\":{\"value\":\"#B3DE69\"},\"left\":{\"field\":\"left\"},\"line_color\":{\"value\":\"#B3DE69\"},\"right\":{\"field\":\"right\"},\"top\":{\"field\":\"top\"}},\"id\":\"dde90a74-a16a-4eab-a0ee-ea48e9e31b25\",\"type\":\"Quad\"},{\"attributes\":{\"fill_color\":{\"value\":\"#b3de69\"},\"line_color\":{\"value\":\"white\"},\"top\":{\"field\":\"prob\"},\"width\":{\"value\":0.95},\"x\":{\"field\":\"motion\"}},\"id\":\"71317a9e-5142-4ad6-9ed5-488870ab0103\",\"type\":\"VBar\"},{\"attributes\":{},\"id\":\"3772188b-e2eb-4f30-bbbc-99441c3acece\",\"type\":\"CategoricalTicker\"},{\"attributes\":{},\"id\":\"026723b7-f32c-47ed-8396-70acaf166472\",\"type\":\"BasicTicker\"},{\"attributes\":{\"bottom\":{\"field\":\"bottom\"},\"fill_alpha\":{\"value\":0.1},\"fill_color\":{\"value\":\"#1f77b4\"},\"left\":{\"field\":\"left\"},\"line_alpha\":{\"value\":0.1},\"line_color\":{\"value\":\"#1f77b4\"},\"right\":{\"field\":\"right\"},\"top\":{\"field\":\"top\"}},\"id\":\"f2c2f466-cf61-497a-9691-0613a776b768\",\"type\":\"Quad\"},{\"attributes\":{\"dimension\":1,\"plot\":{\"id\":\"a7a50f9d-5661-46b4-ac3e-6957509e9a11\",\"subtype\":\"Figure\",\"type\":\"Plot\"},\"ticker\":{\"id\":\"026723b7-f32c-47ed-8396-70acaf166472\",\"type\":\"BasicTicker\"}},\"id\":\"ac10764c-d3b7-4689-8cee-fcc423027be2\",\"type\":\"Grid\"},{\"attributes\":{\"fill_alpha\":{\"value\":0.1},\"fill_color\":{\"value\":\"#1f77b4\"},\"line_alpha\":{\"value\":0.1},\"line_color\":{\"value\":\"#1f77b4\"},\"size\":{\"units\":\"screen\",\"value\":20},\"x\":{\"field\":\"x\"},\"y\":{\"field\":\"y\"}},\"id\":\"54fa8c96-26eb-4197-a1e8-287e13b8260b\",\"type\":\"Circle\"},{\"attributes\":{},\"id\":\"579631dd-f542-4bbb-9c35-21c8c0c27e84\",\"type\":\"WheelZoomTool\"},{\"attributes\":{\"fill_alpha\":{\"value\":0.1},\"fill_color\":{\"value\":\"#1f77b4\"},\"line_alpha\":{\"value\":0.1},\"line_color\":{\"value\":\"#1f77b4\"},\"top\":{\"field\":\"prob\"},\"width\":{\"value\":0.95},\"x\":{\"field\":\"motion\"}},\"id\":\"4e921bf8-97cb-491f-b5e6-4d6eac0ae2c1\",\"type\":\"VBar\"},{\"attributes\":{},\"id\":\"e0ba4fbf-6e15-49c3-87e2-acb997f4aed7\",\"type\":\"BasicTickFormatter\"},{\"attributes\":{\"source\":{\"id\":\"48a8b489-6562-4786-b995-4cfedabe32f9\",\"type\":\"ColumnDataSource\"}},\"id\":\"8f1b42db-ae9d-4a6a-8235-d6704ecf7296\",\"type\":\"CDSView\"},{\"attributes\":{\"data_source\":{\"id\":\"a8d8a55c-d88d-435d-941c-efdcada9db45\",\"type\":\"ColumnDataSource\"},\"glyph\":{\"id\":\"71317a9e-5142-4ad6-9ed5-488870ab0103\",\"type\":\"VBar\"},\"hover_glyph\":null,\"muted_glyph\":null,\"nonselection_glyph\":{\"id\":\"4e921bf8-97cb-491f-b5e6-4d6eac0ae2c1\",\"type\":\"VBar\"},\"selection_glyph\":null,\"view\":{\"id\":\"f08e3be9-82b0-4f34-bb21-638c8893ccd2\",\"type\":\"CDSView\"}},\"id\":\"e2aa057a-a2b4-4dca-8e48-13c70435a741\",\"type\":\"GlyphRenderer\"},{\"attributes\":{\"callback\":null},\"id\":\"3e5b13b8-6d52-4b0a-8b9f-603904c8a49b\",\"type\":\"DataRange1d\"},{\"attributes\":{\"bottom_units\":\"screen\",\"fill_alpha\":{\"value\":0.5},\"fill_color\":{\"value\":\"lightgrey\"},\"left_units\":\"screen\",\"level\":\"overlay\",\"line_alpha\":{\"value\":1.0},\"line_color\":{\"value\":\"black\"},\"line_dash\":[4,4],\"line_width\":{\"value\":2},\"plot\":null,\"render_mode\":\"css\",\"right_units\":\"screen\",\"top_units\":\"screen\"},\"id\":\"2add91bb-f653-4831-9e2f-098d741a5d17\",\"type\":\"BoxAnnotation\"},{\"attributes\":{\"formatter\":{\"id\":\"024560c2-e49a-49fd-b435-61d5339cbcc0\",\"type\":\"BasicTickFormatter\"},\"plot\":{\"id\":\"0918da56-33b4-41a6-a0c6-91a0c14944a5\",\"subtype\":\"Figure\",\"type\":\"Plot\"},\"ticker\":{\"id\":\"dd82ae7d-9a79-402f-91c4-c39cbb9a1736\",\"type\":\"BasicTicker\"}},\"id\":\"118d96ba-7096-42f5-b0ee-78d7bca31735\",\"type\":\"LinearAxis\"},{\"attributes\":{},\"id\":\"c0d82477-2d74-4aad-8105-6686839d9ae6\",\"type\":\"LinearScale\"},{\"attributes\":{\"source\":{\"id\":\"a8d8a55c-d88d-435d-941c-efdcada9db45\",\"type\":\"ColumnDataSource\"}},\"id\":\"f08e3be9-82b0-4f34-bb21-638c8893ccd2\",\"type\":\"CDSView\"},{\"attributes\":{\"dimension\":1,\"plot\":{\"id\":\"0918da56-33b4-41a6-a0c6-91a0c14944a5\",\"subtype\":\"Figure\",\"type\":\"Plot\"},\"ticker\":{\"id\":\"44a8b010-d6f5-4238-913c-16e8a03fa47c\",\"type\":\"BasicTicker\"}},\"id\":\"7d1af6f1-2740-47bb-a841-be6d13e6f52f\",\"type\":\"Grid\"},{\"attributes\":{\"dimension\":1,\"plot\":{\"id\":\"b311684d-9f68-452f-9abe-8477d8092945\",\"subtype\":\"Figure\",\"type\":\"Plot\"},\"ticker\":{\"id\":\"fa203ee1-801e-4033-82d3-acd85c370049\",\"type\":\"BasicTicker\"}},\"id\":\"d0b24e42-c847-45bb-b089-eb6fd4847418\",\"type\":\"Grid\"},{\"attributes\":{},\"id\":\"627a0959-4746-47d6-a5a8-cd46f14bfee9\",\"type\":\"CategoricalTickFormatter\"},{\"attributes\":{\"data_source\":{\"id\":\"48a8b489-6562-4786-b995-4cfedabe32f9\",\"type\":\"ColumnDataSource\"},\"glyph\":{\"id\":\"dde90a74-a16a-4eab-a0ee-ea48e9e31b25\",\"type\":\"Quad\"},\"hover_glyph\":null,\"muted_glyph\":null,\"nonselection_glyph\":{\"id\":\"f2c2f466-cf61-497a-9691-0613a776b768\",\"type\":\"Quad\"},\"selection_glyph\":null,\"view\":{\"id\":\"8f1b42db-ae9d-4a6a-8235-d6704ecf7296\",\"type\":\"CDSView\"}},\"id\":\"56183fa3-3993-43be-848d-1e7e4d878b10\",\"type\":\"GlyphRenderer\"},{\"attributes\":{},\"id\":\"3f2c3468-b43a-4a61-812f-1e30539d79f0\",\"type\":\"LinearScale\"},{\"attributes\":{},\"id\":\"d2e8af66-f50d-4f26-90fd-9291b56d1ba8\",\"type\":\"BasicTickFormatter\"},{\"attributes\":{\"fill_alpha\":{\"value\":0.1},\"fill_color\":{\"value\":\"#1f77b4\"},\"line_alpha\":{\"value\":0.1},\"line_color\":{\"value\":\"#1f77b4\"},\"size\":{\"units\":\"screen\",\"value\":10},\"x\":{\"field\":\"x\"},\"y\":{\"field\":\"y\"}},\"id\":\"69a4ef60-8868-49da-ad1d-078708b5c29b\",\"type\":\"Circle\"},{\"attributes\":{\"formatter\":{\"id\":\"d2e8af66-f50d-4f26-90fd-9291b56d1ba8\",\"type\":\"BasicTickFormatter\"},\"plot\":{\"id\":\"0918da56-33b4-41a6-a0c6-91a0c14944a5\",\"subtype\":\"Figure\",\"type\":\"Plot\"},\"ticker\":{\"id\":\"44a8b010-d6f5-4238-913c-16e8a03fa47c\",\"type\":\"BasicTicker\"}},\"id\":\"9ab177a7-f820-496e-b4b0-9bcba9997cfc\",\"type\":\"LinearAxis\"},{\"attributes\":{},\"id\":\"c23cfb52-40b3-4fe5-9597-b7d8b83d9284\",\"type\":\"LinearScale\"},{\"attributes\":{\"data_source\":{\"id\":\"84671d96-f9ff-4840-97c5-49318d17f43e\",\"type\":\"ColumnDataSource\"},\"glyph\":{\"id\":\"9c9fafb3-3d36-44bb-a2b4-b39f951123f8\",\"type\":\"Circle\"},\"hover_glyph\":null,\"muted_glyph\":null,\"nonselection_glyph\":{\"id\":\"54fa8c96-26eb-4197-a1e8-287e13b8260b\",\"type\":\"Circle\"},\"selection_glyph\":null,\"view\":{\"id\":\"c200fb3c-0c15-42af-8434-3af824340fc2\",\"type\":\"CDSView\"}},\"id\":\"216048eb-6565-43fc-b1d2-9d0606dd12d2\",\"type\":\"GlyphRenderer\"},{\"attributes\":{},\"id\":\"fa203ee1-801e-4033-82d3-acd85c370049\",\"type\":\"BasicTicker\"},{\"attributes\":{\"fill_alpha\":{\"value\":0.5},\"fill_color\":{\"value\":\"navy\"},\"line_alpha\":{\"value\":0.5},\"line_color\":{\"value\":\"navy\"},\"size\":{\"units\":\"screen\",\"value\":20},\"x\":{\"field\":\"x\"},\"y\":{\"field\":\"y\"}},\"id\":\"9c9fafb3-3d36-44bb-a2b4-b39f951123f8\",\"type\":\"Circle\"},{\"attributes\":{\"fill_color\":{\"value\":\"#FDE724\"},\"line_color\":{\"value\":\"#FDE724\"},\"size\":{\"units\":\"screen\",\"value\":10},\"x\":{\"field\":\"x\"},\"y\":{\"field\":\"y\"}},\"id\":\"de05411e-5843-4f80-8edc-9a2837bfaf27\",\"type\":\"Square\"},{\"attributes\":{},\"id\":\"44a8b010-d6f5-4238-913c-16e8a03fa47c\",\"type\":\"BasicTicker\"},{\"attributes\":{},\"id\":\"0177eb52-f809-46c5-935c-74f8be53916a\",\"type\":\"BasicTickFormatter\"},{\"attributes\":{\"data_source\":{\"id\":\"e7f6a91a-ee10-46cb-a32b-6336ff5f86cd\",\"type\":\"ColumnDataSource\"},\"glyph\":{\"id\":\"490de93c-47ed-4a1f-a346-964ef0b432a3\",\"type\":\"Rect\"},\"hover_glyph\":null,\"muted_glyph\":null,\"nonselection_glyph\":{\"id\":\"26a1f66b-4e80-44a1-952c-945fda8caeb3\",\"type\":\"Rect\"},\"selection_glyph\":null,\"view\":{\"id\":\"ff455620-70d2-41f2-be2e-0ca0fbb92ce1\",\"type\":\"CDSView\"}},\"id\":\"8a2c4a45-088a-4788-9578-7a24be097644\",\"type\":\"GlyphRenderer\"},{\"attributes\":{\"data_source\":{\"id\":\"93d9ca43-8ac8-45a1-977f-250dfd3d71e1\",\"type\":\"ColumnDataSource\"},\"glyph\":{\"id\":\"de05411e-5843-4f80-8edc-9a2837bfaf27\",\"type\":\"Square\"},\"hover_glyph\":null,\"muted_glyph\":null,\"nonselection_glyph\":{\"id\":\"f48f4af9-a4f4-4a57-8101-90812f4dae24\",\"type\":\"Square\"},\"selection_glyph\":null,\"view\":{\"id\":\"324b17dd-4cb7-4177-8fff-74d4570438a5\",\"type\":\"CDSView\"}},\"id\":\"24835697-c8de-4d40-8660-4266d6d4a8e2\",\"type\":\"GlyphRenderer\"},{\"attributes\":{},\"id\":\"5a5b25d3-d0ed-4043-99b5-04b996b0ac04\",\"type\":\"HelpTool\"},{\"attributes\":{\"plot\":null,\"text\":\"\"},\"id\":\"575e1381-19cc-47f7-b111-815bec1de0a1\",\"type\":\"Title\"},{\"attributes\":{},\"id\":\"024560c2-e49a-49fd-b435-61d5339cbcc0\",\"type\":\"BasicTickFormatter\"},{\"attributes\":{\"plot\":null,\"text\":\"\"},\"id\":\"728a4252-0358-4fd8-becf-0522b7b6f07f\",\"type\":\"Title\"},{\"attributes\":{\"fill_color\":{\"value\":\"#208F8C\"},\"line_color\":{\"value\":\"#208F8C\"},\"size\":{\"units\":\"screen\",\"value\":10},\"x\":{\"field\":\"x\"},\"y\":{\"field\":\"y\"}},\"id\":\"6bba0d49-70b8-4b1b-945d-9746e31206d6\",\"type\":\"Triangle\"},{\"attributes\":{\"tools\":[{\"id\":\"9a1831b6-3b2f-411d-936d-ffd354d6bb46\",\"type\":\"HoverTool\"},{\"id\":\"04e75a81-6585-46ce-8dbd-886cf846ed41\",\"type\":\"PanTool\"},{\"id\":\"579631dd-f542-4bbb-9c35-21c8c0c27e84\",\"type\":\"WheelZoomTool\"},{\"id\":\"67803c65-2310-45b1-bafe-d90d19480566\",\"type\":\"BoxZoomTool\"},{\"id\":\"1a76e249-b81f-48c2-92ab-98ce1eb324bd\",\"type\":\"SaveTool\"},{\"id\":\"fdb60220-00cf-431c-a902-79b40044cec5\",\"type\":\"ResetTool\"},{\"id\":\"5a5b25d3-d0ed-4043-99b5-04b996b0ac04\",\"type\":\"HelpTool\"},{\"id\":\"706d2256-18a4-406d-9516-c326ef0a83a0\",\"type\":\"PanTool\"},{\"id\":\"c4df78fc-a053-49d9-966c-790f09b62b70\",\"type\":\"WheelZoomTool\"},{\"id\":\"68ada17e-8c5e-4534-8cd5-b38766638fb0\",\"type\":\"BoxZoomTool\"},{\"id\":\"3e158ae1-1aa7-48f7-b745-9c690f841dfd\",\"type\":\"SaveTool\"},{\"id\":\"e63684fb-8f9f-46bc-b222-e00ccff900b3\",\"type\":\"ResetTool\"},{\"id\":\"196fec31-124a-4148-aa7f-6040c8d16ae0\",\"type\":\"HelpTool\"}]},\"id\":\"895f1329-5a5e-43d3-a31c-2cd400ed6830\",\"type\":\"ProxyToolbar\"},{\"attributes\":{},\"id\":\"04e75a81-6585-46ce-8dbd-886cf846ed41\",\"type\":\"PanTool\"},{\"attributes\":{\"overlay\":{\"id\":\"2add91bb-f653-4831-9e2f-098d741a5d17\",\"type\":\"BoxAnnotation\"}},\"id\":\"68ada17e-8c5e-4534-8cd5-b38766638fb0\",\"type\":\"BoxZoomTool\"},{\"attributes\":{},\"id\":\"96b94888-0c4d-4450-aad3-36cdd356a4db\",\"type\":\"LinearScale\"},{\"attributes\":{\"callback\":null,\"column_names\":[\"x\",\"y\"],\"data\":{\"x\":[1,2,3],\"y\":[1,2,3]},\"selected\":null,\"selection_policy\":null},\"id\":\"e7f6a91a-ee10-46cb-a32b-6336ff5f86cd\",\"type\":\"ColumnDataSource\"},{\"attributes\":{},\"id\":\"196fec31-124a-4148-aa7f-6040c8d16ae0\",\"type\":\"HelpTool\"},{\"attributes\":{\"data_source\":{\"id\":\"bcf30d90-ce3f-47e9-bd82-2feae7fb90ed\",\"type\":\"ColumnDataSource\"},\"glyph\":{\"id\":\"6bba0d49-70b8-4b1b-945d-9746e31206d6\",\"type\":\"Triangle\"},\"hover_glyph\":null,\"muted_glyph\":null,\"nonselection_glyph\":{\"id\":\"c18908f4-2696-4ebb-bfb0-dcf47eab01b0\",\"type\":\"Triangle\"},\"selection_glyph\":null,\"view\":{\"id\":\"a2d2e9d5-587b-484a-9f25-ff99c9847ebf\",\"type\":\"CDSView\"}},\"id\":\"13967d23-27be-4545-8966-3cf06fdf9471\",\"type\":\"GlyphRenderer\"},{\"attributes\":{\"callback\":null,\"column_names\":[\"x\",\"y\"],\"data\":{\"x\":[0,1,2,3,4,5,6,7,8,9,10],\"y\":[5,4,3,2,1,0,1,2,3,4,5]},\"selected\":null,\"selection_policy\":null},\"id\":\"93d9ca43-8ac8-45a1-977f-250dfd3d71e1\",\"type\":\"ColumnDataSource\"},{\"attributes\":{\"callback\":null},\"id\":\"0afd3a33-532c-44cf-91d0-5200bb994f1a\",\"type\":\"DataRange1d\"},{\"attributes\":{\"fill_alpha\":{\"value\":0.1},\"fill_color\":{\"value\":\"#1f77b4\"},\"line_alpha\":{\"value\":0.1},\"line_color\":{\"value\":\"#1f77b4\"},\"size\":{\"units\":\"screen\",\"value\":10},\"x\":{\"field\":\"x\"},\"y\":{\"field\":\"y\"}},\"id\":\"c18908f4-2696-4ebb-bfb0-dcf47eab01b0\",\"type\":\"Triangle\"},{\"attributes\":{},\"id\":\"c4df78fc-a053-49d9-966c-790f09b62b70\",\"type\":\"WheelZoomTool\"},{\"attributes\":{\"children\":[{\"id\":\"a7a50f9d-5661-46b4-ac3e-6957509e9a11\",\"subtype\":\"Figure\",\"type\":\"Plot\"},{\"id\":\"0918da56-33b4-41a6-a0c6-91a0c14944a5\",\"subtype\":\"Figure\",\"type\":\"Plot\"}]},\"id\":\"b6908626-1e39-494a-bbc8-fd27700b6c3c\",\"type\":\"Row\"},{\"attributes\":{\"bottom_units\":\"screen\",\"fill_alpha\":{\"value\":0.5},\"fill_color\":{\"value\":\"lightgrey\"},\"left_units\":\"screen\",\"level\":\"overlay\",\"line_alpha\":{\"value\":1.0},\"line_color\":{\"value\":\"black\"},\"line_dash\":[4,4],\"line_width\":{\"value\":2},\"plot\":null,\"render_mode\":\"css\",\"right_units\":\"screen\",\"top_units\":\"screen\"},\"id\":\"e99af2d6-ce4e-40cf-9afe-bd2f8ed37983\",\"type\":\"BoxAnnotation\"},{\"attributes\":{},\"id\":\"3e158ae1-1aa7-48f7-b745-9c690f841dfd\",\"type\":\"SaveTool\"},{\"attributes\":{},\"id\":\"fdb60220-00cf-431c-a902-79b40044cec5\",\"type\":\"ResetTool\"},{\"attributes\":{\"below\":[{\"id\":\"118d96ba-7096-42f5-b0ee-78d7bca31735\",\"type\":\"LinearAxis\"}],\"left\":[{\"id\":\"9ab177a7-f820-496e-b4b0-9bcba9997cfc\",\"type\":\"LinearAxis\"}],\"plot_height\":200,\"plot_width\":450,\"renderers\":[{\"id\":\"118d96ba-7096-42f5-b0ee-78d7bca31735\",\"type\":\"LinearAxis\"},{\"id\":\"4e294b33-5a6e-4e3e-b866-899d0a894767\",\"type\":\"Grid\"},{\"id\":\"9ab177a7-f820-496e-b4b0-9bcba9997cfc\",\"type\":\"LinearAxis\"},{\"id\":\"7d1af6f1-2740-47bb-a841-be6d13e6f52f\",\"type\":\"Grid\"},{\"id\":\"e99af2d6-ce4e-40cf-9afe-bd2f8ed37983\",\"type\":\"BoxAnnotation\"},{\"id\":\"216048eb-6565-43fc-b1d2-9d0606dd12d2\",\"type\":\"GlyphRenderer\"},{\"id\":\"8a2c4a45-088a-4788-9578-7a24be097644\",\"type\":\"GlyphRenderer\"},{\"id\":\"56183fa3-3993-43be-848d-1e7e4d878b10\",\"type\":\"GlyphRenderer\"}],\"sizing_mode\":\"fixed\",\"title\":{\"id\":\"728a4252-0358-4fd8-becf-0522b7b6f07f\",\"type\":\"Title\"},\"toolbar\":{\"id\":\"35dff333-df31-44fc-82da-4241bab38731\",\"type\":\"Toolbar\"},\"toolbar_location\":null,\"x_range\":{\"id\":\"72a395eb-e393-4704-8277-d0c44a995f79\",\"type\":\"DataRange1d\"},\"x_scale\":{\"id\":\"c0d82477-2d74-4aad-8105-6686839d9ae6\",\"type\":\"LinearScale\"},\"y_range\":{\"id\":\"3e5b13b8-6d52-4b0a-8b9f-603904c8a49b\",\"type\":\"DataRange1d\"},\"y_scale\":{\"id\":\"c23cfb52-40b3-4fe5-9597-b7d8b83d9284\",\"type\":\"LinearScale\"}},\"id\":\"0918da56-33b4-41a6-a0c6-91a0c14944a5\",\"subtype\":\"Figure\",\"type\":\"Plot\"},{\"attributes\":{},\"id\":\"e63684fb-8f9f-46bc-b222-e00ccff900b3\",\"type\":\"ResetTool\"},{\"attributes\":{},\"id\":\"2e3c1001-e00f-4684-b5e2-afba91244f36\",\"type\":\"BasicTickFormatter\"},{\"attributes\":{\"children\":[{\"id\":\"b311684d-9f68-452f-9abe-8477d8092945\",\"subtype\":\"Figure\",\"type\":\"Plot\"},{\"id\":\"5fa06a9d-1d07-43f1-9d92-508bdbbb1872\",\"type\":\"Spacer\"}]},\"id\":\"b0d5e8ae-f298-4c06-8bbe-f038d10563e5\",\"type\":\"Row\"},{\"attributes\":{\"fill_color\":{\"value\":\"#440154\"},\"line_color\":{\"value\":\"#440154\"},\"size\":{\"units\":\"screen\",\"value\":10},\"x\":{\"field\":\"x\"},\"y\":{\"field\":\"y\"}},\"id\":\"fc47d24b-6062-4499-8ba6-a9d1df82e5c3\",\"type\":\"Circle\"},{\"attributes\":{\"callback\":null,\"column_names\":[\"x\",\"y\"],\"data\":{\"x\":[0,1,2,3,4,5,6,7,8,9,10],\"y\":[10,9,8,7,6,5,4,3,2,1,0]},\"selected\":null,\"selection_policy\":null},\"id\":\"bcf30d90-ce3f-47e9-bd82-2feae7fb90ed\",\"type\":\"ColumnDataSource\"},{\"attributes\":{\"formatter\":{\"id\":\"0177eb52-f809-46c5-935c-74f8be53916a\",\"type\":\"BasicTickFormatter\"},\"plot\":{\"id\":\"b311684d-9f68-452f-9abe-8477d8092945\",\"subtype\":\"Figure\",\"type\":\"Plot\"},\"ticker\":{\"id\":\"fa203ee1-801e-4033-82d3-acd85c370049\",\"type\":\"BasicTicker\"}},\"id\":\"e6405f90-07c7-450b-9569-96148b52bed0\",\"type\":\"LinearAxis\"},{\"attributes\":{\"callback\":null,\"column_names\":[\"x\",\"y\"],\"data\":{\"x\":[1,2,3,4,5],\"y\":[6,7,2,4,5]},\"selected\":null,\"selection_policy\":null},\"id\":\"84671d96-f9ff-4840-97c5-49318d17f43e\",\"type\":\"ColumnDataSource\"},{\"attributes\":{\"source\":{\"id\":\"93d9ca43-8ac8-45a1-977f-250dfd3d71e1\",\"type\":\"ColumnDataSource\"}},\"id\":\"324b17dd-4cb7-4177-8fff-74d4570438a5\",\"type\":\"CDSView\"},{\"attributes\":{\"children\":[{\"id\":\"b6908626-1e39-494a-bbc8-fd27700b6c3c\",\"type\":\"Row\"},{\"id\":\"b0d5e8ae-f298-4c06-8bbe-f038d10563e5\",\"type\":\"Row\"}]},\"id\":\"a880bf93-dd3c-43db-b115-339b993f2b54\",\"type\":\"Column\"},{\"attributes\":{\"toolbar\":{\"id\":\"895f1329-5a5e-43d3-a31c-2cd400ed6830\",\"type\":\"ProxyToolbar\"},\"toolbar_location\":\"above\"},\"id\":\"ce64d821-10bb-4abd-aa04-db9122daaf7f\",\"type\":\"ToolbarBox\"},{\"attributes\":{\"source\":{\"id\":\"bcf30d90-ce3f-47e9-bd82-2feae7fb90ed\",\"type\":\"ColumnDataSource\"}},\"id\":\"a2d2e9d5-587b-484a-9f25-ff99c9847ebf\",\"type\":\"CDSView\"},{\"attributes\":{\"height\":400,\"width\":900},\"id\":\"5fa06a9d-1d07-43f1-9d92-508bdbbb1872\",\"type\":\"Spacer\"},{\"attributes\":{\"fill_alpha\":{\"value\":0.1},\"fill_color\":{\"value\":\"#1f77b4\"},\"line_alpha\":{\"value\":0.1},\"line_color\":{\"value\":\"#1f77b4\"},\"size\":{\"units\":\"screen\",\"value\":10},\"x\":{\"field\":\"x\"},\"y\":{\"field\":\"y\"}},\"id\":\"f48f4af9-a4f4-4a57-8101-90812f4dae24\",\"type\":\"Square\"},{\"attributes\":{\"children\":[{\"id\":\"ce64d821-10bb-4abd-aa04-db9122daaf7f\",\"type\":\"ToolbarBox\"},{\"id\":\"a880bf93-dd3c-43db-b115-339b993f2b54\",\"type\":\"Column\"}]},\"id\":\"85ede1fc-5a99-412c-b798-8b6b155d4bf2\",\"type\":\"Column\"}],\"root_ids\":[\"85ede1fc-5a99-412c-b798-8b6b155d4bf2\"]},\"title\":\"Bokeh Application\",\"version\":\"0.12.15\"}};\n",
       "  var render_items = [{\"docid\":\"393b82e7-378d-4a9a-8148-46366aff20e3\",\"elementid\":\"dd0856fd-efcf-4b20-bff3-acf69bdde13e\",\"modelid\":\"85ede1fc-5a99-412c-b798-8b6b155d4bf2\"}];\n",
       "  root.Bokeh.embed.embed_items_notebook(docs_json, render_items);\n",
       "\n",
       "  }\n",
       "  if (root.Bokeh !== undefined) {\n",
       "    embed_document(root);\n",
       "  } else {\n",
       "    var attempts = 0;\n",
       "    var timer = setInterval(function(root) {\n",
       "      if (root.Bokeh !== undefined) {\n",
       "        embed_document(root);\n",
       "        clearInterval(timer);\n",
       "      }\n",
       "      attempts++;\n",
       "      if (attempts > 100) {\n",
       "        console.log(\"Bokeh: ERROR: Unable to run BokehJS code because BokehJS library is missing\")\n",
       "        clearInterval(timer);\n",
       "      }\n",
       "    }, 10, root)\n",
       "  }\n",
       "})(window);"
      ],
      "application/vnd.bokehjs_exec.v0+json": ""
     },
     "metadata": {
      "application/vnd.bokehjs_exec.v0+json": {
       "id": "85ede1fc-5a99-412c-b798-8b6b155d4bf2"
      }
     },
     "output_type": "display_data"
    }
   ],
   "source": [
    "from bokeh.layouts import gridplot\n",
    "show(gridplot([[p, p2], [s1, None]]))"
   ]
  },
  {
   "cell_type": "code",
   "execution_count": 12,
   "metadata": {},
   "outputs": [
    {
     "data": {
      "text/html": [
       "\n",
       "<div class=\"bk-root\">\n",
       "    <div class=\"bk-plotdiv\" id=\"1f13bae8-dde0-4f8c-b3c8-f9d8b2d46c79\"></div>\n",
       "</div>"
      ]
     },
     "metadata": {},
     "output_type": "display_data"
    },
    {
     "data": {
      "application/javascript": [
       "(function(root) {\n",
       "  function embed_document(root) {\n",
       "    \n",
       "  var docs_json = {\"c1db94dc-5fb8-49e1-8a57-57969930512c\":{\"roots\":{\"references\":[{\"attributes\":{\"overlay\":{\"id\":\"e99af2d6-ce4e-40cf-9afe-bd2f8ed37983\",\"type\":\"BoxAnnotation\"}},\"id\":\"67803c65-2310-45b1-bafe-d90d19480566\",\"type\":\"BoxZoomTool\"},{\"attributes\":{\"formatter\":{\"id\":\"2e3c1001-e00f-4684-b5e2-afba91244f36\",\"type\":\"BasicTickFormatter\"},\"plot\":{\"id\":\"b311684d-9f68-452f-9abe-8477d8092945\",\"subtype\":\"Figure\",\"type\":\"Plot\"},\"ticker\":{\"id\":\"3cb2d1db-9b11-49f9-8508-08d7653c46e0\",\"type\":\"BasicTicker\"}},\"id\":\"fe58be69-6fcf-4c4a-b468-cefc34e80b3f\",\"type\":\"LinearAxis\"},{\"attributes\":{\"source\":{\"id\":\"1919a420-0d63-441f-b506-15f514271738\",\"type\":\"ColumnDataSource\"}},\"id\":\"62e67985-e191-47e7-9e17-898437dfa0c9\",\"type\":\"CDSView\"},{\"attributes\":{\"plot\":{\"id\":\"b311684d-9f68-452f-9abe-8477d8092945\",\"subtype\":\"Figure\",\"type\":\"Plot\"},\"ticker\":{\"id\":\"3cb2d1db-9b11-49f9-8508-08d7653c46e0\",\"type\":\"BasicTicker\"}},\"id\":\"7c141a7c-d4e3-4acb-9f8e-af8cd38f238f\",\"type\":\"Grid\"},{\"attributes\":{\"data_source\":{\"id\":\"1919a420-0d63-441f-b506-15f514271738\",\"type\":\"ColumnDataSource\"},\"glyph\":{\"id\":\"fc47d24b-6062-4499-8ba6-a9d1df82e5c3\",\"type\":\"Circle\"},\"hover_glyph\":null,\"muted_glyph\":null,\"nonselection_glyph\":{\"id\":\"69a4ef60-8868-49da-ad1d-078708b5c29b\",\"type\":\"Circle\"},\"selection_glyph\":null,\"view\":{\"id\":\"62e67985-e191-47e7-9e17-898437dfa0c9\",\"type\":\"CDSView\"}},\"id\":\"a207b406-f157-41d5-9ee5-ce307de90f36\",\"type\":\"GlyphRenderer\"},{\"attributes\":{\"angle\":{\"units\":\"rad\",\"value\":1.0471975511965976},\"fill_alpha\":{\"value\":0.1},\"fill_color\":{\"value\":\"#1f77b4\"},\"height\":{\"units\":\"screen\",\"value\":40},\"line_alpha\":{\"value\":0.1},\"line_color\":{\"value\":\"#1f77b4\"},\"width\":{\"units\":\"data\",\"value\":0.2},\"x\":{\"field\":\"x\"},\"y\":{\"field\":\"y\"}},\"id\":\"26a1f66b-4e80-44a1-952c-945fda8caeb3\",\"type\":\"Rect\"},{\"attributes\":{\"below\":[{\"id\":\"3244a33e-648e-42f8-99f1-f6c06787984f\",\"type\":\"CategoricalAxis\"}],\"left\":[{\"id\":\"fcb4c61e-1eeb-47d1-bdd4-4d9542d15956\",\"type\":\"LinearAxis\"}],\"min_border_bottom\":25,\"min_border_left\":40,\"min_border_right\":20,\"min_border_top\":30,\"outline_line_color\":{\"value\":null},\"plot_height\":200,\"plot_width\":450,\"renderers\":[{\"id\":\"3244a33e-648e-42f8-99f1-f6c06787984f\",\"type\":\"CategoricalAxis\"},{\"id\":\"22dad7b6-467c-4990-8d5b-79aa70357e57\",\"type\":\"Grid\"},{\"id\":\"fcb4c61e-1eeb-47d1-bdd4-4d9542d15956\",\"type\":\"LinearAxis\"},{\"id\":\"ac10764c-d3b7-4689-8cee-fcc423027be2\",\"type\":\"Grid\"},{\"id\":\"e2aa057a-a2b4-4dca-8e48-13c70435a741\",\"type\":\"GlyphRenderer\"}],\"sizing_mode\":\"fixed\",\"title\":{\"id\":\"5588b6e8-abcb-4c2f-9569-898a5de15e63\",\"type\":\"Title\"},\"toolbar\":{\"id\":\"23a4822a-339a-48f1-a134-2914af33deaf\",\"type\":\"Toolbar\"},\"toolbar_location\":null,\"x_range\":{\"id\":\"6edb56b2-6346-4373-8588-1f0cab8969a0\",\"type\":\"FactorRange\"},\"x_scale\":{\"id\":\"f9cbaa49-bee3-4047-a644-47c012504d24\",\"type\":\"CategoricalScale\"},\"y_range\":{\"id\":\"27d6a794-b29e-41bb-8473-0bacd43a68e4\",\"type\":\"DataRange1d\"},\"y_scale\":{\"id\":\"03ca8727-0f18-47da-891d-8289a893916a\",\"type\":\"LinearScale\"}},\"id\":\"a7a50f9d-5661-46b4-ac3e-6957509e9a11\",\"subtype\":\"Figure\",\"type\":\"Plot\"},{\"attributes\":{\"source\":{\"id\":\"e7f6a91a-ee10-46cb-a32b-6336ff5f86cd\",\"type\":\"ColumnDataSource\"}},\"id\":\"ff455620-70d2-41f2-be2e-0ca0fbb92ce1\",\"type\":\"CDSView\"},{\"attributes\":{\"callback\":null,\"column_names\":[\"motion\",\"prob\",\"number\"],\"data\":{\"motion\":[\"UNDERSHOOT\",\"EXACT\",\"OVERSHOOT\"],\"number\":[-1,0,1],\"prob\":[0.1,0.7,0.2]},\"selected\":null,\"selection_policy\":null},\"id\":\"a8d8a55c-d88d-435d-941c-efdcada9db45\",\"type\":\"ColumnDataSource\"},{\"attributes\":{\"callback\":null,\"tooltips\":[[\"motion\",\"@motion\"],[\"probability\",\"@prob\"],[\"number:\",\"@number\"]]},\"id\":\"9a1831b6-3b2f-411d-936d-ffd354d6bb46\",\"type\":\"HoverTool\"},{\"attributes\":{\"axis_line_color\":{\"value\":null},\"formatter\":{\"id\":\"627a0959-4746-47d6-a5a8-cd46f14bfee9\",\"type\":\"CategoricalTickFormatter\"},\"major_label_standoff\":0,\"major_label_text_color\":{\"value\":\"#576574\"},\"major_label_text_font\":\"verdana\",\"major_tick_line_color\":{\"value\":null},\"minor_tick_line_color\":{\"value\":null},\"plot\":{\"id\":\"a7a50f9d-5661-46b4-ac3e-6957509e9a11\",\"subtype\":\"Figure\",\"type\":\"Plot\"},\"ticker\":{\"id\":\"3772188b-e2eb-4f30-bbbc-99441c3acece\",\"type\":\"CategoricalTicker\"}},\"id\":\"3244a33e-648e-42f8-99f1-f6c06787984f\",\"type\":\"CategoricalAxis\"},{\"attributes\":{\"plot\":{\"id\":\"0918da56-33b4-41a6-a0c6-91a0c14944a5\",\"subtype\":\"Figure\",\"type\":\"Plot\"},\"ticker\":{\"id\":\"dd82ae7d-9a79-402f-91c4-c39cbb9a1736\",\"type\":\"BasicTicker\"}},\"id\":\"4e294b33-5a6e-4e3e-b866-899d0a894767\",\"type\":\"Grid\"},{\"attributes\":{\"active_drag\":\"auto\",\"active_inspect\":\"auto\",\"active_scroll\":\"auto\",\"active_tap\":\"auto\",\"tools\":[{\"id\":\"9a1831b6-3b2f-411d-936d-ffd354d6bb46\",\"type\":\"HoverTool\"}]},\"id\":\"23a4822a-339a-48f1-a134-2914af33deaf\",\"type\":\"Toolbar\"},{\"attributes\":{\"angle\":{\"units\":\"rad\",\"value\":1.0471975511965976},\"fill_color\":{\"value\":\"#CAB2D6\"},\"height\":{\"units\":\"screen\",\"value\":40},\"line_color\":{\"value\":\"#CAB2D6\"},\"width\":{\"units\":\"data\",\"value\":0.2},\"x\":{\"field\":\"x\"},\"y\":{\"field\":\"y\"}},\"id\":\"490de93c-47ed-4a1f-a346-964ef0b432a3\",\"type\":\"Rect\"},{\"attributes\":{\"callback\":null},\"id\":\"ada6ef0e-b6a6-49cc-a3fc-dd676ad76de1\",\"type\":\"DataRange1d\"},{\"attributes\":{},\"id\":\"3cb2d1db-9b11-49f9-8508-08d7653c46e0\",\"type\":\"BasicTicker\"},{\"attributes\":{\"source\":{\"id\":\"84671d96-f9ff-4840-97c5-49318d17f43e\",\"type\":\"ColumnDataSource\"}},\"id\":\"c200fb3c-0c15-42af-8434-3af824340fc2\",\"type\":\"CDSView\"},{\"attributes\":{},\"id\":\"706d2256-18a4-406d-9516-c326ef0a83a0\",\"type\":\"PanTool\"},{\"attributes\":{\"grid_line_color\":{\"value\":null},\"plot\":{\"id\":\"a7a50f9d-5661-46b4-ac3e-6957509e9a11\",\"subtype\":\"Figure\",\"type\":\"Plot\"},\"ticker\":{\"id\":\"3772188b-e2eb-4f30-bbbc-99441c3acece\",\"type\":\"CategoricalTicker\"}},\"id\":\"22dad7b6-467c-4990-8d5b-79aa70357e57\",\"type\":\"Grid\"},{\"attributes\":{\"active_drag\":\"auto\",\"active_inspect\":\"auto\",\"active_scroll\":\"auto\",\"active_tap\":\"auto\",\"tools\":[{\"id\":\"04e75a81-6585-46ce-8dbd-886cf846ed41\",\"type\":\"PanTool\"},{\"id\":\"579631dd-f542-4bbb-9c35-21c8c0c27e84\",\"type\":\"WheelZoomTool\"},{\"id\":\"67803c65-2310-45b1-bafe-d90d19480566\",\"type\":\"BoxZoomTool\"},{\"id\":\"1a76e249-b81f-48c2-92ab-98ce1eb324bd\",\"type\":\"SaveTool\"},{\"id\":\"fdb60220-00cf-431c-a902-79b40044cec5\",\"type\":\"ResetTool\"},{\"id\":\"5a5b25d3-d0ed-4043-99b5-04b996b0ac04\",\"type\":\"HelpTool\"}]},\"id\":\"35dff333-df31-44fc-82da-4241bab38731\",\"type\":\"Toolbar\"},{\"attributes\":{\"callback\":null,\"column_names\":[\"x\",\"y\"],\"data\":{\"x\":[0,1,2,3,4,5,6,7,8,9,10],\"y\":[0,1,2,3,4,5,6,7,8,9,10]},\"selected\":null,\"selection_policy\":null},\"id\":\"1919a420-0d63-441f-b506-15f514271738\",\"type\":\"ColumnDataSource\"},{\"attributes\":{},\"id\":\"dd82ae7d-9a79-402f-91c4-c39cbb9a1736\",\"type\":\"BasicTicker\"},{\"attributes\":{\"callback\":null,\"factors\":[\"UNDERSHOOT\",\"EXACT\",\"OVERSHOOT\"]},\"id\":\"6edb56b2-6346-4373-8588-1f0cab8969a0\",\"type\":\"FactorRange\"},{\"attributes\":{},\"id\":\"1a76e249-b81f-48c2-92ab-98ce1eb324bd\",\"type\":\"SaveTool\"},{\"attributes\":{\"align\":\"center\",\"plot\":null,\"text\":\"MOTION PROBABILITY\",\"text_font\":\"verdana\"},\"id\":\"5588b6e8-abcb-4c2f-9569-898a5de15e63\",\"type\":\"Title\"},{\"attributes\":{\"below\":[{\"id\":\"fe58be69-6fcf-4c4a-b468-cefc34e80b3f\",\"type\":\"LinearAxis\"}],\"left\":[{\"id\":\"e6405f90-07c7-450b-9569-96148b52bed0\",\"type\":\"LinearAxis\"}],\"plot_height\":400,\"plot_width\":900,\"renderers\":[{\"id\":\"fe58be69-6fcf-4c4a-b468-cefc34e80b3f\",\"type\":\"LinearAxis\"},{\"id\":\"7c141a7c-d4e3-4acb-9f8e-af8cd38f238f\",\"type\":\"Grid\"},{\"id\":\"e6405f90-07c7-450b-9569-96148b52bed0\",\"type\":\"LinearAxis\"},{\"id\":\"d0b24e42-c847-45bb-b089-eb6fd4847418\",\"type\":\"Grid\"},{\"id\":\"2add91bb-f653-4831-9e2f-098d741a5d17\",\"type\":\"BoxAnnotation\"},{\"id\":\"a207b406-f157-41d5-9ee5-ce307de90f36\",\"type\":\"GlyphRenderer\"},{\"id\":\"13967d23-27be-4545-8966-3cf06fdf9471\",\"type\":\"GlyphRenderer\"},{\"id\":\"24835697-c8de-4d40-8660-4266d6d4a8e2\",\"type\":\"GlyphRenderer\"}],\"sizing_mode\":\"fixed\",\"title\":{\"id\":\"575e1381-19cc-47f7-b111-815bec1de0a1\",\"type\":\"Title\"},\"toolbar\":{\"id\":\"06174809-04ec-4ba0-9334-49c1da73e83c\",\"type\":\"Toolbar\"},\"toolbar_location\":null,\"x_range\":{\"id\":\"0afd3a33-532c-44cf-91d0-5200bb994f1a\",\"type\":\"DataRange1d\"},\"x_scale\":{\"id\":\"3f2c3468-b43a-4a61-812f-1e30539d79f0\",\"type\":\"LinearScale\"},\"y_range\":{\"id\":\"ada6ef0e-b6a6-49cc-a3fc-dd676ad76de1\",\"type\":\"DataRange1d\"},\"y_scale\":{\"id\":\"96b94888-0c4d-4450-aad3-36cdd356a4db\",\"type\":\"LinearScale\"}},\"id\":\"b311684d-9f68-452f-9abe-8477d8092945\",\"subtype\":\"Figure\",\"type\":\"Plot\"},{\"attributes\":{},\"id\":\"f9cbaa49-bee3-4047-a644-47c012504d24\",\"type\":\"CategoricalScale\"},{\"attributes\":{\"callback\":null},\"id\":\"72a395eb-e393-4704-8277-d0c44a995f79\",\"type\":\"DataRange1d\"},{\"attributes\":{\"axis_line_color\":{\"value\":null},\"formatter\":{\"id\":\"e0ba4fbf-6e15-49c3-87e2-acb997f4aed7\",\"type\":\"BasicTickFormatter\"},\"major_label_standoff\":0,\"major_label_text_color\":{\"value\":\"#576574\"},\"major_label_text_font\":\"verdana\",\"major_tick_line_color\":{\"value\":null},\"minor_tick_line_color\":{\"value\":null},\"plot\":{\"id\":\"a7a50f9d-5661-46b4-ac3e-6957509e9a11\",\"subtype\":\"Figure\",\"type\":\"Plot\"},\"ticker\":{\"id\":\"026723b7-f32c-47ed-8396-70acaf166472\",\"type\":\"BasicTicker\"}},\"id\":\"fcb4c61e-1eeb-47d1-bdd4-4d9542d15956\",\"type\":\"LinearAxis\"},{\"attributes\":{\"callback\":null,\"column_names\":[\"left\",\"right\",\"top\",\"bottom\"],\"data\":{\"bottom\":[1,2,3],\"left\":[1,2,3],\"right\":[1.2,2.5,3.7],\"top\":[2,3,4]},\"selected\":null,\"selection_policy\":null},\"id\":\"48a8b489-6562-4786-b995-4cfedabe32f9\",\"type\":\"ColumnDataSource\"},{\"attributes\":{},\"id\":\"03ca8727-0f18-47da-891d-8289a893916a\",\"type\":\"LinearScale\"},{\"attributes\":{\"active_drag\":\"auto\",\"active_inspect\":\"auto\",\"active_scroll\":\"auto\",\"active_tap\":\"auto\",\"tools\":[{\"id\":\"706d2256-18a4-406d-9516-c326ef0a83a0\",\"type\":\"PanTool\"},{\"id\":\"c4df78fc-a053-49d9-966c-790f09b62b70\",\"type\":\"WheelZoomTool\"},{\"id\":\"68ada17e-8c5e-4534-8cd5-b38766638fb0\",\"type\":\"BoxZoomTool\"},{\"id\":\"3e158ae1-1aa7-48f7-b745-9c690f841dfd\",\"type\":\"SaveTool\"},{\"id\":\"e63684fb-8f9f-46bc-b222-e00ccff900b3\",\"type\":\"ResetTool\"},{\"id\":\"196fec31-124a-4148-aa7f-6040c8d16ae0\",\"type\":\"HelpTool\"}]},\"id\":\"06174809-04ec-4ba0-9334-49c1da73e83c\",\"type\":\"Toolbar\"},{\"attributes\":{\"callback\":null,\"end\":1.0,\"start\":0.0},\"id\":\"27d6a794-b29e-41bb-8473-0bacd43a68e4\",\"type\":\"DataRange1d\"},{\"attributes\":{\"bottom\":{\"field\":\"bottom\"},\"fill_color\":{\"value\":\"#B3DE69\"},\"left\":{\"field\":\"left\"},\"line_color\":{\"value\":\"#B3DE69\"},\"right\":{\"field\":\"right\"},\"top\":{\"field\":\"top\"}},\"id\":\"dde90a74-a16a-4eab-a0ee-ea48e9e31b25\",\"type\":\"Quad\"},{\"attributes\":{\"fill_color\":{\"value\":\"#b3de69\"},\"line_color\":{\"value\":\"white\"},\"top\":{\"field\":\"prob\"},\"width\":{\"value\":0.95},\"x\":{\"field\":\"motion\"}},\"id\":\"71317a9e-5142-4ad6-9ed5-488870ab0103\",\"type\":\"VBar\"},{\"attributes\":{},\"id\":\"3772188b-e2eb-4f30-bbbc-99441c3acece\",\"type\":\"CategoricalTicker\"},{\"attributes\":{},\"id\":\"026723b7-f32c-47ed-8396-70acaf166472\",\"type\":\"BasicTicker\"},{\"attributes\":{\"bottom\":{\"field\":\"bottom\"},\"fill_alpha\":{\"value\":0.1},\"fill_color\":{\"value\":\"#1f77b4\"},\"left\":{\"field\":\"left\"},\"line_alpha\":{\"value\":0.1},\"line_color\":{\"value\":\"#1f77b4\"},\"right\":{\"field\":\"right\"},\"top\":{\"field\":\"top\"}},\"id\":\"f2c2f466-cf61-497a-9691-0613a776b768\",\"type\":\"Quad\"},{\"attributes\":{\"dimension\":1,\"plot\":{\"id\":\"a7a50f9d-5661-46b4-ac3e-6957509e9a11\",\"subtype\":\"Figure\",\"type\":\"Plot\"},\"ticker\":{\"id\":\"026723b7-f32c-47ed-8396-70acaf166472\",\"type\":\"BasicTicker\"}},\"id\":\"ac10764c-d3b7-4689-8cee-fcc423027be2\",\"type\":\"Grid\"},{\"attributes\":{\"fill_alpha\":{\"value\":0.1},\"fill_color\":{\"value\":\"#1f77b4\"},\"line_alpha\":{\"value\":0.1},\"line_color\":{\"value\":\"#1f77b4\"},\"size\":{\"units\":\"screen\",\"value\":20},\"x\":{\"field\":\"x\"},\"y\":{\"field\":\"y\"}},\"id\":\"54fa8c96-26eb-4197-a1e8-287e13b8260b\",\"type\":\"Circle\"},{\"attributes\":{},\"id\":\"579631dd-f542-4bbb-9c35-21c8c0c27e84\",\"type\":\"WheelZoomTool\"},{\"attributes\":{\"fill_alpha\":{\"value\":0.1},\"fill_color\":{\"value\":\"#1f77b4\"},\"line_alpha\":{\"value\":0.1},\"line_color\":{\"value\":\"#1f77b4\"},\"top\":{\"field\":\"prob\"},\"width\":{\"value\":0.95},\"x\":{\"field\":\"motion\"}},\"id\":\"4e921bf8-97cb-491f-b5e6-4d6eac0ae2c1\",\"type\":\"VBar\"},{\"attributes\":{},\"id\":\"e0ba4fbf-6e15-49c3-87e2-acb997f4aed7\",\"type\":\"BasicTickFormatter\"},{\"attributes\":{\"source\":{\"id\":\"48a8b489-6562-4786-b995-4cfedabe32f9\",\"type\":\"ColumnDataSource\"}},\"id\":\"8f1b42db-ae9d-4a6a-8235-d6704ecf7296\",\"type\":\"CDSView\"},{\"attributes\":{\"tools\":[{\"id\":\"706d2256-18a4-406d-9516-c326ef0a83a0\",\"type\":\"PanTool\"},{\"id\":\"c4df78fc-a053-49d9-966c-790f09b62b70\",\"type\":\"WheelZoomTool\"},{\"id\":\"68ada17e-8c5e-4534-8cd5-b38766638fb0\",\"type\":\"BoxZoomTool\"},{\"id\":\"3e158ae1-1aa7-48f7-b745-9c690f841dfd\",\"type\":\"SaveTool\"},{\"id\":\"e63684fb-8f9f-46bc-b222-e00ccff900b3\",\"type\":\"ResetTool\"},{\"id\":\"196fec31-124a-4148-aa7f-6040c8d16ae0\",\"type\":\"HelpTool\"},{\"id\":\"9a1831b6-3b2f-411d-936d-ffd354d6bb46\",\"type\":\"HoverTool\"},{\"id\":\"04e75a81-6585-46ce-8dbd-886cf846ed41\",\"type\":\"PanTool\"},{\"id\":\"579631dd-f542-4bbb-9c35-21c8c0c27e84\",\"type\":\"WheelZoomTool\"},{\"id\":\"67803c65-2310-45b1-bafe-d90d19480566\",\"type\":\"BoxZoomTool\"},{\"id\":\"1a76e249-b81f-48c2-92ab-98ce1eb324bd\",\"type\":\"SaveTool\"},{\"id\":\"fdb60220-00cf-431c-a902-79b40044cec5\",\"type\":\"ResetTool\"},{\"id\":\"5a5b25d3-d0ed-4043-99b5-04b996b0ac04\",\"type\":\"HelpTool\"}]},\"id\":\"9d519f5b-5ed1-4fba-847a-65085c5a656b\",\"type\":\"ProxyToolbar\"},{\"attributes\":{\"data_source\":{\"id\":\"a8d8a55c-d88d-435d-941c-efdcada9db45\",\"type\":\"ColumnDataSource\"},\"glyph\":{\"id\":\"71317a9e-5142-4ad6-9ed5-488870ab0103\",\"type\":\"VBar\"},\"hover_glyph\":null,\"muted_glyph\":null,\"nonselection_glyph\":{\"id\":\"4e921bf8-97cb-491f-b5e6-4d6eac0ae2c1\",\"type\":\"VBar\"},\"selection_glyph\":null,\"view\":{\"id\":\"f08e3be9-82b0-4f34-bb21-638c8893ccd2\",\"type\":\"CDSView\"}},\"id\":\"e2aa057a-a2b4-4dca-8e48-13c70435a741\",\"type\":\"GlyphRenderer\"},{\"attributes\":{\"callback\":null},\"id\":\"3e5b13b8-6d52-4b0a-8b9f-603904c8a49b\",\"type\":\"DataRange1d\"},{\"attributes\":{\"children\":[{\"id\":\"b311684d-9f68-452f-9abe-8477d8092945\",\"subtype\":\"Figure\",\"type\":\"Plot\"},{\"id\":\"72353582-2e56-4d3d-96a0-71ddafbcb477\",\"type\":\"Spacer\"}]},\"id\":\"d9127a67-daf7-40b6-abb8-ed0c07d41a66\",\"type\":\"Row\"},{\"attributes\":{\"bottom_units\":\"screen\",\"fill_alpha\":{\"value\":0.5},\"fill_color\":{\"value\":\"lightgrey\"},\"left_units\":\"screen\",\"level\":\"overlay\",\"line_alpha\":{\"value\":1.0},\"line_color\":{\"value\":\"black\"},\"line_dash\":[4,4],\"line_width\":{\"value\":2},\"plot\":null,\"render_mode\":\"css\",\"right_units\":\"screen\",\"top_units\":\"screen\"},\"id\":\"2add91bb-f653-4831-9e2f-098d741a5d17\",\"type\":\"BoxAnnotation\"},{\"attributes\":{\"formatter\":{\"id\":\"024560c2-e49a-49fd-b435-61d5339cbcc0\",\"type\":\"BasicTickFormatter\"},\"plot\":{\"id\":\"0918da56-33b4-41a6-a0c6-91a0c14944a5\",\"subtype\":\"Figure\",\"type\":\"Plot\"},\"ticker\":{\"id\":\"dd82ae7d-9a79-402f-91c4-c39cbb9a1736\",\"type\":\"BasicTicker\"}},\"id\":\"118d96ba-7096-42f5-b0ee-78d7bca31735\",\"type\":\"LinearAxis\"},{\"attributes\":{\"children\":[{\"id\":\"a7a50f9d-5661-46b4-ac3e-6957509e9a11\",\"subtype\":\"Figure\",\"type\":\"Plot\"},{\"id\":\"0918da56-33b4-41a6-a0c6-91a0c14944a5\",\"subtype\":\"Figure\",\"type\":\"Plot\"}]},\"id\":\"099f1c4c-a758-464b-93dc-4d23b1c90a98\",\"type\":\"Row\"},{\"attributes\":{},\"id\":\"c0d82477-2d74-4aad-8105-6686839d9ae6\",\"type\":\"LinearScale\"},{\"attributes\":{\"source\":{\"id\":\"a8d8a55c-d88d-435d-941c-efdcada9db45\",\"type\":\"ColumnDataSource\"}},\"id\":\"f08e3be9-82b0-4f34-bb21-638c8893ccd2\",\"type\":\"CDSView\"},{\"attributes\":{\"height\":400,\"width\":900},\"id\":\"72353582-2e56-4d3d-96a0-71ddafbcb477\",\"type\":\"Spacer\"},{\"attributes\":{\"dimension\":1,\"plot\":{\"id\":\"b311684d-9f68-452f-9abe-8477d8092945\",\"subtype\":\"Figure\",\"type\":\"Plot\"},\"ticker\":{\"id\":\"fa203ee1-801e-4033-82d3-acd85c370049\",\"type\":\"BasicTicker\"}},\"id\":\"d0b24e42-c847-45bb-b089-eb6fd4847418\",\"type\":\"Grid\"},{\"attributes\":{\"dimension\":1,\"plot\":{\"id\":\"0918da56-33b4-41a6-a0c6-91a0c14944a5\",\"subtype\":\"Figure\",\"type\":\"Plot\"},\"ticker\":{\"id\":\"44a8b010-d6f5-4238-913c-16e8a03fa47c\",\"type\":\"BasicTicker\"}},\"id\":\"7d1af6f1-2740-47bb-a841-be6d13e6f52f\",\"type\":\"Grid\"},{\"attributes\":{},\"id\":\"627a0959-4746-47d6-a5a8-cd46f14bfee9\",\"type\":\"CategoricalTickFormatter\"},{\"attributes\":{},\"id\":\"3f2c3468-b43a-4a61-812f-1e30539d79f0\",\"type\":\"LinearScale\"},{\"attributes\":{\"data_source\":{\"id\":\"48a8b489-6562-4786-b995-4cfedabe32f9\",\"type\":\"ColumnDataSource\"},\"glyph\":{\"id\":\"dde90a74-a16a-4eab-a0ee-ea48e9e31b25\",\"type\":\"Quad\"},\"hover_glyph\":null,\"muted_glyph\":null,\"nonselection_glyph\":{\"id\":\"f2c2f466-cf61-497a-9691-0613a776b768\",\"type\":\"Quad\"},\"selection_glyph\":null,\"view\":{\"id\":\"8f1b42db-ae9d-4a6a-8235-d6704ecf7296\",\"type\":\"CDSView\"}},\"id\":\"56183fa3-3993-43be-848d-1e7e4d878b10\",\"type\":\"GlyphRenderer\"},{\"attributes\":{\"fill_alpha\":{\"value\":0.1},\"fill_color\":{\"value\":\"#1f77b4\"},\"line_alpha\":{\"value\":0.1},\"line_color\":{\"value\":\"#1f77b4\"},\"size\":{\"units\":\"screen\",\"value\":10},\"x\":{\"field\":\"x\"},\"y\":{\"field\":\"y\"}},\"id\":\"69a4ef60-8868-49da-ad1d-078708b5c29b\",\"type\":\"Circle\"},{\"attributes\":{},\"id\":\"d2e8af66-f50d-4f26-90fd-9291b56d1ba8\",\"type\":\"BasicTickFormatter\"},{\"attributes\":{\"formatter\":{\"id\":\"d2e8af66-f50d-4f26-90fd-9291b56d1ba8\",\"type\":\"BasicTickFormatter\"},\"plot\":{\"id\":\"0918da56-33b4-41a6-a0c6-91a0c14944a5\",\"subtype\":\"Figure\",\"type\":\"Plot\"},\"ticker\":{\"id\":\"44a8b010-d6f5-4238-913c-16e8a03fa47c\",\"type\":\"BasicTicker\"}},\"id\":\"9ab177a7-f820-496e-b4b0-9bcba9997cfc\",\"type\":\"LinearAxis\"},{\"attributes\":{},\"id\":\"c23cfb52-40b3-4fe5-9597-b7d8b83d9284\",\"type\":\"LinearScale\"},{\"attributes\":{},\"id\":\"fa203ee1-801e-4033-82d3-acd85c370049\",\"type\":\"BasicTicker\"},{\"attributes\":{\"data_source\":{\"id\":\"84671d96-f9ff-4840-97c5-49318d17f43e\",\"type\":\"ColumnDataSource\"},\"glyph\":{\"id\":\"9c9fafb3-3d36-44bb-a2b4-b39f951123f8\",\"type\":\"Circle\"},\"hover_glyph\":null,\"muted_glyph\":null,\"nonselection_glyph\":{\"id\":\"54fa8c96-26eb-4197-a1e8-287e13b8260b\",\"type\":\"Circle\"},\"selection_glyph\":null,\"view\":{\"id\":\"c200fb3c-0c15-42af-8434-3af824340fc2\",\"type\":\"CDSView\"}},\"id\":\"216048eb-6565-43fc-b1d2-9d0606dd12d2\",\"type\":\"GlyphRenderer\"},{\"attributes\":{\"fill_color\":{\"value\":\"#FDE724\"},\"line_color\":{\"value\":\"#FDE724\"},\"size\":{\"units\":\"screen\",\"value\":10},\"x\":{\"field\":\"x\"},\"y\":{\"field\":\"y\"}},\"id\":\"de05411e-5843-4f80-8edc-9a2837bfaf27\",\"type\":\"Square\"},{\"attributes\":{\"fill_alpha\":{\"value\":0.5},\"fill_color\":{\"value\":\"navy\"},\"line_alpha\":{\"value\":0.5},\"line_color\":{\"value\":\"navy\"},\"size\":{\"units\":\"screen\",\"value\":20},\"x\":{\"field\":\"x\"},\"y\":{\"field\":\"y\"}},\"id\":\"9c9fafb3-3d36-44bb-a2b4-b39f951123f8\",\"type\":\"Circle\"},{\"attributes\":{},\"id\":\"0177eb52-f809-46c5-935c-74f8be53916a\",\"type\":\"BasicTickFormatter\"},{\"attributes\":{},\"id\":\"44a8b010-d6f5-4238-913c-16e8a03fa47c\",\"type\":\"BasicTicker\"},{\"attributes\":{\"data_source\":{\"id\":\"93d9ca43-8ac8-45a1-977f-250dfd3d71e1\",\"type\":\"ColumnDataSource\"},\"glyph\":{\"id\":\"de05411e-5843-4f80-8edc-9a2837bfaf27\",\"type\":\"Square\"},\"hover_glyph\":null,\"muted_glyph\":null,\"nonselection_glyph\":{\"id\":\"f48f4af9-a4f4-4a57-8101-90812f4dae24\",\"type\":\"Square\"},\"selection_glyph\":null,\"view\":{\"id\":\"324b17dd-4cb7-4177-8fff-74d4570438a5\",\"type\":\"CDSView\"}},\"id\":\"24835697-c8de-4d40-8660-4266d6d4a8e2\",\"type\":\"GlyphRenderer\"},{\"attributes\":{\"data_source\":{\"id\":\"e7f6a91a-ee10-46cb-a32b-6336ff5f86cd\",\"type\":\"ColumnDataSource\"},\"glyph\":{\"id\":\"490de93c-47ed-4a1f-a346-964ef0b432a3\",\"type\":\"Rect\"},\"hover_glyph\":null,\"muted_glyph\":null,\"nonselection_glyph\":{\"id\":\"26a1f66b-4e80-44a1-952c-945fda8caeb3\",\"type\":\"Rect\"},\"selection_glyph\":null,\"view\":{\"id\":\"ff455620-70d2-41f2-be2e-0ca0fbb92ce1\",\"type\":\"CDSView\"}},\"id\":\"8a2c4a45-088a-4788-9578-7a24be097644\",\"type\":\"GlyphRenderer\"},{\"attributes\":{},\"id\":\"5a5b25d3-d0ed-4043-99b5-04b996b0ac04\",\"type\":\"HelpTool\"},{\"attributes\":{\"plot\":null,\"text\":\"\"},\"id\":\"575e1381-19cc-47f7-b111-815bec1de0a1\",\"type\":\"Title\"},{\"attributes\":{},\"id\":\"024560c2-e49a-49fd-b435-61d5339cbcc0\",\"type\":\"BasicTickFormatter\"},{\"attributes\":{\"toolbar\":{\"id\":\"9d519f5b-5ed1-4fba-847a-65085c5a656b\",\"type\":\"ProxyToolbar\"},\"toolbar_location\":\"above\"},\"id\":\"fd1707bd-bdff-44b5-86bb-87cc4fd595d6\",\"type\":\"ToolbarBox\"},{\"attributes\":{\"plot\":null,\"text\":\"\"},\"id\":\"728a4252-0358-4fd8-becf-0522b7b6f07f\",\"type\":\"Title\"},{\"attributes\":{\"fill_color\":{\"value\":\"#208F8C\"},\"line_color\":{\"value\":\"#208F8C\"},\"size\":{\"units\":\"screen\",\"value\":10},\"x\":{\"field\":\"x\"},\"y\":{\"field\":\"y\"}},\"id\":\"6bba0d49-70b8-4b1b-945d-9746e31206d6\",\"type\":\"Triangle\"},{\"attributes\":{\"overlay\":{\"id\":\"2add91bb-f653-4831-9e2f-098d741a5d17\",\"type\":\"BoxAnnotation\"}},\"id\":\"68ada17e-8c5e-4534-8cd5-b38766638fb0\",\"type\":\"BoxZoomTool\"},{\"attributes\":{},\"id\":\"04e75a81-6585-46ce-8dbd-886cf846ed41\",\"type\":\"PanTool\"},{\"attributes\":{},\"id\":\"96b94888-0c4d-4450-aad3-36cdd356a4db\",\"type\":\"LinearScale\"},{\"attributes\":{\"callback\":null,\"column_names\":[\"x\",\"y\"],\"data\":{\"x\":[1,2,3],\"y\":[1,2,3]},\"selected\":null,\"selection_policy\":null},\"id\":\"e7f6a91a-ee10-46cb-a32b-6336ff5f86cd\",\"type\":\"ColumnDataSource\"},{\"attributes\":{},\"id\":\"196fec31-124a-4148-aa7f-6040c8d16ae0\",\"type\":\"HelpTool\"},{\"attributes\":{\"data_source\":{\"id\":\"bcf30d90-ce3f-47e9-bd82-2feae7fb90ed\",\"type\":\"ColumnDataSource\"},\"glyph\":{\"id\":\"6bba0d49-70b8-4b1b-945d-9746e31206d6\",\"type\":\"Triangle\"},\"hover_glyph\":null,\"muted_glyph\":null,\"nonselection_glyph\":{\"id\":\"c18908f4-2696-4ebb-bfb0-dcf47eab01b0\",\"type\":\"Triangle\"},\"selection_glyph\":null,\"view\":{\"id\":\"a2d2e9d5-587b-484a-9f25-ff99c9847ebf\",\"type\":\"CDSView\"}},\"id\":\"13967d23-27be-4545-8966-3cf06fdf9471\",\"type\":\"GlyphRenderer\"},{\"attributes\":{\"callback\":null,\"column_names\":[\"x\",\"y\"],\"data\":{\"x\":[0,1,2,3,4,5,6,7,8,9,10],\"y\":[5,4,3,2,1,0,1,2,3,4,5]},\"selected\":null,\"selection_policy\":null},\"id\":\"93d9ca43-8ac8-45a1-977f-250dfd3d71e1\",\"type\":\"ColumnDataSource\"},{\"attributes\":{\"callback\":null},\"id\":\"0afd3a33-532c-44cf-91d0-5200bb994f1a\",\"type\":\"DataRange1d\"},{\"attributes\":{\"fill_alpha\":{\"value\":0.1},\"fill_color\":{\"value\":\"#1f77b4\"},\"line_alpha\":{\"value\":0.1},\"line_color\":{\"value\":\"#1f77b4\"},\"size\":{\"units\":\"screen\",\"value\":10},\"x\":{\"field\":\"x\"},\"y\":{\"field\":\"y\"}},\"id\":\"c18908f4-2696-4ebb-bfb0-dcf47eab01b0\",\"type\":\"Triangle\"},{\"attributes\":{},\"id\":\"c4df78fc-a053-49d9-966c-790f09b62b70\",\"type\":\"WheelZoomTool\"},{\"attributes\":{\"children\":[{\"id\":\"fd1707bd-bdff-44b5-86bb-87cc4fd595d6\",\"type\":\"ToolbarBox\"},{\"id\":\"d3ad01fb-7879-4f76-b576-3962652c64d1\",\"type\":\"Column\"}]},\"id\":\"d4d7d86b-ba93-47ec-aa52-0c2ffb7f3e43\",\"type\":\"Column\"},{\"attributes\":{\"children\":[{\"id\":\"d9127a67-daf7-40b6-abb8-ed0c07d41a66\",\"type\":\"Row\"},{\"id\":\"099f1c4c-a758-464b-93dc-4d23b1c90a98\",\"type\":\"Row\"}]},\"id\":\"d3ad01fb-7879-4f76-b576-3962652c64d1\",\"type\":\"Column\"},{\"attributes\":{\"bottom_units\":\"screen\",\"fill_alpha\":{\"value\":0.5},\"fill_color\":{\"value\":\"lightgrey\"},\"left_units\":\"screen\",\"level\":\"overlay\",\"line_alpha\":{\"value\":1.0},\"line_color\":{\"value\":\"black\"},\"line_dash\":[4,4],\"line_width\":{\"value\":2},\"plot\":null,\"render_mode\":\"css\",\"right_units\":\"screen\",\"top_units\":\"screen\"},\"id\":\"e99af2d6-ce4e-40cf-9afe-bd2f8ed37983\",\"type\":\"BoxAnnotation\"},{\"attributes\":{},\"id\":\"fdb60220-00cf-431c-a902-79b40044cec5\",\"type\":\"ResetTool\"},{\"attributes\":{},\"id\":\"3e158ae1-1aa7-48f7-b745-9c690f841dfd\",\"type\":\"SaveTool\"},{\"attributes\":{},\"id\":\"e63684fb-8f9f-46bc-b222-e00ccff900b3\",\"type\":\"ResetTool\"},{\"attributes\":{\"below\":[{\"id\":\"118d96ba-7096-42f5-b0ee-78d7bca31735\",\"type\":\"LinearAxis\"}],\"left\":[{\"id\":\"9ab177a7-f820-496e-b4b0-9bcba9997cfc\",\"type\":\"LinearAxis\"}],\"plot_height\":200,\"plot_width\":450,\"renderers\":[{\"id\":\"118d96ba-7096-42f5-b0ee-78d7bca31735\",\"type\":\"LinearAxis\"},{\"id\":\"4e294b33-5a6e-4e3e-b866-899d0a894767\",\"type\":\"Grid\"},{\"id\":\"9ab177a7-f820-496e-b4b0-9bcba9997cfc\",\"type\":\"LinearAxis\"},{\"id\":\"7d1af6f1-2740-47bb-a841-be6d13e6f52f\",\"type\":\"Grid\"},{\"id\":\"e99af2d6-ce4e-40cf-9afe-bd2f8ed37983\",\"type\":\"BoxAnnotation\"},{\"id\":\"216048eb-6565-43fc-b1d2-9d0606dd12d2\",\"type\":\"GlyphRenderer\"},{\"id\":\"8a2c4a45-088a-4788-9578-7a24be097644\",\"type\":\"GlyphRenderer\"},{\"id\":\"56183fa3-3993-43be-848d-1e7e4d878b10\",\"type\":\"GlyphRenderer\"}],\"sizing_mode\":\"fixed\",\"title\":{\"id\":\"728a4252-0358-4fd8-becf-0522b7b6f07f\",\"type\":\"Title\"},\"toolbar\":{\"id\":\"35dff333-df31-44fc-82da-4241bab38731\",\"type\":\"Toolbar\"},\"toolbar_location\":null,\"x_range\":{\"id\":\"72a395eb-e393-4704-8277-d0c44a995f79\",\"type\":\"DataRange1d\"},\"x_scale\":{\"id\":\"c0d82477-2d74-4aad-8105-6686839d9ae6\",\"type\":\"LinearScale\"},\"y_range\":{\"id\":\"3e5b13b8-6d52-4b0a-8b9f-603904c8a49b\",\"type\":\"DataRange1d\"},\"y_scale\":{\"id\":\"c23cfb52-40b3-4fe5-9597-b7d8b83d9284\",\"type\":\"LinearScale\"}},\"id\":\"0918da56-33b4-41a6-a0c6-91a0c14944a5\",\"subtype\":\"Figure\",\"type\":\"Plot\"},{\"attributes\":{},\"id\":\"2e3c1001-e00f-4684-b5e2-afba91244f36\",\"type\":\"BasicTickFormatter\"},{\"attributes\":{\"fill_color\":{\"value\":\"#440154\"},\"line_color\":{\"value\":\"#440154\"},\"size\":{\"units\":\"screen\",\"value\":10},\"x\":{\"field\":\"x\"},\"y\":{\"field\":\"y\"}},\"id\":\"fc47d24b-6062-4499-8ba6-a9d1df82e5c3\",\"type\":\"Circle\"},{\"attributes\":{\"callback\":null,\"column_names\":[\"x\",\"y\"],\"data\":{\"x\":[0,1,2,3,4,5,6,7,8,9,10],\"y\":[10,9,8,7,6,5,4,3,2,1,0]},\"selected\":null,\"selection_policy\":null},\"id\":\"bcf30d90-ce3f-47e9-bd82-2feae7fb90ed\",\"type\":\"ColumnDataSource\"},{\"attributes\":{\"formatter\":{\"id\":\"0177eb52-f809-46c5-935c-74f8be53916a\",\"type\":\"BasicTickFormatter\"},\"plot\":{\"id\":\"b311684d-9f68-452f-9abe-8477d8092945\",\"subtype\":\"Figure\",\"type\":\"Plot\"},\"ticker\":{\"id\":\"fa203ee1-801e-4033-82d3-acd85c370049\",\"type\":\"BasicTicker\"}},\"id\":\"e6405f90-07c7-450b-9569-96148b52bed0\",\"type\":\"LinearAxis\"},{\"attributes\":{\"callback\":null,\"column_names\":[\"x\",\"y\"],\"data\":{\"x\":[1,2,3,4,5],\"y\":[6,7,2,4,5]},\"selected\":null,\"selection_policy\":null},\"id\":\"84671d96-f9ff-4840-97c5-49318d17f43e\",\"type\":\"ColumnDataSource\"},{\"attributes\":{\"source\":{\"id\":\"93d9ca43-8ac8-45a1-977f-250dfd3d71e1\",\"type\":\"ColumnDataSource\"}},\"id\":\"324b17dd-4cb7-4177-8fff-74d4570438a5\",\"type\":\"CDSView\"},{\"attributes\":{\"source\":{\"id\":\"bcf30d90-ce3f-47e9-bd82-2feae7fb90ed\",\"type\":\"ColumnDataSource\"}},\"id\":\"a2d2e9d5-587b-484a-9f25-ff99c9847ebf\",\"type\":\"CDSView\"},{\"attributes\":{\"fill_alpha\":{\"value\":0.1},\"fill_color\":{\"value\":\"#1f77b4\"},\"line_alpha\":{\"value\":0.1},\"line_color\":{\"value\":\"#1f77b4\"},\"size\":{\"units\":\"screen\",\"value\":10},\"x\":{\"field\":\"x\"},\"y\":{\"field\":\"y\"}},\"id\":\"f48f4af9-a4f4-4a57-8101-90812f4dae24\",\"type\":\"Square\"}],\"root_ids\":[\"d4d7d86b-ba93-47ec-aa52-0c2ffb7f3e43\"]},\"title\":\"Bokeh Application\",\"version\":\"0.12.15\"}};\n",
       "  var render_items = [{\"docid\":\"c1db94dc-5fb8-49e1-8a57-57969930512c\",\"elementid\":\"1f13bae8-dde0-4f8c-b3c8-f9d8b2d46c79\",\"modelid\":\"d4d7d86b-ba93-47ec-aa52-0c2ffb7f3e43\"}];\n",
       "  root.Bokeh.embed.embed_items_notebook(docs_json, render_items);\n",
       "\n",
       "  }\n",
       "  if (root.Bokeh !== undefined) {\n",
       "    embed_document(root);\n",
       "  } else {\n",
       "    var attempts = 0;\n",
       "    var timer = setInterval(function(root) {\n",
       "      if (root.Bokeh !== undefined) {\n",
       "        embed_document(root);\n",
       "        clearInterval(timer);\n",
       "      }\n",
       "      attempts++;\n",
       "      if (attempts > 100) {\n",
       "        console.log(\"Bokeh: ERROR: Unable to run BokehJS code because BokehJS library is missing\")\n",
       "        clearInterval(timer);\n",
       "      }\n",
       "    }, 10, root)\n",
       "  }\n",
       "})(window);"
      ],
      "application/vnd.bokehjs_exec.v0+json": ""
     },
     "metadata": {
      "application/vnd.bokehjs_exec.v0+json": {
       "id": "d4d7d86b-ba93-47ec-aa52-0c2ffb7f3e43"
      }
     },
     "output_type": "display_data"
    }
   ],
   "source": [
    "show(gridplot([[s1, None], [p, p2]]))"
   ]
  },
  {
   "cell_type": "code",
   "execution_count": null,
   "metadata": {},
   "outputs": [],
   "source": []
  }
 ],
 "metadata": {
  "kernelspec": {
   "display_name": "Python 3",
   "language": "python",
   "name": "python3"
  },
  "language_info": {
   "codemirror_mode": {
    "name": "ipython",
    "version": 3
   },
   "file_extension": ".py",
   "mimetype": "text/x-python",
   "name": "python",
   "nbconvert_exporter": "python",
   "pygments_lexer": "ipython3",
   "version": "3.6.5"
  }
 },
 "nbformat": 4,
 "nbformat_minor": 2
}
