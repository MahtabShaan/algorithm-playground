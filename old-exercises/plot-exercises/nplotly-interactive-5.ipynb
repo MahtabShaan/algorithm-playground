{
 "cells": [
  {
   "cell_type": "code",
   "execution_count": 1,
   "metadata": {},
   "outputs": [
    {
     "data": {
      "application/javascript": [
       "window.genUID = function() {\n",
       "    return 'xxxxxxxx-xxxx-4xxx-yxxx-xxxxxxxxxxxx'.replace(/[xy]/g, function(c) {\n",
       "        var r = Math.random()*16|0, v = c == 'x' ? r : (r&0x3|0x8);\n",
       "        return v.toString(16);\n",
       "    });\n",
       "};\n",
       "\n",
       "\n",
       "define('graphWidget', [\"@jupyter-widgets/base\"], function (widget) {\n",
       "\n",
       "    var GraphView = widget.DOMWidgetView.extend({\n",
       "        render: function(){\n",
       "            var that = this;\n",
       "\n",
       "            var graphId = window.genUID();\n",
       "            var loadingId = 'loading-'+graphId;\n",
       "\n",
       "\n",
       "            var _graph_url = that.model.get('_graph_url');\n",
       "\n",
       "            // variable plotlyDomain in the case of enterprise\n",
       "            var url_parts = _graph_url.split('/');\n",
       "            var plotlyDomain = url_parts[0] + '//' + url_parts[2];\n",
       "\n",
       "            if(!('plotlyDomains' in window)){\n",
       "                window.plotlyDomains = {};\n",
       "            }\n",
       "            window.plotlyDomains[graphId] = plotlyDomain;\n",
       "\n",
       "            // Place IFrame in output cell div `$el`\n",
       "            that.$el.css('width', '100%');\n",
       "            that.$graph = $(['<iframe id=\"'+graphId+'\"',\n",
       "                             'src=\"'+_graph_url+'.embed\"',\n",
       "                             'seamless',\n",
       "                             'style=\"border: none;\"',\n",
       "                             'width=\"100%\"',\n",
       "                             'height=\"600\">',\n",
       "                             '</iframe>'].join(' '));\n",
       "            that.$graph.appendTo(that.$el);\n",
       "\n",
       "            that.$loading = $('<div id=\"'+loadingId+'\">Initializing...</div>')\n",
       "                            .appendTo(that.$el);\n",
       "\n",
       "            // for some reason the 'width' is being changed in IPython 3.0.0\n",
       "            // for the containing `div` element. There's a flicker here, but\n",
       "            // I was unable to fix it otherwise.\n",
       "            setTimeout(function ()  {\n",
       "                if (IPYTHON_VERSION === '3') {\n",
       "                    $('#' + graphId)[0].parentElement.style.width = '100%';\n",
       "                }\n",
       "            }, 500);\n",
       "\n",
       "            // initialize communication with the iframe\n",
       "            if(!('pingers' in window)){\n",
       "                window.pingers = {};\n",
       "            }\n",
       "\n",
       "            window.pingers[graphId] = setInterval(function() {\n",
       "                that.graphContentWindow = $('#'+graphId)[0].contentWindow;\n",
       "                that.graphContentWindow.postMessage({task: 'ping'}, plotlyDomain);\n",
       "            }, 200);\n",
       "\n",
       "            // Assign a message listener to the 'message' events\n",
       "            // from iframe's postMessage protocol.\n",
       "            // Filter the messages by iframe src so that the right message\n",
       "            // gets passed to the right widget\n",
       "            if(!('messageListeners' in window)){\n",
       "                 window.messageListeners = {};\n",
       "            }\n",
       "\n",
       "            window.messageListeners[graphId] = function(e) {\n",
       "                if(_graph_url.indexOf(e.origin)>-1) {\n",
       "                    var frame = document.getElementById(graphId);\n",
       "\n",
       "                    if(frame === null){\n",
       "                        // frame doesn't exist in the dom anymore, clean up it's old event listener\n",
       "                        window.removeEventListener('message', window.messageListeners[graphId]);\n",
       "                        clearInterval(window.pingers[graphId]);\n",
       "                    } else if(frame.contentWindow === e.source) {\n",
       "                        // TODO: Stop event propagation, so each frame doesn't listen and filter\n",
       "                        var frameContentWindow = $('#'+graphId)[0].contentWindow;\n",
       "                        var message = e.data;\n",
       "\n",
       "                        if('pong' in message && message.pong) {\n",
       "                            $('#loading-'+graphId).hide();\n",
       "                            clearInterval(window.pingers[graphId]);\n",
       "                            that.send({event: 'pong', graphId: graphId});\n",
       "                        } else if (message.type==='hover' ||\n",
       "                                   message.type==='zoom'  ||\n",
       "                                   message.type==='click' ||\n",
       "                                   message.type==='unhover') {\n",
       "\n",
       "                            // click and hover events contain all of the data in the traces,\n",
       "                            // which can be a very large object and may take a ton of time\n",
       "                            // to pass to the python backend. Strip out the data, and require\n",
       "                            // the user to call get_figure if they need trace information\n",
       "                            if(message.type !== 'zoom') {\n",
       "                                for(var i in message.points) {\n",
       "                                    delete message.points[i].data;\n",
       "                                    delete message.points[i].fullData;\n",
       "                                }\n",
       "                            }\n",
       "                            that.send({event: message.type, message: message, graphId: graphId});\n",
       "                        } else if (message.task === 'getAttributes') {\n",
       "                            that.send({event: 'getAttributes', response: message.response});\n",
       "                        }\n",
       "                    }\n",
       "                }\n",
       "            };\n",
       "\n",
       "            window.removeEventListener('message', window.messageListeners[graphId]);\n",
       "            window.addEventListener('message', window.messageListeners[graphId]);\n",
       "\n",
       "        },\n",
       "\n",
       "        update: function() {\n",
       "            // Listen for messages from the graph widget in python\n",
       "            var jmessage = this.model.get('_message');\n",
       "            var message = JSON.parse(jmessage);\n",
       "\n",
       "            // check for duplicate messages\n",
       "            if(!('messageIds' in window)){\n",
       "                window.messageIds = {};\n",
       "            }\n",
       "\n",
       "            if(!(message.uid in window.messageIds)){\n",
       "                // message hasn't been received yet, do stuff\n",
       "                window.messageIds[message.uid] = true;\n",
       "\n",
       "                if (message.fadeTo) {\n",
       "                    this.fadeTo(message);\n",
       "                } else {\n",
       "                    var plot = $('#' + message.graphId)[0].contentWindow;\n",
       "                    plot.postMessage(message, window.plotlyDomains[message.graphId]);\n",
       "                }\n",
       "            }\n",
       "\n",
       "            return GraphView.__super__.update.apply(this);\n",
       "        },\n",
       "\n",
       "        /**\n",
       "         * Wrapper for jquery's `fadeTo` function.\n",
       "         *\n",
       "         * @param message Contains the id we need to find the element.\n",
       "         */\n",
       "        fadeTo: function (message) {\n",
       "            var plot = $('#' + message.graphId);\n",
       "            plot.fadeTo(message.duration, message.opacity);\n",
       "        }\n",
       "    });\n",
       "\n",
       "    // Register the GraphView with the widget manager.\n",
       "    return {\n",
       "        GraphView: GraphView\n",
       "    }\n",
       "\n",
       "});\n",
       "\n",
       "//@ sourceURL=graphWidget.js\n"
      ],
      "text/plain": [
       "<IPython.core.display.Javascript object>"
      ]
     },
     "metadata": {},
     "output_type": "display_data"
    }
   ],
   "source": [
    "import ipywidgets as widgets\n",
    "from ipywidgets import Button, HBox, VBox\n",
    "\n",
    "import plotly\n",
    "import plotly.plotly as py\n",
    "import plotly.graph_objs as go\n",
    "import numpy as np\n",
    "from plotly.widgets import GraphWidget\n",
    "import plotly.offline as offline\n",
    "\n",
    "from copy import deepcopy \n",
    "\n",
    "plotly.tools.set_credentials_file(username='minimithi', api_key='9iBo4fr8TzK4KjuH7did')"
   ]
  },
  {
   "cell_type": "markdown",
   "metadata": {},
   "source": [
    "# SURFACE PLOT"
   ]
  },
  {
   "cell_type": "code",
   "execution_count": 2,
   "metadata": {},
   "outputs": [],
   "source": [
    "def compute_bivariate_gaussian(x, y, mux, muy, varx, vary, covxy):\n",
    "  dx, dy = x - mux, y - muy\n",
    "  sx, sy = np.sqrt(varx), np.sqrt(vary)\n",
    "  c =  sx*sy if sx*sy > 0.001 else 0.002\n",
    "  rho = covxy / c\n",
    "  a = 1 - rho**2 if rho**2 < 0.99 else 0.01\n",
    "  b = 2*np.pi*c*np.sqrt(a)\n",
    "  r = dx**2 / varx + dy**2 / vary - 2*rho*dx*dy / c\n",
    "  z = np.exp(-r/(2*a)) / b\n",
    "  return z"
   ]
  },
  {
   "cell_type": "code",
   "execution_count": 3,
   "metadata": {},
   "outputs": [],
   "source": [
    "L, s = 5.0, 0.15\n",
    "r = np.arange(-L, L, s)\n",
    "x, y = np.meshgrid(r, r)\n",
    "z = compute_bivariate_gaussian(x, y, 0.0, 0.0, 1.0, 1.0, 0.0)\n",
    "k, h = 1.5, 0.6"
   ]
  },
  {
   "cell_type": "code",
   "execution_count": 4,
   "metadata": {},
   "outputs": [
    {
     "name": "stdout",
     "output_type": "stream",
     "text": [
      "https://plot.ly/~minimithi/169\n"
     ]
    },
    {
     "data": {
      "text/html": [
       "<iframe id=\"igraph\" scrolling=\"no\" style=\"border:none;\" seamless=\"seamless\" src=\"https://plot.ly/~minimithi/187.embed\" height=\"300px\" width=\"750px\"></iframe>"
      ],
      "text/plain": [
       "<plotly.tools.PlotlyDisplay object>"
      ]
     },
     "execution_count": 4,
     "metadata": {},
     "output_type": "execute_result"
    }
   ],
   "source": [
    "colorscale_settings = [\n",
    " [0.0, 'rgba(45, 52, 54,1.0)'], \n",
    " [0.3, 'rgba(108, 92, 231,1.0)'],\n",
    " [0.7, 'rgba(253, 121, 168, 1.0)'],\n",
    " [1.0, 'rgba(255, 255, 255, 1.0)']]\n",
    "#rgba(232, 67, 147, 1.0)\n",
    "\n",
    "axis_settings = {\n",
    "  'gridcolor': 'rgb(255, 255, 255)',\n",
    "  'zerolinecolor': 'rgb(255, 255, 255)',\n",
    "  'showbackground': True,\n",
    "  'backgroundcolor': 'rgb(230, 230,230)',\n",
    "  'autorange': False,\n",
    "  'range': [-k*L, k*L]\n",
    "}\n",
    "\n",
    "xaxis_settings = deepcopy(axis_settings)\n",
    "yaxis_settings = deepcopy(axis_settings)\n",
    "zaxis_settings = deepcopy(axis_settings)\n",
    "zaxis_settings['range'] = [0.0, h]\n",
    "\n",
    "scene_settings = {'xaxis': xaxis_settings, 'yaxis': xaxis_settings, 'zaxis': zaxis_settings}\n",
    "\n",
    "layout_settings = go.Layout(\n",
    "    width=750,\n",
    "    height=300,\n",
    "    margin=go.Margin(l=5, r=5, b=5, t=5, pad=5),\n",
    "    scene=scene_settings\n",
    ")\n",
    "\n",
    "\n",
    "surface = go.Surface(x=x, y=y, z=z, colorscale=colorscale_settings)\n",
    "\n",
    "gaussian_figure = go.Figure(data=[surface], layout=layout_settings)\n",
    "gurl = py.plot(gaussian_figure, filename='PDF')\n",
    "print(gurl)\n",
    "py.iplot(gaussian_figure)"
   ]
  },
  {
   "cell_type": "markdown",
   "metadata": {},
   "source": [
    "# BELL3D"
   ]
  },
  {
   "cell_type": "code",
   "execution_count": 5,
   "metadata": {},
   "outputs": [],
   "source": [
    "class Bell3d:\n",
    "  def __init__(self, g, x, y,\n",
    "               mux=0, muy=0, varx=1.0, vary=1.0, covxy=0):\n",
    "    self.g = g \n",
    "    self.mux, self.muy = mux, muy\n",
    "    self.varx, self.vary = varx, vary\n",
    "    self.covxy = covxy\n",
    "    self.x, self.y = x, y\n",
    "\n",
    "  def update_z(self):\n",
    "    self.z = compute_bivariate_gaussian(\n",
    "      self.x, self.y, self.mux, self.muy,\n",
    "      self.varx, self.vary, self.covxy\n",
    "    )\n",
    "    self.g.restyle({ 'z': [self.z]})        \n",
    "\n",
    "  def on_varx_change(self, name):\n",
    "    self.varx = name['new']\n",
    "    self.update_z()\n",
    "\n",
    "  def on_vary_change(self, name):\n",
    "    self.vary = name['new']\n",
    "    self.update_z()\n",
    "\n",
    "  def on_covxy_change(self, name):\n",
    "    self.covxy = name['new']\n",
    "    self.update_z()\n",
    "    \n",
    "  def on_mux_change(self, name):\n",
    "    self.mux = name['new']\n",
    "    self.update_z()\n",
    "\n",
    "  def on_muy_change(self, name):\n",
    "    self.muy = name['new']\n",
    "    self.update_z()\n"
   ]
  },
  {
   "cell_type": "code",
   "execution_count": 6,
   "metadata": {},
   "outputs": [],
   "source": [
    "GRAPH_URL = 'https://plot.ly/~minimithi/169' ##gurl\n",
    "gw = GraphWidget(GRAPH_URL)\n",
    "bell3d = Bell3d(gw, x, y)"
   ]
  },
  {
   "cell_type": "code",
   "execution_count": 7,
   "metadata": {},
   "outputs": [],
   "source": [
    "class BellSlider:\n",
    "  def __init__(self, description_string, min_val, max_val, \n",
    "               default_val, step_val, function):\n",
    "    \n",
    "    self.slider = widgets.FloatSlider(\n",
    "      min=min_val,max=max_val,\n",
    "      value=default_val, step=step_val,\n",
    "      description= description_string,\n",
    "      continuous_update=False)\n",
    "    self.function = function\n",
    "  \n",
    "  def observe(self):\n",
    "    self.slider.observe(self.function, 'value')"
   ]
  },
  {
   "cell_type": "code",
   "execution_count": 8,
   "metadata": {},
   "outputs": [],
   "source": [
    "c = 0.5\n",
    "\n",
    "muxSlider = BellSlider('mux', -L*c, L*c, 0.0, 0.5, bell3d.on_mux_change)\n",
    "muySlider = BellSlider('muy', -L*c, L*c, 0.0, 0.5, bell3d.on_muy_change)\n",
    "varxSlider = BellSlider('varx', 0.5, 2.5, 1.5, 0.1, bell3d.on_varx_change)\n",
    "varySlider = BellSlider('vary', 0.5, 2.5, 1.5, 0.1, bell3d.on_vary_change)\n",
    "covxySlider = BellSlider('covxy', -0.4, 0.4, 0, 0.1, bell3d.on_covxy_change)"
   ]
  },
  {
   "cell_type": "code",
   "execution_count": 9,
   "metadata": {},
   "outputs": [],
   "source": [
    "for slider in [muxSlider, muySlider, varxSlider, varySlider, covxySlider]:\n",
    "  slider.observe()"
   ]
  },
  {
   "cell_type": "code",
   "execution_count": 10,
   "metadata": {
    "scrolled": true
   },
   "outputs": [
    {
     "data": {
      "application/vnd.jupyter.widget-view+json": {
       "model_id": "0af77e9813df463787f2517ad6de0f0f",
       "version_major": 2,
       "version_minor": 0
      },
      "text/plain": [
       "VBox(children=(HBox(children=(FloatSlider(value=0.0, continuous_update=False, description='mux', max=2.5, min=…"
      ]
     },
     "metadata": {},
     "output_type": "display_data"
    },
    {
     "data": {
      "application/vnd.jupyter.widget-view+json": {
       "model_id": "4fe68c4f8c1b44a6bd37d45d226b95ec",
       "version_major": 2,
       "version_minor": 0
      },
      "text/plain": [
       "GraphWidget()"
      ]
     },
     "metadata": {},
     "output_type": "display_data"
    }
   ],
   "source": [
    "top_box = HBox([muxSlider.slider, muySlider.slider])\n",
    "bottom_box = HBox([varxSlider.slider, varySlider.slider, covxySlider.slider])\n",
    "display(VBox([top_box, bottom_box]))\n",
    "display(bell3d.g)"
   ]
  },
  {
   "cell_type": "code",
   "execution_count": null,
   "metadata": {},
   "outputs": [],
   "source": []
  }
 ],
 "metadata": {
  "kernelspec": {
   "display_name": "Python 3",
   "language": "python",
   "name": "python3"
  },
  "language_info": {
   "codemirror_mode": {
    "name": "ipython",
    "version": 3
   },
   "file_extension": ".py",
   "mimetype": "text/x-python",
   "name": "python",
   "nbconvert_exporter": "python",
   "pygments_lexer": "ipython3",
   "version": "3.6.5"
  }
 },
 "nbformat": 4,
 "nbformat_minor": 2
}
