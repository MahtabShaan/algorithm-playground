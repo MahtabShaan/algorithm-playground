{
 "cells": [
  {
   "cell_type": "code",
   "execution_count": 4,
   "metadata": {},
   "outputs": [],
   "source": [
    "from queue import Queue\n",
    "\n",
    "q = Queue()\n",
    "q.put(\"A\")\n",
    "q.put(\"B\")\n",
    "q.put(\"C\")"
   ]
  },
  {
   "cell_type": "code",
   "execution_count": 5,
   "metadata": {},
   "outputs": [
    {
     "name": "stdout",
     "output_type": "stream",
     "text": [
      "False 3 A\n"
     ]
    }
   ],
   "source": [
    "z = q.empty()\n",
    "y = q.qsize()\n",
    "x = q.get()\n",
    "print(z, y, x)"
   ]
  },
  {
   "cell_type": "code",
   "execution_count": 10,
   "metadata": {},
   "outputs": [],
   "source": [
    "class sample:\n",
    "    def __init__(self, my_list):\n",
    "        self.q = Queue()\n",
    "        self.s = my_list\n",
    "        \n",
    "        \n",
    "    def __iter__(self):\n",
    "        for x in self.s:\n",
    "            self.q.put(x)\n",
    "        return self\n",
    "    \n",
    "    def __next__(self):\n",
    "        if self.q.empty(): raise StopIteration\n",
    "        return self.q.get()"
   ]
  },
  {
   "cell_type": "code",
   "execution_count": 12,
   "metadata": {},
   "outputs": [
    {
     "name": "stdout",
     "output_type": "stream",
     "text": [
      "cat\n",
      "dog\n",
      "rabbit\n",
      "cat\n",
      "dog\n",
      "rabbit\n"
     ]
    }
   ],
   "source": [
    "s = sample([\"cat\", \"dog\", \"rabbit\"])\n",
    "\n",
    "for x in s:\n",
    "    print(x)\n",
    "    \n",
    "for x in s:\n",
    "    print(x)"
   ]
  },
  {
   "cell_type": "code",
   "execution_count": 14,
   "metadata": {},
   "outputs": [
    {
     "name": "stdout",
     "output_type": "stream",
     "text": [
      "['2', '1']\n"
     ]
    }
   ],
   "source": [
    "def change(x):\n",
    "    x.append(\"1\") \n",
    "    \n",
    "y = [\"2\"]\n",
    "change(y)\n",
    "print(y)"
   ]
  },
  {
   "cell_type": "code",
   "execution_count": null,
   "metadata": {},
   "outputs": [],
   "source": [
    "def change2(x):\n",
    "    "
   ]
  }
 ],
 "metadata": {
  "kernelspec": {
   "display_name": "Python 3",
   "language": "python",
   "name": "python3"
  },
  "language_info": {
   "codemirror_mode": {
    "name": "ipython",
    "version": 3
   },
   "file_extension": ".py",
   "mimetype": "text/x-python",
   "name": "python",
   "nbconvert_exporter": "python",
   "pygments_lexer": "ipython3",
   "version": "3.6.7"
  }
 },
 "nbformat": 4,
 "nbformat_minor": 2
}
