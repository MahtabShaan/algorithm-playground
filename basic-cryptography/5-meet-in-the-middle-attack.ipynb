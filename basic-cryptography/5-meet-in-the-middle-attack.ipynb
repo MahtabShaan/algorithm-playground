{
 "cells": [
  {
   "cell_type": "markdown",
   "metadata": {},
   "source": [
    "# Meet in the Middle Attack\n",
    "- Given prime `p`\n",
    "- then `Zp* = {1, 2, 3, ..., p-1}`\n",
    "- let `g` and `h` be elements in `Zp*` such that\n",
    "- such that `h mod p = g^x mod p` where ` 0 < x < 2^40`\n",
    "- find `x` given `h`, `g`, and `p`\n",
    "\n",
    "# Idea\n",
    "- let `B = 2^20` then `B^2 = 2^40` \n",
    "- then `x= xo * B + x1` where `xo` and `x1` are in `{0, 1, ..., B-1}`\n",
    "- Then smallest x is `x = 0 * B + O = 0`\n",
    "- Largest x is `x = B * (B-1) + B - 1 = B^2 - B + B -1 = B^2 - 1 = 2^40 - 1`\n",
    "- Then:\n",
    "```\n",
    "h = g^x\n",
    "h = g^(xo * B + x1) \n",
    "h = g^(xo * B) * g^(x1)\n",
    "h / g^(x1) = g^(xo *B)  \n",
    "```\n",
    "- Find `xo` and `x1` given `g`, `h`, `B` \n",
    "\n",
    "# Strategy\n",
    "- Build a hash table key: `h / g^(x1)`, with value `x1` for `x1` in `{ 0, 1, 2, .., 2^20 - 1}`\n",
    "- For each value `x0` in `{0, 1, 2, ... 20^20 -1}` check if `(g^B)^(x0) mod P` is in hashtable. If it is then you've found `x0` and `x1`\n",
    "- Return `x = xo * B + x1`\n",
    "\n",
    "### Modulo Division\n",
    "```\n",
    " (x mod p) / ( y mod p)  = ((x mod p) * (y_inverse mod p)) mod p  \n",
    " \n",
    "```\n",
    "\n",
    "### Definition of inverse\n",
    "```\n",
    " Definition of modular inverse in Zp\n",
    " y_inverse * y mod P = 1 \n",
    "``` \n",
    "\n",
    "### Inverse of  `x` in `Zp*`\n",
    "```\n",
    "Given p is prime,\n",
    "then for every element x in set Zp* = {1, ..., p - 1}\n",
    "the element x is invertible (there exist an x_inverse such that: \n",
    "x_inverse * x mod p = 1\n",
    "\n",
    "The following is true (according to Fermat's 1640)\n",
    "\n",
    "> x^(p - 1) mod  = 1 \n",
    "> x ^ (p - 2) * x mod p = 1\n",
    "> x_inverse = x^(p-2)\n",
    " \n",
    " ```\n",
    "# Notes\n",
    "- Work is `2^20` multiplications and `2^20` lookups in the worst case\n",
    "- If we brute forced it, we would do `2^40` multiplications\n",
    "- So the work is squareroot of brute force\n",
    "\n",
    "# Test Numbers\n",
    "\n",
    "```\n",
    "p = 134078079299425970995740249982058461274793658205923933\\\n",
    "    77723561443721764030073546976801874298166903427690031\\\n",
    "    858186486050853753882811946569946433649006084171\n",
    "\n",
    "g = 11717829880366207009516117596335367088558084999998952205\\\n",
    "    59997945906392949973658374667057217647146031292859482967\\\n",
    "    5428279466566527115212748467589894601965568\n",
    "\n",
    "h = 323947510405045044356526437872806578864909752095244\\\n",
    "    952783479245297198197614329255807385693795855318053\\\n",
    "    2878928001494706097394108577585732452307673444020333\n",
    "```\n",
    "\n",
    "# Library used\n",
    "- https://gmpy2.readthedocs.io/en/latest/mpz.html"
   ]
  },
  {
   "cell_type": "code",
   "execution_count": 1,
   "metadata": {},
   "outputs": [],
   "source": [
    "from gmpy2 import mpz\n",
    "from gmpy2 import t_mod, invert, powmod, add, mul, is_prime"
   ]
  },
  {
   "cell_type": "code",
   "execution_count": 2,
   "metadata": {},
   "outputs": [],
   "source": [
    "def build_table(h, g, p, B):\n",
    "    table, z = {}, h\n",
    "    g_inverse = invert(g, p)\n",
    "    table[h] = 0\n",
    "    for x1 in range(1, B):\n",
    "        z = t_mod(mul(z, g_inverse), p)\n",
    "        table[z] = x1\n",
    "    return table"
   ]
  },
  {
   "cell_type": "code",
   "execution_count": 3,
   "metadata": {},
   "outputs": [],
   "source": [
    "def lookup(table, g, p, B):\n",
    "    gB, z = powmod(g, B, p), 1\n",
    "    for x0 in range(B):\n",
    "        if z in table:\n",
    "            x1 = table[z]\n",
    "            return x0, x1\n",
    "        z = t_mod(mul(z, gB), p)\n",
    "    return None, None"
   ]
  },
  {
   "cell_type": "code",
   "execution_count": 4,
   "metadata": {},
   "outputs": [],
   "source": [
    "def find_x(h, g, p, B):\n",
    "    table = build_table(h, g, p, B)\n",
    "    x0, x1 = lookup(table, g, p, B)\n",
    "    # assert x0 != None and x1 != None\n",
    "    Bx0 = mul(x0, B)\n",
    "    x = add(Bx0, x1)\n",
    "    print(x0, x1)\n",
    "    return x"
   ]
  },
  {
   "cell_type": "code",
   "execution_count": 5,
   "metadata": {},
   "outputs": [
    {
     "name": "stdout",
     "output_type": "stream",
     "text": [
      "357984 787046\n",
      "375374217830\n"
     ]
    }
   ],
   "source": [
    "p_string = '13407807929942597099574024998205846127479365820592393377723561443721764030073546976801874298166903427690031858186486050853753882811946569946433649006084171'\n",
    "g_string = '11717829880366207009516117596335367088558084999998952205599979459063929499736583746670572176471460312928594829675428279466566527115212748467589894601965568'\n",
    "h_string = '3239475104050450443565264378728065788649097520952449527834792452971981976143292558073856937958553180532878928001494706097394108577585732452307673444020333'\n",
    "\n",
    "p = mpz(p_string)\n",
    "g = mpz(g_string)\n",
    "h = mpz(h_string)\n",
    "B = mpz(2) ** mpz(20)\n",
    "\n",
    "assert is_prime(p)\n",
    "assert g < p\n",
    "assert h < p\n",
    "\n",
    "x = find_x(h, g, p, B)\n",
    "print(x)\n",
    "\n",
    "assert h == powmod(g, x, p)"
   ]
  }
 ],
 "metadata": {
  "kernelspec": {
   "display_name": "Python 3",
   "language": "python",
   "name": "python3"
  },
  "language_info": {
   "codemirror_mode": {
    "name": "ipython",
    "version": 3
   },
   "file_extension": ".py",
   "mimetype": "text/x-python",
   "name": "python",
   "nbconvert_exporter": "python",
   "pygments_lexer": "ipython3",
   "version": "3.6.7"
  }
 },
 "nbformat": 4,
 "nbformat_minor": 2
}
