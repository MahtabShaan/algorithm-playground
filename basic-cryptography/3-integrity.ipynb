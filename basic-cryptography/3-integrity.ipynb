{
 "cells": [
  {
   "cell_type": "markdown",
   "metadata": {},
   "source": [
    "# File Authentication System\n",
    "- GOAL: build a file authentication system that lets browsers authenticate and play video chunks without having to wait for the entire file."
   ]
  },
  {
   "cell_type": "code",
   "execution_count": 1,
   "metadata": {},
   "outputs": [],
   "source": [
    "from hashlib import sha256\n",
    "import os"
   ]
  },
  {
   "cell_type": "code",
   "execution_count": 2,
   "metadata": {},
   "outputs": [],
   "source": [
    "def read_block_reverse(filepath, buffersize):\n",
    "\n",
    "    with open(filepath, 'rb') as f:\n",
    "        \n",
    "        f.seek(0, os.SEEK_END)\n",
    "        filesize = f.tell()\n",
    "        firstchunk = filesize % buffersize\n",
    "\n",
    "        if firstchunk != 0: \n",
    "            f.seek(filesize - firstchunk)\n",
    "            yield f.read(firstchunk)\n",
    "        \n",
    "        f.seek(-firstchunk-buffersize, os.SEEK_END)\n",
    "        move = -2*buffersize\n",
    "        \n",
    "        while True:\n",
    "            yield f.read(buffersize)\n",
    "            if f.tell() <= buffersize: break\n",
    "            f.seek(move, 1)"
   ]
  },
  {
   "cell_type": "code",
   "execution_count": 3,
   "metadata": {},
   "outputs": [],
   "source": [
    "def compute_first_hash(filepath, buffersize=1024):\n",
    "    gen = read_block_reverse(filepath, buffersize)\n",
    "    h = bytes()\n",
    "    for i in gen:\n",
    "        h = sha256(i + h).digest()\n",
    "    return h"
   ]
  },
  {
   "cell_type": "code",
   "execution_count": 4,
   "metadata": {},
   "outputs": [],
   "source": [
    "def write_all_hashes(filepath, hashfilepath=None, buffersize=1024):\n",
    "    if hashfilepath is None:\n",
    "        hashfilepath = filepath + \"hash\"\n",
    "    f = open(hashfilepath,\"wb\")\n",
    "    gen = read_block_reverse(filepath, buffersize)\n",
    "    h = bytes()\n",
    "    for i in gen:\n",
    "        h = sha256(i + h).digest()\n",
    "        f.write(h)\n",
    "    f.close()\n",
    "\n",
    "    \n",
    "def read_block_hash(filepath, hashfilepath=None, buffersize=1024, hashsize=32):\n",
    "    \n",
    "    if hashfilepath is None:\n",
    "        hashfilepath = filepath + \"hash\"\n",
    "        \n",
    "    with open(hashfilepath, \"rb\") as hashfile:\n",
    "        \n",
    "        hashfile.seek(0, os.SEEK_END)\n",
    "        hashfile.seek(-hashsize, os.SEEK_END)\n",
    "        yield hashfile.read(hashsize)\n",
    "        move = -2 * hashsize\n",
    "    \n",
    "        with open(filepath, 'rb') as file:\n",
    "            \n",
    "            while True:\n",
    "                hashfile.seek(move, 1)\n",
    "                yield file.read(buffersize) + hashfile.read(hashsize)\n",
    "                if hashfile.tell() == hashsize:                    \n",
    "                    yield file.read(buffersize)\n",
    "                    break"
   ]
  },
  {
   "cell_type": "code",
   "execution_count": 5,
   "metadata": {},
   "outputs": [],
   "source": [
    "answer1 = '5b96aece304a1422224f9a41b228416028f9ba26b0d1058f400200f06a589949'\n",
    "answer2 = \"03c08f4ee0b576fe319338139c045c89c3e8e9409633bea29442e21425006ea8\"\n",
    "\n",
    "filepath1 = './data/6.1.intro.mp4_download'\n",
    "filepath2 = './data/6.2.birthday.mp4_download'\n",
    "\n",
    "h1 = compute_first_hash(filepath1)\n",
    "assert h1.hex() == answer1\n",
    "\n",
    "h2 = compute_first_hash(filepath2)\n",
    "assert h2.hex() == answer2"
   ]
  },
  {
   "cell_type": "code",
   "execution_count": 6,
   "metadata": {},
   "outputs": [],
   "source": [
    "def is_authentic(filepath, hashsize=32):\n",
    "    gen = read_block_hash(filepath)\n",
    "    h = next(gen)\n",
    "    for chunk in gen:\n",
    "        if sha256(chunk).digest() != h:\n",
    "            return False\n",
    "        h = chunk[-hashsize:]\n",
    "    return True"
   ]
  },
  {
   "cell_type": "code",
   "execution_count": 7,
   "metadata": {},
   "outputs": [],
   "source": [
    "write_all_hashes(filepath1)\n",
    "write_all_hashes(filepath2)"
   ]
  },
  {
   "cell_type": "code",
   "execution_count": 8,
   "metadata": {},
   "outputs": [],
   "source": [
    "assert is_authentic(filepath1)\n",
    "assert is_authentic(filepath2)"
   ]
  }
 ],
 "metadata": {
  "kernelspec": {
   "display_name": "Python 3",
   "language": "python",
   "name": "python3"
  },
  "language_info": {
   "codemirror_mode": {
    "name": "ipython",
    "version": 3
   },
   "file_extension": ".py",
   "mimetype": "text/x-python",
   "name": "python",
   "nbconvert_exporter": "python",
   "pygments_lexer": "ipython3",
   "version": "3.6.7"
  }
 },
 "nbformat": 4,
 "nbformat_minor": 2
}
