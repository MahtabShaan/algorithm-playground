{
 "cells": [
  {
   "cell_type": "markdown",
   "metadata": {},
   "source": [
    "# Goal\n",
    "- build a file authentication system that lets browsers authenticate and play video chunks without having to wait for the entire file.\n",
    "\n",
    "\n",
    "# Notes\n",
    "\n",
    "### `seek(offset, from_what)`\n",
    "- sets the file's current position at the offset\n",
    "- from_what <- optional defaults to zero\n",
    "- 0 - absolute position \n",
    "- 1 - relative to current position \n",
    "- 2 - seek relative to file's end  (`os.SEEK_END`)\n",
    "\n",
    "### `tell()`\n",
    "- return's current positon of the file read/write pointer within the file\n",
    "\n",
    "\n",
    "### `tester.txt`\n",
    "- `buttersize = 4`\n",
    "- `size = 94 bytes.`\n",
    "```\n",
    "the quick brown fox jumps over the lazy dog. YES, THE QUICK BROWN FOX JUMPS OVER THE LAZY DOG.\n",
    "```"
   ]
  },
  {
   "cell_type": "code",
   "execution_count": 1,
   "metadata": {},
   "outputs": [
    {
     "name": "stdout",
     "output_type": "stream",
     "text": [
      "6ca13d52ca70c883e0f0bb101e425a89e8624de51db2d2392593af6a84118090\n",
      "6ca13d52ca70c883e0f0bb101e425a89e8624de51db2d2392593af6a84118090\n",
      "6ca13d52ca70c883e0f0bb101e425a89e8624de51db2d2392593af6a84118090\n",
      "6ca13d52ca70c883e0f0bb101e425a89e8624de51db2d2392593af6a84118090\n",
      "6ca13d52ca70c883e0f0bb101e425a89e8624de51db2d2392593af6a84118090\n",
      "True\n",
      "True\n",
      "True\n",
      "True\n",
      "True\n",
      "True\n",
      "True\n",
      "True\n",
      "True\n",
      "True\n"
     ]
    }
   ],
   "source": [
    "from hashlib import sha256\n",
    "\n",
    "x = sha256(b\"abc123\").hexdigest()\n",
    "print(x)\n",
    "\n",
    "from cryptography.hazmat.backends import default_backend\n",
    "from cryptography.hazmat.primitives import hashes\n",
    "digest = hashes.Hash(hashes.SHA256(), backend=default_backend())\n",
    "digest.update(b\"abc123\")\n",
    "z = digest.finalize()\n",
    "y = b'l\\xa1=R\\xcap\\xc8\\x83\\xe0\\xf0\\xbb\\x10\\x1eBZ\\x89\\xe8bM\\xe5\\x1d\\xb2\\xd29%\\x93\\xafj\\x84\\x11\\x80\\x90'\n",
    "\n",
    "print(z == y)\n",
    "print(z.hex() == x)"
   ]
  },
  {
   "cell_type": "code",
   "execution_count": 2,
   "metadata": {},
   "outputs": [
    {
     "name": "stdout",
     "output_type": "stream",
     "text": [
      "test1 311.64912715699757\n",
      "test1 311.64912715699757\n",
      "test1 311.64912715699757\n",
      "test1 311.64912715699757\n",
      "test1 311.64912715699757\n",
      "test2 256.4095842000097\n",
      "test2 256.4095842000097\n",
      "test2 256.4095842000097\n",
      "test2 256.4095842000097\n",
      "test2 256.4095842000097\n"
     ]
    }
   ],
   "source": [
    "import os\n",
    "\n",
    "def read_block_reverse1(filepath, buffersize=1024):\n",
    "\n",
    "    with open(filepath, 'rb') as f:\n",
    "\n",
    "        f.seek(0, os.SEEK_END)\n",
    "        filesize = f.tell()\n",
    "        firstchunk = filesize % buffersize\n",
    "        position = filesize - firstchunk\n",
    "        if firstchunk != 0: \n",
    "            f.seek(position)\n",
    "            yield f.read(firstchunk)\n",
    "        \n",
    "        while position > 0:\n",
    "            position -= buffersize\n",
    "            f.seek(position)\n",
    "            yield f.read(buffersize)\n",
    "\n",
    "            \n",
    "def read_block_reverse2(filepath, buffersize=1024):\n",
    "\n",
    "    with open(filepath, 'rb') as f:\n",
    "        \n",
    "        f.seek(0, os.SEEK_END)\n",
    "        filesize = f.tell()\n",
    "        firstchunk = filesize % buffersize\n",
    "\n",
    "        if firstchunk != 0: \n",
    "            f.seek(filesize - firstchunk)\n",
    "            yield f.read(firstchunk)\n",
    "        \n",
    "        f.seek(-firstchunk-buffersize, os.SEEK_END)\n",
    "        \n",
    "        while True:\n",
    "            yield f.read(buffersize)\n",
    "            if f.tell() <= buffersize:\n",
    "                break\n",
    "            f.seek(-2*buffersize, 1)\n",
    "    \n",
    "def test1():\n",
    "    gen = read_block_reverse1(filepath='./data/6.2.birthday.mp4_download', buffersize=1024)\n",
    "    for i in gen:\n",
    "        print(\"\", end=\"\")\n",
    "        \n",
    "def test2():\n",
    "    gen2 = read_block_reverse2(filepath='./data/6.2.birthday.mp4_download', buffersize=1024)\n",
    "    for i in gen2:\n",
    "        print(\"\", end=\"\")\n",
    "\n",
    "\n",
    "if __name__ == '__main__':\n",
    "    import timeit\n",
    "    print(\"test1\", timeit.timeit(\"test1()\", setup=\"from __main__ import test1\", number=100))\n",
    "    print(\"test2\", timeit.timeit(\"test2()\", setup=\"from __main__ import test2\", number=100))"
   ]
  }
 ],
 "metadata": {
  "kernelspec": {
   "display_name": "Python 3",
   "language": "python",
   "name": "python3"
  },
  "language_info": {
   "codemirror_mode": {
    "name": "ipython",
    "version": 3
   },
   "file_extension": ".py",
   "mimetype": "text/x-python",
   "name": "python",
   "nbconvert_exporter": "python",
   "pygments_lexer": "ipython3",
   "version": "3.6.7"
  }
 },
 "nbformat": 4,
 "nbformat_minor": 2
}
