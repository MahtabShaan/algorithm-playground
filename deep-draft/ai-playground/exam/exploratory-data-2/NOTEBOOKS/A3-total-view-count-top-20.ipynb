{
 "cells": [
  {
   "cell_type": "code",
   "execution_count": 1,
   "metadata": {},
   "outputs": [],
   "source": [
    "import pandas as pd\n",
    "\n",
    "nov18f = \"data/france/tsv/clickstream-frwiki-2018-11.tsv\"\n",
    "dec18f = \"data/france/tsv/clickstream-frwiki-2018-12.tsv\"\n",
    "jan19f = \"data/france/tsv/clickstream-frwiki-2019-01.tsv\"\n",
    "feb19f = \"data/france/tsv/clickstream-frwiki-2019-02.tsv\"\n",
    "mar19f = \"data/france/tsv/clickstream-frwiki-2019-03.tsv\"\n",
    "\n",
    "NOV18, DEC18, JAN19, FEB19, MAR19 = 0, 1, 2, 3, 4\n",
    "\n",
    "paths = [nov18f, dec18f, jan19f, feb19f, mar19f]\n",
    "\n",
    "def explore_tsv(file):\n",
    "    df = pd.read_csv(file, sep='\\t', header=0)\n",
    "    df.columns = ['from', 'article_title', 'type', 'count']\n",
    "    return df\n",
    "\n",
    "def sum_counts_top_n_articles(month_id, n):\n",
    "    \n",
    "    df = explore_tsv(paths[month_id])\n",
    "    df_search = df[df['from']=='other-search']\n",
    "    dftop = df_search.sort_values(['count'], ascending=False)[:n]\n",
    "    top_counts = dftop.T.loc['count'].T.tolist()\n",
    "    return sum(top_counts)"
   ]
  },
  {
   "cell_type": "code",
   "execution_count": 2,
   "metadata": {},
   "outputs": [
    {
     "name": "stdout",
     "output_type": "stream",
     "text": [
      "0 :total views of top 20 articles 5728500\n",
      "1 :total views of top 20 articles 4081504\n",
      "2 :total views of top 20 articles 5644905\n",
      "3 :total views of top 20 articles 5245560\n",
      "4 :total views of top 20 articles 4650638\n"
     ]
    }
   ],
   "source": [
    "n = 20\n",
    "for i in range(0, 5):\n",
    "    print(i, \":total views of top 20 articles\", sum_counts_top_n_articles(i, n))"
   ]
  },
  {
   "cell_type": "code",
   "execution_count": null,
   "metadata": {},
   "outputs": [],
   "source": []
  }
 ],
 "metadata": {
  "kernelspec": {
   "display_name": "Python 3",
   "language": "python",
   "name": "python3"
  },
  "language_info": {
   "codemirror_mode": {
    "name": "ipython",
    "version": 3
   },
   "file_extension": ".py",
   "mimetype": "text/x-python",
   "name": "python",
   "nbconvert_exporter": "python",
   "pygments_lexer": "ipython3",
   "version": "3.6.7"
  }
 },
 "nbformat": 4,
 "nbformat_minor": 2
}
