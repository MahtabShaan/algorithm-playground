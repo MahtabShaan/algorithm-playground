{
 "cells": [
  {
   "cell_type": "code",
   "execution_count": 1,
   "metadata": {},
   "outputs": [],
   "source": [
    "import pandas as pd\n",
    "import matplotlib as plt\n",
    "import numpy as np\n",
    "\n",
    "%matplotlib inline"
   ]
  },
  {
   "cell_type": "code",
   "execution_count": 2,
   "metadata": {},
   "outputs": [],
   "source": [
    "nov18f = \"data/france/tsv/clickstream-frwiki-2018-11.tsv\"\n",
    "dec18f = \"data/france/tsv/clickstream-frwiki-2018-12.tsv\"\n",
    "jan19f = \"data/france/tsv/clickstream-frwiki-2019-01.tsv\"\n",
    "feb19f = \"data/france/tsv/clickstream-frwiki-2019-02.tsv\"\n",
    "mar19f = \"data/france/tsv/clickstream-frwiki-2019-03.tsv\"\n",
    "\n",
    "NOV18, DEC18, JAN19, FEB19, MAR19 = 0, 1, 2, 3, 4\n",
    "\n",
    "months = [\"Nov '18\", \"Dec '18\", \"Jan '19\", \"Feb '19\", \"Mar '19\"]\n",
    "paths = [nov18f, dec18f, jan19f, feb19f, mar19f]\n",
    "\n",
    "def explore_tsv(file):\n",
    "    df = pd.read_csv(file, sep='\\t', header=0)\n",
    "    df.columns = ['from', 'article_title', 'type', 'count']\n",
    "    return df"
   ]
  },
  {
   "cell_type": "code",
   "execution_count": 3,
   "metadata": {},
   "outputs": [],
   "source": [
    "def top_n_articles_list(month_id, n):\n",
    "    \n",
    "    df = explore_tsv(paths[month_id])\n",
    "    df_search = df[df['from']=='other-search']\n",
    "    dftop = df_search.sort_values(['count'], ascending=False)[:n]\n",
    "    top_articles = dftop.T.loc['article_title'].T.tolist()\n",
    "    return top_articles"
   ]
  },
  {
   "cell_type": "code",
   "execution_count": 4,
   "metadata": {},
   "outputs": [],
   "source": [
    "monthly_top_titles = []\n",
    "for month_id in range(1, 4):\n",
    "    monthly_top_titles.append(top_n_articles_list(month_id, n=5))"
   ]
  },
  {
   "cell_type": "code",
   "execution_count": 5,
   "metadata": {},
   "outputs": [
    {
     "name": "stdout",
     "output_type": "stream",
     "text": [
      "1 : 0 - Mouvement_des_Gilets_jaunes\n",
      "2 : 1 - Freddie_Mercury\n",
      "3 : 2 - La_Vérité_sur_l'affaire_Harry_Quebert\n",
      "4 : 3 - Emmanuel_Macron\n",
      "5 : 4 - Mai_68\n",
      "6 : 0 - Emiliano_Sala\n",
      "7 : 1 - Bilal_Hassani\n",
      "8 : 2 - Championnat_du_monde_masculin_de_handball_2019\n",
      "9 : 3 - Christophe_Dettinger\n",
      "10 : 4 - Che_Guevara\n",
      "11 : 0 - Karl_Lagerfeld\n",
      "12 : 1 - Emiliano_Sala\n",
      "13 : 2 - Freddie_Mercury\n",
      "14 : 3 - Umbrella_Academy_(série_télévisée)\n",
      "15 : 4 - Saint-Valentin\n"
     ]
    }
   ],
   "source": [
    "tracked_titles = set()\n",
    "\n",
    "i = 0\n",
    "for top_titles_in_month in monthly_top_titles:\n",
    "    for j, title in enumerate(top_titles_in_month):\n",
    "        tracked_titles.add(title)\n",
    "        i += 1\n",
    "        print(i,\":\", j,\"-\", title)"
   ]
  },
  {
   "cell_type": "code",
   "execution_count": 6,
   "metadata": {},
   "outputs": [
    {
     "name": "stdout",
     "output_type": "stream",
     "text": [
      "13\n"
     ]
    }
   ],
   "source": [
    "print(len(tracked_titles))"
   ]
  },
  {
   "cell_type": "code",
   "execution_count": 7,
   "metadata": {},
   "outputs": [],
   "source": [
    "track_dictionary = {}\n",
    "for title in tracked_titles:\n",
    "    track_dictionary[title] = []"
   ]
  },
  {
   "cell_type": "code",
   "execution_count": 8,
   "metadata": {},
   "outputs": [
    {
     "name": "stdout",
     "output_type": "stream",
     "text": [
      "month_id: 0 | count:    7145 | title: Championnat_du_monde_masculin_de_handball_2019\n",
      "month_id: 0 | count:   39419 | title: Che_Guevara\n",
      "month_id: 0 | count:    6002 | title: Saint-Valentin\n",
      "month_id: 0 | count: MISSING | title: Bilal_Hassani\n",
      "month_id: 0 | count:  592669 | title: La_Vérité_sur_l'affaire_Harry_Quebert\n",
      "month_id: 0 | count:  189854 | title: Mouvement_des_Gilets_jaunes\n",
      "month_id: 0 | count: MISSING | title: Umbrella_Academy_(série_télévisée)\n",
      "month_id: 0 | count:  182124 | title: Emmanuel_Macron\n",
      "month_id: 0 | count:   18262 | title: Karl_Lagerfeld\n",
      "month_id: 0 | count:  730379 | title: Freddie_Mercury\n",
      "month_id: 0 | count:   20974 | title: Emiliano_Sala\n",
      "month_id: 0 | count:  213560 | title: Mai_68\n",
      "month_id: 0 | count:      30 | title: Christophe_Dettinger\n",
      "month_id: 1 | count:   24127 | title: Championnat_du_monde_masculin_de_handball_2019\n",
      "month_id: 1 | count:   37704 | title: Che_Guevara\n",
      "month_id: 1 | count:    6912 | title: Saint-Valentin\n",
      "month_id: 1 | count: MISSING | title: Bilal_Hassani\n",
      "month_id: 1 | count:  268130 | title: La_Vérité_sur_l'affaire_Harry_Quebert\n",
      "month_id: 1 | count:  356218 | title: Mouvement_des_Gilets_jaunes\n",
      "month_id: 1 | count: MISSING | title: Umbrella_Academy_(série_télévisée)\n",
      "month_id: 1 | count:  262944 | title: Emmanuel_Macron\n",
      "month_id: 1 | count:   18542 | title: Karl_Lagerfeld\n",
      "month_id: 1 | count:  269269 | title: Freddie_Mercury\n",
      "month_id: 1 | count:   12091 | title: Emiliano_Sala\n",
      "month_id: 1 | count:  262693 | title: Mai_68\n",
      "month_id: 1 | count:      20 | title: Christophe_Dettinger\n",
      "month_id: 2 | count:  372017 | title: Championnat_du_monde_masculin_de_handball_2019\n",
      "month_id: 2 | count:  359355 | title: Che_Guevara\n",
      "month_id: 2 | count:   29266 | title: Saint-Valentin\n",
      "month_id: 2 | count:  387874 | title: Bilal_Hassani\n",
      "month_id: 2 | count:   20224 | title: La_Vérité_sur_l'affaire_Harry_Quebert\n",
      "month_id: 2 | count:   78767 | title: Mouvement_des_Gilets_jaunes\n",
      "month_id: 2 | count: MISSING | title: Umbrella_Academy_(série_télévisée)\n",
      "month_id: 2 | count:  147858 | title: Emmanuel_Macron\n",
      "month_id: 2 | count:   32643 | title: Karl_Lagerfeld\n",
      "month_id: 2 | count:  332669 | title: Freddie_Mercury\n",
      "month_id: 2 | count:  767670 | title: Emiliano_Sala\n",
      "month_id: 2 | count:   43006 | title: Mai_68\n",
      "month_id: 2 | count:  365050 | title: Christophe_Dettinger\n",
      "month_id: 3 | count:    5171 | title: Championnat_du_monde_masculin_de_handball_2019\n",
      "month_id: 3 | count:   47699 | title: Che_Guevara\n",
      "month_id: 3 | count:  286882 | title: Saint-Valentin\n",
      "month_id: 3 | count:   86033 | title: Bilal_Hassani\n",
      "month_id: 3 | count:    9001 | title: La_Vérité_sur_l'affaire_Harry_Quebert\n",
      "month_id: 3 | count:   14835 | title: Mouvement_des_Gilets_jaunes\n",
      "month_id: 3 | count:  310754 | title: Umbrella_Academy_(série_télévisée)\n",
      "month_id: 3 | count:   87050 | title: Emmanuel_Macron\n",
      "month_id: 3 | count: 1031709 | title: Karl_Lagerfeld\n",
      "month_id: 3 | count:  337720 | title: Freddie_Mercury\n",
      "month_id: 3 | count:  406180 | title: Emiliano_Sala\n",
      "month_id: 3 | count:   23730 | title: Mai_68\n",
      "month_id: 3 | count:   21418 | title: Christophe_Dettinger\n",
      "month_id: 4 | count:    2483 | title: Championnat_du_monde_masculin_de_handball_2019\n",
      "month_id: 4 | count:   45294 | title: Che_Guevara\n",
      "month_id: 4 | count:    8229 | title: Saint-Valentin\n",
      "month_id: 4 | count:   24062 | title: Bilal_Hassani\n",
      "month_id: 4 | count:    8063 | title: La_Vérité_sur_l'affaire_Harry_Quebert\n",
      "month_id: 4 | count: MISSING | title: Mouvement_des_Gilets_jaunes\n",
      "month_id: 4 | count:  188480 | title: Umbrella_Academy_(série_télévisée)\n",
      "month_id: 4 | count:   85288 | title: Emmanuel_Macron\n",
      "month_id: 4 | count:   86292 | title: Karl_Lagerfeld\n",
      "month_id: 4 | count:  320180 | title: Freddie_Mercury\n",
      "month_id: 4 | count:   19597 | title: Emiliano_Sala\n",
      "month_id: 4 | count:   30227 | title: Mai_68\n",
      "month_id: 4 | count:    5346 | title: Christophe_Dettinger\n"
     ]
    }
   ],
   "source": [
    "for month_id in range(5):\n",
    "    \n",
    "    df = explore_tsv(paths[month_id])\n",
    "    df_search = df[df['from']=='other-search']\n",
    "    dftop = df_search.sort_values(['count'], ascending=False)\n",
    "\n",
    "    for title in track_dictionary.keys():\n",
    "        \n",
    "        x = dftop.loc[dftop['article_title'] == title]['count']\n",
    "        try: \n",
    "            x = int(x)\n",
    "            print(\"month_id: {} | count: {:7d} | title: {}\".format(month_id, x, title))\n",
    "        except:\n",
    "            x = 'MISSING'\n",
    "            print(\"month_id: {} | count: MISSING | title: {}\".format(month_id, title))\n",
    "        \n",
    "        track_dictionary[title].append(x)"
   ]
  },
  {
   "cell_type": "code",
   "execution_count": 9,
   "metadata": {},
   "outputs": [
    {
     "name": "stdout",
     "output_type": "stream",
     "text": [
      "\n",
      "title: Championnat_du_monde_masculin_de_handball_2019\n",
      "counts: [7145, 24127, 372017, 5171, 2483]\n",
      "\n",
      "title: Che_Guevara\n",
      "counts: [39419, 37704, 359355, 47699, 45294]\n",
      "\n",
      "title: Saint-Valentin\n",
      "counts: [6002, 6912, 29266, 286882, 8229]\n",
      "\n",
      "title: Bilal_Hassani\n",
      "counts: ['MISSING', 'MISSING', 387874, 86033, 24062]\n",
      "\n",
      "title: La_Vérité_sur_l'affaire_Harry_Quebert\n",
      "counts: [592669, 268130, 20224, 9001, 8063]\n",
      "\n",
      "title: Mouvement_des_Gilets_jaunes\n",
      "counts: [189854, 356218, 78767, 14835, 'MISSING']\n",
      "\n",
      "title: Umbrella_Academy_(série_télévisée)\n",
      "counts: ['MISSING', 'MISSING', 'MISSING', 310754, 188480]\n",
      "\n",
      "title: Emmanuel_Macron\n",
      "counts: [182124, 262944, 147858, 87050, 85288]\n",
      "\n",
      "title: Karl_Lagerfeld\n",
      "counts: [18262, 18542, 32643, 1031709, 86292]\n",
      "\n",
      "title: Freddie_Mercury\n",
      "counts: [730379, 269269, 332669, 337720, 320180]\n",
      "\n",
      "title: Emiliano_Sala\n",
      "counts: [20974, 12091, 767670, 406180, 19597]\n",
      "\n",
      "title: Mai_68\n",
      "counts: [213560, 262693, 43006, 23730, 30227]\n",
      "\n",
      "title: Christophe_Dettinger\n",
      "counts: [30, 20, 365050, 21418, 5346]\n"
     ]
    }
   ],
   "source": [
    "for k, v in track_dictionary.items():\n",
    "    print()\n",
    "    print(\"title:\", k)\n",
    "    print(\"counts:\", v)"
   ]
  },
  {
   "cell_type": "code",
   "execution_count": 10,
   "metadata": {},
   "outputs": [
    {
     "data": {
      "text/plain": [
       "2108068    243420\n",
       "Name: count, dtype: int64"
      ]
     },
     "execution_count": 10,
     "metadata": {},
     "output_type": "execute_result"
    }
   ],
   "source": [
    "df = explore_tsv(paths[month_id])\n",
    "df_search = df[df['from']=='other-search']\n",
    "dftop = df_search.sort_values(['count'], ascending=False)\n",
    "dftop.loc[dftop['article_title'] == 'Agnès_Varda']['count']"
   ]
  },
  {
   "cell_type": "code",
   "execution_count": null,
   "metadata": {},
   "outputs": [],
   "source": []
  }
 ],
 "metadata": {
  "kernelspec": {
   "display_name": "Python 3",
   "language": "python",
   "name": "python3"
  },
  "language_info": {
   "codemirror_mode": {
    "name": "ipython",
    "version": 3
   },
   "file_extension": ".py",
   "mimetype": "text/x-python",
   "name": "python",
   "nbconvert_exporter": "python",
   "pygments_lexer": "ipython3",
   "version": "3.6.7"
  }
 },
 "nbformat": 4,
 "nbformat_minor": 2
}
