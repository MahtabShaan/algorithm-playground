{
 "cells": [
  {
   "cell_type": "code",
   "execution_count": 1,
   "metadata": {},
   "outputs": [],
   "source": [
    "import pandas as pd"
   ]
  },
  {
   "cell_type": "code",
   "execution_count": 2,
   "metadata": {},
   "outputs": [],
   "source": [
    "    nov18f = \"data/france/tsv/clickstream-frwiki-2018-11.tsv\"\n",
    "    dec18f = \"data/france/tsv/clickstream-frwiki-2018-12.tsv\"\n",
    "    jan19f = \"data/france/tsv/clickstream-frwiki-2019-01.tsv\"\n",
    "    feb19f = \"data/france/tsv/clickstream-frwiki-2019-02.tsv\"\n",
    "    mar19f = \"data/france/tsv/clickstream-frwiki-2019-03.tsv\"\n",
    "\n",
    "    NOV18, DEC18, JAN19, FEB19, MAR19 = 0, 1, 2, 3, 4\n",
    "\n",
    "    months = [\"Nov '18\", \"Dec '18\", \"Jan '19\", \"Feb '19\", \"Mar '19\"]\n",
    "    paths = [nov18f, dec18f, jan19f, feb19f, mar19f]\n",
    "\n",
    "    def explore_tsv(file):\n",
    "        df = pd.read_csv(file, sep='\\t', header=0)\n",
    "        df.columns = ['from', 'article_title', 'type', 'count']\n",
    "        return df"
   ]
  },
  {
   "cell_type": "code",
   "execution_count": 3,
   "metadata": {},
   "outputs": [],
   "source": [
    "def top_n_search(month_id, n):\n",
    "    \n",
    "    df = explore_tsv(paths[month_id])\n",
    "    df_search = df[df['from']=='other-search']\n",
    "    dftop = df_search.sort_values(['count'], ascending=False)[:n]\n",
    "    return dftop"
   ]
  },
  {
   "cell_type": "code",
   "execution_count": 4,
   "metadata": {},
   "outputs": [
    {
     "data": {
      "text/html": [
       "<div>\n",
       "<style scoped>\n",
       "    .dataframe tbody tr th:only-of-type {\n",
       "        vertical-align: middle;\n",
       "    }\n",
       "\n",
       "    .dataframe tbody tr th {\n",
       "        vertical-align: top;\n",
       "    }\n",
       "\n",
       "    .dataframe thead th {\n",
       "        text-align: right;\n",
       "    }\n",
       "</style>\n",
       "<table border=\"1\" class=\"dataframe\">\n",
       "  <thead>\n",
       "    <tr style=\"text-align: right;\">\n",
       "      <th></th>\n",
       "      <th>from</th>\n",
       "      <th>article_title</th>\n",
       "      <th>type</th>\n",
       "      <th>count</th>\n",
       "    </tr>\n",
       "  </thead>\n",
       "  <tbody>\n",
       "    <tr>\n",
       "      <th>3076673</th>\n",
       "      <td>other-search</td>\n",
       "      <td>Freddie_Mercury</td>\n",
       "      <td>external</td>\n",
       "      <td>730379</td>\n",
       "    </tr>\n",
       "    <tr>\n",
       "      <th>3098707</th>\n",
       "      <td>other-search</td>\n",
       "      <td>La_Vérité_sur_l'affaire_Harry_Quebert</td>\n",
       "      <td>external</td>\n",
       "      <td>592669</td>\n",
       "    </tr>\n",
       "    <tr>\n",
       "      <th>573613</th>\n",
       "      <td>other-search</td>\n",
       "      <td>Stan_Lee</td>\n",
       "      <td>external</td>\n",
       "      <td>388250</td>\n",
       "    </tr>\n",
       "  </tbody>\n",
       "</table>\n",
       "</div>"
      ],
      "text/plain": [
       "                 from                          article_title      type   count\n",
       "3076673  other-search                        Freddie_Mercury  external  730379\n",
       "3098707  other-search  La_Vérité_sur_l'affaire_Harry_Quebert  external  592669\n",
       "573613   other-search                               Stan_Lee  external  388250"
      ]
     },
     "execution_count": 4,
     "metadata": {},
     "output_type": "execute_result"
    }
   ],
   "source": [
    "top_n_search(NOV18, 3)"
   ]
  },
  {
   "cell_type": "code",
   "execution_count": 5,
   "metadata": {},
   "outputs": [
    {
     "data": {
      "text/html": [
       "<div>\n",
       "<style scoped>\n",
       "    .dataframe tbody tr th:only-of-type {\n",
       "        vertical-align: middle;\n",
       "    }\n",
       "\n",
       "    .dataframe tbody tr th {\n",
       "        vertical-align: top;\n",
       "    }\n",
       "\n",
       "    .dataframe thead th {\n",
       "        text-align: right;\n",
       "    }\n",
       "</style>\n",
       "<table border=\"1\" class=\"dataframe\">\n",
       "  <thead>\n",
       "    <tr style=\"text-align: right;\">\n",
       "      <th></th>\n",
       "      <th>from</th>\n",
       "      <th>article_title</th>\n",
       "      <th>type</th>\n",
       "      <th>count</th>\n",
       "    </tr>\n",
       "  </thead>\n",
       "  <tbody>\n",
       "    <tr>\n",
       "      <th>451723</th>\n",
       "      <td>other-search</td>\n",
       "      <td>Mouvement_des_Gilets_jaunes</td>\n",
       "      <td>external</td>\n",
       "      <td>356218</td>\n",
       "    </tr>\n",
       "    <tr>\n",
       "      <th>189325</th>\n",
       "      <td>other-search</td>\n",
       "      <td>Freddie_Mercury</td>\n",
       "      <td>external</td>\n",
       "      <td>269269</td>\n",
       "    </tr>\n",
       "    <tr>\n",
       "      <th>1441504</th>\n",
       "      <td>other-search</td>\n",
       "      <td>La_Vérité_sur_l'affaire_Harry_Quebert</td>\n",
       "      <td>external</td>\n",
       "      <td>268130</td>\n",
       "    </tr>\n",
       "  </tbody>\n",
       "</table>\n",
       "</div>"
      ],
      "text/plain": [
       "                 from                          article_title      type   count\n",
       "451723   other-search            Mouvement_des_Gilets_jaunes  external  356218\n",
       "189325   other-search                        Freddie_Mercury  external  269269\n",
       "1441504  other-search  La_Vérité_sur_l'affaire_Harry_Quebert  external  268130"
      ]
     },
     "execution_count": 5,
     "metadata": {},
     "output_type": "execute_result"
    }
   ],
   "source": [
    "top_n_search(DEC18, 3)"
   ]
  },
  {
   "cell_type": "code",
   "execution_count": 6,
   "metadata": {},
   "outputs": [
    {
     "data": {
      "text/html": [
       "<div>\n",
       "<style scoped>\n",
       "    .dataframe tbody tr th:only-of-type {\n",
       "        vertical-align: middle;\n",
       "    }\n",
       "\n",
       "    .dataframe tbody tr th {\n",
       "        vertical-align: top;\n",
       "    }\n",
       "\n",
       "    .dataframe thead th {\n",
       "        text-align: right;\n",
       "    }\n",
       "</style>\n",
       "<table border=\"1\" class=\"dataframe\">\n",
       "  <thead>\n",
       "    <tr style=\"text-align: right;\">\n",
       "      <th></th>\n",
       "      <th>from</th>\n",
       "      <th>article_title</th>\n",
       "      <th>type</th>\n",
       "      <th>count</th>\n",
       "    </tr>\n",
       "  </thead>\n",
       "  <tbody>\n",
       "    <tr>\n",
       "      <th>3733376</th>\n",
       "      <td>other-search</td>\n",
       "      <td>Emiliano_Sala</td>\n",
       "      <td>external</td>\n",
       "      <td>767670</td>\n",
       "    </tr>\n",
       "    <tr>\n",
       "      <th>2421558</th>\n",
       "      <td>other-search</td>\n",
       "      <td>Bilal_Hassani</td>\n",
       "      <td>external</td>\n",
       "      <td>387874</td>\n",
       "    </tr>\n",
       "    <tr>\n",
       "      <th>2596381</th>\n",
       "      <td>other-search</td>\n",
       "      <td>Championnat_du_monde_masculin_de_handball_2019</td>\n",
       "      <td>external</td>\n",
       "      <td>372017</td>\n",
       "    </tr>\n",
       "  </tbody>\n",
       "</table>\n",
       "</div>"
      ],
      "text/plain": [
       "                 from                                   article_title  \\\n",
       "3733376  other-search                                   Emiliano_Sala   \n",
       "2421558  other-search                                   Bilal_Hassani   \n",
       "2596381  other-search  Championnat_du_monde_masculin_de_handball_2019   \n",
       "\n",
       "             type   count  \n",
       "3733376  external  767670  \n",
       "2421558  external  387874  \n",
       "2596381  external  372017  "
      ]
     },
     "execution_count": 6,
     "metadata": {},
     "output_type": "execute_result"
    }
   ],
   "source": [
    "top_n_search(JAN19, 3)"
   ]
  },
  {
   "cell_type": "code",
   "execution_count": 7,
   "metadata": {},
   "outputs": [
    {
     "data": {
      "text/html": [
       "<div>\n",
       "<style scoped>\n",
       "    .dataframe tbody tr th:only-of-type {\n",
       "        vertical-align: middle;\n",
       "    }\n",
       "\n",
       "    .dataframe tbody tr th {\n",
       "        vertical-align: top;\n",
       "    }\n",
       "\n",
       "    .dataframe thead th {\n",
       "        text-align: right;\n",
       "    }\n",
       "</style>\n",
       "<table border=\"1\" class=\"dataframe\">\n",
       "  <thead>\n",
       "    <tr style=\"text-align: right;\">\n",
       "      <th></th>\n",
       "      <th>from</th>\n",
       "      <th>article_title</th>\n",
       "      <th>type</th>\n",
       "      <th>count</th>\n",
       "    </tr>\n",
       "  </thead>\n",
       "  <tbody>\n",
       "    <tr>\n",
       "      <th>3258280</th>\n",
       "      <td>other-search</td>\n",
       "      <td>Karl_Lagerfeld</td>\n",
       "      <td>external</td>\n",
       "      <td>1031709</td>\n",
       "    </tr>\n",
       "    <tr>\n",
       "      <th>3401427</th>\n",
       "      <td>other-search</td>\n",
       "      <td>Emiliano_Sala</td>\n",
       "      <td>external</td>\n",
       "      <td>406180</td>\n",
       "    </tr>\n",
       "    <tr>\n",
       "      <th>2130420</th>\n",
       "      <td>other-search</td>\n",
       "      <td>Freddie_Mercury</td>\n",
       "      <td>external</td>\n",
       "      <td>337720</td>\n",
       "    </tr>\n",
       "  </tbody>\n",
       "</table>\n",
       "</div>"
      ],
      "text/plain": [
       "                 from    article_title      type    count\n",
       "3258280  other-search   Karl_Lagerfeld  external  1031709\n",
       "3401427  other-search    Emiliano_Sala  external   406180\n",
       "2130420  other-search  Freddie_Mercury  external   337720"
      ]
     },
     "execution_count": 7,
     "metadata": {},
     "output_type": "execute_result"
    }
   ],
   "source": [
    "top_n_search(FEB19, 3)"
   ]
  },
  {
   "cell_type": "code",
   "execution_count": 8,
   "metadata": {},
   "outputs": [
    {
     "data": {
      "text/html": [
       "<div>\n",
       "<style scoped>\n",
       "    .dataframe tbody tr th:only-of-type {\n",
       "        vertical-align: middle;\n",
       "    }\n",
       "\n",
       "    .dataframe tbody tr th {\n",
       "        vertical-align: top;\n",
       "    }\n",
       "\n",
       "    .dataframe thead th {\n",
       "        text-align: right;\n",
       "    }\n",
       "</style>\n",
       "<table border=\"1\" class=\"dataframe\">\n",
       "  <thead>\n",
       "    <tr style=\"text-align: right;\">\n",
       "      <th></th>\n",
       "      <th>from</th>\n",
       "      <th>article_title</th>\n",
       "      <th>type</th>\n",
       "      <th>count</th>\n",
       "    </tr>\n",
       "  </thead>\n",
       "  <tbody>\n",
       "    <tr>\n",
       "      <th>1754249</th>\n",
       "      <td>other-search</td>\n",
       "      <td>Luke_Perry</td>\n",
       "      <td>external</td>\n",
       "      <td>527085</td>\n",
       "    </tr>\n",
       "    <tr>\n",
       "      <th>411306</th>\n",
       "      <td>other-search</td>\n",
       "      <td>Freddie_Mercury</td>\n",
       "      <td>external</td>\n",
       "      <td>320180</td>\n",
       "    </tr>\n",
       "    <tr>\n",
       "      <th>1275146</th>\n",
       "      <td>other-search</td>\n",
       "      <td>Moldavie</td>\n",
       "      <td>external</td>\n",
       "      <td>271502</td>\n",
       "    </tr>\n",
       "  </tbody>\n",
       "</table>\n",
       "</div>"
      ],
      "text/plain": [
       "                 from    article_title      type   count\n",
       "1754249  other-search       Luke_Perry  external  527085\n",
       "411306   other-search  Freddie_Mercury  external  320180\n",
       "1275146  other-search         Moldavie  external  271502"
      ]
     },
     "execution_count": 8,
     "metadata": {},
     "output_type": "execute_result"
    }
   ],
   "source": [
    "top_n_search(MAR19, 3)"
   ]
  }
 ],
 "metadata": {
  "kernelspec": {
   "display_name": "Python 3",
   "language": "python",
   "name": "python3"
  },
  "language_info": {
   "codemirror_mode": {
    "name": "ipython",
    "version": 3
   },
   "file_extension": ".py",
   "mimetype": "text/x-python",
   "name": "python",
   "nbconvert_exporter": "python",
   "pygments_lexer": "ipython3",
   "version": "3.6.7"
  }
 },
 "nbformat": 4,
 "nbformat_minor": 2
}
