{
 "cells": [
  {
   "cell_type": "markdown",
   "metadata": {
    "colab_type": "text",
    "id": "view-in-github"
   },
   "source": [
    "<a href=\"https://colab.research.google.com/github/aamini/introtodeeplearning_labs/blob/master/lab2/Part2_debiasing_solution.ipynb\" target=\"_parent\"><img src=\"https://colab.research.google.com/assets/colab-badge.svg\" alt=\"Open In Colab\"/></a>"
   ]
  },
  {
   "cell_type": "markdown",
   "metadata": {
    "colab_type": "text",
    "id": "Ag_e7xtTzT1W"
   },
   "source": [
    "<table align=\"center\">\n",
    "  <td align=\"center\"><a target=\"_blank\" href=\"http://introtodeeplearning.com\">\n",
    "        <img src=\"http://introtodeeplearning.com/images/colab/mit.png\" style=\"padding-bottom:5px;\" />\n",
    "      Visit MIT Deep Learning</a></td>\n",
    "  <td align=\"center\"><a target=\"_blank\" href=\"https://colab.research.google.com/github/aamini/introtodeeplearning_labs/blob/master/lab2/Part2_debiasing_solution.ipynb\">\n",
    "        <img src=\"http://introtodeeplearning.com/images/colab/colab.png?v2.0\"  style=\"padding-bottom:5px;\" />Run in Google Colab</a></td>\n",
    "  <td align=\"center\"><a target=\"_blank\" href=\"https://github.com/aamini/introtodeeplearning_labs/blob/master/lab2/Part2_debiasing_solution.ipynb\">\n",
    "        <img src=\"http://introtodeeplearning.com/images/colab/github.png\"  height=\"70px\" style=\"padding-bottom:5px;\"  />View Source on GitHub</a></td>\n",
    "</table>\n",
    "\n",
    "\n",
    "# Laboratory 2: Computer Vision\n",
    "\n",
    "# Part 2: Debiasing Facial Detection Systems\n",
    "\n",
    "In the second portion of the lab, we'll explore two prominent aspects of applied deep learning: facial detection and algorithmic bias. \n",
    "\n",
    "Deploying fair, unbiased AI systems is critical to their long-term acceptance. Consider the task of facial detection: given an image, is it an image of a face? [Recent work from the MIT Media Lab](http://proceedings.mlr.press/v81/buolamwini18a/buolamwini18a.pdf) showed that this seemingly simple, but extremely important, task is subject to extreme amounts of algorithmic bias among select demographics. [Another report](https://ieeexplore.ieee.org/document/6327355) analyzed the face detection system used by the US law enforcement and found that it had significantly lower accuracy among dark skinned women between the age of 18-30 years old. \n",
    "\n",
    "Run the next code block for a short video from Google that explores how and why it's important to consider bias when thinking about machine learning:"
   ]
  },
  {
   "cell_type": "code",
   "execution_count": null,
   "metadata": {
    "colab": {
     "base_uri": "https://localhost:8080/",
     "height": 322
    },
    "colab_type": "code",
    "id": "XQh5HZfbupFF",
    "outputId": "4a6df36f-b4b5-442c-b735-0cce3ad31e71"
   },
   "outputs": [],
   "source": [
    "from IPython.display import YouTubeVideo\n",
    "YouTubeVideo('59bMh59JQDo')"
   ]
  },
  {
   "cell_type": "markdown",
   "metadata": {
    "colab_type": "text",
    "id": "3Ezfc6Yv6IhI"
   },
   "source": [
    "In this lab, we'll investigate [one recently published approach](http://introtodeeplearning.com/AIES_2019_Algorithmic_Bias.pdf) to addressing algorithmic bias. We'll build a facial detection model that learns the *latent variables* underlying face image datasets and uses this to adaptively re-sample the training data, thus mitigating any biases that may be present in order  to train a *debiased* model.\n",
    "\n",
    "Let's get started by installing the relevant dependencies:"
   ]
  },
  {
   "cell_type": "code",
   "execution_count": 1,
   "metadata": {
    "colab": {
     "base_uri": "https://localhost:8080/",
     "height": 69
    },
    "colab_type": "code",
    "id": "E46sWVKK6LP9",
    "outputId": "7fb31396-0d46-4446-dada-87d4f9f9f26f"
   },
   "outputs": [],
   "source": [
    "import tensorflow as tf\n",
    "tf.enable_eager_execution()\n",
    "\n",
    "import functools\n",
    "import matplotlib.pyplot as plt\n",
    "import numpy as np\n",
    "import pdb\n",
    "\n",
    "# Download the class repository\n",
    "#! git clone https://github.com/aamini/introtodeeplearning_labs.git  > /dev/null 2>&1\n",
    "#% cd introtodeeplearning_labs \n",
    "#! git pull\n",
    "#% cd .. \n",
    "\n",
    "# Import the necessary class-specific utility files for this lab\n",
    "import util"
   ]
  },
  {
   "cell_type": "markdown",
   "metadata": {
    "colab_type": "text",
    "id": "V0e77oOM3udR"
   },
   "source": [
    "## 2.1 Datasets\n",
    "\n",
    "We'll be using three datasets in this lab. In order to train our facial detection models, we'll need a dataset of positive examples (i.e., of faces) and a dataset of negative examples (i.e., of things that are not faces). We'll use these data to train our models to classify images as either faces or not faces. Finally, we'll need a test dataset of face images. Since we're concerned about the potential *bias* of our learned models against certain demographics, it's important that the test dataset we use has equal representation across the demographics or features of interest. In this lab, we'll consider skin tone and gender. \n",
    "\n",
    "1.   **Positive training data**: [CelebA Dataset](http://mmlab.ie.cuhk.edu.hk/projects/CelebA.html). A large-scale (over 200K images) of celebrity faces.   \n",
    "2.   **Negative training data**: [ImageNet](http://www.image-net.org/). Many images across many different categories. We'll take negative examples from a variety of non-human categories. \n",
    "3. **Test data**: [Pilot Parliaments Benchmark](http://proceedings.mlr.press/v81/buolamwini18a/buolamwini18a.pdf) (PPB). The PPB dataset consists of images of 1270 male and female parliamentarians from various African and European countries and exhibits parity in both skin tone and gender. The gender of each face is annotated with the sex-based \"Male'' and \"Female'' labels. Skin tone annotations are based on the Fitzpatrick skin type classification system, with each image labeled as \"Lighter'' or \"Darker''.\n",
    "\n",
    "Let's begin by importing these datasets: "
   ]
  },
  {
   "cell_type": "code",
   "execution_count": 2,
   "metadata": {
    "colab": {},
    "colab_type": "code",
    "id": "RWXaaIWy6jVw"
   },
   "outputs": [],
   "source": [
    "# Get the training data: both images from CelebA and ImageNet\n",
    "#path_to_training_data = tf.keras.utils.get_file('train_face.h5', 'https://www.dropbox.com/s/l5iqduhe0gwxumq/train_face.h5?dl=1')\n",
    "\n",
    "path_to_training_data = './train_face.h5'"
   ]
  },
  {
   "cell_type": "markdown",
   "metadata": {
    "colab_type": "text",
    "id": "bAY6pDc_Zljt"
   },
   "source": [
    "This directly downloads the raw data. We've written two classes that do a bit of data pre-processing and import the results in a usable format: `TrainingDatasetLoader` for the training data and `PPBFaceEvaluator` for the test data.\n",
    "\n",
    "Let's create a `TrainingDatasetLoader` and use it to take a look at the training data."
   ]
  },
  {
   "cell_type": "code",
   "execution_count": 3,
   "metadata": {
    "colab": {
     "base_uri": "https://localhost:8080/",
     "height": 52
    },
    "colab_type": "code",
    "id": "UX-eUcEoazBm",
    "outputId": "f91666a3-e67e-4213-e313-e339b6cf4a1f"
   },
   "outputs": [
    {
     "name": "stdout",
     "output_type": "stream",
     "text": [
      "Opening:  ./train_face.h5\n",
      "Loading data into memory...\n"
     ]
    }
   ],
   "source": [
    "# Instantiate a TrainingDatasetLoader using the downloaded dataset\n",
    "loader = util.TrainingDatasetLoader(path_to_training_data)"
   ]
  },
  {
   "cell_type": "markdown",
   "metadata": {
    "colab_type": "text",
    "id": "yIE321rxa_b3"
   },
   "source": [
    "We can look at the size of the training dataset and grab a batch of size 100:"
   ]
  },
  {
   "cell_type": "code",
   "execution_count": 4,
   "metadata": {
    "colab": {},
    "colab_type": "code",
    "id": "DjPSjZZ_bGqe"
   },
   "outputs": [],
   "source": [
    "number_of_training_examples = loader.get_train_size()\n",
    "(images, labels) = loader.get_batch(100)"
   ]
  },
  {
   "cell_type": "markdown",
   "metadata": {
    "colab_type": "text",
    "id": "sxtkJoqF6oH1"
   },
   "source": [
    "Play around with displaying images to get a sense of what the training data actually looks like!"
   ]
  },
  {
   "cell_type": "code",
   "execution_count": 5,
   "metadata": {
    "colab": {
     "base_uri": "https://localhost:8080/",
     "height": 165
    },
    "colab_type": "code",
    "id": "Jg17jzwtbxDA",
    "outputId": "1e0c923e-f1e5-4ac9-b506-064a0d11568e"
   },
   "outputs": [
    {
     "data": {
      "image/png": "[encoded data removed]",
      "text/plain": [
       "<Figure size 288x144 with 2 Axes>"
      ]
     },
     "metadata": {
      "needs_background": "light"
     },
     "output_type": "display_data"
    }
   ],
   "source": [
    "#@title Change the sliders to look at positive and negative training examples! { run: \"auto\" }\n",
    "\n",
    "face_images = images[np.where(labels==1)[0]]\n",
    "not_face_images = images[np.where(labels==0)[0]]\n",
    "\n",
    "idx_face = 20 #@param {type:\"slider\", min:0, max:50, step:1}\n",
    "idx_not_face = 11 #@param {type:\"slider\", min:0, max:50, step:1}\n",
    "\n",
    "plt.figure(figsize=(4,2))\n",
    "plt.subplot(1, 2, 1)\n",
    "plt.imshow(face_images[idx_face])\n",
    "plt.title(\"Face\")\n",
    "plt.grid(False)\n",
    "\n",
    "plt.subplot(1, 2, 2)\n",
    "plt.imshow(not_face_images[idx_not_face])\n",
    "plt.title(\"Not Face\")\n",
    "plt.grid(False)"
   ]
  },
  {
   "cell_type": "markdown",
   "metadata": {
    "colab_type": "text",
    "id": "kjuaEdLzb4pP"
   },
   "source": [
    "We can also create a `PPBFaceEvaluator` instance for the PPB dataset and display some example images. We'll use this dataset later on in the evaluation step."
   ]
  },
  {
   "cell_type": "code",
   "execution_count": 6,
   "metadata": {
    "colab": {
     "base_uri": "https://localhost:8080/",
     "height": 351
    },
    "colab_type": "code",
    "id": "4B4egQZY6wEt",
    "outputId": "5d322438-3add-4333-e05d-5384c8d46700"
   },
   "outputs": [
    {
     "data": {
      "image/png": "[encoded data removed]",
      "text/plain": [
       "<Figure size 432x288 with 1 Axes>"
      ]
     },
     "metadata": {
      "needs_background": "light"
     },
     "output_type": "display_data"
    }
   ],
   "source": [
    "#@title { run: \"auto\" }\n",
    "import util \n",
    "\n",
    "ppb = util.PPBFaceEvaluator(skip=4) # create the dataset handler\n",
    "\n",
    "gender = \"male\" #@param [\"male\", \"female\"]\n",
    "skin_color = \"darker\" #@param [\"lighter\", \"darker\"]\n",
    "\n",
    "img = ppb.get_sample_faces_from_demographic(gender, skin_color)\n",
    "plt.imshow(img)\n",
    "plt.grid(False)"
   ]
  },
  {
   "cell_type": "markdown",
   "metadata": {
    "colab_type": "text",
    "id": "NDj7KBaW8Asz"
   },
   "source": [
    "### Thinking about bias\n",
    "\n",
    "Remember we'll be training our facial detection classifiers on the large, well-curated CelebA dataset (and ImageNet), and then evaluating their accuracy by testing them on the PPB dataset. Our goal is to build a model that trains on CelebA *and* achieves high classification accuracy on PPB across all demographics, and to thus show that this model does not suffer from any hidden bias. \n",
    "\n",
    "What exactly do we mean when we say a classifier is biased? In order to formalize this, we'll need to think about [*latent variables*](https://en.wikipedia.org/wiki/Latent_variable), variables that define a dataset but are not strictly observed. As defined in the generative modeling lecture, we'll use the term *latent space* to refer to the probability distributions of the aforementioned latent variables. Putting these ideas together, we consider a classifier *biased* if its classification decision changes after it sees some additional latent features. This notion of bias may be helpful to keep in mind throughout the rest of the lab. "
   ]
  },
  {
   "cell_type": "markdown",
   "metadata": {
    "colab_type": "text",
    "id": "AIFDvU4w8OIH"
   },
   "source": [
    "## 2.2 CNN for facial detection \n",
    "\n",
    "First, we'll define and train a CNN on the facial classification task, and evaluate its accuracy on the PPB dataset. Later, we'll evaluate the performance of our debiased models against this baseline CNN. The CNN model has a relatively standard architecture consisting of a series of convolutional layers with batch normalization followed by two fully connected layers to flatten the convolution output and generate a class prediction. \n",
    "\n",
    "### Define and train the CNN model\n",
    "\n",
    "Like we did in the first part of the lab, we'll define our CNN model, and then train on the CelebA and ImageNet datasets using the `tf.GradientTape` class and the `tf.GradientTape.gradient` method."
   ]
  },
  {
   "cell_type": "code",
   "execution_count": 7,
   "metadata": {
    "colab": {},
    "colab_type": "code",
    "id": "82EVTAAW7B_X"
   },
   "outputs": [
    {
     "name": "stdout",
     "output_type": "stream",
     "text": [
      "WARNING:tensorflow:From /Users/mithi/miniconda3/envs/drlnd/lib/python3.6/site-packages/tensorflow/python/ops/resource_variable_ops.py:642: colocate_with (from tensorflow.python.framework.ops) is deprecated and will be removed in a future version.\n",
      "Instructions for updating:\n",
      "Colocations handled automatically by placer.\n",
      "WARNING:tensorflow:From /Users/mithi/miniconda3/envs/drlnd/lib/python3.6/site-packages/tensorflow/python/keras/layers/core.py:143: calling dropout (from tensorflow.python.ops.nn_ops) with keep_prob is deprecated and will be removed in a future version.\n",
      "Instructions for updating:\n",
      "Please use `rate` instead of `keep_prob`. Rate should be set to `rate = 1 - keep_prob`.\n"
     ]
    }
   ],
   "source": [
    "n_outputs = 1 # number of outputs (i.e., face or not face)\n",
    "n_filters = 12 # base number of convolutional filters\n",
    "\n",
    "'''Function to define a standard CNN model'''\n",
    "def make_standard_classifier():\n",
    "    Conv2D = functools.partial(tf.keras.layers.Conv2D, padding='same', activation='relu')\n",
    "    BatchNormalization = tf.keras.layers.BatchNormalization\n",
    "    Flatten = tf.keras.layers.Flatten\n",
    "    Dense = functools.partial(tf.keras.layers.Dense, activation='relu')\n",
    "\n",
    "    model = tf.keras.Sequential([\n",
    "        Conv2D(filters=1*n_filters, kernel_size=[5,5],  strides=[2,2], input_shape=(64,64,3)),\n",
    "        BatchNormalization(),\n",
    "        \n",
    "        Conv2D(filters=2*n_filters, kernel_size=[5,5],  strides=[2,2]),\n",
    "        BatchNormalization(),\n",
    "\n",
    "        Conv2D(filters=4*n_filters, kernel_size=[3,3],  strides=[2,2]),\n",
    "        BatchNormalization(),\n",
    "\n",
    "        Conv2D(filters=6*n_filters, kernel_size=[3,3],  strides=[1,1]),\n",
    "        BatchNormalization(),\n",
    "\n",
    "        Flatten(),\n",
    "        Dense(1, activation=None),\n",
    "        tf.keras.layers.Dropout(0.5)\n",
    "    ])\n",
    "    return model\n",
    "  \n",
    "standard_classifier = make_standard_classifier()"
   ]
  },
  {
   "cell_type": "markdown",
   "metadata": {
    "colab_type": "text",
    "id": "c-eWf3l_lCri"
   },
   "source": [
    "Now let's train the standard CNN!"
   ]
  },
  {
   "cell_type": "code",
   "execution_count": null,
   "metadata": {
    "colab": {
     "base_uri": "https://localhost:8080/",
     "height": 695
    },
    "colab_type": "code",
    "id": "jmOBzRgplB-n",
    "outputId": "f024e7aa-7e90-480a-8266-49c426875acc"
   },
   "outputs": [
    {
     "name": "stdout",
     "output_type": "stream",
     "text": [
      "............................................................................................................................................................................................................................................................................................................................................................................................................................................................................................................................................................................................................................................................................................................................................................................................................................................................................................................................................................................................................................................................................................................................................................................................................................................................................................................................................................................................................................................................................................................................................................................................................................................................................................................................................................................................................................................................................................................................................................................................................................................................................................................................................................................................................................................................................................................................................................................................................................................................................................................................................................................................................................................................................................................................................................................................................................................................................................................................................................................................................................................................................................................................................................................................................................................................................................................................................................................................................................................................................................................................................................................................................................................................................................................................................................................................................................................................................................................................................................................................................................................................................................................................................................................................................................................................................................................................................................................................................................................................................................................................................................................................................................................................................................................................................................................................................................................................................................................................................................................................................................................................................................................................................................................................................................................................................................................................................................................................................................................................................................................................................."
     ]
    }
   ],
   "source": [
    "batch_size = 36\n",
    "num_epochs = 1  # keep small to run faster\n",
    "learning_rate = 1e-3\n",
    "\n",
    "optimizer = tf.train.AdamOptimizer(learning_rate=learning_rate) # define our optimizer\n",
    "#loss_history = util.LossHistory(smoothing_factor=0.99) # to record the evolution of the loss\n",
    "#plotter = util.PeriodicPlotter(sec=2, scale='semilogy')\n",
    "\n",
    "# The training loop!\n",
    "for epoch in range(num_epochs):\n",
    "  \n",
    "  #custom_msg = util.custom_progress_text(\"Epoch: %(epoch).0f Loss: %(loss)2.2f\")\n",
    "  #bar = util.create_progress_bar(custom_msg)\n",
    "  \n",
    "  #for idx in bar(range(loader.get_train_size()//batch_size)):\n",
    "  for idx in range(loader.get_train_size()//batch_size):\n",
    "    # First grab a batch of training data and convert the input images to tensors\n",
    "    x, y = loader.get_batch(batch_size)\n",
    "    x = tf.convert_to_tensor(x, dtype=tf.float32)\n",
    "    y = tf.convert_to_tensor(y, dtype=tf.float32)\n",
    "    \n",
    "    # GradientTape to record differentiation operations\n",
    "    with tf.GradientTape() as tape:\n",
    "      logits = standard_classifier(x) # feed the images into the model\n",
    "      loss_value = tf.nn.sigmoid_cross_entropy_with_logits(labels=y, logits=logits) # compute the loss\n",
    "\n",
    "    #custom_msg.update_mapping(epoch=epoch, loss=loss_value.numpy().mean())\n",
    "    # Backpropagation\n",
    "    grads = tape.gradient(loss_value, standard_classifier.variables)\n",
    "    optimizer.apply_gradients(zip(grads, standard_classifier.variables), global_step=tf.train.get_or_create_global_step())\n",
    "    \n",
    "    print(\".\", end=\"\")\n",
    "    #print(loss_value.numpy().mean())\n",
    "    #loss_history.append(loss_value.numpy().mean()) \n",
    "    #plotter.plot(loss_history.get())"
   ]
  },
  {
   "cell_type": "markdown",
   "metadata": {
    "colab_type": "text",
    "id": "AKMdWVHeCxj8"
   },
   "source": [
    "### Evaluate performance of the standard CNN\n",
    "\n",
    "Next, let's evaluate the classification performance of our CelebA-trained standard CNN on the training dataset and the PPB dataset. For the PPB data, we'll look at the classification accuracy across four different demographics defined in PPB: dark-skinned male, dark-skinned female, light-skinned male, and light-skinned female.\n"
   ]
  },
  {
   "cell_type": "code",
   "execution_count": null,
   "metadata": {
    "colab": {
     "base_uri": "https://localhost:8080/",
     "height": 35
    },
    "colab_type": "code",
    "id": "35-PDgjdWk6_",
    "outputId": "1e93ef65-e63a-43b6-ebbf-391c711d7635"
   },
   "outputs": [],
   "source": [
    "# Evaluate on a subset of CelebA+Imagenet\n",
    "(batch_x, batch_y) = loader.get_batch(5000)\n",
    "y_pred_standard = tf.round(tf.nn.sigmoid(standard_classifier.predict(batch_x)))\n",
    "acc_standard = tf.reduce_mean(tf.cast(tf.equal(batch_y, y_pred_standard), tf.float32))\n",
    "print \"Standard CNN accuracy on (potentially biased) training set: {:.4f}\".format(acc_standard.numpy())"
   ]
  },
  {
   "cell_type": "code",
   "execution_count": null,
   "metadata": {
    "colab": {
     "base_uri": "https://localhost:8080/",
     "height": 138
    },
    "colab_type": "code",
    "id": "vfDD8ztGWk6x",
    "outputId": "e23992a8-6a9d-4222-9cf3-802d8c4b2ff2"
   },
   "outputs": [],
   "source": [
    "# Evaluate on PPB dataset (takes ~3 minutes)\n",
    "standard_cnn_accuracy = []\n",
    "for skin_color in ['lighter', 'darker']:\n",
    "  for gender in ['male', 'female']:\n",
    "    standard_cnn_accuracy.append( ppb.evaluate([standard_classifier], gender, skin_color, from_logit=True)[0] )\n",
    "    print \n",
    "    print \"{} {}: {}\".format(gender, skin_color, standard_cnn_accuracy[-1])"
   ]
  },
  {
   "cell_type": "code",
   "execution_count": null,
   "metadata": {
    "colab": {},
    "colab_type": "code",
    "id": "SaPPGYdPmcCi"
   },
   "outputs": [],
   "source": [
    "plt.bar(range(4), standard_cnn_accuracy)\n",
    "plt.xticks(range(4), ('LM', 'LF', 'DM', 'DF'))\n",
    "plt.ylim(np.min(standard_cnn_accuracy)-0.1,np.max(standard_cnn_accuracy)+0.1)\n",
    "plt.ylabel('Accuracy')"
   ]
  },
  {
   "cell_type": "markdown",
   "metadata": {
    "colab_type": "text",
    "id": "j0Cvvt90DoAm"
   },
   "source": [
    "Take a look at the accuracies for this first model across these four groups. What do you observe? Would you consider this model biased or unbiased, and why? "
   ]
  },
  {
   "cell_type": "markdown",
   "metadata": {
    "colab_type": "text",
    "id": "nLemS7dqECsI"
   },
   "source": [
    "## 2.3 Variational autoencoder (VAE) for learning latent structure\n",
    "\n",
    "As you saw, the accuracy of the CNN varies across the four demographics we looked at. To think about why this may be, consider the dataset the model was trained on, CelebA. If certain features, such as dark skin or hats, are *rare* in CelebA, the model may end up biased against these as a result of training with a biased dataset. That is to say, its classification accuracy will be worse on faces that have under-represented features, such as dark-skinned faces or faces with hats, relevative to faces have features that are well-represented in the training data! This is a problem. \n",
    "\n",
    "Our goal is to train a *debiased* version of this classifier -- one that accounts for potential disparities in feature representation within the training data. Specifically, to build a debiased facial classifier, we'll train a model that learns a representation of the underlying latent space to the face training data. The model then uses this information to mitigate unwanted biases by sampling faces with rare features, like dark skin or hats, *more frequently* during training. The key design requirement for our model is that it can learn an *encoding* of the latent features in the face data in an entirely *unsupervised* way. To achieve this, we'll turn to variational autoencoders (VAEs).\n",
    "\n",
    "![The concept of a VAE](http://kvfrans.com/content/images/2016/08/vae.jpg)\n",
    "\n",
    "As shown in the schematic above, VAEs rely on an encoder-decoder structure to learn a latent representation of the input data. In the context of computer vision, the encoder network takes in input images, encodes them into a series of variables defined by a mean and standard deviation, and then draws from the distributions defined by these parameters to generate a set of sampled latent variables. The decoder network then \"decodes\" these variables to generate a reconstruction of the original image, which is used during training to help the model identify which latent variables are important to learn. \n",
    "\n",
    "Let's formalize two key aspects of the VAE model and define relevant functions for each.\n"
   ]
  },
  {
   "cell_type": "markdown",
   "metadata": {
    "colab_type": "text",
    "id": "KmbXKtcPkTXA"
   },
   "source": [
    "### Understanding VAEs: loss function\n",
    "\n",
    "In practice, how can we train a VAE? In doing the reparameterization above, we constrain the means and standard deviations to approximately follow a unit Gaussian. Recall that these are learned parameters, and therefore must factor into the loss computation, and that the decoder portion of the VAE is using these parameters to output a reconstruction that should closely match the input image, which also must factor into the loss. What this means is that we'll have two terms in our VAE loss function:\n",
    "\n",
    "1.  **Latent loss ($L_{KL}$)**: measures how closely the learned latent variables match a unit Gaussian and is defined by the Kullback-Leibler (KL) divergence. Note that the reparameterization trick is what makes this loss function differentiable!\n",
    "2.   **Reconstruction loss ($L_{x}{(x,\\hat{x})}$)**: measures how accurately the reconstructed outputs match the input and is given by the $L^2$ norm of the input image and its reconstructed output.  \n",
    "\n",
    "The equations for both of these losses are provided below:\n",
    "\n",
    "$$ L_{KL}(\\mu, \\sigma) = \\frac{1}{2}\\sum\\limits_{j=0}^{k-1}\\small{(\\sigma_j + \\mu_j^2 - 1 - \\log{\\sigma_j})} $$\n",
    "\n",
    "$$ L_{x}{(x,\\hat{x})} = ||x-\\hat{x}||_2 $$ \n",
    "\n",
    "Thus for the VAE loss we have: \n",
    "\n",
    "$$ L_{VAE} = c\\cdot L_{KL} + L_{x}{(x,\\hat{x})} $$\n",
    "\n",
    "where $c$ is a weighting coefficient used for regularization. \n",
    "\n",
    "Now we're ready to define our VAE loss function:"
   ]
  },
  {
   "cell_type": "code",
   "execution_count": null,
   "metadata": {
    "colab": {},
    "colab_type": "code",
    "id": "S00ASo1ImSuh"
   },
   "outputs": [],
   "source": [
    "# Function to calculate VAE loss given an input x, reconstructed output x_pred, \n",
    "#    encoded means mu, encoded log of standard deviation logsigma, and weight parameter for the latent loss\n",
    "def vae_loss_function(x, x_pred, mu, logsigma, kl_weight=0.0005):\n",
    "  '''TODO: Define the latent loss'''\n",
    "  latent_loss = 0.5 * tf.reduce_sum(tf.exp(logsigma) + tf.square(mu) - 1.0 - logsigma, axis=1) # TODO\n",
    "  '''TODO: Define the reconstruction loss. Hint: you'll need to use tf.reduce_mean'''\n",
    "  reconstruction_loss = tf.reduce_mean((x-x_pred)**2, axis=(1,2,3)) # TODO\n",
    "  '''TODO: Define the VAE loss'''\n",
    "  vae_loss = kl_weight * latent_loss + reconstruction_loss\n",
    "  return vae_loss"
   ]
  },
  {
   "cell_type": "markdown",
   "metadata": {
    "colab_type": "text",
    "id": "E8mpb3pJorpu"
   },
   "source": [
    "Great! Now that we have a more concrete sense of how VAEs work, let's explore how we can leverage this network structure to train a *debiased* facial classifier."
   ]
  },
  {
   "cell_type": "markdown",
   "metadata": {
    "colab_type": "text",
    "id": "DqtQH4S5fO8F"
   },
   "source": [
    "### Understanding VAEs: reparameterization \n",
    "\n",
    "As you may recall from lecture, VAEs use a \"reparameterization  trick\" for sampling learned latent variables. Instead of the VAE encoder generating a single vector of real numbers for each latent variable, it generates a vector of means and a vector of standard deviations that are constrained to roughly follow Gaussian distributions. We then sample from the standard deviations and add back the mean to output this as our sampled latent vector. Formalizing this for a latent variable $z$ where we sample $\\epsilon \\sim \\mathcal{N}(0,(I))$ we have: \n",
    "\n",
    "$$ z = \\mathbb{\\mu} + e^{\\left(\\frac{1}{2} \\cdot \\log{\\Sigma}\\right)}\\circ \\epsilon $$\n",
    "\n",
    "where $\\mu$ is the mean and $\\Sigma$ is the covariance matrix. This is useful because it will let us neatly define the loss function for the VAE, generate randomly sampled latent variables, achieve improved network generalization, **and** make our complete VAE network differentiable so that it can be trained via backpropagation. Quite powerful!\n",
    "\n",
    "Let's define a function to implement the VAE sampling operation:"
   ]
  },
  {
   "cell_type": "code",
   "execution_count": null,
   "metadata": {
    "colab": {},
    "colab_type": "code",
    "id": "cT6PGdNajl3K"
   },
   "outputs": [],
   "source": [
    "\"\"\"Reparameterization trick by sampling from an isotropic unit Gaussian.\n",
    "# Arguments\n",
    "    args (tensor): mean and log of standard deviation of latent distribution (Q(z|X))\n",
    "# Returns\n",
    "    z (tensor): sampled latent vector\n",
    "\"\"\"\n",
    "def sampling(args):\n",
    "    z_mean, z_logsigma = args\n",
    "    batch = z_mean.shape[0]\n",
    "    dim = z_mean.shape[1]\n",
    "    \n",
    "    # by default, random_normal has mean=0 and std=1.0\n",
    "    epsilon = tf.random_normal(shape=(batch, dim))\n",
    "    '''TODO: Define the reparameterization computation!'''\n",
    "    return z_mean + tf.math.exp(0.5 * z_logsigma) * epsilon # TODO"
   ]
  },
  {
   "cell_type": "markdown",
   "metadata": {
    "colab_type": "text",
    "id": "qtHEYI9KNn0A"
   },
   "source": [
    "## 2.4 Debiasing variational autoencoder (DB-VAE) for facial detection\n",
    "\n",
    "Now, we'll use the general idea behind the VAE architecture to build a model, termed a *debiasing variational autoencoder* or DB-VAE, to mitigate (potentially) unknown biases present within the training idea. We'll train our DB-VAE model on the facial detection task, run the debiasing operation during training, evaluate on the PPB dataset, and compare its accuracy to our original, biased CNN model.    \n",
    "\n",
    "### The DB-VAE model\n",
    "\n",
    "The key idea behind this debiasing approach is to use the latent variables learned via a VAE to adaptively re-sample the CelebA data during training. Specifically, we will alter the probability that a given image is used during training based on how often its latent features appear in the dataset. So, faces with rarer features (like dark skin, sunglasses, or hats) should become more likely to be sampled during training, while the sampling probability for faces with features that are over-represented in the training dataset should decrease (relative to uniform random sampling across the training data). \n",
    "\n",
    "A general schematic of the DB-VAE approach is shown here:\n",
    "\n",
    "![DB-VAE](https://raw.githubusercontent.com/aamini/introtodeeplearning_labs/2019/lab2/img/DB-VAE.png)"
   ]
  },
  {
   "cell_type": "markdown",
   "metadata": {
    "colab_type": "text",
    "id": "ziA75SN-UxxO"
   },
   "source": [
    "Recall that we want to apply our DB-VAE to a *supervised classification* problem -- the facial detection task. Importantly, note how the encoder portion in the DB-VAE architecture also outputs a single supervised variable, $z_o$, corresponding to the class prediction -- face or not face. Usually, VAEs are not trained to output any supervised variables (such as a class prediction)! This is another key distinction between the DB-VAE and a traditional VAE. \n",
    "\n",
    "Keep in mind that we only want to learn the latent representation of *faces*, as that's what we're ultimately debiasing against, even though we are training a model on a binary classification problem. We'll need to ensure that, **for faces**, our DB-VAE model both learns a representation of the unsupervised latent variables, captured by the distribution $q_\\phi(z|x)$, **and** outputs a supervised class prediction $z_o$, but that, **for negative examples**, it only outputs a class prediction $z_o$."
   ]
  },
  {
   "cell_type": "markdown",
   "metadata": {
    "colab_type": "text",
    "id": "XggIKYPRtOZR"
   },
   "source": [
    "### Defining the DB-VAE loss function\n",
    "\n",
    "This means we'll need to be a bit clever about the loss function for the DB-VAE. The form of the loss will depend on whether it's a face image or a non-face image that's being considered. \n",
    "\n",
    "For **face images**, our loss function will have two components:\n",
    "\n",
    "\n",
    "1.   **VAE loss ($L_{VAE}$)**: consists of the latent loss and the reconstruction loss.\n",
    "2.   **Classification loss ($L_y(y,\\hat{y})$)**: standard cross-entropy loss for a binary classification problem. \n",
    "\n",
    "In contrast, for images of non-faces, our loss function is solely the classification loss. \n",
    "\n",
    "We can write a single expression for the loss by defining an indicator variable $\\mathcal{I}_f$which reflects which training data are images of faces ($\\mathcal{I}_f(x) = 1$ ) and which are images of non-faces ($\\mathcal{I}_f(x) = 0$). Using this, we obtain:\n",
    "\n",
    "$$L_{total} = L_y(y,\\hat{y}) + \\mathcal{I}_f(x)\\Big[L_{VAE}\\Big]$$\n",
    "\n",
    "Let's write a function to define the DB-VAE loss function:\n",
    "\n"
   ]
  },
  {
   "cell_type": "code",
   "execution_count": null,
   "metadata": {
    "colab": {},
    "colab_type": "code",
    "id": "VjieDs8Ovcqs"
   },
   "outputs": [],
   "source": [
    "# Loss function for DB-VAE\n",
    "def debiasing_loss_function(x, x_pred, y, y_logit, mu, logsigma):\n",
    "\n",
    "  '''TODO: call the relevant function to obtain VAE loss'''\n",
    "  vae_loss = vae_loss_function(x, x_pred, mu, logsigma) # TODO\n",
    "  '''TODO: define the classification loss'''\n",
    "  classification_loss = tf.nn.sigmoid_cross_entropy_with_logits(labels=y, logits=y_logit) # TODO\n",
    "  \n",
    "  # Use the training data labels to create variable face_mask\n",
    "  face_mask = tf.cast(tf.equal(y, 1), tf.float32)\n",
    "  \n",
    "  '''TODO: define the DB-VAE total loss! Hint: think about the dimensionality of your output.'''\n",
    "  total_loss = tf.reduce_mean(\n",
    "      classification_loss + \n",
    "      face_mask * vae_loss\n",
    "  )\n",
    "  \n",
    "  return total_loss, classification_loss"
   ]
  },
  {
   "cell_type": "markdown",
   "metadata": {
    "colab_type": "text",
    "id": "YIu_2LzNWwWY"
   },
   "source": [
    "### DB-VAE architecture\n",
    "\n",
    "Now we're ready to define the DB-VAE architecture. First, let's define some key parameters for our model: the number of latent variables, the number of supervised outputs, and the starting number of filters for the first convolutional layer in the encoder."
   ]
  },
  {
   "cell_type": "code",
   "execution_count": null,
   "metadata": {
    "colab": {},
    "colab_type": "code",
    "id": "ds7o8AuFxUpg"
   },
   "outputs": [],
   "source": [
    "latent_dim = 100"
   ]
  },
  {
   "cell_type": "markdown",
   "metadata": {
    "colab_type": "text",
    "id": "amYEnHdJxWYB"
   },
   "source": [
    "To build the DB-VAE, we'll define each of the encoder and decoder networks separately, create and initialize the two models, and then construct the end-to-end VAE. We'll go through each of these steps in turn. "
   ]
  },
  {
   "cell_type": "code",
   "execution_count": null,
   "metadata": {
    "colab": {},
    "colab_type": "code",
    "id": "4k0tQeW1xpJf"
   },
   "outputs": [],
   "source": [
    "'''Define the encoder network for the DB-VAE'''\n",
    "def make_face_encoder_network():\n",
    "    Conv2D = functools.partial(tf.keras.layers.Conv2D, padding='same', activation='relu')\n",
    "    BatchNormalization = tf.keras.layers.BatchNormalization\n",
    "    Flatten = tf.keras.layers.Flatten\n",
    "    Dense = functools.partial(tf.keras.layers.Dense, activation='relu')\n",
    "\n",
    "    inputs = tf.keras.layers.Input(shape=(64,64,3))\n",
    "    \n",
    "    hidden = Conv2D(filters=1*n_filters, kernel_size=[5,5],  strides=[2,2])(inputs)\n",
    "    hidden = BatchNormalization()(hidden)\n",
    "    hidden = Conv2D(filters=2*n_filters, kernel_size=[5,5],  strides=[2,2])(hidden)\n",
    "    hidden = BatchNormalization()(hidden)\n",
    "    hidden = Conv2D(filters=4*n_filters, kernel_size=[3,3],  strides=[2,2])(hidden)\n",
    "    hidden = BatchNormalization()(hidden)\n",
    "    hidden = Conv2D(filters=6*n_filters, kernel_size=[3,3],  strides=[1,1])(hidden)\n",
    "    hidden = BatchNormalization()(hidden)\n",
    "\n",
    "    hidden = Flatten(name='flatten')(hidden)\n",
    "#     hidden = Dense(128)(hidden)\n",
    "    \n",
    "    '''Encoder outputs:\n",
    "        y_logit: supervised class prediction\n",
    "        z_mean: means in the latent space\n",
    "        z_logsigma: standard deviations in the latent space'''\n",
    "    y_logit = Dense(1, activation=None, name='y_logit')(hidden)\n",
    "    z_mean = Dense(latent_dim, name='z_mean')(hidden)\n",
    "    z_logsigma = Dense(latent_dim, name='z_logsigma')(hidden)\n",
    "\n",
    "    # use reparameterization trick to sample from the latent space\n",
    "    z = tf.keras.layers.Lambda(sampling, output_shape=(latent_dim,))([z_mean, z_logsigma])\n",
    "\n",
    "    # define the outputs that the encoder model should return\n",
    "    outputs = [y_logit, z_mean, z_logsigma, z]\n",
    "    # finalize the encoder model\n",
    "    encoder = tf.keras.Model(inputs=inputs, outputs=outputs, name='encoder')\n",
    "\n",
    "    # get the shape of the final convolutional output (right before the flatten)\n",
    "    flatten_layer_idx = encoder.layers.index(encoder.get_layer('flatten'))\n",
    "    pre_flatten_shape = encoder.layers[flatten_layer_idx-1].get_output_at(0).shape[1:]\n",
    "    \n",
    "    return encoder, inputs, outputs, pre_flatten_shape"
   ]
  },
  {
   "cell_type": "markdown",
   "metadata": {
    "colab_type": "text",
    "id": "FlB-Gcot0gYw"
   },
   "source": [
    "Similarly, we can define the decoder network, which takes as input the sampled latent variables, runs them through a series of deconvolutional layers, and outputs a reconstruction of the original input image:"
   ]
  },
  {
   "cell_type": "code",
   "execution_count": null,
   "metadata": {
    "colab": {},
    "colab_type": "code",
    "id": "JfWPHGrmyE7R"
   },
   "outputs": [],
   "source": [
    "'''Define the decoder network for the DB-VAE'''\n",
    "def make_face_decoder_network(pre_flatten_shape):\n",
    "  Conv2DTranspose = functools.partial(tf.keras.layers.Conv2DTranspose, padding='same', activation='relu')\n",
    "  BatchNormalization = tf.keras.layers.BatchNormalization\n",
    "  Flatten = tf.keras.layers.Flatten\n",
    "  Dense = functools.partial(tf.keras.layers.Dense, activation='relu')\n",
    "\n",
    "  latent_inputs = tf.keras.layers.Input(shape=(latent_dim,))\n",
    "  \n",
    "#   hidden = Dense(128)(latent_inputs)\n",
    "  hidden = Dense(tf.reduce_prod(pre_flatten_shape))(latent_inputs)\n",
    "  hidden = tf.keras.layers.Reshape(pre_flatten_shape)(hidden)\n",
    "  \n",
    "  # series of deconvolutional layers with batch normalization\n",
    "  hidden = Conv2DTranspose(filters=4*n_filters, kernel_size=[3,3],  strides=[1,1])(hidden)\n",
    "  hidden = BatchNormalization()(hidden)\n",
    "  hidden = Conv2DTranspose(filters=2*n_filters, kernel_size=[3,3],  strides=[2,2])(hidden)\n",
    "  hidden = BatchNormalization()(hidden)\n",
    "  hidden = Conv2DTranspose(filters=1*n_filters, kernel_size=[5,5],  strides=[2,2])(hidden)\n",
    "  hidden = BatchNormalization()(hidden)\n",
    "  \n",
    "  x_hat = Conv2DTranspose(filters=3, kernel_size=[5,5], strides=[2,2])(hidden)\n",
    "\n",
    "  # instantiate decoder model\n",
    "  decoder = tf.keras.Model(inputs=latent_inputs, outputs=x_hat, name='decoder')\n",
    "  return decoder\n"
   ]
  },
  {
   "cell_type": "markdown",
   "metadata": {
    "colab_type": "text",
    "id": "yWCMu12w1BuD"
   },
   "source": [
    "Now, call these functions to create the encoder and decoder!"
   ]
  },
  {
   "cell_type": "code",
   "execution_count": null,
   "metadata": {
    "colab": {},
    "colab_type": "code",
    "id": "dSFDcFBL13c3"
   },
   "outputs": [],
   "source": [
    "'''TODO: create the encoder and decoder networks'''\n",
    "encoder, inputs, ouputs, pre_flatten_shape = make_face_encoder_network() # TODO\n",
    "decoder = make_face_decoder_network(pre_flatten_shape) # TODO\n",
    "\n",
    "# initialize the models\n",
    "encoder_output = encoder(inputs)\n",
    "y_logit, z_mean, z_logsigma, z = encoder_output\n",
    "reconstructed_inputs = decoder(z)"
   ]
  },
  {
   "cell_type": "markdown",
   "metadata": {
    "colab_type": "text",
    "id": "QbRI5_rz2Myy"
   },
   "source": [
    "Finally we can construct our network end-to-end."
   ]
  },
  {
   "cell_type": "code",
   "execution_count": null,
   "metadata": {
    "colab": {},
    "colab_type": "code",
    "id": "WITL88Fm2Z0a"
   },
   "outputs": [],
   "source": [
    "# Construct the end to end vae\n",
    "vae = tf.keras.Model(inputs, reconstructed_inputs)"
   ]
  },
  {
   "cell_type": "markdown",
   "metadata": {
    "colab_type": "text",
    "id": "DjdyDDpc01ZZ"
   },
   "source": [
    "Let's visualize the architecture of the encoder to get a more concrete understanding of this network,"
   ]
  },
  {
   "cell_type": "code",
   "execution_count": null,
   "metadata": {
    "colab": {},
    "colab_type": "code",
    "id": "7yKMwQU606ZR"
   },
   "outputs": [],
   "source": [
    "util.display_model(encoder)"
   ]
  },
  {
   "cell_type": "markdown",
   "metadata": {
    "colab_type": "text",
    "id": "M-clbYAj2waY"
   },
   "source": [
    "As you can see, the encoder architecture is virtually identical to the CNN from earlier in this lab. Note the outputs of this model: `y_logit, z_mean, z_logsigma, z`. Think carefully about why each of these are outputted and their significance to the problem at hand.\n",
    "\n"
   ]
  },
  {
   "cell_type": "markdown",
   "metadata": {
    "colab_type": "text",
    "id": "nbDNlslgQc5A"
   },
   "source": [
    "### Adaptive resampling for automated debiasing with DB-VAE\n",
    "\n",
    "So, how can we actually use DB-VAE to train a debiased facial detection classifier? Recall the DB-VAE architecture. As the input images are fed through the network, the encoder learns an estimate $\\mathcal{Q}(z|X)$ of the latent space. We want to increase the relative frequency of rare data by increased sampling of under-represented regions of the latent space. We can approximate $\\mathcal{Q}(z|X)$ using the frequency distributions of each of the learned latent variables, and then define the probability distribution of selecting a given datapoint $x$ based on this approximation. These probability distributions will be used during training to re-sample the data.\n",
    "\n",
    "You'll write a function to execute this update of the sampling probabilities, and then call this function within the DB-VAE training loop to actually debias the model. "
   ]
  },
  {
   "cell_type": "markdown",
   "metadata": {
    "colab_type": "text",
    "id": "Fej5FDu37cf7"
   },
   "source": [
    "First, we've defined a short helper function `get_latent_mu` that returns the latent variable means returned by the encoder after a batch of images is inputted to the network:"
   ]
  },
  {
   "cell_type": "code",
   "execution_count": null,
   "metadata": {
    "colab": {},
    "colab_type": "code",
    "id": "ewWbf7TE7wVc"
   },
   "outputs": [],
   "source": [
    "# Function to return the means for an input image batch\n",
    "def get_latent_mu(images, encoder, batch_size=1024):\n",
    "    N = images.shape[0]\n",
    "    mu = np.zeros((N, latent_dim))\n",
    "    for start_ind in xrange(0, N, batch_size):\n",
    "        end_ind = min(start_ind+batch_size, N+1)\n",
    "        batch = images[start_ind:end_ind]\n",
    "        batch = tf.convert_to_tensor(batch, dtype=tf.float32)/255.\n",
    "        _, batch_mu, _, _ = encoder(batch)\n",
    "        mu[start_ind:end_ind] = batch_mu\n",
    "    return mu"
   ]
  },
  {
   "cell_type": "markdown",
   "metadata": {
    "colab_type": "text",
    "id": "wn4yK3SC72bo"
   },
   "source": [
    "Now, let's define the actual resampling algorithm `get_training_sample_probabilities`. Importantly note the argument `smoothing_fac`. This parameter tunes the degree of debiasing: for `smoothing_fac=0`, the re-sampled training set will tend towards falling uniformly over the latent space. "
   ]
  },
  {
   "cell_type": "code",
   "execution_count": null,
   "metadata": {
    "colab": {},
    "colab_type": "code",
    "id": "HiX9pmmC7_wn"
   },
   "outputs": [],
   "source": [
    "'''Function that recomputes the sampling probabilities for images within a batch\n",
    "    based on how they distribute across the '''\n",
    "def get_training_sample_probabilities(images, encoder, bins=10, smoothing_fac=0.0): \n",
    "    print \"Recomputing the sampling probabilities\"\n",
    "    \n",
    "    mu = get_latent_mu(images, encoder)\n",
    "    # sampling probabilities for the images\n",
    "    training_sample_p = np.zeros(mu.shape[0])\n",
    "    \n",
    "    # consider the distribution for each latent variable \n",
    "    for i in range(latent_dim):\n",
    "      \n",
    "        latent_distribution = mu[:,i]\n",
    "        # generate a histogram of the latent distribution\n",
    "        hist_density, bin_edges =  np.histogram(latent_distribution, density=True, bins=bins)\n",
    "\n",
    "        # find which latent bin every data sample falls in \n",
    "        # https://docs.scipy.org/doc/numpy-1.13.0/reference/generated/numpy.digitize.html\n",
    "        bin_edges[0] = -float('inf')\n",
    "        bin_edges[-1] = float('inf')\n",
    "        '''TODO: call the digitize function to find which bins in the latent distribution \n",
    "            every data sample falls in to'''\n",
    "        bin_idx = np.digitize(latent_distribution, bin_edges) # TODO\n",
    "\n",
    "        # smooth the density function [Eq. #]\n",
    "        hist_smoothed_density = hist_density + smoothing_fac\n",
    "        hist_smoothed_density = hist_smoothed_density / np.sum(hist_smoothed_density)\n",
    "\n",
    "        '''TODO: invert the density function to compute the sampling probability!\n",
    "            HINT: think carefully about the indexing of the bins! What is the length of bin_edges?'''\n",
    "        p = 1.0/(hist_smoothed_density[bin_idx-1]) # TODO\n",
    "        \n",
    "        # normalize all probabilities\n",
    "        p = p / np.sum(p)\n",
    "        \n",
    "        # update sampling probabilities \n",
    "        training_sample_p = np.maximum(p, training_sample_p)\n",
    "        \n",
    "    # final normalization\n",
    "    training_sample_p /= np.sum(training_sample_p)\n",
    "\n",
    "    return training_sample_p"
   ]
  },
  {
   "cell_type": "markdown",
   "metadata": {
    "colab_type": "text",
    "id": "pF14fQkVUs-a"
   },
   "source": [
    "Now that we've defined the resampling update, we can train our DB-VAE model on the CelebA/ImageNet training data, and run the above operation to re-weight the importance of particular data points as we train the model. Remember again that we only want to debias for features relevant to *faces*, not the set of negative examples.\n",
    "\n",
    "Complete the code block below to execute the training loop!"
   ]
  },
  {
   "cell_type": "code",
   "execution_count": null,
   "metadata": {
    "colab": {},
    "colab_type": "code",
    "id": "9YR8U43FVZ_8"
   },
   "outputs": [],
   "source": [
    "loss_history = []\n",
    "optimizer = tf.train.AdamOptimizer(learning_rate=learning_rate)\n",
    "\n",
    "enable_debiasing = True\n",
    "all_faces = loader.get_all_train_faces() # parameter from data loader\n",
    "\n",
    "for epoch in range(num_epochs):\n",
    "  \n",
    "  # progress message and bar\n",
    "  custom_msg = util.custom_progress_text(\"Epoch: %(epoch).0f   Iter: %(idx).0f   Class Loss: %(class_loss)2.2f   Loss: %(loss)2.2f\")\n",
    "  bar = util.create_progress_bar(custom_msg)\n",
    "\n",
    "  p_faces = None\n",
    "  if enable_debiasing: \n",
    "      # Recompute data sampling proabilities if debiasing is enabled\n",
    "      '''TODO: write the function call to recompute the sampling probabilities\n",
    "          when debiasing is enabled'''\n",
    "      p_faces = get_training_sample_probabilities(all_faces, encoder) # TODO\n",
    "  \n",
    "  for idx in bar(range(loader.get_train_size()//batch_size)):\n",
    "    # load a batch of data\n",
    "    (x, y) = loader.get_batch(batch_size, p_pos=p_faces)\n",
    "    x = tf.convert_to_tensor(x, dtype=tf.float32)\n",
    "    y = tf.convert_to_tensor(y, dtype=tf.float32)\n",
    "  \n",
    "    # define GradientTape for automatic differentiation\n",
    "    with tf.GradientTape() as tape:\n",
    "      y_logit, mu, logsigma, z = encoder(x)\n",
    "      x_hat = decoder(z)\n",
    "      '''TODO: call the relevant loss function to compute the loss'''\n",
    "      loss, class_loss = debiasing_loss_function(x, x_hat, y, y_logit, mu, logsigma) # TODO\n",
    "    \n",
    "    '''TODO: use the GradientTape.gradient method to compute the gradients'''\n",
    "    grads = tape.gradient(loss, vae.variables) # TODO\n",
    "    # apply gradients to variables\n",
    "    optimizer.apply_gradients(zip(grads, vae.variables),\n",
    "                              global_step=tf.train.get_or_create_global_step())\n",
    "\n",
    "    # track the losses\n",
    "    class_loss_value = class_loss.numpy().mean()\n",
    "    loss_value = loss.numpy().mean()\n",
    "    loss_history.append((class_loss_value, loss_value))\n",
    "    custom_msg.update_mapping(epoch=epoch, idx=idx, loss=loss_value, class_loss=class_loss_value)\n",
    "    \n",
    "    # plot the progress every 100 steps\n",
    "    if idx%100 == 0: \n",
    "      util.plot_sample(x,y,vae)"
   ]
  },
  {
   "cell_type": "markdown",
   "metadata": {
    "colab_type": "text",
    "id": "uZBlWDPOVcHg"
   },
   "source": [
    "Wonderful! Now we should have a trained and (hopefully!) debiased facial classification model, ready for evaluation!"
   ]
  },
  {
   "cell_type": "markdown",
   "metadata": {
    "colab_type": "text",
    "id": "Eo34xC7MbaiQ"
   },
   "source": [
    "## 2.4 Evaluation on Pilot Parliaments Benchmark (PPB) Dataset\n",
    "\n",
    "Finally let's test our DB-VAE model on the[ PPB dataset](http://proceedings.mlr.press/v81/buolamwini18a/buolamwini18a.pdf). \n",
    "\n",
    "We'll evaluate both the overall accuracy of the DB-VAE as well as its accuracy on each the \"Dark Male\", \"Dark Female\", \"Light Male\", and \"Light Female\" demographics, and compare the performance of this debiased model against the biased CNN from earlier in the lab. \n",
    "\n",
    "Here are some example images from the PPB dataset.\n",
    "![PPB Example Images](https://raw.githubusercontent.com/aamini/introtodeeplearning_labs/2019/lab2/img/PPB%20faces.png)"
   ]
  },
  {
   "cell_type": "markdown",
   "metadata": {
    "colab_type": "text",
    "id": "ruzxwzo2ko6N"
   },
   "source": [
    "To assess performance, we'll measure the classification accuracy of each model, which we define as the fraction of PPB faces detected. By comparing the accuracy of a model without debiasing and our DB-VAE model, we can get a sense of how effectively we were able to debias against features like skin tone and gender.\n",
    "\n",
    "Let's evaluate our debiased model on the PPB test dataset."
   ]
  },
  {
   "cell_type": "code",
   "execution_count": null,
   "metadata": {
    "colab": {},
    "colab_type": "code",
    "id": "bgK77aB9oDtX"
   },
   "outputs": [],
   "source": [
    "# Evaluate on PPB dataset (takes ~4 minutes)\n",
    "accuracy_debiased = []\n",
    "for skin_color in ['lighter', 'darker']:\n",
    "  for gender in ['male', 'female']:\n",
    "    accuracy_debiased.append( ppb.evaluate([encoder], gender, skin_color, output_idx=0, from_logit=True)[0] )\n",
    "    print \n",
    "    print \"{} {}: {}\".format(gender, skin_color, accuracy_debiased[-1])"
   ]
  },
  {
   "cell_type": "markdown",
   "metadata": {
    "colab_type": "text",
    "id": "F-3NzMB0oQtv"
   },
   "source": [
    "We can calculate the accuracies of our model on the whole PPB dataset as well as across the four demographics proposed and visualize our results comparing to the standard, biased CNN.\n"
   ]
  },
  {
   "cell_type": "code",
   "execution_count": null,
   "metadata": {
    "colab": {},
    "colab_type": "code",
    "id": "zzm-THVJkBjY"
   },
   "outputs": [],
   "source": [
    "bar_width = 0.3\n",
    "plt.bar(np.arange(4), standard_cnn_accuracy, width=bar_width)\n",
    "plt.bar(np.arange(4)+bar_width, accuracy_debiased, width=bar_width)\n",
    "plt.legend(('Standard Classifier','Debiased Classifier (DB-VAE)'))\n",
    "plt.xticks(np.arange(4), ('LM', 'LF', 'DM', 'DF'))\n",
    "plt.ylim(np.min([standard_cnn_accuracy,accuracy_debiased])-0.1,1)\n",
    "plt.ylabel('Accuracy')"
   ]
  },
  {
   "cell_type": "markdown",
   "metadata": {
    "colab_type": "text",
    "id": "rESoXRPQo_mq"
   },
   "source": [
    "## 2.5 Conclusion \n",
    "\n",
    "We encourage you to think about and maybe even address some questions raised by the approach and results outlined here:\n",
    "\n",
    "*  How does the accuracy of the DB-VAE across the four demographics compare to that of the standard CNN? Do you find this result surprising in any way?\n",
    "*  In which applications (either related to facial detection or not!) would debiasing in this way be desired? Are there applications where you may not want to debias your model? \n",
    "* Do you think it should be necessary for companies to demonstrate that their models, particularly in the context of tasks like facial detection, are not biased? If so, do you have thoughts on how this could be standardized and implemented?\n",
    "* Do you have ideas for other ways to address issues of bias, particularly in terms of the training data?\n",
    "\n",
    "Hopefully this lab has shed some light on a few concepts, from vision based tasks, to VAEs, to algorithmic bias. We like to think it has, but we're biased ;). \n",
    "\n",
    "![Faces](https://media1.tenor.com/images/44e1f590924eca94fe86067a4cf44c72/tenor.gif?itemid=3394328)"
   ]
  }
 ],
 "metadata": {
  "accelerator": "GPU",
  "colab": {
   "collapsed_sections": [
    "NDj7KBaW8Asz"
   ],
   "include_colab_link": true,
   "name": "Copy of Part2_debiasing_solution.ipynb",
   "provenance": [],
   "version": "0.3.2"
  },
  "kernelspec": {
   "display_name": "Python 3",
   "language": "python",
   "name": "python3"
  },
  "language_info": {
   "codemirror_mode": {
    "name": "ipython",
    "version": 3
   },
   "file_extension": ".py",
   "mimetype": "text/x-python",
   "name": "python",
   "nbconvert_exporter": "python",
   "pygments_lexer": "ipython3",
   "version": "3.6.7"
  }
 },
 "nbformat": 4,
 "nbformat_minor": 1
}
