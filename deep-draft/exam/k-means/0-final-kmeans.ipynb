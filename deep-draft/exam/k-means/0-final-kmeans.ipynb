{
 "cells": [
  {
   "cell_type": "markdown",
   "metadata": {},
   "source": [
    "## K-Means  `kmeans(data)`\n",
    "- This notebook `0-final-kmeans.ipynb` is working properly given the requirements\n",
    "- For visualization, check the notebook `3-final-results-with-plot.ipynb`\n",
    "- To see how my implementation compares to sklearn check the notebook `1-initial-comparisons.ipynb`\n",
    "- Check the elbow graphs and discussion in `naive-elbow-inspection.ipynb`\n",
    "\n",
    "\n",
    "#### `def kmeans(data, nk=10, niter=100)`\n",
    "- `returns 2 items: best_k, vector of corresponding labels for each given sample`\n",
    "- `nk` is predefined as 10, which is the max number of clusters our program will test. So given a data set, the best k would be less than or equal to nk but greater than 1. \n",
    "- `niter` is the number of iterations before our  algorithm \"gives up\", \n",
    "- if it doesn't converge to a centroid after `niter` iterations,\n",
    "- it will just use the centroids it has computed the most recently\n",
    "\n",
    "## Requirements\n",
    "- where data is an MxN numpy array\n",
    "- This should return\n",
    "  - an integer K, which should be programmatically identified\n",
    "  - a vector of length M containing the cluster labels\n"
   ]
  },
  {
   "cell_type": "code",
   "execution_count": 1,
   "metadata": {},
   "outputs": [],
   "source": [
    "import numpy as np\n",
    "from numpy.random import multivariate_normal\n",
    "from KMeans import kmeans"
   ]
  },
  {
   "cell_type": "code",
   "execution_count": 2,
   "metadata": {},
   "outputs": [],
   "source": [
    "# Create synthetic data data from three different multivariate distributions\n",
    "x1 = np.random.multivariate_normal(mean=[-55, 5], cov=[[1, 0], [0, 1]], size=75)\n",
    "x2 = np.random.multivariate_normal(mean=[-1, 1], cov=[[2, 0], [0, 2]], size=200)\n",
    "x3 = np.random.multivariate_normal(mean=[60, -10], cov=[[1, 0], [0, 2]], size=60)\n",
    "x4 = np.random.multivariate_normal(mean=[-1, 50], cov=[[1, 0], [0, 3]], size=50)\n",
    "x5 = np.random.multivariate_normal(mean=[3, -64], cov=[[3, 0], [0, 1]], size=40)\n",
    "x6 = np.random.multivariate_normal(mean=[100, 100], cov=[[1, 0], [0, 2]], size=20)\n",
    "\n",
    "samples = np.concatenate([x1, x2, x3, x4, x5, x6])\n",
    "np.random.shuffle(samples)"
   ]
  },
  {
   "cell_type": "code",
   "execution_count": 3,
   "metadata": {},
   "outputs": [
    {
     "name": "stdout",
     "output_type": "stream",
     "text": [
      "\n",
      "(M x N) row = M (number of samples) columns = N (number of features per sample\n",
      "Shape of array: (445, 2)\n",
      "\n",
      "Which means there are 445 samples and 2 features per sample\n",
      "\n",
      "Let's run our kmeans implementation\n",
      ">>>>>>>>>>\n",
      "\n",
      "Proposed number of clusters: 6\n",
      "Labels shape:\n",
      "(445,)\n",
      "Print all the labels:\n",
      "[2 2 1 2 2 5 2 5 2 3 2 2 2 1 2 2 0 3 1 2 4 4 2 4 2 5 2 2 2 2 5 2 3 5 5 1 2\n",
      " 2 5 2 5 1 2 2 5 3 1 2 3 2 3 2 3 2 5 2 5 2 5 3 2 2 1 2 2 5 0 5 2 5 2 5 2 0\n",
      " 3 2 4 2 5 5 2 2 2 2 1 5 3 4 2 1 1 0 2 5 4 2 2 2 5 5 5 1 2 2 1 1 5 5 0 2 2\n",
      " 2 2 2 0 1 5 2 2 4 3 3 4 1 0 3 5 3 2 0 4 2 1 5 2 2 0 2 2 4 2 4 2 2 2 4 2 4\n",
      " 1 4 5 2 2 4 5 2 3 4 4 2 1 5 2 2 5 2 2 2 0 1 1 2 1 0 4 5 4 5 4 2 1 2 5 2 2\n",
      " 2 5 3 1 5 5 2 1 2 3 2 2 2 4 2 1 5 2 2 1 5 1 5 5 2 4 3 2 2 2 5 2 0 2 3 2 2\n",
      " 3 2 3 5 2 3 2 1 2 3 1 1 4 1 2 2 2 3 2 2 5 4 2 5 5 2 2 1 2 3 2 5 5 2 4 5 5\n",
      " 2 2 1 2 2 1 1 2 1 2 3 5 2 1 2 2 2 2 1 2 4 1 2 3 5 1 1 2 4 2 2 2 3 2 2 2 0\n",
      " 3 2 0 2 4 3 5 2 2 2 3 3 2 5 2 1 5 1 2 2 3 3 2 2 2 1 2 5 3 2 2 2 2 3 0 5 2\n",
      " 3 1 5 5 2 2 2 2 1 1 3 2 2 5 3 4 2 2 5 1 2 5 2 2 2 2 1 2 0 2 2 2 2 5 1 0 4\n",
      " 4 0 3 2 3 5 2 4 1 4 5 2 5 2 2 1 2 2 4 1 1 1 2 2 2 0 3 2 1 1 2 2 4 1 2 5 2\n",
      " 4 3 4 5 2 3 5 2 1 2 4 4 2 2 5 3 2 3 0 4 3 5 2 2 1 5 5 2 5 2 3 2 2 3 2 2 3\n",
      " 2]\n"
     ]
    }
   ],
   "source": [
    "# Let's test the synthetic samples \n",
    "\n",
    "print()\n",
    "print(\"(M x N) row = M (number of samples) columns = N (number of features per sample\")\n",
    "print(\"Shape of array:\", samples.shape)\n",
    "\n",
    "print()\n",
    "print(\"Which means there are\", samples.shape[0], \"samples and\", samples.shape[1], \"features per sample\")\n",
    "\n",
    "print()\n",
    "print(\"Let's run our kmeans implementation\")\n",
    "\n",
    "#----------------------------------------------\n",
    "k, labels = kmeans(samples)\n",
    "#----------------------------------------------\n",
    "\n",
    "print()\n",
    "print()\n",
    "print(\"Proposed number of clusters:\", k)\n",
    "\n",
    "print(\"Labels shape:\")\n",
    "print(labels.shape)\n",
    "\n",
    "print(\"Print all the labels:\")\n",
    "print(labels)"
   ]
  },
  {
   "cell_type": "code",
   "execution_count": 4,
   "metadata": {},
   "outputs": [
    {
     "data": {
      "text/plain": [
       "{0: 20, 1: 60, 2: 200, 3: 50, 4: 40, 5: 75}"
      ]
     },
     "execution_count": 4,
     "metadata": {},
     "output_type": "execute_result"
    }
   ],
   "source": [
    "unique, counts = np.unique(labels, return_counts=True)\n",
    "dict(zip(unique, counts))"
   ]
  }
 ],
 "metadata": {
  "kernelspec": {
   "display_name": "Python 3",
   "language": "python",
   "name": "python3"
  },
  "language_info": {
   "codemirror_mode": {
    "name": "ipython",
    "version": 3
   },
   "file_extension": ".py",
   "mimetype": "text/x-python",
   "name": "python",
   "nbconvert_exporter": "python",
   "pygments_lexer": "ipython3",
   "version": "3.6.7"
  }
 },
 "nbformat": 4,
 "nbformat_minor": 2
}
