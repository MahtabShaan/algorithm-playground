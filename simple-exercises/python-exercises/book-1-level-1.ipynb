{
 "cells": [
  {
   "cell_type": "markdown",
   "metadata": {},
   "source": [
    "# 1. Palindrome\n",
    "\n",
    "A palindrome is a string or sequence of characters that reads the same backward and forward. For example, \"madam\" is a palindrome.\n",
    "\n",
    "Write a function that takes in a string and returns a `Boolean -> True` if the input string is a palindrome and `False` if it is not. An empty string is considered a palindrome. You also need to account for the space character. For example, `\"race car\"` should return `False` as read backward it is \"`rac ecar\"`.\n",
    "\n",
    "Examples:\n",
    "```\n",
    "is_palindrome(\"madam\") -> True\n",
    "is_palindrome(\"aabb\") -> False\n",
    "is_palindrome(\"race car\") -> False\n",
    "is_palindrome(\"\") -> True\n",
    "```"
   ]
  },
  {
   "cell_type": "code",
   "execution_count": 1,
   "metadata": {},
   "outputs": [
    {
     "name": "stdout",
     "output_type": "stream",
     "text": [
      "performance of first function: 0.00024390220642089844\n",
      "performance of second function: 0.00014090538024902344\n"
     ]
    }
   ],
   "source": [
    "from random import randint\n",
    "from time import time\n",
    "\n",
    "# First implementation\n",
    "def is_palindrome1(input_string):\n",
    "  l = len(input_string) - 1\n",
    "  check_range = range( (l + 1) // 2)\n",
    "    \n",
    "  for i in check_range:\n",
    "    if input_string[i] != input_string[l - i]:\n",
    "      return False\n",
    "  \n",
    "  return True\n",
    "\n",
    "# Clever Solution\n",
    "def is_palindrome2(input_string):\n",
    "  return input_string == input_string[::-1]\n",
    "\n",
    "# Palindrome Generator \n",
    "def generate_random_palindrome(x):\n",
    "  ''' \n",
    "  generate a random palindrome string of \n",
    "  2*x or 2*x + 1 length (randomly chosen)\n",
    "  all small letters (a-z)\n",
    "  '''\n",
    "  p = \"\"\n",
    "    \n",
    "  for i in range(0, x):\n",
    "    j = randint(ord('a'), ord('z'))\n",
    "    p = p + chr(j)\n",
    "    \n",
    "  r = \"\" if randint(1, 2) == 1 else chr(randint(ord('a'), ord('z')))\n",
    "    \n",
    "  return p + r + p[::-1]\n",
    "\n",
    "# compute sample performance\n",
    "p = generate_random_palindrome(1000)\n",
    "\n",
    "ti = time()\n",
    "r1 = is_palindrome1(p)\n",
    "tf = time()\n",
    "print(\"performance of first function:\", tf - ti)\n",
    "\n",
    "ti = time()\n",
    "r2 = is_palindrome2(p)\n",
    "tf = time()\n",
    "print(\"performance of second function:\", tf - ti)"
   ]
  },
  {
   "cell_type": "markdown",
   "metadata": {},
   "source": [
    "# 2. Duplicate List \n",
    "\n",
    "Write a function - duplicate_items to find the redundant or repeated items in a list and return them in sorted order. \n",
    "This method should return a list of redundant integers in ascending sorted order (as illustrated below). \n",
    "\n",
    "Examples:\n",
    "```\n",
    "duplicate_items([1, 3, 4, 2, 1]) => [1]\n",
    "duplicate_items([1, 3, 4, 2, 1, 2, 4]) => [1, 2, 4]\n",
    "```"
   ]
  },
  {
   "cell_type": "code",
   "execution_count": 2,
   "metadata": {},
   "outputs": [],
   "source": [
    "# First implementation\n",
    "def duplicate_items1(list_numbers):\n",
    "  \n",
    "  list_numbers.sort()\n",
    "  duplicate_list = []\n",
    "  \n",
    "  for i in range(0, len(list_numbers) - 1):\n",
    "    current = list_numbers[i]\n",
    "    if  current == list_numbers[i + 1]:\n",
    "      if current not in duplicate_list:\n",
    "        duplicate_list.append(current)\n",
    "  \n",
    "  return duplicate_list\n",
    "\n",
    "# Clever Solution\n",
    "def duplicate_items2(list_numbers):\n",
    "  set_list = set(list_numbers)\n",
    "  return [i for i in set_list if list_numbers.count(i)>1]"
   ]
  },
  {
   "cell_type": "markdown",
   "metadata": {},
   "source": [
    "# 3. Find Missing Number\n",
    "\n",
    "Given an list containing 9 numbers ranging from 1 to 10, write a function to find the missing number. Assume you have 9 numbers between 1 to 10 and only one number is missing.\n",
    "\n",
    "Example:\n",
    "\n",
    "```\n",
    "input_list: [1, 2, 4, 5, 6, 7, 8, 9, 10]\n",
    "find_missing_number(input_list) => 3\n",
    "```"
   ]
  },
  {
   "cell_type": "code",
   "execution_count": 3,
   "metadata": {},
   "outputs": [],
   "source": [
    "# First Implementation\n",
    "def find_missing_number1(list_numbers):\n",
    "  for i in range(1, 11):\n",
    "    if i not in list_numbers:\n",
    "      return i\n",
    "  return None\n",
    "\n",
    "# Clever Solution\n",
    "def find_missing_number2(list_numbers):\n",
    "  return 55 - sum(list_numbers)"
   ]
  },
  {
   "cell_type": "markdown",
   "metadata": {},
   "source": [
    "# 4. Decimal to Binary \n",
    "\n",
    "Write a function to compute the binary representation of a positive decimal integer. The method should return a string. \n",
    "\n",
    "Example:\n",
    "```\n",
    "dec_to_bin(6) ==> \"110\"\n",
    "\n",
    "dec_to_bin(5) ==> \"101\"\n",
    "```\n",
    "Note : Do not use in-built `bin()` function."
   ]
  },
  {
   "cell_type": "code",
   "execution_count": 4,
   "metadata": {},
   "outputs": [],
   "source": [
    "# First Implementation\n",
    "def dec_to_bin1(number):\n",
    "    \n",
    "  x, s = 0, \"\"\n",
    "  \n",
    "  while 2 ** x <= number: \n",
    "    x+=1\n",
    "  \n",
    "  print(x)\n",
    "  \n",
    "  for i in range(x-1, -1, -1):\n",
    "    j = 2 ** i\n",
    "    print(j, number)\n",
    "    if j <= number:\n",
    "      number -= j\n",
    "      s += '1'\n",
    "    else:\n",
    "      s += '0'\n",
    "      \n",
    "  return s\n",
    "\n",
    "# Clever Implementation 1\n",
    "def dec_to_bin2(n):\n",
    "    if n<2: return str(n)    \n",
    "    else:\n",
    "        return dec_to_bin(n/2) + dec_to_bin(n%2)\n",
    "    \n",
    "# Clever Implementation 2\n",
    "def dec_to_bin3(number):\n",
    "  answer = \"\"\n",
    "  \n",
    "  if number == 0: \n",
    "    answer = \"0\"\n",
    "  \n",
    "  while number != 0:\n",
    "    answer = str(number % 2) + answer\n",
    "    number //= 2\n",
    "    \n",
    "  return answer"
   ]
  },
  {
   "cell_type": "markdown",
   "metadata": {},
   "source": [
    "# 5. Fibonacci \n",
    "\n",
    "The Fibonacci Sequence is the series of numbers: 0, 1, 1, 2, 3, 5, 8, 13, 21, 34, ... The next number is found by adding up the two numbers before it.\n",
    "Write a recursive method fib(n) that returns the nth Fibonacci number. n is 0 indexed, which means that in the sequence 0, 1, 1, 2, 3, 5, 8, 13, 21, 34, ..., n == 0 should return 0 and n == 3 should return 2. \n",
    "Assume n is less than 15.\n",
    "Even though this problem asks you to use recursion, \n",
    "more efficient ways to solve it include using an Array, \n",
    "or better still using 3 volatile variables to keep a track of all required values. \n",
    "\n",
    "Examples:\n",
    "\n",
    "```\n",
    "fib(0) ==> 0\n",
    "fib(1) ==> 1\n",
    "fib(3) ==> 2\n",
    "```"
   ]
  },
  {
   "cell_type": "code",
   "execution_count": 5,
   "metadata": {},
   "outputs": [],
   "source": [
    "def fib(n):\n",
    "  if n < 2: return n\n",
    "  return fib(n - 1) + fib(n - 2)"
   ]
  },
  {
   "cell_type": "markdown",
   "metadata": {},
   "source": [
    "# 6. Flip Vertical Axis\n",
    "\n",
    "You are given an m x n 2D image matrix (List of Lists) where each integer represents a pixel. Flip it in-place along its vertical axis."
   ]
  },
  {
   "cell_type": "code",
   "execution_count": 6,
   "metadata": {},
   "outputs": [],
   "source": [
    "def flip_vertical_axis(matrix):\n",
    "  for row in matrix:\n",
    "    row.reverse()"
   ]
  },
  {
   "cell_type": "markdown",
   "metadata": {},
   "source": [
    "# 7. Flip Horizontal Axis\n",
    "You are given an m x n 2D image matrix (List of Lists) where each integer represents a pixel. Flip it in-place along its horizontal axis."
   ]
  },
  {
   "cell_type": "code",
   "execution_count": 7,
   "metadata": {},
   "outputs": [],
   "source": [
    "def flip_horizontal_axis(matrix):\n",
    "  n = range(0, len(matrix) // 2)\n",
    "  for i in n: \n",
    "    temp = matrix[i]\n",
    "    matrix[i] = matrix[-(i+1)]\n",
    "    matrix[-(i+1)] = temp\n",
    "\n",
    "def flip_horizontal_axis2(matrix):\n",
    "  for i in range(0, len(matrix) // 2): \n",
    "    matrix[i], matrix[-(i+1)] = matrix[-(i+1)], matrix[i]\n",
    "\n",
    "def flip_horizontal_axis3(matrix):\n",
    "  matrix.reverse()"
   ]
  },
  {
   "cell_type": "markdown",
   "metadata": {},
   "source": [
    "# 8. Reverse a String"
   ]
  },
  {
   "cell_type": "code",
   "execution_count": 8,
   "metadata": {},
   "outputs": [],
   "source": [
    "def reverse_string(a_string):\n",
    "  return a_string[::-1] "
   ]
  },
  {
   "cell_type": "markdown",
   "metadata": {},
   "source": [
    "# 9. Insert a Node at a Singly Linked-list\n",
    "\n",
    "Write a function to insert a node at the end of a Singly Linked-List.\n",
    "Examples:\n",
    "\n",
    "```\n",
    "LinkedList: 1->2 , Head = 1\n",
    "insertAtEnd(1) ==> 1->2->1\n",
    "insertAtEnd(2) ==> 1->2->2\n",
    "```"
   ]
  },
  {
   "cell_type": "code",
   "execution_count": 9,
   "metadata": {},
   "outputs": [
    {
     "name": "stdout",
     "output_type": "stream",
     "text": [
      "Head points to None\n",
      "a\n",
      "a  -> b  -> c  -> d  -> e\n"
     ]
    }
   ],
   "source": [
    "class Node:\n",
    "    def __init__(self):\n",
    "        self.data = None\n",
    "        self.next = None\n",
    "     \n",
    "    def setData(self,data):\n",
    "        self.data = data\n",
    "      \n",
    "    def getData(self):\n",
    "        return self.data\n",
    "     \n",
    "    def setNext(self,next):\n",
    "        self.next = next\n",
    "\n",
    "    def getNext(self):\n",
    "        return self.next     \n",
    " \n",
    "     \n",
    "class SinglyLinkedList:\n",
    "    def __init__(self):\n",
    "        self.head = None\n",
    "        \n",
    "    def setHead(self, head):\n",
    "        self.head = head\n",
    "                      \n",
    "    def insertAtEnd(self, data):\n",
    "        \n",
    "        node = Node()\n",
    "        node.setData(data)\n",
    "        \n",
    "        if self.head is None:\n",
    "            self.head = node\n",
    "            return\n",
    "\n",
    "        pointer = self.head\n",
    "\n",
    "        while pointer.getNext() is not None:\n",
    "            pointer = pointer.getNext()\n",
    "            \n",
    "        pointer.setNext(node)\n",
    "\n",
    "\n",
    "def printSinglyLinkedList(s):\n",
    "    \n",
    "    if s.head is None:\n",
    "      print(\"Head points to None\")\n",
    "      return\n",
    "    \n",
    "    pointer = s.head \n",
    "    while pointer.next is not None:\n",
    "        print(pointer.getData(), \" -> \", end=\"\") \n",
    "        pointer = pointer.next\n",
    "   \n",
    "    print(pointer.getData())\n",
    "\n",
    "########################################\n",
    "\n",
    "\n",
    "\n",
    "SLL = SinglyLinkedList()\n",
    "printSinglyLinkedList(SLL)\n",
    "\n",
    "SLL.insertAtEnd('a')\n",
    "printSinglyLinkedList(SLL)\n",
    "\n",
    "SLL.insertAtEnd('b')\n",
    "SLL.insertAtEnd('c')\n",
    "SLL.insertAtEnd('d')\n",
    "SLL.insertAtEnd('e')\n",
    "\n",
    "printSinglyLinkedList(SLL)"
   ]
  },
  {
   "cell_type": "markdown",
   "metadata": {},
   "source": [
    "# 10. Duplicate Character\n",
    "\n",
    "Write a function that takes in an input string and returns True if all the characters in the string are unique, False if there is even a single repeated character"
   ]
  },
  {
   "cell_type": "code",
   "execution_count": 12,
   "metadata": {},
   "outputs": [
    {
     "name": "stdout",
     "output_type": "stream",
     "text": [
      "False True True\n"
     ]
    }
   ],
   "source": [
    "def unique_chars_in_string1(input_string):\n",
    "    \n",
    "  input = sorted(list(input_string))\n",
    "  \n",
    "  for i in range(0, len(input) - 1):\n",
    "    if input[i] == input[i + 1]:\n",
    "      return False\n",
    "\n",
    "  return True\n",
    "\n",
    "def unique_chars_in_string(input_string):\n",
    "    return len(set(input_string))==len(input_string)\n",
    "\n",
    "print(unique_chars_in_string(\"axdtyua\"),\n",
    "      unique_chars_in_string(\"abcde\"),\n",
    "      unique_chars_in_string(\"\"))"
   ]
  },
  {
   "cell_type": "markdown",
   "metadata": {},
   "source": [
    "# 11. Better Fibonacci \n",
    "\n",
    "The Fibonacci Sequence is the series of numbers: 0, 1, 1, 2, 3, 5, 8, 13, 21, 34, ... The next number is found by adding up the two numbers before it.\n",
    "\n",
    "\n",
    "Your goal is to write an optimal method - better_fibonacci that returns the nth Fibonacci number in the sequence. n is 0 indexed, which means that in the sequence 0, 1, 1, 2, 3, 5, 8, 13, 21, 34, ..., n == 0 should return 0 and n == 3 should return 2. Your method should exhibit a runtime complexity of O(n) and use constant O(1) space. With this implementation, your method should be able to compute larger sequences where n > 40."
   ]
  },
  {
   "cell_type": "code",
   "execution_count": 36,
   "metadata": {},
   "outputs": [
    {
     "name": "stdout",
     "output_type": "stream",
     "text": [
      "0\n",
      "1\n",
      "1\n",
      "2\n",
      "3\n",
      "5\n",
      "8\n",
      "13\n",
      "21\n",
      "34\n",
      "55\n",
      "89\n",
      "144\n",
      "233\n",
      "377\n"
     ]
    }
   ],
   "source": [
    "def better_fibonacci(n):\n",
    "    a, b = 0, 1\n",
    "\n",
    "    for _ in range(n):\n",
    "        a, b = b, a + b\n",
    "    return a\n",
    "\n",
    "\n",
    "def better_fibonacci1(n):\n",
    "  \n",
    "  if n < 2: return n\n",
    "    \n",
    "  f, f1, f2 = 0, 0, 1\n",
    "\n",
    "  for i in range(1, n):\n",
    "    f = f1 + f2\n",
    "    f1, f2 = f2, f\n",
    "    \n",
    "  return f\n",
    "\n",
    "for i in range(0, 15):\n",
    "  print(better_fibonacci(i))"
   ]
  },
  {
   "cell_type": "code",
   "execution_count": null,
   "metadata": {},
   "outputs": [],
   "source": []
  }
 ],
 "metadata": {
  "kernelspec": {
   "display_name": "Python [default]",
   "language": "python",
   "name": "python3"
  },
  "language_info": {
   "codemirror_mode": {
    "name": "ipython",
    "version": 3
   },
   "file_extension": ".py",
   "mimetype": "text/x-python",
   "name": "python",
   "nbconvert_exporter": "python",
   "pygments_lexer": "ipython3",
   "version": "3.5.2"
  },
  "widgets": {
   "state": {},
   "version": "1.1.2"
  }
 },
 "nbformat": 4,
 "nbformat_minor": 2
}
