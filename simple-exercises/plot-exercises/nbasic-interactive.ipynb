{
 "cells": [
  {
   "cell_type": "code",
   "execution_count": 1,
   "metadata": {},
   "outputs": [],
   "source": [
    "from ipywidgets import interact, interactive, fixed, interact_manual\n",
    "import ipywidgets as widgets\n",
    "import matplotlib.pyplot as plt\n",
    "import numpy as np\n",
    "\n",
    "# http://ipywidgets.readthedocs.io/en/latest/examples/Using%20Interact.html"
   ]
  },
  {
   "cell_type": "code",
   "execution_count": 2,
   "metadata": {},
   "outputs": [
    {
     "data": {
      "application/vnd.jupyter.widget-view+json": {
       "model_id": "576c0195d52b44b99745dcbadaedd1ba",
       "version_major": 2,
       "version_minor": 0
      },
      "text/plain": [
       "interactive(children=(IntSlider(value=0, description='My Name', max=8), Output()), _dom_classes=('widget-inter…"
      ]
     },
     "metadata": {},
     "output_type": "display_data"
    },
    {
     "data": {
      "text/plain": [
       "<function __main__.print_function(x)>"
      ]
     },
     "execution_count": 2,
     "metadata": {},
     "output_type": "execute_result"
    }
   ],
   "source": [
    "names_list = ['joseph', 'michael', 'roselle', 'mithi', 'diana', 'luigi', \n",
    "         'camilla', 'aura', 'dang']\n",
    "names_length = len(names_list) - 1\n",
    "\n",
    "def print_function(x):\n",
    "  if (x > 5):\n",
    "    print(\"hello,\", names_list[x])\n",
    "  else:\n",
    "    print(\"hi,\", names_list[x])\n",
    "\n",
    "slider = widgets.IntSlider(description='My Name', min=0, max=names_length, step=1, x=0)\n",
    "interact(print_function, x=slider)"
   ]
  },
  {
   "cell_type": "code",
   "execution_count": 3,
   "metadata": {},
   "outputs": [
    {
     "data": {
      "application/vnd.jupyter.widget-view+json": {
       "model_id": "af3b281fce314a818ad8a199803bff6c",
       "version_major": 2,
       "version_minor": 0
      },
      "text/plain": [
       "interactive(children=(FloatSlider(value=0.0, description='m', max=2.0, min=-2.0), FloatSlider(value=0.0, descr…"
      ]
     },
     "metadata": {},
     "output_type": "display_data"
    }
   ],
   "source": [
    "def p(m, b):\n",
    "  print(\"---------\")\n",
    "  print(\"m:\", m, \"b:\", b)\n",
    "  print(\"---------\")\n",
    "\n",
    "def f(m, b):\n",
    "  plt.figure(2)\n",
    "  x = np.linspace(-10, 10, num=1000)\n",
    "  plt.plot(x, m * x + b)\n",
    "  plt.ylim(-5, 5) \n",
    "  plt.show()\n",
    "  p(m, b)\n",
    "\n",
    "m_slider = widgets.FloatSlider(min=-2.0, max=2.0, step=0.1, x=0)\n",
    "b_slider = widgets.FloatSlider(min=-3.0, max=3.0, step=0.5, x=0)\n",
    "\n",
    "interactive_plot = interactive(f, m=m_slider, b=b_slider)\n",
    "interactive_plot"
   ]
  },
  {
   "cell_type": "code",
   "execution_count": null,
   "metadata": {},
   "outputs": [],
   "source": []
  }
 ],
 "metadata": {
  "kernelspec": {
   "display_name": "Python 3",
   "language": "python",
   "name": "python3"
  },
  "language_info": {
   "codemirror_mode": {
    "name": "ipython",
    "version": 3
   },
   "file_extension": ".py",
   "mimetype": "text/x-python",
   "name": "python",
   "nbconvert_exporter": "python",
   "pygments_lexer": "ipython3",
   "version": "3.6.5"
  }
 },
 "nbformat": 4,
 "nbformat_minor": 2
}
